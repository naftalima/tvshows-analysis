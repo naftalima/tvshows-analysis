{
 "metadata": {
  "language_info": {
   "codemirror_mode": {
    "name": "ipython",
    "version": 3
   },
   "file_extension": ".py",
   "mimetype": "text/x-python",
   "name": "python",
   "nbconvert_exporter": "python",
   "pygments_lexer": "ipython3",
   "version": "3.6.9-final"
  },
  "orig_nbformat": 2,
  "kernelspec": {
   "name": "Python 3.6.9 64-bit",
   "display_name": "Python 3.6.9 64-bit",
   "metadata": {
    "interpreter": {
     "hash": "31f2aee4e71d21fbe5cf8b01ff0e069b9275f58929596ceb00d14d90e3e16cd6"
    }
   }
  }
 },
 "nbformat": 4,
 "nbformat_minor": 2,
 "cells": [
  {
   "cell_type": "code",
   "execution_count": 27,
   "metadata": {},
   "outputs": [],
   "source": [
    "import pandas as pd\n",
    "import numpy as np\n",
    "import kaggle\n",
    "import re"
   ]
  },
  {
   "cell_type": "code",
   "execution_count": null,
   "metadata": {},
   "outputs": [],
   "source": [
    "kaggle.api.authenticate()\n",
    "\n",
    "# https://www.kaggle.com/oscarfry/tvtime-shows?select=tvtimeshows.csv\n",
    "kaggle.api.dataset_download_files('oscarfry/tvtime-shows', path='./data/tvtimeshows', unzip = True)\n",
    "\n",
    "# https://www.kaggle.com/ruchi798/tv-shows-on-netflix-prime-video-hulu-and-disney \n",
    "kaggle.api.dataset_download_files('ruchi798/tv-shows-on-netflix-prime-video-hulu-and-disney', path='./data/streamings', unzip = True)\n",
    "\n",
    "# https://www.kaggle.com/unanimad/emmy-awards\n",
    "kaggle.api.dataset_download_files('unanimad/emmy-awards', path='./data/awards', unzip = True)]\n",
    "\n",
    "# https://www.kaggle.com/unanimad/golden-globe-awards\n",
    "kaggle.api.dataset_download_files('unanimad/golden-globe-awards', path='./data/awards' , unzip = True)"
   ]
  },
  {
   "cell_type": "code",
   "execution_count": 2,
   "metadata": {},
   "outputs": [],
   "source": [
    "df_tvtime = pd.read_csv('data/tvtimeshows/tvtimeshows.csv')\n",
    "# df_tvtime.head()\n",
    "\n",
    "df_streamings = pd.read_csv('data/streamings/tv_shows.csv')\n",
    "# df_streamings.head()\n",
    "\n",
    "df_award_emmy = pd.read_csv('data/awards/the_emmy_awards.csv')\n",
    "# df_award_emmy.head()\n",
    "\n",
    "df_award_goldenglobe = pd.read_csv('data/awards/golden_globe_awards.csv')\n",
    "# df_award_goldenglobe.head()"
   ]
  },
  {
   "cell_type": "code",
   "execution_count": 69,
   "metadata": {},
   "outputs": [
    {
     "output_type": "execute_result",
     "data": {
      "text/plain": [
       "                             name      season  \\\n",
       "0                           20/20   SEASON 36   \n",
       "1  America's Funniest Home Videos   SEASON 24   \n",
       "2                      The Assets         NaN   \n",
       "3        The Astronaut Wives Club  Starts tbd   \n",
       "4                    The Bachelor   SEASON 18   \n",
       "\n",
       "                                 status tv_network   ano  \n",
       "0                          Renewed 5/13        ABC  2013  \n",
       "1                           Renewed 5/9        ABC  2013  \n",
       "2       Canceled 1/10 after 2 eps aired        ABC  2013  \n",
       "3  Delayed to 2015 for creative reasons        ABC  2013  \n",
       "4                           Renewed 5/9        ABC  2013  "
      ],
      "text/html": "<div>\n<style scoped>\n    .dataframe tbody tr th:only-of-type {\n        vertical-align: middle;\n    }\n\n    .dataframe tbody tr th {\n        vertical-align: top;\n    }\n\n    .dataframe thead th {\n        text-align: right;\n    }\n</style>\n<table border=\"1\" class=\"dataframe\">\n  <thead>\n    <tr style=\"text-align: right;\">\n      <th></th>\n      <th>name</th>\n      <th>season</th>\n      <th>status</th>\n      <th>tv_network</th>\n      <th>ano</th>\n    </tr>\n  </thead>\n  <tbody>\n    <tr>\n      <th>0</th>\n      <td>20/20</td>\n      <td>SEASON 36</td>\n      <td>Renewed 5/13</td>\n      <td>ABC</td>\n      <td>2013</td>\n    </tr>\n    <tr>\n      <th>1</th>\n      <td>America's Funniest Home Videos</td>\n      <td>SEASON 24</td>\n      <td>Renewed 5/9</td>\n      <td>ABC</td>\n      <td>2013</td>\n    </tr>\n    <tr>\n      <th>2</th>\n      <td>The Assets</td>\n      <td>NaN</td>\n      <td>Canceled 1/10 after 2 eps aired</td>\n      <td>ABC</td>\n      <td>2013</td>\n    </tr>\n    <tr>\n      <th>3</th>\n      <td>The Astronaut Wives Club</td>\n      <td>Starts tbd</td>\n      <td>Delayed to 2015 for creative reasons</td>\n      <td>ABC</td>\n      <td>2013</td>\n    </tr>\n    <tr>\n      <th>4</th>\n      <td>The Bachelor</td>\n      <td>SEASON 18</td>\n      <td>Renewed 5/9</td>\n      <td>ABC</td>\n      <td>2013</td>\n    </tr>\n  </tbody>\n</table>\n</div>"
     },
     "metadata": {},
     "execution_count": 69
    }
   ],
   "source": [
    "df_tvstatus = pd.read_csv('status/metacritic.csv')\n",
    "df_tvstatus.head()"
   ]
  },
  {
   "cell_type": "code",
   "execution_count": 70,
   "metadata": {},
   "outputs": [],
   "source": [
    "def networks_more_popular(df_tt, networks): \n",
    "    column_names = list(df_tt.columns)\n",
    "    df_most_popular = pd.DataFrame(columns = column_names)\n",
    "    for i in networks:\n",
    "        df = df_tt[df_tt['tv_network'].str.contains(i, flags=re.IGNORECASE, regex=True, na=False)]\n",
    "        df_most_popular = df_most_popular.append(df,ignore_index=True)\n",
    "        df_most_popular['tv_network'] = np.where(df_most_popular['tv_network'].str.contains(i, flags=re.IGNORECASE, regex=True, na=False),i,df_most_popular['tv_network'] )\n",
    "    return df_most_popular"
   ]
  },
  {
   "cell_type": "code",
   "execution_count": 71,
   "metadata": {},
   "outputs": [],
   "source": [
    "popular_networks = [ \"ABC\", \"CBC\", \"NBC\", \"NETFLIX\", \"AMAZON\", \"DISNEY\", \"HULU\", \"HBO\", \"CRUNCHYROLL\", \"GLOBO\", \"APPLE\", \"FOX\", \"MTV\",'FX','CBS','SYFY','THE CW','FREEF','TNT','IFC','STRZ','TVL','SHOWTIME','AMC','USA']\n",
    "df_tvstatus_popular = networks_more_popular(df_tvstatus,popular_networks)"
   ]
  },
  {
   "cell_type": "code",
   "execution_count": 72,
   "metadata": {},
   "outputs": [],
   "source": [
    "def standardize_status(df): \n",
    "    column_names = list(df.columns)\n",
    "    column_names.append('changed_network')\n",
    "    df_clean = pd.DataFrame(columns = column_names)\n",
    "    df_clean = df\n",
    "    df_clean['changed_network'] = False\n",
    "\n",
    "    #canceled\n",
    "    df_clean['status'] =  np.where(df_clean['status'].str.contains('CANCELED', flags=re.IGNORECASE, regex=True, na=False),'CANCELED',df_clean['status'] )\n",
    "    df_clean['status'] =  np.where(df_clean['status'].str.contains('order rescinded', flags=re.IGNORECASE, regex=True, na=False),'CANCELED',df_clean['status'] )\n",
    "    df_clean['status'] =  np.where(df_clean['status'].str.contains('Likely to end', flags=re.IGNORECASE, regex=True, na=False),'CANCELED',df_clean['status'] )\n",
    "    df_clean['status'] =  np.where(df_clean['status'].str.contains('won\\'t air', flags=re.IGNORECASE, regex=True, na=False),'CANCELED',df_clean['status'] )\n",
    "\n",
    "    #renewed\n",
    "    df_clean['status'] =  np.where(df_clean['status'].str.contains('Renew' , flags=re.IGNORECASE, regex=True, na=False),'RENEWED',df_clean['status'] )\n",
    "    df_clean['status'] =  np.where(df_clean['status'].str.contains('order' , flags=re.IGNORECASE, regex=True, na=False),'RENEWED',df_clean['status'] )\n",
    "\n",
    "    #renewed but changed network\n",
    "    df_clean.loc[df_clean['status'].str.contains('mov' , flags=re.IGNORECASE, regex=True, na=False),'changed_network'] = True\n",
    "    df_clean['status'] =  np.where(df_clean['status'].str.contains('mov' , flags=re.IGNORECASE, regex=True, na=False),'RENEWED',df_clean['status'] )  \n",
    "\n",
    "    #delayed\n",
    "    df_clean['status'] =  np.where(df_clean['status'].str.contains('Delayed' , flags=re.IGNORECASE, regex=True, na=False),'DELAYED',df_clean['status'] )\n",
    "\n",
    "    #end\n",
    "    df_clean['status'] =  np.where(df_clean['status'].str.contains('Ending' , flags=re.IGNORECASE, regex=True, na=False),'END',df_clean['status'] )\n",
    "    df_clean['status'] =  np.where(df_clean['status'].str.contains('ended' , flags=re.IGNORECASE, regex=True, na=False),'END',df_clean['status'] )\n",
    "    df_clean['status'] =  np.where(df_clean['status'].str.contains('Final season' , flags=re.IGNORECASE, regex=True, na=False),'END',df_clean['status'] )\n",
    "    df_clean['status'] =  np.where(df_clean['status'].str.contains('miniseries' , flags=re.IGNORECASE, regex=True, na=False),'END',df_clean['status'] )\n",
    "\n",
    "   # Não tem Info\n",
    "    nationality = ['Brazilian' , 'Spanish', 'German', 'Korean', 'Japanese', 'Swedish', 'French', 'Argentinian', 'Austalian', 'British', 'Belgian', 'Polish', 'Chinese', 'Italian', 'Mexican', 'Indian', 'Colombian', 'Thai', 'Taiwanese', 'Turkish', 'Norwegian', 'Lebanese', 'Israeli', 'Arabic', 'Dutch', 'Argentine','UK','Irish','USA']\n",
    "\n",
    "    for i in nationality:\n",
    "       df_clean['status'] =  np.where(df_clean['status'].str.contains(i , flags=re.IGNORECASE, regex=True, na=False),'NAN',df_clean['status'] ) \n",
    "\n",
    "    return(df_clean)\n"
   ]
  },
  {
   "cell_type": "code",
   "execution_count": 73,
   "metadata": {},
   "outputs": [
    {
     "output_type": "execute_result",
     "data": {
      "text/plain": [
       "                             name      season    status tv_network   ano  \\\n",
       "0                           20/20   SEASON 36   RENEWED        ABC  2013   \n",
       "1  America's Funniest Home Videos   SEASON 24   RENEWED        ABC  2013   \n",
       "2                      The Assets         NaN  CANCELED        ABC  2013   \n",
       "3        The Astronaut Wives Club  Starts tbd   DELAYED        ABC  2013   \n",
       "4                    The Bachelor   SEASON 18   RENEWED        ABC  2013   \n",
       "\n",
       "   changed_network  \n",
       "0            False  \n",
       "1            False  \n",
       "2            False  \n",
       "3            False  \n",
       "4            False  "
      ],
      "text/html": "<div>\n<style scoped>\n    .dataframe tbody tr th:only-of-type {\n        vertical-align: middle;\n    }\n\n    .dataframe tbody tr th {\n        vertical-align: top;\n    }\n\n    .dataframe thead th {\n        text-align: right;\n    }\n</style>\n<table border=\"1\" class=\"dataframe\">\n  <thead>\n    <tr style=\"text-align: right;\">\n      <th></th>\n      <th>name</th>\n      <th>season</th>\n      <th>status</th>\n      <th>tv_network</th>\n      <th>ano</th>\n      <th>changed_network</th>\n    </tr>\n  </thead>\n  <tbody>\n    <tr>\n      <th>0</th>\n      <td>20/20</td>\n      <td>SEASON 36</td>\n      <td>RENEWED</td>\n      <td>ABC</td>\n      <td>2013</td>\n      <td>False</td>\n    </tr>\n    <tr>\n      <th>1</th>\n      <td>America's Funniest Home Videos</td>\n      <td>SEASON 24</td>\n      <td>RENEWED</td>\n      <td>ABC</td>\n      <td>2013</td>\n      <td>False</td>\n    </tr>\n    <tr>\n      <th>2</th>\n      <td>The Assets</td>\n      <td>NaN</td>\n      <td>CANCELED</td>\n      <td>ABC</td>\n      <td>2013</td>\n      <td>False</td>\n    </tr>\n    <tr>\n      <th>3</th>\n      <td>The Astronaut Wives Club</td>\n      <td>Starts tbd</td>\n      <td>DELAYED</td>\n      <td>ABC</td>\n      <td>2013</td>\n      <td>False</td>\n    </tr>\n    <tr>\n      <th>4</th>\n      <td>The Bachelor</td>\n      <td>SEASON 18</td>\n      <td>RENEWED</td>\n      <td>ABC</td>\n      <td>2013</td>\n      <td>False</td>\n    </tr>\n  </tbody>\n</table>\n</div>"
     },
     "metadata": {},
     "execution_count": 73
    }
   ],
   "source": [
    "df_tvstatus_popular_cleaning = standardize_status(df_tvstatus_popular)\n",
    "df_tvstatus_popular_cleaning.head()"
   ]
  },
  {
   "cell_type": "code",
   "execution_count": 74,
   "metadata": {},
   "outputs": [],
   "source": [
    "# df_tvstatus_popular_cleaning['tv_network'].unique()"
   ]
  },
  {
   "cell_type": "code",
   "execution_count": 75,
   "metadata": {},
   "outputs": [
    {
     "output_type": "execute_result",
     "data": {
      "text/plain": [
       "array(['RENEWED', 'CANCELED', 'DELAYED', nan,\n",
       "       '1st season in ABC primetime',\n",
       "       'Season cut to 10 episodes on 10/23', 'END',\n",
       "       'New version of classic game show', 'Postponed to summer',\n",
       "       'Pulled from schedule on 3/29 after 5 episodes',\n",
       "       'Pulled from schedule 1/4 (4 eps unaired)',\n",
       "       'Banished to Saturdays effective 7/8',\n",
       "       \"Sneak preview aired in March;  returns later in '18\",\n",
       "       'Fate uncertain; not included in 2014-15 schedule',\n",
       "       'Pulled from schedule on 10/18',\n",
       "       'Pulled from schedule 2/5; 7 eps unaired',\n",
       "       'Not on schedule; likely will never air', 'Variety show', 'NAN',\n",
       "       '2nd season already in production',\n",
       "       'Continuation of 2000-07 WB/CW series',\n",
       "       'UK series formerly known as Scrotal Recall', 'Canadian series',\n",
       "       'Anime', 'Philippine series',\n",
       "       'Two-part season (part 2 date is tbd)', 'Documentary series',\n",
       "       'Both seasons will stream at once', 'Australian series',\n",
       "       \"Revival of classic children's show\", 'Animated series',\n",
       "       'USA debut of UK series', 'Finnish series', 'Animated',\n",
       "       'Irish series', 'Cancellation confirmed 11/26/19',\n",
       "       'S4 announced on 6/18/19', 'South African series',\n",
       "       'Two seasons picked up', 'Danish series',\n",
       "       '2nd season in development', 'Russian series',\n",
       "       'Potential 6th season on hold', 'Anime; rescheduled from April',\n",
       "       'Anthology series', '3rd season unlikely (esp. in near future)',\n",
       "       'fka untitled Mindy Kaling comedy', 'First new season in 6 years',\n",
       "       'fka untitled Woody Allen series',\n",
       "       'S2 confirmed on 8/25/17; will air in 2019', 'Renwed 9/13/18',\n",
       "       'UK series', 'Project in jeopardy due to Ed Westwick scandal',\n",
       "       'USA debut of Australian series',\n",
       "       '3rd season of National Treasure anthology', 'Monthly anthology',\n",
       "       'Now a Hulu exclusive in the U.S.',\n",
       "       'Final 10-ep. 7th season in summer 2014',\n",
       "       'Returns after a 10-year absence', 'Will likely air in the fall',\n",
       "       'Previously picked up for a 2nd season', 'Returns on 2/14',\n",
       "       'Short (7-episode) season;  S8 to air in 2019',\n",
       "       'Alternate version released as an app in fall 2017',\n",
       "       '(4th season on HBO)', 'Reboot of 1980s anthology series',\n",
       "       '12-episode mini-season', 'Last aired on Fox in 2009',\n",
       "       'Production halted at 13 eps; off sched. after 12/3',\n",
       "       'In negotiations to return for 2017-18',\n",
       "       'Revival of the classic dating  show', '8th season announced 2/16',\n",
       "       \"Not on Fox's 2017-18 sched; presumed done\",\n",
       "       \"Won't be back in 2017, but could return in 2018\",\n",
       "       'No plans to revive the show again as of 5/14',\n",
       "       \"Not included in Fox's 2019-20 plans\",\n",
       "       'Pulled from schedule after 1/15', 'Game show',\n",
       "       'Will air in 2015-16 season', 'Short (6-episode) season',\n",
       "       'Short season (8 episodes)',\n",
       "       'A potential 2nd season is in development',\n",
       "       'S3 (Katrina) will now start in 2018-19',\n",
       "       'Rare fall season airs exclusively on CBS All Access',\n",
       "       'Pulled from  schedule on 4/19 with 5 eps unaired',\n",
       "       'CBS All-Access', 'Celebrity edition',\n",
       "       'Banished to Saturdays effective 5/4',\n",
       "       'Exclusive to CBS All Access', 'Syfy will air at least 2 seasons',\n",
       "       'Officially not progressing as a series 3/10',\n",
       "       'Syfy will air S1 & S2 of the web series', 'USA debut',\n",
       "       '3rd season picked up by CW on 5/31/19',\n",
       "       \"fka One Day She'll Darken\", 'Sequel to The Spoils of Babylon',\n",
       "       'New title', 'Confirmed as a 1-season show prior to airing',\n",
       "       'Starz pulled out 3/2; may go elsewhere', 'American debut',\n",
       "       'Continuation of 1990-91 ABC series',\n",
       "       'Production halted as of June 2018',\n",
       "       'Will not return for a 2nd season',\n",
       "       '7 eps to air in 2014, final 7 in spring 2015', 'Anthology',\n",
       "       'Miniseres'], dtype=object)"
      ]
     },
     "metadata": {},
     "execution_count": 75
    }
   ],
   "source": [
    "df_tvstatus_popular_cleaning['status'].unique()"
   ]
  },
  {
   "cell_type": "code",
   "execution_count": 76,
   "metadata": {},
   "outputs": [
    {
     "output_type": "execute_result",
     "data": {
      "text/plain": [
       "                name                    season    status tv_network   ano  \\\n",
       "649   Anne With an E                       NaN   RENEWED    NETFLIX  2016   \n",
       "724   Anne With an E  SEASON 2 starts tbd 2018       NaN    NETFLIX  2017   \n",
       "898   Anne With an E                  SEASON 2   RENEWED    NETFLIX  2018   \n",
       "1168  Anne With an E                  SEASON 3  CANCELED    NETFLIX  2019   \n",
       "\n",
       "      changed_network  \n",
       "649             False  \n",
       "724             False  \n",
       "898             False  \n",
       "1168            False  "
      ],
      "text/html": "<div>\n<style scoped>\n    .dataframe tbody tr th:only-of-type {\n        vertical-align: middle;\n    }\n\n    .dataframe tbody tr th {\n        vertical-align: top;\n    }\n\n    .dataframe thead th {\n        text-align: right;\n    }\n</style>\n<table border=\"1\" class=\"dataframe\">\n  <thead>\n    <tr style=\"text-align: right;\">\n      <th></th>\n      <th>name</th>\n      <th>season</th>\n      <th>status</th>\n      <th>tv_network</th>\n      <th>ano</th>\n      <th>changed_network</th>\n    </tr>\n  </thead>\n  <tbody>\n    <tr>\n      <th>649</th>\n      <td>Anne With an E</td>\n      <td>NaN</td>\n      <td>RENEWED</td>\n      <td>NETFLIX</td>\n      <td>2016</td>\n      <td>False</td>\n    </tr>\n    <tr>\n      <th>724</th>\n      <td>Anne With an E</td>\n      <td>SEASON 2 starts tbd 2018</td>\n      <td>NaN</td>\n      <td>NETFLIX</td>\n      <td>2017</td>\n      <td>False</td>\n    </tr>\n    <tr>\n      <th>898</th>\n      <td>Anne With an E</td>\n      <td>SEASON 2</td>\n      <td>RENEWED</td>\n      <td>NETFLIX</td>\n      <td>2018</td>\n      <td>False</td>\n    </tr>\n    <tr>\n      <th>1168</th>\n      <td>Anne With an E</td>\n      <td>SEASON 3</td>\n      <td>CANCELED</td>\n      <td>NETFLIX</td>\n      <td>2019</td>\n      <td>False</td>\n    </tr>\n  </tbody>\n</table>\n</div>"
     },
     "metadata": {},
     "execution_count": 76
    }
   ],
   "source": [
    "df_tvstatus_popular_cleaning[df_tvstatus_popular_cleaning['name'].str.contains('anne with an e', flags=re.IGNORECASE, regex=True, na=False)]"
   ]
  },
  {
   "cell_type": "code",
   "execution_count": 77,
   "metadata": {},
   "outputs": [
    {
     "output_type": "execute_result",
     "data": {
      "text/plain": [
       "                                name       season  \\\n",
       "331            The Spoils of Babylon          NaN   \n",
       "576                       Blunt Talk  Starts 8/22   \n",
       "633            Fear the Walking Dead   tbd August   \n",
       "1060                      Blunt Talk          NaN   \n",
       "1065             Brothers in Atlanta  starts  tbd   \n",
       "1493                 Vice Principals          NaN   \n",
       "1514                    Black Mirror     SEASON 3   \n",
       "1565              Skylanders Academy          NaN   \n",
       "1584                  The Grand Tour          NaN   \n",
       "1599                          Chance          NaN   \n",
       "1645                    Channel Zero          NaN   \n",
       "2258       The Marvelous Mrs. Maisel          NaN   \n",
       "2308                    The Alienist          NaN   \n",
       "2347                     Counterpart          NaN   \n",
       "2515                       X Company          NaN   \n",
       "2800  Chilling Adventures of Sabrina          NaN   \n",
       "2942           The Rise of Phoenixes          NaN   \n",
       "3038                      Homecoming          NaN   \n",
       "3142                      Dirty John          NaN   \n",
       "3346                        All Rise          NaN   \n",
       "3350                  Bob ♥ Abishola          NaN   \n",
       "3353              Carol's Second Act          NaN   \n",
       "3378                     The Unicorn          NaN   \n",
       "3741                  The Politician          NaN   \n",
       "3848                    Central Park          NaN   \n",
       "3857                The Morning Show          NaN   \n",
       "3924                 Solar Opposites          NaN   \n",
       "\n",
       "                                                 status          tv_network  \\\n",
       "331         Sequel ordered 7/7; will air in summer 2015                 IFC   \n",
       "576                          2nd season already ordered                STRZ   \n",
       "633                       Two seasons ordered on 3/9/15                 AMC   \n",
       "1060                         2nd season already ordered                STRZ   \n",
       "1065                     Series order rescinded on 1/22                 HBO   \n",
       "1493        Order is for 2 seasons; will end after that                 HBO   \n",
       "1514           Two seasons (S3 & S4) ordered by Netflix             Netflix   \n",
       "1565                    Original order is for 2 seasons             Netflix   \n",
       "1584                     Initial order is for 3 seasons        Amazon Prime   \n",
       "1599                     Initial order is for 2 seasons                Hulu   \n",
       "1645                       Anthology; 2 seasons ordered                SYFY   \n",
       "2258  Initial order is for 2 seasons; S3 renewal on ...  Amazon Prime Video   \n",
       "2308                  Sequel miniseries ordered 8/16/18                 TNT   \n",
       "2347                     Initial order is for 2 seasons                STRZ   \n",
       "2515                    Original order is for 3 seasons                OVAT   \n",
       "2800                     Initial order is for 2 seasons             Netflix   \n",
       "2942                   Chinese series; 70-episode order             Netflix   \n",
       "3038                     Initial order is for 2 seasons  Amazon Prime Video   \n",
       "3142      Initial order is for 2 seasons; moving to USA                BRAV   \n",
       "3346            Full-season order on 10/22; renewed 5/7                 CBS   \n",
       "3350            Full-season order on 10/22; renewed 5/7                 CBS   \n",
       "3353           Full-season order on 10/22; canceled 5/7                 CBS   \n",
       "3378            Full-season order on 10/22; renewed 5/7                 CBS   \n",
       "3741                     Initial order is for 2 seasons             Netflix   \n",
       "3848                    Initial  order is for 2 seasons           Apple TV+   \n",
       "3857                    Initial  order is for 2 seasons           Apple TV+   \n",
       "3924           Animated; initial order is for 2 seasons                Hulu   \n",
       "\n",
       "       ano  \n",
       "331   2013  \n",
       "576   2014  \n",
       "633   2014  \n",
       "1060  2015  \n",
       "1065  2015  \n",
       "1493  2016  \n",
       "1514  2016  \n",
       "1565  2016  \n",
       "1584  2016  \n",
       "1599  2016  \n",
       "1645  2016  \n",
       "2258  2017  \n",
       "2308  2017  \n",
       "2347  2017  \n",
       "2515  2017  \n",
       "2800  2018  \n",
       "2942  2018  \n",
       "3038  2018  \n",
       "3142  2018  \n",
       "3346  2019  \n",
       "3350  2019  \n",
       "3353  2019  \n",
       "3378  2019  \n",
       "3741  2019  \n",
       "3848  2019  \n",
       "3857  2019  \n",
       "3924  2019  "
      ],
      "text/html": "<div>\n<style scoped>\n    .dataframe tbody tr th:only-of-type {\n        vertical-align: middle;\n    }\n\n    .dataframe tbody tr th {\n        vertical-align: top;\n    }\n\n    .dataframe thead th {\n        text-align: right;\n    }\n</style>\n<table border=\"1\" class=\"dataframe\">\n  <thead>\n    <tr style=\"text-align: right;\">\n      <th></th>\n      <th>name</th>\n      <th>season</th>\n      <th>status</th>\n      <th>tv_network</th>\n      <th>ano</th>\n    </tr>\n  </thead>\n  <tbody>\n    <tr>\n      <th>331</th>\n      <td>The Spoils of Babylon</td>\n      <td>NaN</td>\n      <td>Sequel ordered 7/7; will air in summer 2015</td>\n      <td>IFC</td>\n      <td>2013</td>\n    </tr>\n    <tr>\n      <th>576</th>\n      <td>Blunt Talk</td>\n      <td>Starts 8/22</td>\n      <td>2nd season already ordered</td>\n      <td>STRZ</td>\n      <td>2014</td>\n    </tr>\n    <tr>\n      <th>633</th>\n      <td>Fear the Walking Dead</td>\n      <td>tbd August</td>\n      <td>Two seasons ordered on 3/9/15</td>\n      <td>AMC</td>\n      <td>2014</td>\n    </tr>\n    <tr>\n      <th>1060</th>\n      <td>Blunt Talk</td>\n      <td>NaN</td>\n      <td>2nd season already ordered</td>\n      <td>STRZ</td>\n      <td>2015</td>\n    </tr>\n    <tr>\n      <th>1065</th>\n      <td>Brothers in Atlanta</td>\n      <td>starts  tbd</td>\n      <td>Series order rescinded on 1/22</td>\n      <td>HBO</td>\n      <td>2015</td>\n    </tr>\n    <tr>\n      <th>1493</th>\n      <td>Vice Principals</td>\n      <td>NaN</td>\n      <td>Order is for 2 seasons; will end after that</td>\n      <td>HBO</td>\n      <td>2016</td>\n    </tr>\n    <tr>\n      <th>1514</th>\n      <td>Black Mirror</td>\n      <td>SEASON 3</td>\n      <td>Two seasons (S3 &amp; S4) ordered by Netflix</td>\n      <td>Netflix</td>\n      <td>2016</td>\n    </tr>\n    <tr>\n      <th>1565</th>\n      <td>Skylanders Academy</td>\n      <td>NaN</td>\n      <td>Original order is for 2 seasons</td>\n      <td>Netflix</td>\n      <td>2016</td>\n    </tr>\n    <tr>\n      <th>1584</th>\n      <td>The Grand Tour</td>\n      <td>NaN</td>\n      <td>Initial order is for 3 seasons</td>\n      <td>Amazon Prime</td>\n      <td>2016</td>\n    </tr>\n    <tr>\n      <th>1599</th>\n      <td>Chance</td>\n      <td>NaN</td>\n      <td>Initial order is for 2 seasons</td>\n      <td>Hulu</td>\n      <td>2016</td>\n    </tr>\n    <tr>\n      <th>1645</th>\n      <td>Channel Zero</td>\n      <td>NaN</td>\n      <td>Anthology; 2 seasons ordered</td>\n      <td>SYFY</td>\n      <td>2016</td>\n    </tr>\n    <tr>\n      <th>2258</th>\n      <td>The Marvelous Mrs. Maisel</td>\n      <td>NaN</td>\n      <td>Initial order is for 2 seasons; S3 renewal on ...</td>\n      <td>Amazon Prime Video</td>\n      <td>2017</td>\n    </tr>\n    <tr>\n      <th>2308</th>\n      <td>The Alienist</td>\n      <td>NaN</td>\n      <td>Sequel miniseries ordered 8/16/18</td>\n      <td>TNT</td>\n      <td>2017</td>\n    </tr>\n    <tr>\n      <th>2347</th>\n      <td>Counterpart</td>\n      <td>NaN</td>\n      <td>Initial order is for 2 seasons</td>\n      <td>STRZ</td>\n      <td>2017</td>\n    </tr>\n    <tr>\n      <th>2515</th>\n      <td>X Company</td>\n      <td>NaN</td>\n      <td>Original order is for 3 seasons</td>\n      <td>OVAT</td>\n      <td>2017</td>\n    </tr>\n    <tr>\n      <th>2800</th>\n      <td>Chilling Adventures of Sabrina</td>\n      <td>NaN</td>\n      <td>Initial order is for 2 seasons</td>\n      <td>Netflix</td>\n      <td>2018</td>\n    </tr>\n    <tr>\n      <th>2942</th>\n      <td>The Rise of Phoenixes</td>\n      <td>NaN</td>\n      <td>Chinese series; 70-episode order</td>\n      <td>Netflix</td>\n      <td>2018</td>\n    </tr>\n    <tr>\n      <th>3038</th>\n      <td>Homecoming</td>\n      <td>NaN</td>\n      <td>Initial order is for 2 seasons</td>\n      <td>Amazon Prime Video</td>\n      <td>2018</td>\n    </tr>\n    <tr>\n      <th>3142</th>\n      <td>Dirty John</td>\n      <td>NaN</td>\n      <td>Initial order is for 2 seasons; moving to USA</td>\n      <td>BRAV</td>\n      <td>2018</td>\n    </tr>\n    <tr>\n      <th>3346</th>\n      <td>All Rise</td>\n      <td>NaN</td>\n      <td>Full-season order on 10/22; renewed 5/7</td>\n      <td>CBS</td>\n      <td>2019</td>\n    </tr>\n    <tr>\n      <th>3350</th>\n      <td>Bob ♥ Abishola</td>\n      <td>NaN</td>\n      <td>Full-season order on 10/22; renewed 5/7</td>\n      <td>CBS</td>\n      <td>2019</td>\n    </tr>\n    <tr>\n      <th>3353</th>\n      <td>Carol's Second Act</td>\n      <td>NaN</td>\n      <td>Full-season order on 10/22; canceled 5/7</td>\n      <td>CBS</td>\n      <td>2019</td>\n    </tr>\n    <tr>\n      <th>3378</th>\n      <td>The Unicorn</td>\n      <td>NaN</td>\n      <td>Full-season order on 10/22; renewed 5/7</td>\n      <td>CBS</td>\n      <td>2019</td>\n    </tr>\n    <tr>\n      <th>3741</th>\n      <td>The Politician</td>\n      <td>NaN</td>\n      <td>Initial order is for 2 seasons</td>\n      <td>Netflix</td>\n      <td>2019</td>\n    </tr>\n    <tr>\n      <th>3848</th>\n      <td>Central Park</td>\n      <td>NaN</td>\n      <td>Initial  order is for 2 seasons</td>\n      <td>Apple TV+</td>\n      <td>2019</td>\n    </tr>\n    <tr>\n      <th>3857</th>\n      <td>The Morning Show</td>\n      <td>NaN</td>\n      <td>Initial  order is for 2 seasons</td>\n      <td>Apple TV+</td>\n      <td>2019</td>\n    </tr>\n    <tr>\n      <th>3924</th>\n      <td>Solar Opposites</td>\n      <td>NaN</td>\n      <td>Animated; initial order is for 2 seasons</td>\n      <td>Hulu</td>\n      <td>2019</td>\n    </tr>\n  </tbody>\n</table>\n</div>"
     },
     "metadata": {},
     "execution_count": 77
    }
   ],
   "source": [
    "df_tvstatus[df_tvstatus['status'].str.contains('order', flags=re.IGNORECASE, regex=True, na=False)]"
   ]
  },
  {
   "cell_type": "code",
   "execution_count": 78,
   "metadata": {},
   "outputs": [
    {
     "output_type": "execute_result",
     "data": {
      "text/plain": [
       "                       name                    season   status tv_network  \\\n",
       "257   The Alec Baldwin Show                       NaN  RENEWED        ABC   \n",
       "582          The Gilded Age               starts  tbd  RENEWED        NBC   \n",
       "684        The Last Kingdom                  SEASON 2  RENEWED    NETFLIX   \n",
       "911              Black Spot                  SEASON 2  RENEWED    NETFLIX   \n",
       "1453              Fortitude                  SEASON 2  RENEWED     AMAZON   \n",
       "1621    There's ... Johnny!                       NaN  RENEWED       HULU   \n",
       "1642                 UnREAL                  SEASON 4  RENEWED       HULU   \n",
       "1655          High Fidelity                       NaN  RENEWED       HULU   \n",
       "1676          Veronica Mars                  SEASON 4  RENEWED       HULU   \n",
       "1878          American Dad!               SEASON 9/10  RENEWED        FOX   \n",
       "2085      Big Bounce Battle                starts tbd  RENEWED        FOX   \n",
       "2165       You're the Worst  SEASON 2 starts tbd 2015  RENEWED         FX   \n",
       "3060                   Vice                  SEASON 7  RENEWED   SHOWTIME   \n",
       "3155                 Motive                  SEASON 3  RENEWED        USA   \n",
       "\n",
       "       ano  changed_network  \n",
       "257   2018             True  \n",
       "582   2018             True  \n",
       "684   2016             True  \n",
       "911   2018             True  \n",
       "1453  2016             True  \n",
       "1621  2017             True  \n",
       "1642  2018             True  \n",
       "1655  2019             True  \n",
       "1676  2019             True  \n",
       "1878  2013             True  \n",
       "2085  2019             True  \n",
       "2165  2014             True  \n",
       "3060  2019             True  \n",
       "3155  2015             True  "
      ],
      "text/html": "<div>\n<style scoped>\n    .dataframe tbody tr th:only-of-type {\n        vertical-align: middle;\n    }\n\n    .dataframe tbody tr th {\n        vertical-align: top;\n    }\n\n    .dataframe thead th {\n        text-align: right;\n    }\n</style>\n<table border=\"1\" class=\"dataframe\">\n  <thead>\n    <tr style=\"text-align: right;\">\n      <th></th>\n      <th>name</th>\n      <th>season</th>\n      <th>status</th>\n      <th>tv_network</th>\n      <th>ano</th>\n      <th>changed_network</th>\n    </tr>\n  </thead>\n  <tbody>\n    <tr>\n      <th>257</th>\n      <td>The Alec Baldwin Show</td>\n      <td>NaN</td>\n      <td>RENEWED</td>\n      <td>ABC</td>\n      <td>2018</td>\n      <td>True</td>\n    </tr>\n    <tr>\n      <th>582</th>\n      <td>The Gilded Age</td>\n      <td>starts  tbd</td>\n      <td>RENEWED</td>\n      <td>NBC</td>\n      <td>2018</td>\n      <td>True</td>\n    </tr>\n    <tr>\n      <th>684</th>\n      <td>The Last Kingdom</td>\n      <td>SEASON 2</td>\n      <td>RENEWED</td>\n      <td>NETFLIX</td>\n      <td>2016</td>\n      <td>True</td>\n    </tr>\n    <tr>\n      <th>911</th>\n      <td>Black Spot</td>\n      <td>SEASON 2</td>\n      <td>RENEWED</td>\n      <td>NETFLIX</td>\n      <td>2018</td>\n      <td>True</td>\n    </tr>\n    <tr>\n      <th>1453</th>\n      <td>Fortitude</td>\n      <td>SEASON 2</td>\n      <td>RENEWED</td>\n      <td>AMAZON</td>\n      <td>2016</td>\n      <td>True</td>\n    </tr>\n    <tr>\n      <th>1621</th>\n      <td>There's ... Johnny!</td>\n      <td>NaN</td>\n      <td>RENEWED</td>\n      <td>HULU</td>\n      <td>2017</td>\n      <td>True</td>\n    </tr>\n    <tr>\n      <th>1642</th>\n      <td>UnREAL</td>\n      <td>SEASON 4</td>\n      <td>RENEWED</td>\n      <td>HULU</td>\n      <td>2018</td>\n      <td>True</td>\n    </tr>\n    <tr>\n      <th>1655</th>\n      <td>High Fidelity</td>\n      <td>NaN</td>\n      <td>RENEWED</td>\n      <td>HULU</td>\n      <td>2019</td>\n      <td>True</td>\n    </tr>\n    <tr>\n      <th>1676</th>\n      <td>Veronica Mars</td>\n      <td>SEASON 4</td>\n      <td>RENEWED</td>\n      <td>HULU</td>\n      <td>2019</td>\n      <td>True</td>\n    </tr>\n    <tr>\n      <th>1878</th>\n      <td>American Dad!</td>\n      <td>SEASON 9/10</td>\n      <td>RENEWED</td>\n      <td>FOX</td>\n      <td>2013</td>\n      <td>True</td>\n    </tr>\n    <tr>\n      <th>2085</th>\n      <td>Big Bounce Battle</td>\n      <td>starts tbd</td>\n      <td>RENEWED</td>\n      <td>FOX</td>\n      <td>2019</td>\n      <td>True</td>\n    </tr>\n    <tr>\n      <th>2165</th>\n      <td>You're the Worst</td>\n      <td>SEASON 2 starts tbd 2015</td>\n      <td>RENEWED</td>\n      <td>FX</td>\n      <td>2014</td>\n      <td>True</td>\n    </tr>\n    <tr>\n      <th>3060</th>\n      <td>Vice</td>\n      <td>SEASON 7</td>\n      <td>RENEWED</td>\n      <td>SHOWTIME</td>\n      <td>2019</td>\n      <td>True</td>\n    </tr>\n    <tr>\n      <th>3155</th>\n      <td>Motive</td>\n      <td>SEASON 3</td>\n      <td>RENEWED</td>\n      <td>USA</td>\n      <td>2015</td>\n      <td>True</td>\n    </tr>\n  </tbody>\n</table>\n</div>"
     },
     "metadata": {},
     "execution_count": 78
    }
   ],
   "source": [
    "df_tvstatus_popular_cleaning[df_tvstatus_popular_cleaning['changed_network'] == True]"
   ]
  },
  {
   "cell_type": "code",
   "execution_count": 84,
   "metadata": {},
   "outputs": [
    {
     "output_type": "execute_result",
     "data": {
      "text/plain": [
       "        name    season                                      status tv_network  \\\n",
       "819   UnReal       NaN             Renewed for a 2nd season on 7/6       LIFE   \n",
       "1803  UnReal  SEASON 2             Renewed for a 3rd season on 6/2       LIFE   \n",
       "2500  UnReal  SEASON 3            Renewed for a 4th season on 7/28       LIFE   \n",
       "3082  UnREAL  SEASON 4  Final season; moves  to Hulu from Lifetime       Hulu   \n",
       "\n",
       "       ano  \n",
       "819   2014  \n",
       "1803  2016  \n",
       "2500  2017  \n",
       "3082  2018  "
      ],
      "text/html": "<div>\n<style scoped>\n    .dataframe tbody tr th:only-of-type {\n        vertical-align: middle;\n    }\n\n    .dataframe tbody tr th {\n        vertical-align: top;\n    }\n\n    .dataframe thead th {\n        text-align: right;\n    }\n</style>\n<table border=\"1\" class=\"dataframe\">\n  <thead>\n    <tr style=\"text-align: right;\">\n      <th></th>\n      <th>name</th>\n      <th>season</th>\n      <th>status</th>\n      <th>tv_network</th>\n      <th>ano</th>\n    </tr>\n  </thead>\n  <tbody>\n    <tr>\n      <th>819</th>\n      <td>UnReal</td>\n      <td>NaN</td>\n      <td>Renewed for a 2nd season on 7/6</td>\n      <td>LIFE</td>\n      <td>2014</td>\n    </tr>\n    <tr>\n      <th>1803</th>\n      <td>UnReal</td>\n      <td>SEASON 2</td>\n      <td>Renewed for a 3rd season on 6/2</td>\n      <td>LIFE</td>\n      <td>2016</td>\n    </tr>\n    <tr>\n      <th>2500</th>\n      <td>UnReal</td>\n      <td>SEASON 3</td>\n      <td>Renewed for a 4th season on 7/28</td>\n      <td>LIFE</td>\n      <td>2017</td>\n    </tr>\n    <tr>\n      <th>3082</th>\n      <td>UnREAL</td>\n      <td>SEASON 4</td>\n      <td>Final season; moves  to Hulu from Lifetime</td>\n      <td>Hulu</td>\n      <td>2018</td>\n    </tr>\n  </tbody>\n</table>\n</div>"
     },
     "metadata": {},
     "execution_count": 84
    }
   ],
   "source": [
    "df_tvstatus[df_tvstatus['name'].str.contains('UnREA', flags=re.IGNORECASE, regex=True, na=False)]"
   ]
  },
  {
   "cell_type": "code",
   "execution_count": 85,
   "metadata": {},
   "outputs": [
    {
     "output_type": "execute_result",
     "data": {
      "text/plain": [
       "        name    season   status tv_network   ano  changed_network\n",
       "1642  UnREAL  SEASON 4  RENEWED       HULU  2018             True"
      ],
      "text/html": "<div>\n<style scoped>\n    .dataframe tbody tr th:only-of-type {\n        vertical-align: middle;\n    }\n\n    .dataframe tbody tr th {\n        vertical-align: top;\n    }\n\n    .dataframe thead th {\n        text-align: right;\n    }\n</style>\n<table border=\"1\" class=\"dataframe\">\n  <thead>\n    <tr style=\"text-align: right;\">\n      <th></th>\n      <th>name</th>\n      <th>season</th>\n      <th>status</th>\n      <th>tv_network</th>\n      <th>ano</th>\n      <th>changed_network</th>\n    </tr>\n  </thead>\n  <tbody>\n    <tr>\n      <th>1642</th>\n      <td>UnREAL</td>\n      <td>SEASON 4</td>\n      <td>RENEWED</td>\n      <td>HULU</td>\n      <td>2018</td>\n      <td>True</td>\n    </tr>\n  </tbody>\n</table>\n</div>"
     },
     "metadata": {},
     "execution_count": 85
    }
   ],
   "source": [
    "df_tvstatus_popular_cleaning[df_tvstatus_popular_cleaning['name'].str.contains('UnREA', flags=re.IGNORECASE, regex=True, na=False)]"
   ]
  },
  {
   "cell_type": "code",
   "execution_count": null,
   "metadata": {},
   "outputs": [],
   "source": []
  }
 ]
}