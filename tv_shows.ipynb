{
 "cells": [
  {
   "cell_type": "code",
   "execution_count": 4,
   "metadata": {},
   "outputs": [],
   "source": [
    "import pandas as pd\n",
    "import numpy as np\n",
    "import kaggle\n",
    "import re"
   ]
  },
  {
   "source": [
    "# 1. COLETA"
   ],
   "cell_type": "markdown",
   "metadata": {}
  },
  {
   "source": [
    "### Web Scraping \n",
    "\n",
    "```$ python3 extracting_tvshows_status.py```"
   ],
   "cell_type": "markdown",
   "metadata": {}
  },
  {
   "cell_type": "code",
   "execution_count": 5,
   "metadata": {},
   "outputs": [],
   "source": [
    "\n",
    "df_extracted = pd.read_csv('status/metacritic.csv')\n",
    "# Dados extradios do site Metacritic"
   ]
  },
  {
   "source": [
    "### Kaggle Datasets"
   ],
   "cell_type": "markdown",
   "metadata": {}
  },
  {
   "cell_type": "code",
   "execution_count": 2,
   "metadata": {},
   "outputs": [],
   "source": [
    "kaggle.api.authenticate()\n",
    "\n",
    "# https://www.kaggle.com/oscarfry/tvtime-shows?select=tvtimeshows.csv\n",
    "kaggle.api.dataset_download_files('oscarfry/tvtime-shows', path='./data/tvtimeshows', unzip = True)\n",
    "\n",
    "# https://www.kaggle.com/ruchi798/tv-shows-on-netflix-prime-video-hulu-and-disney \n",
    "kaggle.api.dataset_download_files('ruchi798/tv-shows-on-netflix-prime-video-hulu-and-disney', path='./data/streamings', unzip = True)\n",
    "\n",
    "# https://www.kaggle.com/unanimad/emmy-awards\n",
    "kaggle.api.dataset_download_files('unanimad/emmy-awards', path='./data/awards', unzip = True)\n",
    "\n",
    "# https://www.kaggle.com/unanimad/golden-globe-awards\n",
    "kaggle.api.dataset_download_files('unanimad/golden-globe-awards', path='./data/awards' , unzip = True)"
   ]
  },
  {
   "cell_type": "code",
   "execution_count": 6,
   "metadata": {},
   "outputs": [],
   "source": [
    "df_tvtime = pd.read_csv('data/tvtimeshows/tvtimeshows.csv')\n",
    "# df_tvtime.head()\n",
    "\n",
    "df_streamings = pd.read_csv('data/streamings/tv_shows.csv')\n",
    "# df_streamings.head()\n",
    "\n",
    "df_award_emmy = pd.read_csv('data/awards/the_emmy_awards.csv')\n",
    "# df_award_emmy.head()\n",
    "\n",
    "df_award_goldenglobe = pd.read_csv('data/awards/golden_globe_awards.csv')\n",
    "# df_award_goldenglobe.head()"
   ]
  },
  {
   "source": [
    "# PRÉ-PROCESSAMENTO"
   ],
   "cell_type": "markdown",
   "metadata": {}
  },
  {
   "cell_type": "code",
   "execution_count": 7,
   "metadata": {},
   "outputs": [],
   "source": [
    "def networks_more_popular(df_tt, networks): \n",
    "    column_names = list(df_tt.columns)\n",
    "    df_most_popular = pd.DataFrame(columns = column_names)\n",
    "    for i in networks:\n",
    "        df = df_tt[df_tt['tv_network'].str.contains(i, flags=re.IGNORECASE, regex=True, na=False)]\n",
    "        df['tv_network'] = i\n",
    "        df_most_popular = df_most_popular.append(df,ignore_index=True)\n",
    "    return df_most_popular"
   ]
  },
  {
   "cell_type": "code",
   "execution_count": 8,
   "metadata": {},
   "outputs": [],
   "source": [
    "popular_networks = [ \"ABC\", \"CBS\", \"NBC\", \"NETFLIX\", \"AMAZON\", \"DISNEY\", \"HULU\", \"HBO\", \"APPLE\", \"FOX\", \"MTV\",'FX','SYFY','THE CW','FREEF','TNT','IFC','STRZ','TVL','SHOWTIME','AMC','USA', \"TBS\", \"YHOO\", \"YT\"]\n",
    "\n",
    "df_extract_most_popular = networks_more_popular( df_extracted, popular_networks )"
   ]
  },
  {
   "cell_type": "code",
   "execution_count": 9,
   "metadata": {},
   "outputs": [],
   "source": [
    "def select_status(df, status): \n",
    "    df_select = df.copy()\n",
    "    in_f = np.vectorize(lambda t: t in status)\n",
    "    df_select['status'] = np.where(in_f(df['status']), df['status'], np.nan)\n",
    "    return df_select\n",
    "\n",
    "def standardize_status(df): \n",
    "\n",
    "    column_names = list(df.columns)\n",
    "    column_names.append('changed_network')\n",
    "    df_clean = pd.DataFrame(columns = column_names)\n",
    "    df_clean = df.copy()\n",
    "    df_clean['changed_network'] = False\n",
    "\n",
    "    dict_status = {\n",
    "       'canceled' : ['CANCELED','order rescinded','Likely to end','won\\'t air','Pulled from schedule','Cancellation','not return','not be moving forward', 'won\\'t be back', 'No plans', 'not progressing'],\n",
    "       'renewed' : ['Renew','order','S2 confirmed','return on','Renwed', 'in production', 'in development', 'will air'],\n",
    "       'renewed_but' : ['Moved to', 'Moving from', \"Moving to\", 'Moves to', 'moved from','Moved from', 'will move to',],\n",
    "       'delayed' : ['delayed', 'delay'],\n",
    "       'end' : ['Ending','ended', 'Final season','miniseries' ],\n",
    "       'animated' : ['animated','anime'],\n",
    "       'nacionality':  ['Brazilian' , 'Spanish', 'German', 'Korean', 'Japanese', 'Swedish', 'French', 'Argentinian', 'Austalian', 'British', 'Belgian', 'Polish', 'Chinese', 'Italian', 'Mexican', 'Indian', 'Colombian', 'Thai', 'Taiwanese', 'Turkish', 'Norwegian', 'Lebanese', 'Israeli', 'Arabic', 'Dutch', 'Argentine','UK','Irish','USA', 'Australian', 'Philippine', 'Canadian', 'Russian', 'South African', 'Danish','Finnish']\n",
    "    }\n",
    "\n",
    "    for key in dict_status:\n",
    "       for value in dict_status[key]:\n",
    "          new_value = key\n",
    "          if key in ['animated', 'nacionality']:\n",
    "             new_value = np.nan\n",
    "          df_clean['status'] =  np.where(df_clean['status'].str.contains(value, flags=re.IGNORECASE, regex=True, na=False),new_value,df_clean['status'] )\n",
    "    df_clean['changed_network'] = np.where(df_clean['status'] == 'renewed_but', True, False)\n",
    "    df_clean = select_status(df_clean, list(dict_status.keys()))\n",
    "    return(df_clean)"
   ]
  },
  {
   "cell_type": "code",
   "execution_count": 10,
   "metadata": {},
   "outputs": [
    {
     "output_type": "execute_result",
     "data": {
      "text/plain": [
       "array(['renewed', 'canceled', 'delayed', nan, 'end', 'renewed_but'],\n",
       "      dtype=object)"
      ]
     },
     "metadata": {},
     "execution_count": 10
    }
   ],
   "source": [
    "df_extract_most_popular_cleaning = standardize_status(df_extract_most_popular)\n",
    "df_extract_most_popular_cleaning.status.unique()"
   ]
  },
  {
   "cell_type": "code",
   "execution_count": 11,
   "metadata": {
    "tags": []
   },
   "outputs": [
    {
     "output_type": "execute_result",
     "data": {
      "text/plain": [
       "<matplotlib.axes._subplots.AxesSubplot at 0x7f3d5019e198>"
      ]
     },
     "metadata": {},
     "execution_count": 11
    },
    {
     "output_type": "display_data",
     "data": {
      "text/plain": "<Figure size 432x288 with 1 Axes>",
      "image/svg+xml": "<?xml version=\"1.0\" encoding=\"utf-8\" standalone=\"no\"?>\n<!DOCTYPE svg PUBLIC \"-//W3C//DTD SVG 1.1//EN\"\n  \"http://www.w3.org/Graphics/SVG/1.1/DTD/svg11.dtd\">\n<!-- Created with matplotlib (https://matplotlib.org/) -->\n<svg height=\"248.518125pt\" version=\"1.1\" viewBox=\"0 0 421.015625 248.518125\" width=\"421.015625pt\" xmlns=\"http://www.w3.org/2000/svg\" xmlns:xlink=\"http://www.w3.org/1999/xlink\">\n <defs>\n  <style type=\"text/css\">\n*{stroke-linecap:butt;stroke-linejoin:round;}\n  </style>\n </defs>\n <g id=\"figure_1\">\n  <g id=\"patch_1\">\n   <path d=\"M 0 248.518125 \nL 421.015625 248.518125 \nL 421.015625 0 \nL 0 0 \nz\n\" style=\"fill:none;\"/>\n  </g>\n  <g id=\"axes_1\">\n   <g id=\"patch_2\">\n    <path d=\"M 79.015625 224.64 \nL 413.815625 224.64 \nL 413.815625 7.2 \nL 79.015625 7.2 \nz\n\" style=\"fill:#ffffff;\"/>\n   </g>\n   <g id=\"patch_3\">\n    <path clip-path=\"url(#p7802228905)\" d=\"M 79.015625 213.768 \nL 397.872768 213.768 \nL 397.872768 192.024 \nL 79.015625 192.024 \nz\n\" style=\"fill:#1f77b4;\"/>\n   </g>\n   <g id=\"patch_4\">\n    <path clip-path=\"url(#p7802228905)\" d=\"M 79.015625 170.28 \nL 198.104262 170.28 \nL 198.104262 148.536 \nL 79.015625 148.536 \nz\n\" style=\"fill:#1f77b4;\"/>\n   </g>\n   <g id=\"patch_5\">\n    <path clip-path=\"url(#p7802228905)\" d=\"M 79.015625 126.792 \nL 136.521489 126.792 \nL 136.521489 105.048 \nL 79.015625 105.048 \nz\n\" style=\"fill:#1f77b4;\"/>\n   </g>\n   <g id=\"patch_6\">\n    <path clip-path=\"url(#p7802228905)\" d=\"M 79.015625 83.304 \nL 96.181555 83.304 \nL 96.181555 61.56 \nL 79.015625 61.56 \nz\n\" style=\"fill:#1f77b4;\"/>\n   </g>\n   <g id=\"patch_7\">\n    <path clip-path=\"url(#p7802228905)\" d=\"M 79.015625 39.816 \nL 85.0237 39.816 \nL 85.0237 18.072 \nL 79.015625 18.072 \nz\n\" style=\"fill:#1f77b4;\"/>\n   </g>\n   <g id=\"matplotlib.axis_1\">\n    <g id=\"xtick_1\">\n     <g id=\"line2d_1\">\n      <defs>\n       <path d=\"M 0 0 \nL 0 3.5 \n\" id=\"mc3cad4b358\" style=\"stroke:#000000;stroke-width:0.8;\"/>\n      </defs>\n      <g>\n       <use style=\"stroke:#000000;stroke-width:0.8;\" x=\"79.015625\" xlink:href=\"#mc3cad4b358\" y=\"224.64\"/>\n      </g>\n     </g>\n     <g id=\"text_1\">\n      <!-- 0 -->\n      <defs>\n       <path d=\"M 31.78125 66.40625 \nQ 24.171875 66.40625 20.328125 58.90625 \nQ 16.5 51.421875 16.5 36.375 \nQ 16.5 21.390625 20.328125 13.890625 \nQ 24.171875 6.390625 31.78125 6.390625 \nQ 39.453125 6.390625 43.28125 13.890625 \nQ 47.125 21.390625 47.125 36.375 \nQ 47.125 51.421875 43.28125 58.90625 \nQ 39.453125 66.40625 31.78125 66.40625 \nz\nM 31.78125 74.21875 \nQ 44.046875 74.21875 50.515625 64.515625 \nQ 56.984375 54.828125 56.984375 36.375 \nQ 56.984375 17.96875 50.515625 8.265625 \nQ 44.046875 -1.421875 31.78125 -1.421875 \nQ 19.53125 -1.421875 13.0625 8.265625 \nQ 6.59375 17.96875 6.59375 36.375 \nQ 6.59375 54.828125 13.0625 64.515625 \nQ 19.53125 74.21875 31.78125 74.21875 \nz\n\" id=\"DejaVuSans-48\"/>\n      </defs>\n      <g transform=\"translate(75.834375 239.238437)scale(0.1 -0.1)\">\n       <use xlink:href=\"#DejaVuSans-48\"/>\n      </g>\n     </g>\n    </g>\n    <g id=\"xtick_2\">\n     <g id=\"line2d_2\">\n      <g>\n       <use style=\"stroke:#000000;stroke-width:0.8;\" x=\"121.930449\" xlink:href=\"#mc3cad4b358\" y=\"224.64\"/>\n      </g>\n     </g>\n     <g id=\"text_2\">\n      <!-- 200 -->\n      <defs>\n       <path d=\"M 19.1875 8.296875 \nL 53.609375 8.296875 \nL 53.609375 0 \nL 7.328125 0 \nL 7.328125 8.296875 \nQ 12.9375 14.109375 22.625 23.890625 \nQ 32.328125 33.6875 34.8125 36.53125 \nQ 39.546875 41.84375 41.421875 45.53125 \nQ 43.3125 49.21875 43.3125 52.78125 \nQ 43.3125 58.59375 39.234375 62.25 \nQ 35.15625 65.921875 28.609375 65.921875 \nQ 23.96875 65.921875 18.8125 64.3125 \nQ 13.671875 62.703125 7.8125 59.421875 \nL 7.8125 69.390625 \nQ 13.765625 71.78125 18.9375 73 \nQ 24.125 74.21875 28.421875 74.21875 \nQ 39.75 74.21875 46.484375 68.546875 \nQ 53.21875 62.890625 53.21875 53.421875 \nQ 53.21875 48.921875 51.53125 44.890625 \nQ 49.859375 40.875 45.40625 35.40625 \nQ 44.1875 33.984375 37.640625 27.21875 \nQ 31.109375 20.453125 19.1875 8.296875 \nz\n\" id=\"DejaVuSans-50\"/>\n      </defs>\n      <g transform=\"translate(112.386699 239.238437)scale(0.1 -0.1)\">\n       <use xlink:href=\"#DejaVuSans-50\"/>\n       <use x=\"63.623047\" xlink:href=\"#DejaVuSans-48\"/>\n       <use x=\"127.246094\" xlink:href=\"#DejaVuSans-48\"/>\n      </g>\n     </g>\n    </g>\n    <g id=\"xtick_3\">\n     <g id=\"line2d_3\">\n      <g>\n       <use style=\"stroke:#000000;stroke-width:0.8;\" x=\"164.845273\" xlink:href=\"#mc3cad4b358\" y=\"224.64\"/>\n      </g>\n     </g>\n     <g id=\"text_3\">\n      <!-- 400 -->\n      <defs>\n       <path d=\"M 37.796875 64.3125 \nL 12.890625 25.390625 \nL 37.796875 25.390625 \nz\nM 35.203125 72.90625 \nL 47.609375 72.90625 \nL 47.609375 25.390625 \nL 58.015625 25.390625 \nL 58.015625 17.1875 \nL 47.609375 17.1875 \nL 47.609375 0 \nL 37.796875 0 \nL 37.796875 17.1875 \nL 4.890625 17.1875 \nL 4.890625 26.703125 \nz\n\" id=\"DejaVuSans-52\"/>\n      </defs>\n      <g transform=\"translate(155.301523 239.238437)scale(0.1 -0.1)\">\n       <use xlink:href=\"#DejaVuSans-52\"/>\n       <use x=\"63.623047\" xlink:href=\"#DejaVuSans-48\"/>\n       <use x=\"127.246094\" xlink:href=\"#DejaVuSans-48\"/>\n      </g>\n     </g>\n    </g>\n    <g id=\"xtick_4\">\n     <g id=\"line2d_4\">\n      <g>\n       <use style=\"stroke:#000000;stroke-width:0.8;\" x=\"207.760097\" xlink:href=\"#mc3cad4b358\" y=\"224.64\"/>\n      </g>\n     </g>\n     <g id=\"text_4\">\n      <!-- 600 -->\n      <defs>\n       <path d=\"M 33.015625 40.375 \nQ 26.375 40.375 22.484375 35.828125 \nQ 18.609375 31.296875 18.609375 23.390625 \nQ 18.609375 15.53125 22.484375 10.953125 \nQ 26.375 6.390625 33.015625 6.390625 \nQ 39.65625 6.390625 43.53125 10.953125 \nQ 47.40625 15.53125 47.40625 23.390625 \nQ 47.40625 31.296875 43.53125 35.828125 \nQ 39.65625 40.375 33.015625 40.375 \nz\nM 52.59375 71.296875 \nL 52.59375 62.3125 \nQ 48.875 64.0625 45.09375 64.984375 \nQ 41.3125 65.921875 37.59375 65.921875 \nQ 27.828125 65.921875 22.671875 59.328125 \nQ 17.53125 52.734375 16.796875 39.40625 \nQ 19.671875 43.65625 24.015625 45.921875 \nQ 28.375 48.1875 33.59375 48.1875 \nQ 44.578125 48.1875 50.953125 41.515625 \nQ 57.328125 34.859375 57.328125 23.390625 \nQ 57.328125 12.15625 50.6875 5.359375 \nQ 44.046875 -1.421875 33.015625 -1.421875 \nQ 20.359375 -1.421875 13.671875 8.265625 \nQ 6.984375 17.96875 6.984375 36.375 \nQ 6.984375 53.65625 15.1875 63.9375 \nQ 23.390625 74.21875 37.203125 74.21875 \nQ 40.921875 74.21875 44.703125 73.484375 \nQ 48.484375 72.75 52.59375 71.296875 \nz\n\" id=\"DejaVuSans-54\"/>\n      </defs>\n      <g transform=\"translate(198.216347 239.238437)scale(0.1 -0.1)\">\n       <use xlink:href=\"#DejaVuSans-54\"/>\n       <use x=\"63.623047\" xlink:href=\"#DejaVuSans-48\"/>\n       <use x=\"127.246094\" xlink:href=\"#DejaVuSans-48\"/>\n      </g>\n     </g>\n    </g>\n    <g id=\"xtick_5\">\n     <g id=\"line2d_5\">\n      <g>\n       <use style=\"stroke:#000000;stroke-width:0.8;\" x=\"250.674921\" xlink:href=\"#mc3cad4b358\" y=\"224.64\"/>\n      </g>\n     </g>\n     <g id=\"text_5\">\n      <!-- 800 -->\n      <defs>\n       <path d=\"M 31.78125 34.625 \nQ 24.75 34.625 20.71875 30.859375 \nQ 16.703125 27.09375 16.703125 20.515625 \nQ 16.703125 13.921875 20.71875 10.15625 \nQ 24.75 6.390625 31.78125 6.390625 \nQ 38.8125 6.390625 42.859375 10.171875 \nQ 46.921875 13.96875 46.921875 20.515625 \nQ 46.921875 27.09375 42.890625 30.859375 \nQ 38.875 34.625 31.78125 34.625 \nz\nM 21.921875 38.8125 \nQ 15.578125 40.375 12.03125 44.71875 \nQ 8.5 49.078125 8.5 55.328125 \nQ 8.5 64.0625 14.71875 69.140625 \nQ 20.953125 74.21875 31.78125 74.21875 \nQ 42.671875 74.21875 48.875 69.140625 \nQ 55.078125 64.0625 55.078125 55.328125 \nQ 55.078125 49.078125 51.53125 44.71875 \nQ 48 40.375 41.703125 38.8125 \nQ 48.828125 37.15625 52.796875 32.3125 \nQ 56.78125 27.484375 56.78125 20.515625 \nQ 56.78125 9.90625 50.3125 4.234375 \nQ 43.84375 -1.421875 31.78125 -1.421875 \nQ 19.734375 -1.421875 13.25 4.234375 \nQ 6.78125 9.90625 6.78125 20.515625 \nQ 6.78125 27.484375 10.78125 32.3125 \nQ 14.796875 37.15625 21.921875 38.8125 \nz\nM 18.3125 54.390625 \nQ 18.3125 48.734375 21.84375 45.5625 \nQ 25.390625 42.390625 31.78125 42.390625 \nQ 38.140625 42.390625 41.71875 45.5625 \nQ 45.3125 48.734375 45.3125 54.390625 \nQ 45.3125 60.0625 41.71875 63.234375 \nQ 38.140625 66.40625 31.78125 66.40625 \nQ 25.390625 66.40625 21.84375 63.234375 \nQ 18.3125 60.0625 18.3125 54.390625 \nz\n\" id=\"DejaVuSans-56\"/>\n      </defs>\n      <g transform=\"translate(241.131171 239.238437)scale(0.1 -0.1)\">\n       <use xlink:href=\"#DejaVuSans-56\"/>\n       <use x=\"63.623047\" xlink:href=\"#DejaVuSans-48\"/>\n       <use x=\"127.246094\" xlink:href=\"#DejaVuSans-48\"/>\n      </g>\n     </g>\n    </g>\n    <g id=\"xtick_6\">\n     <g id=\"line2d_6\">\n      <g>\n       <use style=\"stroke:#000000;stroke-width:0.8;\" x=\"293.589745\" xlink:href=\"#mc3cad4b358\" y=\"224.64\"/>\n      </g>\n     </g>\n     <g id=\"text_6\">\n      <!-- 1000 -->\n      <defs>\n       <path d=\"M 12.40625 8.296875 \nL 28.515625 8.296875 \nL 28.515625 63.921875 \nL 10.984375 60.40625 \nL 10.984375 69.390625 \nL 28.421875 72.90625 \nL 38.28125 72.90625 \nL 38.28125 8.296875 \nL 54.390625 8.296875 \nL 54.390625 0 \nL 12.40625 0 \nz\n\" id=\"DejaVuSans-49\"/>\n      </defs>\n      <g transform=\"translate(280.864745 239.238437)scale(0.1 -0.1)\">\n       <use xlink:href=\"#DejaVuSans-49\"/>\n       <use x=\"63.623047\" xlink:href=\"#DejaVuSans-48\"/>\n       <use x=\"127.246094\" xlink:href=\"#DejaVuSans-48\"/>\n       <use x=\"190.869141\" xlink:href=\"#DejaVuSans-48\"/>\n      </g>\n     </g>\n    </g>\n    <g id=\"xtick_7\">\n     <g id=\"line2d_7\">\n      <g>\n       <use style=\"stroke:#000000;stroke-width:0.8;\" x=\"336.504569\" xlink:href=\"#mc3cad4b358\" y=\"224.64\"/>\n      </g>\n     </g>\n     <g id=\"text_7\">\n      <!-- 1200 -->\n      <g transform=\"translate(323.779569 239.238437)scale(0.1 -0.1)\">\n       <use xlink:href=\"#DejaVuSans-49\"/>\n       <use x=\"63.623047\" xlink:href=\"#DejaVuSans-50\"/>\n       <use x=\"127.246094\" xlink:href=\"#DejaVuSans-48\"/>\n       <use x=\"190.869141\" xlink:href=\"#DejaVuSans-48\"/>\n      </g>\n     </g>\n    </g>\n    <g id=\"xtick_8\">\n     <g id=\"line2d_8\">\n      <g>\n       <use style=\"stroke:#000000;stroke-width:0.8;\" x=\"379.419394\" xlink:href=\"#mc3cad4b358\" y=\"224.64\"/>\n      </g>\n     </g>\n     <g id=\"text_8\">\n      <!-- 1400 -->\n      <g transform=\"translate(366.694394 239.238437)scale(0.1 -0.1)\">\n       <use xlink:href=\"#DejaVuSans-49\"/>\n       <use x=\"63.623047\" xlink:href=\"#DejaVuSans-52\"/>\n       <use x=\"127.246094\" xlink:href=\"#DejaVuSans-48\"/>\n       <use x=\"190.869141\" xlink:href=\"#DejaVuSans-48\"/>\n      </g>\n     </g>\n    </g>\n   </g>\n   <g id=\"matplotlib.axis_2\">\n    <g id=\"ytick_1\">\n     <g id=\"line2d_9\">\n      <defs>\n       <path d=\"M 0 0 \nL -3.5 0 \n\" id=\"me7a90dd26b\" style=\"stroke:#000000;stroke-width:0.8;\"/>\n      </defs>\n      <g>\n       <use style=\"stroke:#000000;stroke-width:0.8;\" x=\"79.015625\" xlink:href=\"#me7a90dd26b\" y=\"202.896\"/>\n      </g>\n     </g>\n     <g id=\"text_9\">\n      <!-- renewed -->\n      <defs>\n       <path d=\"M 41.109375 46.296875 \nQ 39.59375 47.171875 37.8125 47.578125 \nQ 36.03125 48 33.890625 48 \nQ 26.265625 48 22.1875 43.046875 \nQ 18.109375 38.09375 18.109375 28.8125 \nL 18.109375 0 \nL 9.078125 0 \nL 9.078125 54.6875 \nL 18.109375 54.6875 \nL 18.109375 46.1875 \nQ 20.953125 51.171875 25.484375 53.578125 \nQ 30.03125 56 36.53125 56 \nQ 37.453125 56 38.578125 55.875 \nQ 39.703125 55.765625 41.0625 55.515625 \nz\n\" id=\"DejaVuSans-114\"/>\n       <path d=\"M 56.203125 29.59375 \nL 56.203125 25.203125 \nL 14.890625 25.203125 \nQ 15.484375 15.921875 20.484375 11.0625 \nQ 25.484375 6.203125 34.421875 6.203125 \nQ 39.59375 6.203125 44.453125 7.46875 \nQ 49.3125 8.734375 54.109375 11.28125 \nL 54.109375 2.78125 \nQ 49.265625 0.734375 44.1875 -0.34375 \nQ 39.109375 -1.421875 33.890625 -1.421875 \nQ 20.796875 -1.421875 13.15625 6.1875 \nQ 5.515625 13.8125 5.515625 26.8125 \nQ 5.515625 40.234375 12.765625 48.109375 \nQ 20.015625 56 32.328125 56 \nQ 43.359375 56 49.78125 48.890625 \nQ 56.203125 41.796875 56.203125 29.59375 \nz\nM 47.21875 32.234375 \nQ 47.125 39.59375 43.09375 43.984375 \nQ 39.0625 48.390625 32.421875 48.390625 \nQ 24.90625 48.390625 20.390625 44.140625 \nQ 15.875 39.890625 15.1875 32.171875 \nz\n\" id=\"DejaVuSans-101\"/>\n       <path d=\"M 54.890625 33.015625 \nL 54.890625 0 \nL 45.90625 0 \nL 45.90625 32.71875 \nQ 45.90625 40.484375 42.875 44.328125 \nQ 39.84375 48.1875 33.796875 48.1875 \nQ 26.515625 48.1875 22.3125 43.546875 \nQ 18.109375 38.921875 18.109375 30.90625 \nL 18.109375 0 \nL 9.078125 0 \nL 9.078125 54.6875 \nL 18.109375 54.6875 \nL 18.109375 46.1875 \nQ 21.34375 51.125 25.703125 53.5625 \nQ 30.078125 56 35.796875 56 \nQ 45.21875 56 50.046875 50.171875 \nQ 54.890625 44.34375 54.890625 33.015625 \nz\n\" id=\"DejaVuSans-110\"/>\n       <path d=\"M 4.203125 54.6875 \nL 13.1875 54.6875 \nL 24.421875 12.015625 \nL 35.59375 54.6875 \nL 46.1875 54.6875 \nL 57.421875 12.015625 \nL 68.609375 54.6875 \nL 77.59375 54.6875 \nL 63.28125 0 \nL 52.6875 0 \nL 40.921875 44.828125 \nL 29.109375 0 \nL 18.5 0 \nz\n\" id=\"DejaVuSans-119\"/>\n       <path d=\"M 45.40625 46.390625 \nL 45.40625 75.984375 \nL 54.390625 75.984375 \nL 54.390625 0 \nL 45.40625 0 \nL 45.40625 8.203125 \nQ 42.578125 3.328125 38.25 0.953125 \nQ 33.9375 -1.421875 27.875 -1.421875 \nQ 17.96875 -1.421875 11.734375 6.484375 \nQ 5.515625 14.40625 5.515625 27.296875 \nQ 5.515625 40.1875 11.734375 48.09375 \nQ 17.96875 56 27.875 56 \nQ 33.9375 56 38.25 53.625 \nQ 42.578125 51.265625 45.40625 46.390625 \nz\nM 14.796875 27.296875 \nQ 14.796875 17.390625 18.875 11.75 \nQ 22.953125 6.109375 30.078125 6.109375 \nQ 37.203125 6.109375 41.296875 11.75 \nQ 45.40625 17.390625 45.40625 27.296875 \nQ 45.40625 37.203125 41.296875 42.84375 \nQ 37.203125 48.484375 30.078125 48.484375 \nQ 22.953125 48.484375 18.875 42.84375 \nQ 14.796875 37.203125 14.796875 27.296875 \nz\n\" id=\"DejaVuSans-100\"/>\n      </defs>\n      <g transform=\"translate(28.80625 206.695219)scale(0.1 -0.1)\">\n       <use xlink:href=\"#DejaVuSans-114\"/>\n       <use x=\"38.863281\" xlink:href=\"#DejaVuSans-101\"/>\n       <use x=\"100.386719\" xlink:href=\"#DejaVuSans-110\"/>\n       <use x=\"163.765625\" xlink:href=\"#DejaVuSans-101\"/>\n       <use x=\"225.289062\" xlink:href=\"#DejaVuSans-119\"/>\n       <use x=\"307.076172\" xlink:href=\"#DejaVuSans-101\"/>\n       <use x=\"368.599609\" xlink:href=\"#DejaVuSans-100\"/>\n      </g>\n     </g>\n    </g>\n    <g id=\"ytick_2\">\n     <g id=\"line2d_10\">\n      <g>\n       <use style=\"stroke:#000000;stroke-width:0.8;\" x=\"79.015625\" xlink:href=\"#me7a90dd26b\" y=\"159.408\"/>\n      </g>\n     </g>\n     <g id=\"text_10\">\n      <!-- canceled -->\n      <defs>\n       <path d=\"M 48.78125 52.59375 \nL 48.78125 44.1875 \nQ 44.96875 46.296875 41.140625 47.34375 \nQ 37.3125 48.390625 33.40625 48.390625 \nQ 24.65625 48.390625 19.8125 42.84375 \nQ 14.984375 37.3125 14.984375 27.296875 \nQ 14.984375 17.28125 19.8125 11.734375 \nQ 24.65625 6.203125 33.40625 6.203125 \nQ 37.3125 6.203125 41.140625 7.25 \nQ 44.96875 8.296875 48.78125 10.40625 \nL 48.78125 2.09375 \nQ 45.015625 0.34375 40.984375 -0.53125 \nQ 36.96875 -1.421875 32.421875 -1.421875 \nQ 20.0625 -1.421875 12.78125 6.34375 \nQ 5.515625 14.109375 5.515625 27.296875 \nQ 5.515625 40.671875 12.859375 48.328125 \nQ 20.21875 56 33.015625 56 \nQ 37.15625 56 41.109375 55.140625 \nQ 45.0625 54.296875 48.78125 52.59375 \nz\n\" id=\"DejaVuSans-99\"/>\n       <path d=\"M 34.28125 27.484375 \nQ 23.390625 27.484375 19.1875 25 \nQ 14.984375 22.515625 14.984375 16.5 \nQ 14.984375 11.71875 18.140625 8.90625 \nQ 21.296875 6.109375 26.703125 6.109375 \nQ 34.1875 6.109375 38.703125 11.40625 \nQ 43.21875 16.703125 43.21875 25.484375 \nL 43.21875 27.484375 \nz\nM 52.203125 31.203125 \nL 52.203125 0 \nL 43.21875 0 \nL 43.21875 8.296875 \nQ 40.140625 3.328125 35.546875 0.953125 \nQ 30.953125 -1.421875 24.3125 -1.421875 \nQ 15.921875 -1.421875 10.953125 3.296875 \nQ 6 8.015625 6 15.921875 \nQ 6 25.140625 12.171875 29.828125 \nQ 18.359375 34.515625 30.609375 34.515625 \nL 43.21875 34.515625 \nL 43.21875 35.40625 \nQ 43.21875 41.609375 39.140625 45 \nQ 35.0625 48.390625 27.6875 48.390625 \nQ 23 48.390625 18.546875 47.265625 \nQ 14.109375 46.140625 10.015625 43.890625 \nL 10.015625 52.203125 \nQ 14.9375 54.109375 19.578125 55.046875 \nQ 24.21875 56 28.609375 56 \nQ 40.484375 56 46.34375 49.84375 \nQ 52.203125 43.703125 52.203125 31.203125 \nz\n\" id=\"DejaVuSans-97\"/>\n       <path d=\"M 9.421875 75.984375 \nL 18.40625 75.984375 \nL 18.40625 0 \nL 9.421875 0 \nz\n\" id=\"DejaVuSans-108\"/>\n      </defs>\n      <g transform=\"translate(27.120312 163.207219)scale(0.1 -0.1)\">\n       <use xlink:href=\"#DejaVuSans-99\"/>\n       <use x=\"54.980469\" xlink:href=\"#DejaVuSans-97\"/>\n       <use x=\"116.259766\" xlink:href=\"#DejaVuSans-110\"/>\n       <use x=\"179.638672\" xlink:href=\"#DejaVuSans-99\"/>\n       <use x=\"234.619141\" xlink:href=\"#DejaVuSans-101\"/>\n       <use x=\"296.142578\" xlink:href=\"#DejaVuSans-108\"/>\n       <use x=\"323.925781\" xlink:href=\"#DejaVuSans-101\"/>\n       <use x=\"385.449219\" xlink:href=\"#DejaVuSans-100\"/>\n      </g>\n     </g>\n    </g>\n    <g id=\"ytick_3\">\n     <g id=\"line2d_11\">\n      <g>\n       <use style=\"stroke:#000000;stroke-width:0.8;\" x=\"79.015625\" xlink:href=\"#me7a90dd26b\" y=\"115.92\"/>\n      </g>\n     </g>\n     <g id=\"text_11\">\n      <!-- end -->\n      <g transform=\"translate(53.176563 119.719219)scale(0.1 -0.1)\">\n       <use xlink:href=\"#DejaVuSans-101\"/>\n       <use x=\"61.523438\" xlink:href=\"#DejaVuSans-110\"/>\n       <use x=\"124.902344\" xlink:href=\"#DejaVuSans-100\"/>\n      </g>\n     </g>\n    </g>\n    <g id=\"ytick_4\">\n     <g id=\"line2d_12\">\n      <g>\n       <use style=\"stroke:#000000;stroke-width:0.8;\" x=\"79.015625\" xlink:href=\"#me7a90dd26b\" y=\"72.432\"/>\n      </g>\n     </g>\n     <g id=\"text_12\">\n      <!-- delayed -->\n      <defs>\n       <path d=\"M 32.171875 -5.078125 \nQ 28.375 -14.84375 24.75 -17.8125 \nQ 21.140625 -20.796875 15.09375 -20.796875 \nL 7.90625 -20.796875 \nL 7.90625 -13.28125 \nL 13.1875 -13.28125 \nQ 16.890625 -13.28125 18.9375 -11.515625 \nQ 21 -9.765625 23.484375 -3.21875 \nL 25.09375 0.875 \nL 2.984375 54.6875 \nL 12.5 54.6875 \nL 29.59375 11.921875 \nL 46.6875 54.6875 \nL 56.203125 54.6875 \nz\n\" id=\"DejaVuSans-121\"/>\n      </defs>\n      <g transform=\"translate(32.1875 76.231219)scale(0.1 -0.1)\">\n       <use xlink:href=\"#DejaVuSans-100\"/>\n       <use x=\"63.476562\" xlink:href=\"#DejaVuSans-101\"/>\n       <use x=\"125\" xlink:href=\"#DejaVuSans-108\"/>\n       <use x=\"152.783203\" xlink:href=\"#DejaVuSans-97\"/>\n       <use x=\"214.0625\" xlink:href=\"#DejaVuSans-121\"/>\n       <use x=\"273.242188\" xlink:href=\"#DejaVuSans-101\"/>\n       <use x=\"334.765625\" xlink:href=\"#DejaVuSans-100\"/>\n      </g>\n     </g>\n    </g>\n    <g id=\"ytick_5\">\n     <g id=\"line2d_13\">\n      <g>\n       <use style=\"stroke:#000000;stroke-width:0.8;\" x=\"79.015625\" xlink:href=\"#me7a90dd26b\" y=\"28.944\"/>\n      </g>\n     </g>\n     <g id=\"text_13\">\n      <!-- renewed_but -->\n      <defs>\n       <path d=\"M 50.984375 -16.609375 \nL 50.984375 -23.578125 \nL -0.984375 -23.578125 \nL -0.984375 -16.609375 \nz\n\" id=\"DejaVuSans-95\"/>\n       <path d=\"M 48.6875 27.296875 \nQ 48.6875 37.203125 44.609375 42.84375 \nQ 40.53125 48.484375 33.40625 48.484375 \nQ 26.265625 48.484375 22.1875 42.84375 \nQ 18.109375 37.203125 18.109375 27.296875 \nQ 18.109375 17.390625 22.1875 11.75 \nQ 26.265625 6.109375 33.40625 6.109375 \nQ 40.53125 6.109375 44.609375 11.75 \nQ 48.6875 17.390625 48.6875 27.296875 \nz\nM 18.109375 46.390625 \nQ 20.953125 51.265625 25.265625 53.625 \nQ 29.59375 56 35.59375 56 \nQ 45.5625 56 51.78125 48.09375 \nQ 58.015625 40.1875 58.015625 27.296875 \nQ 58.015625 14.40625 51.78125 6.484375 \nQ 45.5625 -1.421875 35.59375 -1.421875 \nQ 29.59375 -1.421875 25.265625 0.953125 \nQ 20.953125 3.328125 18.109375 8.203125 \nL 18.109375 0 \nL 9.078125 0 \nL 9.078125 75.984375 \nL 18.109375 75.984375 \nz\n\" id=\"DejaVuSans-98\"/>\n       <path d=\"M 8.5 21.578125 \nL 8.5 54.6875 \nL 17.484375 54.6875 \nL 17.484375 21.921875 \nQ 17.484375 14.15625 20.5 10.265625 \nQ 23.53125 6.390625 29.59375 6.390625 \nQ 36.859375 6.390625 41.078125 11.03125 \nQ 45.3125 15.671875 45.3125 23.6875 \nL 45.3125 54.6875 \nL 54.296875 54.6875 \nL 54.296875 0 \nL 45.3125 0 \nL 45.3125 8.40625 \nQ 42.046875 3.421875 37.71875 1 \nQ 33.40625 -1.421875 27.6875 -1.421875 \nQ 18.265625 -1.421875 13.375 4.4375 \nQ 8.5 10.296875 8.5 21.578125 \nz\nM 31.109375 56 \nz\n\" id=\"DejaVuSans-117\"/>\n       <path d=\"M 18.3125 70.21875 \nL 18.3125 54.6875 \nL 36.8125 54.6875 \nL 36.8125 47.703125 \nL 18.3125 47.703125 \nL 18.3125 18.015625 \nQ 18.3125 11.328125 20.140625 9.421875 \nQ 21.96875 7.515625 27.59375 7.515625 \nL 36.8125 7.515625 \nL 36.8125 0 \nL 27.59375 0 \nQ 17.1875 0 13.234375 3.875 \nQ 9.28125 7.765625 9.28125 18.015625 \nL 9.28125 47.703125 \nL 2.6875 47.703125 \nL 2.6875 54.6875 \nL 9.28125 54.6875 \nL 9.28125 70.21875 \nz\n\" id=\"DejaVuSans-116\"/>\n      </defs>\n      <g transform=\"translate(7.2 32.743219)scale(0.1 -0.1)\">\n       <use xlink:href=\"#DejaVuSans-114\"/>\n       <use x=\"38.863281\" xlink:href=\"#DejaVuSans-101\"/>\n       <use x=\"100.386719\" xlink:href=\"#DejaVuSans-110\"/>\n       <use x=\"163.765625\" xlink:href=\"#DejaVuSans-101\"/>\n       <use x=\"225.289062\" xlink:href=\"#DejaVuSans-119\"/>\n       <use x=\"307.076172\" xlink:href=\"#DejaVuSans-101\"/>\n       <use x=\"368.599609\" xlink:href=\"#DejaVuSans-100\"/>\n       <use x=\"432.076172\" xlink:href=\"#DejaVuSans-95\"/>\n       <use x=\"482.076172\" xlink:href=\"#DejaVuSans-98\"/>\n       <use x=\"545.552734\" xlink:href=\"#DejaVuSans-117\"/>\n       <use x=\"608.931641\" xlink:href=\"#DejaVuSans-116\"/>\n      </g>\n     </g>\n    </g>\n   </g>\n   <g id=\"patch_8\">\n    <path d=\"M 79.015625 224.64 \nL 79.015625 7.2 \n\" style=\"fill:none;stroke:#000000;stroke-linecap:square;stroke-linejoin:miter;stroke-width:0.8;\"/>\n   </g>\n   <g id=\"patch_9\">\n    <path d=\"M 413.815625 224.64 \nL 413.815625 7.2 \n\" style=\"fill:none;stroke:#000000;stroke-linecap:square;stroke-linejoin:miter;stroke-width:0.8;\"/>\n   </g>\n   <g id=\"patch_10\">\n    <path d=\"M 79.015625 224.64 \nL 413.815625 224.64 \n\" style=\"fill:none;stroke:#000000;stroke-linecap:square;stroke-linejoin:miter;stroke-width:0.8;\"/>\n   </g>\n   <g id=\"patch_11\">\n    <path d=\"M 79.015625 7.2 \nL 413.815625 7.2 \n\" style=\"fill:none;stroke:#000000;stroke-linecap:square;stroke-linejoin:miter;stroke-width:0.8;\"/>\n   </g>\n  </g>\n </g>\n <defs>\n  <clipPath id=\"p7802228905\">\n   <rect height=\"217.44\" width=\"334.8\" x=\"79.015625\" y=\"7.2\"/>\n  </clipPath>\n </defs>\n</svg>\n",
      "image/png": "[encoded data removed]"
     },
     "metadata": {
      "needs_background": "light"
     }
    }
   ],
   "source": [
    "df_extract_most_popular_cleaning['status'].value_counts().head(20).plot.barh()"
   ]
  },
  {
   "cell_type": "code",
   "execution_count": 12,
   "metadata": {},
   "outputs": [],
   "source": [
    "def clean_season_name(df):\n",
    "    df_clean = df.copy()\n",
    "    df_clean['season'].replace({r\".*SEASON\\s*(\\d+).*\": r\"\\1\"}, regex=True, inplace=True)\n",
    "    df_clean['season'].replace({r\".*SEASONS\\s*\\d+\\s*/\\s*(\\d+).*\": r\"\\1\"}, regex=True, inplace=True)\n",
    "    df_clean['season'].replace({r\".*S\\s*(\\d+).*\": r\"\\1\"}, regex=True, inplace=True)\n",
    "    df_clean['season'].replace({r\".*SEA[.]\\s*(\\d+).*\": r\"\\1\"}, regex=True, inplace=True)\n",
    "    df_clean['season'].replace({r\".*SN[.]\\s*(\\d+).*\": r\"\\1\"}, regex=True, inplace=True)\n",
    "    return df_clean"
   ]
  },
  {
   "cell_type": "code",
   "execution_count": 13,
   "metadata": {},
   "outputs": [
    {
     "output_type": "execute_result",
     "data": {
      "text/plain": [
       "<matplotlib.axes._subplots.AxesSubplot at 0x7f3d500b1438>"
      ]
     },
     "metadata": {},
     "execution_count": 13
    },
    {
     "output_type": "display_data",
     "data": {
      "text/plain": "<Figure size 432x288 with 1 Axes>",
      "image/svg+xml": "<?xml version=\"1.0\" encoding=\"utf-8\" standalone=\"no\"?>\n<!DOCTYPE svg PUBLIC \"-//W3C//DTD SVG 1.1//EN\"\n  \"http://www.w3.org/Graphics/SVG/1.1/DTD/svg11.dtd\">\n<!-- Created with matplotlib (https://matplotlib.org/) -->\n<svg height=\"248.518125pt\" version=\"1.1\" viewBox=\"0 0 373.547892 248.518125\" width=\"373.547892pt\" xmlns=\"http://www.w3.org/2000/svg\" xmlns:xlink=\"http://www.w3.org/1999/xlink\">\n <defs>\n  <style type=\"text/css\">\n*{stroke-linecap:butt;stroke-linejoin:round;}\n  </style>\n </defs>\n <g id=\"figure_1\">\n  <g id=\"patch_1\">\n   <path d=\"M -0 248.518125 \nL 373.547892 248.518125 \nL 373.547892 0 \nL -0 0 \nz\n\" style=\"fill:none;\"/>\n  </g>\n  <g id=\"axes_1\">\n   <g id=\"patch_2\">\n    <path d=\"M 26.925 224.64 \nL 361.725 224.64 \nL 361.725 7.2 \nL 26.925 7.2 \nz\n\" style=\"fill:#ffffff;\"/>\n   </g>\n   <g id=\"patch_3\">\n    <path clip-path=\"url(#pec0b8dafb5)\" d=\"M 26.925 221.922 \nL 345.782143 221.922 \nL 345.782143 216.486 \nL 26.925 216.486 \nz\n\" style=\"fill:#1f77b4;\"/>\n   </g>\n   <g id=\"patch_4\">\n    <path clip-path=\"url(#pec0b8dafb5)\" d=\"M 26.925 211.05 \nL 145.189637 211.05 \nL 145.189637 205.614 \nL 26.925 205.614 \nz\n\" style=\"fill:#1f77b4;\"/>\n   </g>\n   <g id=\"patch_5\">\n    <path clip-path=\"url(#pec0b8dafb5)\" d=\"M 26.925 200.178 \nL 93.081323 200.178 \nL 93.081323 194.742 \nL 26.925 194.742 \nz\n\" style=\"fill:#1f77b4;\"/>\n   </g>\n   <g id=\"patch_6\">\n    <path clip-path=\"url(#pec0b8dafb5)\" d=\"M 26.925 189.306 \nL 66.782143 189.306 \nL 66.782143 183.87 \nL 26.925 183.87 \nz\n\" style=\"fill:#1f77b4;\"/>\n   </g>\n   <g id=\"patch_7\">\n    <path clip-path=\"url(#pec0b8dafb5)\" d=\"M 26.925 178.434 \nL 54.85767 178.434 \nL 54.85767 172.998 \nL 26.925 172.998 \nz\n\" style=\"fill:#1f77b4;\"/>\n   </g>\n   <g id=\"patch_8\">\n    <path clip-path=\"url(#pec0b8dafb5)\" d=\"M 26.925 167.562 \nL 43.749941 167.562 \nL 43.749941 162.126 \nL 26.925 162.126 \nz\n\" style=\"fill:#1f77b4;\"/>\n   </g>\n   <g id=\"patch_9\">\n    <path clip-path=\"url(#pec0b8dafb5)\" d=\"M 26.925 156.69 \nL 39.176171 156.69 \nL 39.176171 151.254 \nL 26.925 151.254 \nz\n\" style=\"fill:#1f77b4;\"/>\n   </g>\n   <g id=\"patch_10\">\n    <path clip-path=\"url(#pec0b8dafb5)\" d=\"M 26.925 145.818 \nL 33.785656 145.818 \nL 33.785656 140.382 \nL 26.925 140.382 \nz\n\" style=\"fill:#1f77b4;\"/>\n   </g>\n   <g id=\"patch_11\">\n    <path clip-path=\"url(#pec0b8dafb5)\" d=\"M 26.925 134.946 \nL 32.152166 134.946 \nL 32.152166 129.51 \nL 26.925 129.51 \nz\n\" style=\"fill:#1f77b4;\"/>\n   </g>\n   <g id=\"patch_12\">\n    <path clip-path=\"url(#pec0b8dafb5)\" d=\"M 26.925 124.074 \nL 32.152166 124.074 \nL 32.152166 118.638 \nL 26.925 118.638 \nz\n\" style=\"fill:#1f77b4;\"/>\n   </g>\n   <g id=\"patch_13\">\n    <path clip-path=\"url(#pec0b8dafb5)\" d=\"M 26.925 113.202 \nL 31.988817 113.202 \nL 31.988817 107.766 \nL 26.925 107.766 \nz\n\" style=\"fill:#1f77b4;\"/>\n   </g>\n   <g id=\"patch_14\">\n    <path clip-path=\"url(#pec0b8dafb5)\" d=\"M 26.925 102.33 \nL 31.008724 102.33 \nL 31.008724 96.894 \nL 26.925 96.894 \nz\n\" style=\"fill:#1f77b4;\"/>\n   </g>\n   <g id=\"patch_15\">\n    <path clip-path=\"url(#pec0b8dafb5)\" d=\"M 26.925 91.458 \nL 30.845375 91.458 \nL 30.845375 86.022 \nL 26.925 86.022 \nz\n\" style=\"fill:#1f77b4;\"/>\n   </g>\n   <g id=\"patch_16\">\n    <path clip-path=\"url(#pec0b8dafb5)\" d=\"M 26.925 80.586 \nL 30.02863 80.586 \nL 30.02863 75.15 \nL 26.925 75.15 \nz\n\" style=\"fill:#1f77b4;\"/>\n   </g>\n   <g id=\"patch_17\">\n    <path clip-path=\"url(#pec0b8dafb5)\" d=\"M 26.925 69.714 \nL 29.538583 69.714 \nL 29.538583 64.278 \nL 26.925 64.278 \nz\n\" style=\"fill:#1f77b4;\"/>\n   </g>\n   <g id=\"patch_18\">\n    <path clip-path=\"url(#pec0b8dafb5)\" d=\"M 26.925 58.842 \nL 28.721838 58.842 \nL 28.721838 53.406 \nL 26.925 53.406 \nz\n\" style=\"fill:#1f77b4;\"/>\n   </g>\n   <g id=\"patch_19\">\n    <path clip-path=\"url(#pec0b8dafb5)\" d=\"M 26.925 47.97 \nL 28.558489 47.97 \nL 28.558489 42.534 \nL 26.925 42.534 \nz\n\" style=\"fill:#1f77b4;\"/>\n   </g>\n   <g id=\"patch_20\">\n    <path clip-path=\"url(#pec0b8dafb5)\" d=\"M 26.925 37.098 \nL 28.558489 37.098 \nL 28.558489 31.662 \nL 26.925 31.662 \nz\n\" style=\"fill:#1f77b4;\"/>\n   </g>\n   <g id=\"patch_21\">\n    <path clip-path=\"url(#pec0b8dafb5)\" d=\"M 26.925 26.226 \nL 28.068443 26.226 \nL 28.068443 20.79 \nL 26.925 20.79 \nz\n\" style=\"fill:#1f77b4;\"/>\n   </g>\n   <g id=\"patch_22\">\n    <path clip-path=\"url(#pec0b8dafb5)\" d=\"M 26.925 15.354 \nL 28.068443 15.354 \nL 28.068443 9.918 \nL 26.925 9.918 \nz\n\" style=\"fill:#1f77b4;\"/>\n   </g>\n   <g id=\"matplotlib.axis_1\">\n    <g id=\"xtick_1\">\n     <g id=\"line2d_1\">\n      <defs>\n       <path d=\"M 0 0 \nL 0 3.5 \n\" id=\"m8968c91756\" style=\"stroke:#000000;stroke-width:0.8;\"/>\n      </defs>\n      <g>\n       <use style=\"stroke:#000000;stroke-width:0.8;\" x=\"26.925\" xlink:href=\"#m8968c91756\" y=\"224.64\"/>\n      </g>\n     </g>\n     <g id=\"text_1\">\n      <!-- 0 -->\n      <defs>\n       <path d=\"M 31.78125 66.40625 \nQ 24.171875 66.40625 20.328125 58.90625 \nQ 16.5 51.421875 16.5 36.375 \nQ 16.5 21.390625 20.328125 13.890625 \nQ 24.171875 6.390625 31.78125 6.390625 \nQ 39.453125 6.390625 43.28125 13.890625 \nQ 47.125 21.390625 47.125 36.375 \nQ 47.125 51.421875 43.28125 58.90625 \nQ 39.453125 66.40625 31.78125 66.40625 \nz\nM 31.78125 74.21875 \nQ 44.046875 74.21875 50.515625 64.515625 \nQ 56.984375 54.828125 56.984375 36.375 \nQ 56.984375 17.96875 50.515625 8.265625 \nQ 44.046875 -1.421875 31.78125 -1.421875 \nQ 19.53125 -1.421875 13.0625 8.265625 \nQ 6.59375 17.96875 6.59375 36.375 \nQ 6.59375 54.828125 13.0625 64.515625 \nQ 19.53125 74.21875 31.78125 74.21875 \nz\n\" id=\"DejaVuSans-48\"/>\n      </defs>\n      <g transform=\"translate(23.74375 239.238437)scale(0.1 -0.1)\">\n       <use xlink:href=\"#DejaVuSans-48\"/>\n      </g>\n     </g>\n    </g>\n    <g id=\"xtick_2\">\n     <g id=\"line2d_2\">\n      <g>\n       <use style=\"stroke:#000000;stroke-width:0.8;\" x=\"67.762237\" xlink:href=\"#m8968c91756\" y=\"224.64\"/>\n      </g>\n     </g>\n     <g id=\"text_2\">\n      <!-- 250 -->\n      <defs>\n       <path d=\"M 19.1875 8.296875 \nL 53.609375 8.296875 \nL 53.609375 0 \nL 7.328125 0 \nL 7.328125 8.296875 \nQ 12.9375 14.109375 22.625 23.890625 \nQ 32.328125 33.6875 34.8125 36.53125 \nQ 39.546875 41.84375 41.421875 45.53125 \nQ 43.3125 49.21875 43.3125 52.78125 \nQ 43.3125 58.59375 39.234375 62.25 \nQ 35.15625 65.921875 28.609375 65.921875 \nQ 23.96875 65.921875 18.8125 64.3125 \nQ 13.671875 62.703125 7.8125 59.421875 \nL 7.8125 69.390625 \nQ 13.765625 71.78125 18.9375 73 \nQ 24.125 74.21875 28.421875 74.21875 \nQ 39.75 74.21875 46.484375 68.546875 \nQ 53.21875 62.890625 53.21875 53.421875 \nQ 53.21875 48.921875 51.53125 44.890625 \nQ 49.859375 40.875 45.40625 35.40625 \nQ 44.1875 33.984375 37.640625 27.21875 \nQ 31.109375 20.453125 19.1875 8.296875 \nz\n\" id=\"DejaVuSans-50\"/>\n       <path d=\"M 10.796875 72.90625 \nL 49.515625 72.90625 \nL 49.515625 64.59375 \nL 19.828125 64.59375 \nL 19.828125 46.734375 \nQ 21.96875 47.46875 24.109375 47.828125 \nQ 26.265625 48.1875 28.421875 48.1875 \nQ 40.625 48.1875 47.75 41.5 \nQ 54.890625 34.8125 54.890625 23.390625 \nQ 54.890625 11.625 47.5625 5.09375 \nQ 40.234375 -1.421875 26.90625 -1.421875 \nQ 22.3125 -1.421875 17.546875 -0.640625 \nQ 12.796875 0.140625 7.71875 1.703125 \nL 7.71875 11.625 \nQ 12.109375 9.234375 16.796875 8.0625 \nQ 21.484375 6.890625 26.703125 6.890625 \nQ 35.15625 6.890625 40.078125 11.328125 \nQ 45.015625 15.765625 45.015625 23.390625 \nQ 45.015625 31 40.078125 35.4375 \nQ 35.15625 39.890625 26.703125 39.890625 \nQ 22.75 39.890625 18.8125 39.015625 \nQ 14.890625 38.140625 10.796875 36.28125 \nz\n\" id=\"DejaVuSans-53\"/>\n      </defs>\n      <g transform=\"translate(58.218487 239.238437)scale(0.1 -0.1)\">\n       <use xlink:href=\"#DejaVuSans-50\"/>\n       <use x=\"63.623047\" xlink:href=\"#DejaVuSans-53\"/>\n       <use x=\"127.246094\" xlink:href=\"#DejaVuSans-48\"/>\n      </g>\n     </g>\n    </g>\n    <g id=\"xtick_3\">\n     <g id=\"line2d_3\">\n      <g>\n       <use style=\"stroke:#000000;stroke-width:0.8;\" x=\"108.599473\" xlink:href=\"#m8968c91756\" y=\"224.64\"/>\n      </g>\n     </g>\n     <g id=\"text_3\">\n      <!-- 500 -->\n      <g transform=\"translate(99.055723 239.238437)scale(0.1 -0.1)\">\n       <use xlink:href=\"#DejaVuSans-53\"/>\n       <use x=\"63.623047\" xlink:href=\"#DejaVuSans-48\"/>\n       <use x=\"127.246094\" xlink:href=\"#DejaVuSans-48\"/>\n      </g>\n     </g>\n    </g>\n    <g id=\"xtick_4\">\n     <g id=\"line2d_4\">\n      <g>\n       <use style=\"stroke:#000000;stroke-width:0.8;\" x=\"149.43671\" xlink:href=\"#m8968c91756\" y=\"224.64\"/>\n      </g>\n     </g>\n     <g id=\"text_4\">\n      <!-- 750 -->\n      <defs>\n       <path d=\"M 8.203125 72.90625 \nL 55.078125 72.90625 \nL 55.078125 68.703125 \nL 28.609375 0 \nL 18.3125 0 \nL 43.21875 64.59375 \nL 8.203125 64.59375 \nz\n\" id=\"DejaVuSans-55\"/>\n      </defs>\n      <g transform=\"translate(139.89296 239.238437)scale(0.1 -0.1)\">\n       <use xlink:href=\"#DejaVuSans-55\"/>\n       <use x=\"63.623047\" xlink:href=\"#DejaVuSans-53\"/>\n       <use x=\"127.246094\" xlink:href=\"#DejaVuSans-48\"/>\n      </g>\n     </g>\n    </g>\n    <g id=\"xtick_5\">\n     <g id=\"line2d_5\">\n      <g>\n       <use style=\"stroke:#000000;stroke-width:0.8;\" x=\"190.273946\" xlink:href=\"#m8968c91756\" y=\"224.64\"/>\n      </g>\n     </g>\n     <g id=\"text_5\">\n      <!-- 1000 -->\n      <defs>\n       <path d=\"M 12.40625 8.296875 \nL 28.515625 8.296875 \nL 28.515625 63.921875 \nL 10.984375 60.40625 \nL 10.984375 69.390625 \nL 28.421875 72.90625 \nL 38.28125 72.90625 \nL 38.28125 8.296875 \nL 54.390625 8.296875 \nL 54.390625 0 \nL 12.40625 0 \nz\n\" id=\"DejaVuSans-49\"/>\n      </defs>\n      <g transform=\"translate(177.548946 239.238437)scale(0.1 -0.1)\">\n       <use xlink:href=\"#DejaVuSans-49\"/>\n       <use x=\"63.623047\" xlink:href=\"#DejaVuSans-48\"/>\n       <use x=\"127.246094\" xlink:href=\"#DejaVuSans-48\"/>\n       <use x=\"190.869141\" xlink:href=\"#DejaVuSans-48\"/>\n      </g>\n     </g>\n    </g>\n    <g id=\"xtick_6\">\n     <g id=\"line2d_6\">\n      <g>\n       <use style=\"stroke:#000000;stroke-width:0.8;\" x=\"231.111183\" xlink:href=\"#m8968c91756\" y=\"224.64\"/>\n      </g>\n     </g>\n     <g id=\"text_6\">\n      <!-- 1250 -->\n      <g transform=\"translate(218.386183 239.238437)scale(0.1 -0.1)\">\n       <use xlink:href=\"#DejaVuSans-49\"/>\n       <use x=\"63.623047\" xlink:href=\"#DejaVuSans-50\"/>\n       <use x=\"127.246094\" xlink:href=\"#DejaVuSans-53\"/>\n       <use x=\"190.869141\" xlink:href=\"#DejaVuSans-48\"/>\n      </g>\n     </g>\n    </g>\n    <g id=\"xtick_7\">\n     <g id=\"line2d_7\">\n      <g>\n       <use style=\"stroke:#000000;stroke-width:0.8;\" x=\"271.948419\" xlink:href=\"#m8968c91756\" y=\"224.64\"/>\n      </g>\n     </g>\n     <g id=\"text_7\">\n      <!-- 1500 -->\n      <g transform=\"translate(259.223419 239.238437)scale(0.1 -0.1)\">\n       <use xlink:href=\"#DejaVuSans-49\"/>\n       <use x=\"63.623047\" xlink:href=\"#DejaVuSans-53\"/>\n       <use x=\"127.246094\" xlink:href=\"#DejaVuSans-48\"/>\n       <use x=\"190.869141\" xlink:href=\"#DejaVuSans-48\"/>\n      </g>\n     </g>\n    </g>\n    <g id=\"xtick_8\">\n     <g id=\"line2d_8\">\n      <g>\n       <use style=\"stroke:#000000;stroke-width:0.8;\" x=\"312.785656\" xlink:href=\"#m8968c91756\" y=\"224.64\"/>\n      </g>\n     </g>\n     <g id=\"text_8\">\n      <!-- 1750 -->\n      <g transform=\"translate(300.060656 239.238437)scale(0.1 -0.1)\">\n       <use xlink:href=\"#DejaVuSans-49\"/>\n       <use x=\"63.623047\" xlink:href=\"#DejaVuSans-55\"/>\n       <use x=\"127.246094\" xlink:href=\"#DejaVuSans-53\"/>\n       <use x=\"190.869141\" xlink:href=\"#DejaVuSans-48\"/>\n      </g>\n     </g>\n    </g>\n    <g id=\"xtick_9\">\n     <g id=\"line2d_9\">\n      <g>\n       <use style=\"stroke:#000000;stroke-width:0.8;\" x=\"353.622892\" xlink:href=\"#m8968c91756\" y=\"224.64\"/>\n      </g>\n     </g>\n     <g id=\"text_9\">\n      <!-- 2000 -->\n      <g transform=\"translate(340.897892 239.238437)scale(0.1 -0.1)\">\n       <use xlink:href=\"#DejaVuSans-50\"/>\n       <use x=\"63.623047\" xlink:href=\"#DejaVuSans-48\"/>\n       <use x=\"127.246094\" xlink:href=\"#DejaVuSans-48\"/>\n       <use x=\"190.869141\" xlink:href=\"#DejaVuSans-48\"/>\n      </g>\n     </g>\n    </g>\n   </g>\n   <g id=\"matplotlib.axis_2\">\n    <g id=\"ytick_1\">\n     <g id=\"line2d_10\">\n      <defs>\n       <path d=\"M 0 0 \nL -3.5 0 \n\" id=\"m2560503002\" style=\"stroke:#000000;stroke-width:0.8;\"/>\n      </defs>\n      <g>\n       <use style=\"stroke:#000000;stroke-width:0.8;\" x=\"26.925\" xlink:href=\"#m2560503002\" y=\"219.204\"/>\n      </g>\n     </g>\n     <g id=\"text_10\">\n      <!-- 1 -->\n      <g transform=\"translate(13.5625 223.003219)scale(0.1 -0.1)\">\n       <use xlink:href=\"#DejaVuSans-49\"/>\n      </g>\n     </g>\n    </g>\n    <g id=\"ytick_2\">\n     <g id=\"line2d_11\">\n      <g>\n       <use style=\"stroke:#000000;stroke-width:0.8;\" x=\"26.925\" xlink:href=\"#m2560503002\" y=\"208.332\"/>\n      </g>\n     </g>\n     <g id=\"text_11\">\n      <!-- 2 -->\n      <g transform=\"translate(13.5625 212.131219)scale(0.1 -0.1)\">\n       <use xlink:href=\"#DejaVuSans-50\"/>\n      </g>\n     </g>\n    </g>\n    <g id=\"ytick_3\">\n     <g id=\"line2d_12\">\n      <g>\n       <use style=\"stroke:#000000;stroke-width:0.8;\" x=\"26.925\" xlink:href=\"#m2560503002\" y=\"197.46\"/>\n      </g>\n     </g>\n     <g id=\"text_12\">\n      <!-- 3 -->\n      <defs>\n       <path d=\"M 40.578125 39.3125 \nQ 47.65625 37.796875 51.625 33 \nQ 55.609375 28.21875 55.609375 21.1875 \nQ 55.609375 10.40625 48.1875 4.484375 \nQ 40.765625 -1.421875 27.09375 -1.421875 \nQ 22.515625 -1.421875 17.65625 -0.515625 \nQ 12.796875 0.390625 7.625 2.203125 \nL 7.625 11.71875 \nQ 11.71875 9.328125 16.59375 8.109375 \nQ 21.484375 6.890625 26.8125 6.890625 \nQ 36.078125 6.890625 40.9375 10.546875 \nQ 45.796875 14.203125 45.796875 21.1875 \nQ 45.796875 27.640625 41.28125 31.265625 \nQ 36.765625 34.90625 28.71875 34.90625 \nL 20.21875 34.90625 \nL 20.21875 43.015625 \nL 29.109375 43.015625 \nQ 36.375 43.015625 40.234375 45.921875 \nQ 44.09375 48.828125 44.09375 54.296875 \nQ 44.09375 59.90625 40.109375 62.90625 \nQ 36.140625 65.921875 28.71875 65.921875 \nQ 24.65625 65.921875 20.015625 65.03125 \nQ 15.375 64.15625 9.8125 62.3125 \nL 9.8125 71.09375 \nQ 15.4375 72.65625 20.34375 73.4375 \nQ 25.25 74.21875 29.59375 74.21875 \nQ 40.828125 74.21875 47.359375 69.109375 \nQ 53.90625 64.015625 53.90625 55.328125 \nQ 53.90625 49.265625 50.4375 45.09375 \nQ 46.96875 40.921875 40.578125 39.3125 \nz\n\" id=\"DejaVuSans-51\"/>\n      </defs>\n      <g transform=\"translate(13.5625 201.259219)scale(0.1 -0.1)\">\n       <use xlink:href=\"#DejaVuSans-51\"/>\n      </g>\n     </g>\n    </g>\n    <g id=\"ytick_4\">\n     <g id=\"line2d_13\">\n      <g>\n       <use style=\"stroke:#000000;stroke-width:0.8;\" x=\"26.925\" xlink:href=\"#m2560503002\" y=\"186.588\"/>\n      </g>\n     </g>\n     <g id=\"text_13\">\n      <!-- 4 -->\n      <defs>\n       <path d=\"M 37.796875 64.3125 \nL 12.890625 25.390625 \nL 37.796875 25.390625 \nz\nM 35.203125 72.90625 \nL 47.609375 72.90625 \nL 47.609375 25.390625 \nL 58.015625 25.390625 \nL 58.015625 17.1875 \nL 47.609375 17.1875 \nL 47.609375 0 \nL 37.796875 0 \nL 37.796875 17.1875 \nL 4.890625 17.1875 \nL 4.890625 26.703125 \nz\n\" id=\"DejaVuSans-52\"/>\n      </defs>\n      <g transform=\"translate(13.5625 190.387219)scale(0.1 -0.1)\">\n       <use xlink:href=\"#DejaVuSans-52\"/>\n      </g>\n     </g>\n    </g>\n    <g id=\"ytick_5\">\n     <g id=\"line2d_14\">\n      <g>\n       <use style=\"stroke:#000000;stroke-width:0.8;\" x=\"26.925\" xlink:href=\"#m2560503002\" y=\"175.716\"/>\n      </g>\n     </g>\n     <g id=\"text_14\">\n      <!-- 5 -->\n      <g transform=\"translate(13.5625 179.515219)scale(0.1 -0.1)\">\n       <use xlink:href=\"#DejaVuSans-53\"/>\n      </g>\n     </g>\n    </g>\n    <g id=\"ytick_6\">\n     <g id=\"line2d_15\">\n      <g>\n       <use style=\"stroke:#000000;stroke-width:0.8;\" x=\"26.925\" xlink:href=\"#m2560503002\" y=\"164.844\"/>\n      </g>\n     </g>\n     <g id=\"text_15\">\n      <!-- 6 -->\n      <defs>\n       <path d=\"M 33.015625 40.375 \nQ 26.375 40.375 22.484375 35.828125 \nQ 18.609375 31.296875 18.609375 23.390625 \nQ 18.609375 15.53125 22.484375 10.953125 \nQ 26.375 6.390625 33.015625 6.390625 \nQ 39.65625 6.390625 43.53125 10.953125 \nQ 47.40625 15.53125 47.40625 23.390625 \nQ 47.40625 31.296875 43.53125 35.828125 \nQ 39.65625 40.375 33.015625 40.375 \nz\nM 52.59375 71.296875 \nL 52.59375 62.3125 \nQ 48.875 64.0625 45.09375 64.984375 \nQ 41.3125 65.921875 37.59375 65.921875 \nQ 27.828125 65.921875 22.671875 59.328125 \nQ 17.53125 52.734375 16.796875 39.40625 \nQ 19.671875 43.65625 24.015625 45.921875 \nQ 28.375 48.1875 33.59375 48.1875 \nQ 44.578125 48.1875 50.953125 41.515625 \nQ 57.328125 34.859375 57.328125 23.390625 \nQ 57.328125 12.15625 50.6875 5.359375 \nQ 44.046875 -1.421875 33.015625 -1.421875 \nQ 20.359375 -1.421875 13.671875 8.265625 \nQ 6.984375 17.96875 6.984375 36.375 \nQ 6.984375 53.65625 15.1875 63.9375 \nQ 23.390625 74.21875 37.203125 74.21875 \nQ 40.921875 74.21875 44.703125 73.484375 \nQ 48.484375 72.75 52.59375 71.296875 \nz\n\" id=\"DejaVuSans-54\"/>\n      </defs>\n      <g transform=\"translate(13.5625 168.643219)scale(0.1 -0.1)\">\n       <use xlink:href=\"#DejaVuSans-54\"/>\n      </g>\n     </g>\n    </g>\n    <g id=\"ytick_7\">\n     <g id=\"line2d_16\">\n      <g>\n       <use style=\"stroke:#000000;stroke-width:0.8;\" x=\"26.925\" xlink:href=\"#m2560503002\" y=\"153.972\"/>\n      </g>\n     </g>\n     <g id=\"text_16\">\n      <!-- 7 -->\n      <g transform=\"translate(13.5625 157.771219)scale(0.1 -0.1)\">\n       <use xlink:href=\"#DejaVuSans-55\"/>\n      </g>\n     </g>\n    </g>\n    <g id=\"ytick_8\">\n     <g id=\"line2d_17\">\n      <g>\n       <use style=\"stroke:#000000;stroke-width:0.8;\" x=\"26.925\" xlink:href=\"#m2560503002\" y=\"143.1\"/>\n      </g>\n     </g>\n     <g id=\"text_17\">\n      <!-- 8 -->\n      <defs>\n       <path d=\"M 31.78125 34.625 \nQ 24.75 34.625 20.71875 30.859375 \nQ 16.703125 27.09375 16.703125 20.515625 \nQ 16.703125 13.921875 20.71875 10.15625 \nQ 24.75 6.390625 31.78125 6.390625 \nQ 38.8125 6.390625 42.859375 10.171875 \nQ 46.921875 13.96875 46.921875 20.515625 \nQ 46.921875 27.09375 42.890625 30.859375 \nQ 38.875 34.625 31.78125 34.625 \nz\nM 21.921875 38.8125 \nQ 15.578125 40.375 12.03125 44.71875 \nQ 8.5 49.078125 8.5 55.328125 \nQ 8.5 64.0625 14.71875 69.140625 \nQ 20.953125 74.21875 31.78125 74.21875 \nQ 42.671875 74.21875 48.875 69.140625 \nQ 55.078125 64.0625 55.078125 55.328125 \nQ 55.078125 49.078125 51.53125 44.71875 \nQ 48 40.375 41.703125 38.8125 \nQ 48.828125 37.15625 52.796875 32.3125 \nQ 56.78125 27.484375 56.78125 20.515625 \nQ 56.78125 9.90625 50.3125 4.234375 \nQ 43.84375 -1.421875 31.78125 -1.421875 \nQ 19.734375 -1.421875 13.25 4.234375 \nQ 6.78125 9.90625 6.78125 20.515625 \nQ 6.78125 27.484375 10.78125 32.3125 \nQ 14.796875 37.15625 21.921875 38.8125 \nz\nM 18.3125 54.390625 \nQ 18.3125 48.734375 21.84375 45.5625 \nQ 25.390625 42.390625 31.78125 42.390625 \nQ 38.140625 42.390625 41.71875 45.5625 \nQ 45.3125 48.734375 45.3125 54.390625 \nQ 45.3125 60.0625 41.71875 63.234375 \nQ 38.140625 66.40625 31.78125 66.40625 \nQ 25.390625 66.40625 21.84375 63.234375 \nQ 18.3125 60.0625 18.3125 54.390625 \nz\n\" id=\"DejaVuSans-56\"/>\n      </defs>\n      <g transform=\"translate(13.5625 146.899219)scale(0.1 -0.1)\">\n       <use xlink:href=\"#DejaVuSans-56\"/>\n      </g>\n     </g>\n    </g>\n    <g id=\"ytick_9\">\n     <g id=\"line2d_18\">\n      <g>\n       <use style=\"stroke:#000000;stroke-width:0.8;\" x=\"26.925\" xlink:href=\"#m2560503002\" y=\"132.228\"/>\n      </g>\n     </g>\n     <g id=\"text_18\">\n      <!-- 11 -->\n      <g transform=\"translate(7.2 136.027219)scale(0.1 -0.1)\">\n       <use xlink:href=\"#DejaVuSans-49\"/>\n       <use x=\"63.623047\" xlink:href=\"#DejaVuSans-49\"/>\n      </g>\n     </g>\n    </g>\n    <g id=\"ytick_10\">\n     <g id=\"line2d_19\">\n      <g>\n       <use style=\"stroke:#000000;stroke-width:0.8;\" x=\"26.925\" xlink:href=\"#m2560503002\" y=\"121.356\"/>\n      </g>\n     </g>\n     <g id=\"text_19\">\n      <!-- 9 -->\n      <defs>\n       <path d=\"M 10.984375 1.515625 \nL 10.984375 10.5 \nQ 14.703125 8.734375 18.5 7.8125 \nQ 22.3125 6.890625 25.984375 6.890625 \nQ 35.75 6.890625 40.890625 13.453125 \nQ 46.046875 20.015625 46.78125 33.40625 \nQ 43.953125 29.203125 39.59375 26.953125 \nQ 35.25 24.703125 29.984375 24.703125 \nQ 19.046875 24.703125 12.671875 31.3125 \nQ 6.296875 37.9375 6.296875 49.421875 \nQ 6.296875 60.640625 12.9375 67.421875 \nQ 19.578125 74.21875 30.609375 74.21875 \nQ 43.265625 74.21875 49.921875 64.515625 \nQ 56.59375 54.828125 56.59375 36.375 \nQ 56.59375 19.140625 48.40625 8.859375 \nQ 40.234375 -1.421875 26.421875 -1.421875 \nQ 22.703125 -1.421875 18.890625 -0.6875 \nQ 15.09375 0.046875 10.984375 1.515625 \nz\nM 30.609375 32.421875 \nQ 37.25 32.421875 41.125 36.953125 \nQ 45.015625 41.5 45.015625 49.421875 \nQ 45.015625 57.28125 41.125 61.84375 \nQ 37.25 66.40625 30.609375 66.40625 \nQ 23.96875 66.40625 20.09375 61.84375 \nQ 16.21875 57.28125 16.21875 49.421875 \nQ 16.21875 41.5 20.09375 36.953125 \nQ 23.96875 32.421875 30.609375 32.421875 \nz\n\" id=\"DejaVuSans-57\"/>\n      </defs>\n      <g transform=\"translate(13.5625 125.155219)scale(0.1 -0.1)\">\n       <use xlink:href=\"#DejaVuSans-57\"/>\n      </g>\n     </g>\n    </g>\n    <g id=\"ytick_11\">\n     <g id=\"line2d_20\">\n      <g>\n       <use style=\"stroke:#000000;stroke-width:0.8;\" x=\"26.925\" xlink:href=\"#m2560503002\" y=\"110.484\"/>\n      </g>\n     </g>\n     <g id=\"text_20\">\n      <!-- 10 -->\n      <g transform=\"translate(7.2 114.283219)scale(0.1 -0.1)\">\n       <use xlink:href=\"#DejaVuSans-49\"/>\n       <use x=\"63.623047\" xlink:href=\"#DejaVuSans-48\"/>\n      </g>\n     </g>\n    </g>\n    <g id=\"ytick_12\">\n     <g id=\"line2d_21\">\n      <g>\n       <use style=\"stroke:#000000;stroke-width:0.8;\" x=\"26.925\" xlink:href=\"#m2560503002\" y=\"99.612\"/>\n      </g>\n     </g>\n     <g id=\"text_21\">\n      <!-- 15 -->\n      <g transform=\"translate(7.2 103.411219)scale(0.1 -0.1)\">\n       <use xlink:href=\"#DejaVuSans-49\"/>\n       <use x=\"63.623047\" xlink:href=\"#DejaVuSans-53\"/>\n      </g>\n     </g>\n    </g>\n    <g id=\"ytick_13\">\n     <g id=\"line2d_22\">\n      <g>\n       <use style=\"stroke:#000000;stroke-width:0.8;\" x=\"26.925\" xlink:href=\"#m2560503002\" y=\"88.74\"/>\n      </g>\n     </g>\n     <g id=\"text_22\">\n      <!-- 12 -->\n      <g transform=\"translate(7.2 92.539219)scale(0.1 -0.1)\">\n       <use xlink:href=\"#DejaVuSans-49\"/>\n       <use x=\"63.623047\" xlink:href=\"#DejaVuSans-50\"/>\n      </g>\n     </g>\n    </g>\n    <g id=\"ytick_14\">\n     <g id=\"line2d_23\">\n      <g>\n       <use style=\"stroke:#000000;stroke-width:0.8;\" x=\"26.925\" xlink:href=\"#m2560503002\" y=\"77.868\"/>\n      </g>\n     </g>\n     <g id=\"text_23\">\n      <!-- 14 -->\n      <g transform=\"translate(7.2 81.667219)scale(0.1 -0.1)\">\n       <use xlink:href=\"#DejaVuSans-49\"/>\n       <use x=\"63.623047\" xlink:href=\"#DejaVuSans-52\"/>\n      </g>\n     </g>\n    </g>\n    <g id=\"ytick_15\">\n     <g id=\"line2d_24\">\n      <g>\n       <use style=\"stroke:#000000;stroke-width:0.8;\" x=\"26.925\" xlink:href=\"#m2560503002\" y=\"66.996\"/>\n      </g>\n     </g>\n     <g id=\"text_24\">\n      <!-- 13 -->\n      <g transform=\"translate(7.2 70.795219)scale(0.1 -0.1)\">\n       <use xlink:href=\"#DejaVuSans-49\"/>\n       <use x=\"63.623047\" xlink:href=\"#DejaVuSans-51\"/>\n      </g>\n     </g>\n    </g>\n    <g id=\"ytick_16\">\n     <g id=\"line2d_25\">\n      <g>\n       <use style=\"stroke:#000000;stroke-width:0.8;\" x=\"26.925\" xlink:href=\"#m2560503002\" y=\"56.124\"/>\n      </g>\n     </g>\n     <g id=\"text_25\">\n      <!-- 16 -->\n      <g transform=\"translate(7.2 59.923219)scale(0.1 -0.1)\">\n       <use xlink:href=\"#DejaVuSans-49\"/>\n       <use x=\"63.623047\" xlink:href=\"#DejaVuSans-54\"/>\n      </g>\n     </g>\n    </g>\n    <g id=\"ytick_17\">\n     <g id=\"line2d_26\">\n      <g>\n       <use style=\"stroke:#000000;stroke-width:0.8;\" x=\"26.925\" xlink:href=\"#m2560503002\" y=\"45.252\"/>\n      </g>\n     </g>\n     <g id=\"text_26\">\n      <!-- 17 -->\n      <g transform=\"translate(7.2 49.051219)scale(0.1 -0.1)\">\n       <use xlink:href=\"#DejaVuSans-49\"/>\n       <use x=\"63.623047\" xlink:href=\"#DejaVuSans-55\"/>\n      </g>\n     </g>\n    </g>\n    <g id=\"ytick_18\">\n     <g id=\"line2d_27\">\n      <g>\n       <use style=\"stroke:#000000;stroke-width:0.8;\" x=\"26.925\" xlink:href=\"#m2560503002\" y=\"34.38\"/>\n      </g>\n     </g>\n     <g id=\"text_27\">\n      <!-- 18 -->\n      <g transform=\"translate(7.2 38.179219)scale(0.1 -0.1)\">\n       <use xlink:href=\"#DejaVuSans-49\"/>\n       <use x=\"63.623047\" xlink:href=\"#DejaVuSans-56\"/>\n      </g>\n     </g>\n    </g>\n    <g id=\"ytick_19\">\n     <g id=\"line2d_28\">\n      <g>\n       <use style=\"stroke:#000000;stroke-width:0.8;\" x=\"26.925\" xlink:href=\"#m2560503002\" y=\"23.508\"/>\n      </g>\n     </g>\n     <g id=\"text_28\">\n      <!-- 19 -->\n      <g transform=\"translate(7.2 27.307219)scale(0.1 -0.1)\">\n       <use xlink:href=\"#DejaVuSans-49\"/>\n       <use x=\"63.623047\" xlink:href=\"#DejaVuSans-57\"/>\n      </g>\n     </g>\n    </g>\n    <g id=\"ytick_20\">\n     <g id=\"line2d_29\">\n      <g>\n       <use style=\"stroke:#000000;stroke-width:0.8;\" x=\"26.925\" xlink:href=\"#m2560503002\" y=\"12.636\"/>\n      </g>\n     </g>\n     <g id=\"text_29\">\n      <!-- 28 -->\n      <g transform=\"translate(7.2 16.435219)scale(0.1 -0.1)\">\n       <use xlink:href=\"#DejaVuSans-50\"/>\n       <use x=\"63.623047\" xlink:href=\"#DejaVuSans-56\"/>\n      </g>\n     </g>\n    </g>\n   </g>\n   <g id=\"patch_23\">\n    <path d=\"M 26.925 224.64 \nL 26.925 7.2 \n\" style=\"fill:none;stroke:#000000;stroke-linecap:square;stroke-linejoin:miter;stroke-width:0.8;\"/>\n   </g>\n   <g id=\"patch_24\">\n    <path d=\"M 361.725 224.64 \nL 361.725 7.2 \n\" style=\"fill:none;stroke:#000000;stroke-linecap:square;stroke-linejoin:miter;stroke-width:0.8;\"/>\n   </g>\n   <g id=\"patch_25\">\n    <path d=\"M 26.925 224.64 \nL 361.725 224.64 \n\" style=\"fill:none;stroke:#000000;stroke-linecap:square;stroke-linejoin:miter;stroke-width:0.8;\"/>\n   </g>\n   <g id=\"patch_26\">\n    <path d=\"M 26.925 7.2 \nL 361.725 7.2 \n\" style=\"fill:none;stroke:#000000;stroke-linecap:square;stroke-linejoin:miter;stroke-width:0.8;\"/>\n   </g>\n  </g>\n </g>\n <defs>\n  <clipPath id=\"pec0b8dafb5\">\n   <rect height=\"217.44\" width=\"334.8\" x=\"26.925\" y=\"7.2\"/>\n  </clipPath>\n </defs>\n</svg>\n",
      "image/png": "[encoded data removed]"
     },
     "metadata": {
      "needs_background": "light"
     }
    }
   ],
   "source": [
    "df_clean_season_name = clean_season_name(df_extract_most_popular_cleaning)\n",
    "df_clean_season_name['season'].value_counts().head(20).plot.barh()\n"
   ]
  },
  {
   "cell_type": "code",
   "execution_count": 14,
   "metadata": {},
   "outputs": [],
   "source": [
    "# this function returns a new df with a new 'lower_name' column, which consists of the values of the column @col_name ignoring non alpha numeric characters and converted to lower case\n",
    "def add_lower_col(df, col_name):\n",
    "    df_new = df.copy()\n",
    "    df_new['lower_name'] = df_new[col_name].str.replace('[^a-zA-Z0-9]', '')\n",
    "    df_new['lower_name'] = df_new['lower_name'].str.lower()\n",
    "    return df_new"
   ]
  },
  {
   "cell_type": "code",
   "execution_count": 15,
   "metadata": {},
   "outputs": [
    {
     "output_type": "execute_result",
     "data": {
      "text/plain": [
       "      lower_name  changed_network   status   ano tv_network season  \\\n",
       "0  100000pyramid            False  renewed  2020        ABC      5   \n",
       "1   10yearoldtom            False      NaN  2020        HBO      1   \n",
       "2         112263            False      NaN  2015       HULU      1   \n",
       "3      12monkeys            False      end  2018       SYFY      4   \n",
       "4   13reasonswhy            False      end  2020    NETFLIX      4   \n",
       "\n",
       "               name  \n",
       "0  $100,000 Pyramid  \n",
       "1   10-Year-Old Tom  \n",
       "2          11/22/63  \n",
       "3        12 Monkeys  \n",
       "4    13 Reasons Why  "
      ],
      "text/html": "<div>\n<style scoped>\n    .dataframe tbody tr th:only-of-type {\n        vertical-align: middle;\n    }\n\n    .dataframe tbody tr th {\n        vertical-align: top;\n    }\n\n    .dataframe thead th {\n        text-align: right;\n    }\n</style>\n<table border=\"1\" class=\"dataframe\">\n  <thead>\n    <tr style=\"text-align: right;\">\n      <th></th>\n      <th>lower_name</th>\n      <th>changed_network</th>\n      <th>status</th>\n      <th>ano</th>\n      <th>tv_network</th>\n      <th>season</th>\n      <th>name</th>\n    </tr>\n  </thead>\n  <tbody>\n    <tr>\n      <th>0</th>\n      <td>100000pyramid</td>\n      <td>False</td>\n      <td>renewed</td>\n      <td>2020</td>\n      <td>ABC</td>\n      <td>5</td>\n      <td>$100,000 Pyramid</td>\n    </tr>\n    <tr>\n      <th>1</th>\n      <td>10yearoldtom</td>\n      <td>False</td>\n      <td>NaN</td>\n      <td>2020</td>\n      <td>HBO</td>\n      <td>1</td>\n      <td>10-Year-Old Tom</td>\n    </tr>\n    <tr>\n      <th>2</th>\n      <td>112263</td>\n      <td>False</td>\n      <td>NaN</td>\n      <td>2015</td>\n      <td>HULU</td>\n      <td>1</td>\n      <td>11/22/63</td>\n    </tr>\n    <tr>\n      <th>3</th>\n      <td>12monkeys</td>\n      <td>False</td>\n      <td>end</td>\n      <td>2018</td>\n      <td>SYFY</td>\n      <td>4</td>\n      <td>12 Monkeys</td>\n    </tr>\n    <tr>\n      <th>4</th>\n      <td>13reasonswhy</td>\n      <td>False</td>\n      <td>end</td>\n      <td>2020</td>\n      <td>NETFLIX</td>\n      <td>4</td>\n      <td>13 Reasons Why</td>\n    </tr>\n  </tbody>\n</table>\n</div>"
     },
     "metadata": {},
     "execution_count": 15
    }
   ],
   "source": [
    "df_clean_season_name = add_lower_col(df_clean_season_name, 'name')\n",
    "\n",
    "df_metacritic_grouped = df_clean_season_name[['lower_name', 'name', 'status', 'tv_network', 'changed_network', 'ano', 'season']].groupby(['lower_name'], as_index=False).agg({\n",
    "    'changed_network': 'any',\n",
    "    'status': 'last',\n",
    "    'ano': 'last',\n",
    "    'tv_network': 'last',\n",
    "    'season': 'last',\n",
    "    'name': 'last'\n",
    "})\n",
    "\n",
    "df_metacritic_grouped.head()\n",
    "# TODO: fix status of shows which were not updated for more then 3-4 years(checking column 'ano') \n",
    "# a = df_grouped[df_grouped['ano'] < 2017]\n",
    "# a[a['status'] == \"renewed\"]"
   ]
  },
  {
   "cell_type": "code",
   "execution_count": 16,
   "metadata": {},
   "outputs": [
    {
     "output_type": "execute_result",
     "data": {
      "text/plain": [
       "               name  changed_network   status tv_network  \\\n",
       "0  $100,000 Pyramid            False  renewed        ABC   \n",
       "1   10-Year-Old Tom            False      NaN        HBO   \n",
       "2          11/22/63            False      NaN       HULU   \n",
       "3        12 Monkeys            False      end       SYFY   \n",
       "4    13 Reasons Why            False      end    NETFLIX   \n",
       "\n",
       "   metacritc_last_info_year  network  tvtime_followers  tvtime_rate  \\\n",
       "0                      2020      NaN               NaN          NaN   \n",
       "1                      2020      NaN               NaN          NaN   \n",
       "2                      2015      NaN               NaN          NaN   \n",
       "3                      2018     Syfy          242876.0         4.73   \n",
       "4                      2020  Netflix         3631287.0         4.64   \n",
       "\n",
       "                                       no_eps_season  no_seasons  \\\n",
       "0                                                NaN         NaN   \n",
       "1                                                NaN         NaN   \n",
       "2                                                NaN         NaN   \n",
       "3  [{'number': 1, 'nb_episodes': 13}, {'number': ...         4.0   \n",
       "4  [{'number': 1, 'nb_episodes': 13}, {'number': ...         3.0   \n",
       "\n",
       "   eps_duration  age_rating  imdb_rate  rotten_tomatoes_rate  released_year  \n",
       "0           NaN         NaN        NaN                   NaN            NaN  \n",
       "1           NaN         NaN        NaN                   NaN            NaN  \n",
       "2           NaN        18.0        8.2                  80.0         2016.0  \n",
       "3          45.0        16.0        7.7                  88.0         2015.0  \n",
       "4          60.0        18.0        7.8                  39.0         2017.0  "
      ],
      "text/html": "<div>\n<style scoped>\n    .dataframe tbody tr th:only-of-type {\n        vertical-align: middle;\n    }\n\n    .dataframe tbody tr th {\n        vertical-align: top;\n    }\n\n    .dataframe thead th {\n        text-align: right;\n    }\n</style>\n<table border=\"1\" class=\"dataframe\">\n  <thead>\n    <tr style=\"text-align: right;\">\n      <th></th>\n      <th>name</th>\n      <th>changed_network</th>\n      <th>status</th>\n      <th>tv_network</th>\n      <th>metacritc_last_info_year</th>\n      <th>network</th>\n      <th>tvtime_followers</th>\n      <th>tvtime_rate</th>\n      <th>no_eps_season</th>\n      <th>no_seasons</th>\n      <th>eps_duration</th>\n      <th>age_rating</th>\n      <th>imdb_rate</th>\n      <th>rotten_tomatoes_rate</th>\n      <th>released_year</th>\n    </tr>\n  </thead>\n  <tbody>\n    <tr>\n      <th>0</th>\n      <td>$100,000 Pyramid</td>\n      <td>False</td>\n      <td>renewed</td>\n      <td>ABC</td>\n      <td>2020</td>\n      <td>NaN</td>\n      <td>NaN</td>\n      <td>NaN</td>\n      <td>NaN</td>\n      <td>NaN</td>\n      <td>NaN</td>\n      <td>NaN</td>\n      <td>NaN</td>\n      <td>NaN</td>\n      <td>NaN</td>\n    </tr>\n    <tr>\n      <th>1</th>\n      <td>10-Year-Old Tom</td>\n      <td>False</td>\n      <td>NaN</td>\n      <td>HBO</td>\n      <td>2020</td>\n      <td>NaN</td>\n      <td>NaN</td>\n      <td>NaN</td>\n      <td>NaN</td>\n      <td>NaN</td>\n      <td>NaN</td>\n      <td>NaN</td>\n      <td>NaN</td>\n      <td>NaN</td>\n      <td>NaN</td>\n    </tr>\n    <tr>\n      <th>2</th>\n      <td>11/22/63</td>\n      <td>False</td>\n      <td>NaN</td>\n      <td>HULU</td>\n      <td>2015</td>\n      <td>NaN</td>\n      <td>NaN</td>\n      <td>NaN</td>\n      <td>NaN</td>\n      <td>NaN</td>\n      <td>NaN</td>\n      <td>18.0</td>\n      <td>8.2</td>\n      <td>80.0</td>\n      <td>2016.0</td>\n    </tr>\n    <tr>\n      <th>3</th>\n      <td>12 Monkeys</td>\n      <td>False</td>\n      <td>end</td>\n      <td>SYFY</td>\n      <td>2018</td>\n      <td>Syfy</td>\n      <td>242876.0</td>\n      <td>4.73</td>\n      <td>[{'number': 1, 'nb_episodes': 13}, {'number': ...</td>\n      <td>4.0</td>\n      <td>45.0</td>\n      <td>16.0</td>\n      <td>7.7</td>\n      <td>88.0</td>\n      <td>2015.0</td>\n    </tr>\n    <tr>\n      <th>4</th>\n      <td>13 Reasons Why</td>\n      <td>False</td>\n      <td>end</td>\n      <td>NETFLIX</td>\n      <td>2020</td>\n      <td>Netflix</td>\n      <td>3631287.0</td>\n      <td>4.64</td>\n      <td>[{'number': 1, 'nb_episodes': 13}, {'number': ...</td>\n      <td>3.0</td>\n      <td>60.0</td>\n      <td>18.0</td>\n      <td>7.8</td>\n      <td>39.0</td>\n      <td>2017.0</td>\n    </tr>\n  </tbody>\n</table>\n</div>"
     },
     "metadata": {},
     "execution_count": 16
    }
   ],
   "source": [
    "# merge tables\n",
    "df_metacritic_grouped = add_lower_col(df_metacritic_grouped, 'name')\n",
    "df_tvtime = add_lower_col(df_tvtime, 'name')\n",
    "df_streamings = add_lower_col(df_streamings, 'Title')\n",
    "\n",
    "# Remove '%' from Rotten Tomatoes score\n",
    "df_streamings_clean = df_streamings.copy()\n",
    "df_streamings_clean['Rotten Tomatoes'] = df_streamings_clean['Rotten Tomatoes'].str.replace('%', '')\n",
    "# Convert Rotten Tomatoes score into a float\n",
    "df_streamings_clean['Rotten Tomatoes'] = df_streamings_clean['Rotten Tomatoes'].astype('float')\n",
    "\n",
    "# TODO: do something with the duplicates in df_tvtime and df_streamings\n",
    "df_metacritic_tvtime = pd.merge(df_metacritic_grouped, df_tvtime, on=\"lower_name\", how=\"left\")\n",
    "df_tv_shows = pd.merge(df_metacritic_tvtime, df_streamings_clean, on=\"lower_name\", how=\"left\")\n",
    "\n",
    "df_tv_shows = df_tv_shows[['name_x', 'changed_network', 'status', 'tv_network', 'ano', 'network', 'followers', 'mean_rate', 'seasons', 'number_of_seasons', 'runtime', 'Age', 'IMDb', 'Rotten Tomatoes', 'Year']]\n",
    "\n",
    "# Rename some columns\n",
    "df_tv_shows.rename(\n",
    "    inplace=True,\n",
    "    columns={\n",
    "        'followers': 'tvtime_followers',\n",
    "        'mean_rate': 'tvtime_rate',\n",
    "        'seasons': 'no_eps_season',\n",
    "        'number_of_seasons': 'no_seasons',\n",
    "        'IMDb': \"imdb_rate\",\n",
    "        \"Rotten Tomatoes\": \"rotten_tomatoes_rate\",\n",
    "        \"name_x\": \"name\",\n",
    "        \"runtime\": \"eps_duration\",\n",
    "        \"ano\": \"metacritc_last_info_year\",\n",
    "        \"Year\": \"released_year\",\n",
    "        \"Age\": \"age_rating\"})\n",
    "\n",
    "\n",
    "df_tv_shows['age_rating'].replace({\n",
    "    r\"(\\d+)\\+\": r\"\\1\",\n",
    "    \"all\": \"0\"\n",
    "}, regex=True, inplace=True)\n",
    "df_tv_shows['age_rating'] = df_tv_shows['age_rating'].astype('float')\n",
    "# print(df_grouped.count(), df_merge_tvtime.count(), df_merged_select.count(), sep=\"\\n\\n\")\n",
    "df_tv_shows.head()\n",
    "\n",
    "#TODO: fix no_eps_season to be a value, or at least an array of ints"
   ]
  },
  {
   "cell_type": "code",
   "execution_count": 20,
   "metadata": {},
   "outputs": [
    {
     "output_type": "execute_result",
     "data": {
      "text/plain": [
       "Index(['name', 'changed_network', 'status', 'tv_network',\n",
       "       'metacritc_last_info_year', 'network', 'tvtime_followers',\n",
       "       'tvtime_rate', 'no_eps_season', 'no_seasons', 'eps_duration',\n",
       "       'age_rating', 'imdb_rate', 'rotten_tomatoes_rate', 'released_year'],\n",
       "      dtype='object')"
      ]
     },
     "metadata": {},
     "execution_count": 20
    }
   ],
   "source": [
    "df_tv_shows.columns"
   ]
  },
  {
   "cell_type": "code",
   "execution_count": 25,
   "metadata": {},
   "outputs": [
    {
     "output_type": "execute_result",
     "data": {
      "text/plain": [
       "      lower_name  changed_network   status  metacritc_last_info_year  \\\n",
       "0  100000pyramid            False  renewed                      2020   \n",
       "1   10yearoldtom            False      NaN                      2020   \n",
       "2         112263            False      NaN                      2015   \n",
       "3      12monkeys            False      end                      2018   \n",
       "4   13reasonswhy            False      end                      2020   \n",
       "\n",
       "   released_year              name  \n",
       "0          False  $100,000 Pyramid  \n",
       "1          False   10-Year-Old Tom  \n",
       "2           True          11/22/63  \n",
       "3           True        12 Monkeys  \n",
       "4           True    13 Reasons Why  "
      ],
      "text/html": "<div>\n<style scoped>\n    .dataframe tbody tr th:only-of-type {\n        vertical-align: middle;\n    }\n\n    .dataframe tbody tr th {\n        vertical-align: top;\n    }\n\n    .dataframe thead th {\n        text-align: right;\n    }\n</style>\n<table border=\"1\" class=\"dataframe\">\n  <thead>\n    <tr style=\"text-align: right;\">\n      <th></th>\n      <th>lower_name</th>\n      <th>changed_network</th>\n      <th>status</th>\n      <th>metacritc_last_info_year</th>\n      <th>released_year</th>\n      <th>name</th>\n    </tr>\n  </thead>\n  <tbody>\n    <tr>\n      <th>0</th>\n      <td>100000pyramid</td>\n      <td>False</td>\n      <td>renewed</td>\n      <td>2020</td>\n      <td>False</td>\n      <td>$100,000 Pyramid</td>\n    </tr>\n    <tr>\n      <th>1</th>\n      <td>10yearoldtom</td>\n      <td>False</td>\n      <td>NaN</td>\n      <td>2020</td>\n      <td>False</td>\n      <td>10-Year-Old Tom</td>\n    </tr>\n    <tr>\n      <th>2</th>\n      <td>112263</td>\n      <td>False</td>\n      <td>NaN</td>\n      <td>2015</td>\n      <td>True</td>\n      <td>11/22/63</td>\n    </tr>\n    <tr>\n      <th>3</th>\n      <td>12monkeys</td>\n      <td>False</td>\n      <td>end</td>\n      <td>2018</td>\n      <td>True</td>\n      <td>12 Monkeys</td>\n    </tr>\n    <tr>\n      <th>4</th>\n      <td>13reasonswhy</td>\n      <td>False</td>\n      <td>end</td>\n      <td>2020</td>\n      <td>True</td>\n      <td>13 Reasons Why</td>\n    </tr>\n  </tbody>\n</table>\n</div>"
     },
     "metadata": {},
     "execution_count": 25
    }
   ],
   "source": [
    "df_tv_shows = add_lower_col(df_tv_shows, 'name')\n",
    "\n",
    "df_tv_shows.columns\n",
    "\n",
    "df_tv_shows_grouped = df_tv_shows[['lower_name', 'name', 'changed_network', 'status', 'tv_network','metacritc_last_info_year', 'network', 'tvtime_followers', 'tvtime_rate', 'no_eps_season', 'no_seasons', 'eps_duration', 'age_rating', 'imdb_rate', 'rotten_tomatoes_rate', 'released_year']].groupby(['lower_name'], as_index=False).agg({\n",
    "    'changed_network': 'any',\n",
    "    'status': 'last',\n",
    "    'metacritc_last_info_year': 'last',\n",
    "    'tv_network': 'last',\n",
    "    'network': 'last',\n",
    "    'tvtime_followers': 'max',\n",
    "    'tvtime_rate': 'max',\n",
    "    'no_eps_season': 'last',\n",
    "    'no_seasons': 'last',\n",
    "    'eps_duration': 'max',\n",
    "    'age_rating': 'last',\n",
    "    'imdb_rate': 'max',\n",
    "    'rotten_tomatoes_rate': 'max',\n",
    "    'released_year': 'any',\n",
    "    'name': 'last'\n",
    "})\n",
    "\n",
    "df_tv_shows_grouped.head()\n"
   ]
  },
  {
   "cell_type": "code",
   "execution_count": 24,
   "metadata": {},
   "outputs": [
    {
     "output_type": "execute_result",
     "data": {
      "text/plain": [
       "0"
      ]
     },
     "metadata": {},
     "execution_count": 24
    }
   ],
   "source": [
    "df_tv_shows_grouped = df_tv_shows_grouped[df_tv_shows_grouped['lower_name'].duplicated()]\n",
    "df_tv_shows_grouped['lower_name'].count()"
   ]
  },
  {
   "cell_type": "code",
   "execution_count": 95,
   "metadata": {},
   "outputs": [
    {
     "output_type": "execute_result",
     "data": {
      "text/plain": [
       "    lower_name  changed_network    status   ano tv_network season   name_x  \\\n",
       "523    dracula            False  canceled  2019    NETFLIX      1  Dracula   \n",
       "524    dracula            False  canceled  2019    NETFLIX      1  Dracula   \n",
       "525    dracula            False  canceled  2019    NETFLIX      1  Dracula   \n",
       "\n",
       "           id   name_y  followers  nb_rates  runtime  number_of_seasons  \\\n",
       "523  131331.0  Dracula      503.0       7.0     90.0                1.0   \n",
       "524  354246.0  Dracula     3683.0       0.0     90.0                1.0   \n",
       "525  263724.0  Dracula   105482.0    4177.0     45.0                1.0   \n",
       "\n",
       "     network  mean_rate                                       poster_image  \\\n",
       "523  BBC One       4.88  https://d36rlb2fgh8cjd.cloudfront.net/default-...   \n",
       "524  Netflix       0.00  https://dg31sz3gwrwan.cloudfront.net/poster/35...   \n",
       "525      NBC       4.09  https://dg31sz3gwrwan.cloudfront.net/poster/26...   \n",
       "\n",
       "                                seasons  \n",
       "523   [{'number': 1, 'nb_episodes': 1}]  \n",
       "524   [{'number': 1, 'nb_episodes': 3}]  \n",
       "525  [{'number': 1, 'nb_episodes': 10}]  "
      ],
      "text/html": "<div>\n<style scoped>\n    .dataframe tbody tr th:only-of-type {\n        vertical-align: middle;\n    }\n\n    .dataframe tbody tr th {\n        vertical-align: top;\n    }\n\n    .dataframe thead th {\n        text-align: right;\n    }\n</style>\n<table border=\"1\" class=\"dataframe\">\n  <thead>\n    <tr style=\"text-align: right;\">\n      <th></th>\n      <th>lower_name</th>\n      <th>changed_network</th>\n      <th>status</th>\n      <th>ano</th>\n      <th>tv_network</th>\n      <th>season</th>\n      <th>name_x</th>\n      <th>id</th>\n      <th>name_y</th>\n      <th>followers</th>\n      <th>nb_rates</th>\n      <th>runtime</th>\n      <th>number_of_seasons</th>\n      <th>network</th>\n      <th>mean_rate</th>\n      <th>poster_image</th>\n      <th>seasons</th>\n    </tr>\n  </thead>\n  <tbody>\n    <tr>\n      <th>523</th>\n      <td>dracula</td>\n      <td>False</td>\n      <td>canceled</td>\n      <td>2019</td>\n      <td>NETFLIX</td>\n      <td>1</td>\n      <td>Dracula</td>\n      <td>131331.0</td>\n      <td>Dracula</td>\n      <td>503.0</td>\n      <td>7.0</td>\n      <td>90.0</td>\n      <td>1.0</td>\n      <td>BBC One</td>\n      <td>4.88</td>\n      <td>https://d36rlb2fgh8cjd.cloudfront.net/default-...</td>\n      <td>[{'number': 1, 'nb_episodes': 1}]</td>\n    </tr>\n    <tr>\n      <th>524</th>\n      <td>dracula</td>\n      <td>False</td>\n      <td>canceled</td>\n      <td>2019</td>\n      <td>NETFLIX</td>\n      <td>1</td>\n      <td>Dracula</td>\n      <td>354246.0</td>\n      <td>Dracula</td>\n      <td>3683.0</td>\n      <td>0.0</td>\n      <td>90.0</td>\n      <td>1.0</td>\n      <td>Netflix</td>\n      <td>0.00</td>\n      <td>https://dg31sz3gwrwan.cloudfront.net/poster/35...</td>\n      <td>[{'number': 1, 'nb_episodes': 3}]</td>\n    </tr>\n    <tr>\n      <th>525</th>\n      <td>dracula</td>\n      <td>False</td>\n      <td>canceled</td>\n      <td>2019</td>\n      <td>NETFLIX</td>\n      <td>1</td>\n      <td>Dracula</td>\n      <td>263724.0</td>\n      <td>Dracula</td>\n      <td>105482.0</td>\n      <td>4177.0</td>\n      <td>45.0</td>\n      <td>1.0</td>\n      <td>NBC</td>\n      <td>4.09</td>\n      <td>https://dg31sz3gwrwan.cloudfront.net/poster/26...</td>\n      <td>[{'number': 1, 'nb_episodes': 10}]</td>\n    </tr>\n  </tbody>\n</table>\n</div>"
     },
     "metadata": {},
     "execution_count": 95
    }
   ],
   "source": [
    "df_metacritic_tvtime[df_metacritic_tvtime['lower_name'].str.contains('dracula', flags=re.IGNORECASE, regex=True, na=False)]"
   ]
  },
  {
   "cell_type": "code",
   "execution_count": 15,
   "metadata": {},
   "outputs": [
    {
     "output_type": "execute_result",
     "data": {
      "text/plain": [
       "                             lower_name win_x       \\\n",
       "                                        count  sum   \n",
       "0                       100centrestreet   1.0  0.0   \n",
       "1                100yearsofhopeandhumor   1.0  0.0   \n",
       "2          102minutesthatchangedamerica   4.0  3.0   \n",
       "3                                   105   1.0  0.0   \n",
       "4  10daysthatunexpectedlychangedamerica   1.0  1.0   \n",
       "\n",
       "                                   nominee_x win_y     nominee_y  \n",
       "                                        last count sum      last  \n",
       "0                          100 Centre Street   NaN NaN       NaN  \n",
       "1                100 Years Of Hope And Humor   NaN NaN       NaN  \n",
       "2           102 Minutes That Changed America   NaN NaN       NaN  \n",
       "3                                       10.5   NaN NaN       NaN  \n",
       "4  10 Days That Unexpectedly Changed America   NaN NaN       NaN  "
      ],
      "text/html": "<div>\n<style scoped>\n    .dataframe tbody tr th:only-of-type {\n        vertical-align: middle;\n    }\n\n    .dataframe tbody tr th {\n        vertical-align: top;\n    }\n\n    .dataframe thead tr th {\n        text-align: left;\n    }\n</style>\n<table border=\"1\" class=\"dataframe\">\n  <thead>\n    <tr>\n      <th></th>\n      <th>lower_name</th>\n      <th colspan=\"2\" halign=\"left\">win_x</th>\n      <th>nominee_x</th>\n      <th colspan=\"2\" halign=\"left\">win_y</th>\n      <th>nominee_y</th>\n    </tr>\n    <tr>\n      <th></th>\n      <th></th>\n      <th>count</th>\n      <th>sum</th>\n      <th>last</th>\n      <th>count</th>\n      <th>sum</th>\n      <th>last</th>\n    </tr>\n  </thead>\n  <tbody>\n    <tr>\n      <th>0</th>\n      <td>100centrestreet</td>\n      <td>1.0</td>\n      <td>0.0</td>\n      <td>100 Centre Street</td>\n      <td>NaN</td>\n      <td>NaN</td>\n      <td>NaN</td>\n    </tr>\n    <tr>\n      <th>1</th>\n      <td>100yearsofhopeandhumor</td>\n      <td>1.0</td>\n      <td>0.0</td>\n      <td>100 Years Of Hope And Humor</td>\n      <td>NaN</td>\n      <td>NaN</td>\n      <td>NaN</td>\n    </tr>\n    <tr>\n      <th>2</th>\n      <td>102minutesthatchangedamerica</td>\n      <td>4.0</td>\n      <td>3.0</td>\n      <td>102 Minutes That Changed America</td>\n      <td>NaN</td>\n      <td>NaN</td>\n      <td>NaN</td>\n    </tr>\n    <tr>\n      <th>3</th>\n      <td>105</td>\n      <td>1.0</td>\n      <td>0.0</td>\n      <td>10.5</td>\n      <td>NaN</td>\n      <td>NaN</td>\n      <td>NaN</td>\n    </tr>\n    <tr>\n      <th>4</th>\n      <td>10daysthatunexpectedlychangedamerica</td>\n      <td>1.0</td>\n      <td>1.0</td>\n      <td>10 Days That Unexpectedly Changed America</td>\n      <td>NaN</td>\n      <td>NaN</td>\n      <td>NaN</td>\n    </tr>\n  </tbody>\n</table>\n</div>"
     },
     "metadata": {},
     "execution_count": 15
    }
   ],
   "source": [
    "df_award_emmy = add_lower_col(df_award_emmy, 'nominee')\n",
    "df_award_goldenglobe = add_lower_col(df_award_goldenglobe, 'nominee')\n",
    "df_emmy_proc = df_award_emmy.groupby(['lower_name'], as_index=False).agg({\n",
    "    'win': ['count', 'sum'],\n",
    "    'nominee': 'last'\n",
    "})\n",
    "df_goldenglobe_proc = df_award_goldenglobe.groupby(['lower_name'],as_index=False).agg({\n",
    "    'win': ['count', 'sum'],\n",
    "    'nominee': 'last'\n",
    "})\n",
    "\n",
    "df_awards_joined = pd.merge(df_emmy_proc, df_goldenglobe_proc, on='lower_name', how='outer')\n",
    "df_awards_joined.head()\n"
   ]
  },
  {
   "cell_type": "code",
   "execution_count": 16,
   "metadata": {},
   "outputs": [
    {
     "output_type": "execute_result",
     "data": {
      "text/plain": [
       "                                     nominee  awards_won  awards_nominated\n",
       "0                          100 Centre Street         0.0               1.0\n",
       "1                100 Years Of Hope And Humor         0.0               1.0\n",
       "2           102 Minutes That Changed America         3.0               4.0\n",
       "3                                       10.5         0.0               1.0\n",
       "4  10 Days That Unexpectedly Changed America         1.0               1.0"
      ],
      "text/html": "<div>\n<style scoped>\n    .dataframe tbody tr th:only-of-type {\n        vertical-align: middle;\n    }\n\n    .dataframe tbody tr th {\n        vertical-align: top;\n    }\n\n    .dataframe thead th {\n        text-align: right;\n    }\n</style>\n<table border=\"1\" class=\"dataframe\">\n  <thead>\n    <tr style=\"text-align: right;\">\n      <th></th>\n      <th>nominee</th>\n      <th>awards_won</th>\n      <th>awards_nominated</th>\n    </tr>\n  </thead>\n  <tbody>\n    <tr>\n      <th>0</th>\n      <td>100 Centre Street</td>\n      <td>0.0</td>\n      <td>1.0</td>\n    </tr>\n    <tr>\n      <th>1</th>\n      <td>100 Years Of Hope And Humor</td>\n      <td>0.0</td>\n      <td>1.0</td>\n    </tr>\n    <tr>\n      <th>2</th>\n      <td>102 Minutes That Changed America</td>\n      <td>3.0</td>\n      <td>4.0</td>\n    </tr>\n    <tr>\n      <th>3</th>\n      <td>10.5</td>\n      <td>0.0</td>\n      <td>1.0</td>\n    </tr>\n    <tr>\n      <th>4</th>\n      <td>10 Days That Unexpectedly Changed America</td>\n      <td>1.0</td>\n      <td>1.0</td>\n    </tr>\n  </tbody>\n</table>\n</div>"
     },
     "metadata": {},
     "execution_count": 16
    }
   ],
   "source": [
    "df_awards_count = pd.DataFrame(columns=['nominee', 'awards_won', 'awards_nominated'])\n",
    "df_awards_count['nominee'] = np.where(df_awards_joined['nominee_y']['last'].isnull(), df_awards_joined['nominee_x']['last'], df_awards_joined['nominee_y']['last'])\n",
    "df_awards_count['awards_nominated'] = df_awards_joined['win_x']['count'].fillna(0) + df_awards_joined['win_y']['count'].fillna(0)\n",
    "df_awards_count['awards_won'] = df_awards_joined['win_x']['sum'].fillna(0) + df_awards_joined['win_y']['sum'].fillna(0)\n",
    "\n",
    "df_awards_count.head()"
   ]
  },
  {
   "cell_type": "code",
   "execution_count": 34,
   "metadata": {},
   "outputs": [
    {
     "output_type": "execute_result",
     "data": {
      "text/plain": [
       "               name  changed_network   status tv_network  \\\n",
       "0  $100,000 Pyramid            False  renewed        ABC   \n",
       "1   10-Year-Old Tom            False      NaN        HBO   \n",
       "2          11/22/63            False      NaN       HULU   \n",
       "3        12 Monkeys            False      end       SYFY   \n",
       "4    13 Reasons Why            False      end    NETFLIX   \n",
       "\n",
       "   metacritc_last_info_year  network  tvtime_followers  tvtime_rate  \\\n",
       "0                      2020      NaN               NaN          NaN   \n",
       "1                      2020      NaN               NaN          NaN   \n",
       "2                      2015      NaN               NaN          NaN   \n",
       "3                      2018     Syfy          242876.0         4.73   \n",
       "4                      2020  Netflix         3631287.0         4.64   \n",
       "\n",
       "                                       no_eps_season  no_seasons  \\\n",
       "0                                                NaN         NaN   \n",
       "1                                                NaN         NaN   \n",
       "2                                                NaN         NaN   \n",
       "3  [{'number': 1, 'nb_episodes': 13}, {'number': ...         4.0   \n",
       "4  [{'number': 1, 'nb_episodes': 13}, {'number': ...         3.0   \n",
       "\n",
       "   eps_duration  age_rating  imdb_rate  rotten_tomatoes_rate  released_year  \\\n",
       "0           NaN         NaN        NaN                   NaN            NaN   \n",
       "1           NaN         NaN        NaN                   NaN            NaN   \n",
       "2           NaN        18.0        8.2                  80.0         2016.0   \n",
       "3          45.0        16.0        7.7                  88.0         2015.0   \n",
       "4          60.0        18.0        7.8                  39.0         2017.0   \n",
       "\n",
       "   awards_won  awards_nominated  \n",
       "0         NaN               NaN  \n",
       "1         NaN               NaN  \n",
       "2         0.0               1.0  \n",
       "3         NaN               NaN  \n",
       "4         0.0               1.0  "
      ],
      "text/html": "<div>\n<style scoped>\n    .dataframe tbody tr th:only-of-type {\n        vertical-align: middle;\n    }\n\n    .dataframe tbody tr th {\n        vertical-align: top;\n    }\n\n    .dataframe thead th {\n        text-align: right;\n    }\n</style>\n<table border=\"1\" class=\"dataframe\">\n  <thead>\n    <tr style=\"text-align: right;\">\n      <th></th>\n      <th>name</th>\n      <th>changed_network</th>\n      <th>status</th>\n      <th>tv_network</th>\n      <th>metacritc_last_info_year</th>\n      <th>network</th>\n      <th>tvtime_followers</th>\n      <th>tvtime_rate</th>\n      <th>no_eps_season</th>\n      <th>no_seasons</th>\n      <th>eps_duration</th>\n      <th>age_rating</th>\n      <th>imdb_rate</th>\n      <th>rotten_tomatoes_rate</th>\n      <th>released_year</th>\n      <th>awards_won</th>\n      <th>awards_nominated</th>\n    </tr>\n  </thead>\n  <tbody>\n    <tr>\n      <th>0</th>\n      <td>$100,000 Pyramid</td>\n      <td>False</td>\n      <td>renewed</td>\n      <td>ABC</td>\n      <td>2020</td>\n      <td>NaN</td>\n      <td>NaN</td>\n      <td>NaN</td>\n      <td>NaN</td>\n      <td>NaN</td>\n      <td>NaN</td>\n      <td>NaN</td>\n      <td>NaN</td>\n      <td>NaN</td>\n      <td>NaN</td>\n      <td>NaN</td>\n      <td>NaN</td>\n    </tr>\n    <tr>\n      <th>1</th>\n      <td>10-Year-Old Tom</td>\n      <td>False</td>\n      <td>NaN</td>\n      <td>HBO</td>\n      <td>2020</td>\n      <td>NaN</td>\n      <td>NaN</td>\n      <td>NaN</td>\n      <td>NaN</td>\n      <td>NaN</td>\n      <td>NaN</td>\n      <td>NaN</td>\n      <td>NaN</td>\n      <td>NaN</td>\n      <td>NaN</td>\n      <td>NaN</td>\n      <td>NaN</td>\n    </tr>\n    <tr>\n      <th>2</th>\n      <td>11/22/63</td>\n      <td>False</td>\n      <td>NaN</td>\n      <td>HULU</td>\n      <td>2015</td>\n      <td>NaN</td>\n      <td>NaN</td>\n      <td>NaN</td>\n      <td>NaN</td>\n      <td>NaN</td>\n      <td>NaN</td>\n      <td>18.0</td>\n      <td>8.2</td>\n      <td>80.0</td>\n      <td>2016.0</td>\n      <td>0.0</td>\n      <td>1.0</td>\n    </tr>\n    <tr>\n      <th>3</th>\n      <td>12 Monkeys</td>\n      <td>False</td>\n      <td>end</td>\n      <td>SYFY</td>\n      <td>2018</td>\n      <td>Syfy</td>\n      <td>242876.0</td>\n      <td>4.73</td>\n      <td>[{'number': 1, 'nb_episodes': 13}, {'number': ...</td>\n      <td>4.0</td>\n      <td>45.0</td>\n      <td>16.0</td>\n      <td>7.7</td>\n      <td>88.0</td>\n      <td>2015.0</td>\n      <td>NaN</td>\n      <td>NaN</td>\n    </tr>\n    <tr>\n      <th>4</th>\n      <td>13 Reasons Why</td>\n      <td>False</td>\n      <td>end</td>\n      <td>NETFLIX</td>\n      <td>2020</td>\n      <td>Netflix</td>\n      <td>3631287.0</td>\n      <td>4.64</td>\n      <td>[{'number': 1, 'nb_episodes': 13}, {'number': ...</td>\n      <td>3.0</td>\n      <td>60.0</td>\n      <td>18.0</td>\n      <td>7.8</td>\n      <td>39.0</td>\n      <td>2017.0</td>\n      <td>0.0</td>\n      <td>1.0</td>\n    </tr>\n  </tbody>\n</table>\n</div>"
     },
     "metadata": {},
     "execution_count": 34
    }
   ],
   "source": [
    "#TODO salvar o nome das categorias\n",
    "\n",
    "df_final = pd.merge(add_lower_col(df_tv_shows, 'name'), add_lower_col(df_awards_count, 'nominee'), on=\"lower_name\", how=\"left\")\n",
    "df_final.drop(columns=[\"nominee\", \"lower_name\"], inplace=True)\n",
    "\n",
    "df_final.head()"
   ]
  },
  {
   "cell_type": "code",
   "execution_count": 61,
   "metadata": {},
   "outputs": [
    {
     "output_type": "stream",
     "name": "stdout",
     "text": [
      "2279 \n\n73\n"
     ]
    }
   ],
   "source": [
    "print(df_final['name'].count(),'\\n')\n",
    "\n",
    "duplicated = df_final[df_final['name'].duplicated()]\n",
    "print(duplicated['name'].count())"
   ]
  },
  {
   "cell_type": "code",
   "execution_count": 62,
   "metadata": {},
   "outputs": [
    {
     "output_type": "execute_result",
     "data": {
      "text/plain": [
       "21               7Seeds\n",
       "23                9-1-1\n",
       "24                9-1-1\n",
       "41           After Life\n",
       "86      American Gothic\n",
       "             ...       \n",
       "2119            Unit 42\n",
       "2194            What/If\n",
       "2195            What/If\n",
       "2220        Wicked City\n",
       "2225            Wilfred\n",
       "Name: name, Length: 73, dtype: object"
      ]
     },
     "metadata": {},
     "execution_count": 62
    }
   ],
   "source": [
    "duplicated['name']"
   ]
  },
  {
   "cell_type": "code",
   "execution_count": 51,
   "metadata": {},
   "outputs": [
    {
     "output_type": "execute_result",
     "data": {
      "text/plain": [
       "         name  changed_network status tv_network  metacritc_last_info_year  \\\n",
       "2224  Wilfred            False    end         FX                      2013   \n",
       "2225  Wilfred            False    end         FX                      2013   \n",
       "\n",
       "     network  tvtime_followers  tvtime_rate  \\\n",
       "2224     SBS            2494.0          3.4   \n",
       "2225     SBS            2494.0          3.4   \n",
       "\n",
       "                                          no_eps_season  no_seasons  \\\n",
       "2224  [{'number': 1, 'nb_episodes': 8}, {'number': 2...         2.0   \n",
       "2225  [{'number': 1, 'nb_episodes': 8}, {'number': 2...         2.0   \n",
       "\n",
       "      eps_duration  age_rating  imdb_rate  rotten_tomatoes_rate  \\\n",
       "2224          30.0        18.0        7.8                  83.0   \n",
       "2225          30.0        18.0        7.9                   NaN   \n",
       "\n",
       "      released_year  awards_won  awards_nominated  \n",
       "2224         2011.0         NaN               NaN  \n",
       "2225         2007.0         NaN               NaN  "
      ],
      "text/html": "<div>\n<style scoped>\n    .dataframe tbody tr th:only-of-type {\n        vertical-align: middle;\n    }\n\n    .dataframe tbody tr th {\n        vertical-align: top;\n    }\n\n    .dataframe thead th {\n        text-align: right;\n    }\n</style>\n<table border=\"1\" class=\"dataframe\">\n  <thead>\n    <tr style=\"text-align: right;\">\n      <th></th>\n      <th>name</th>\n      <th>changed_network</th>\n      <th>status</th>\n      <th>tv_network</th>\n      <th>metacritc_last_info_year</th>\n      <th>network</th>\n      <th>tvtime_followers</th>\n      <th>tvtime_rate</th>\n      <th>no_eps_season</th>\n      <th>no_seasons</th>\n      <th>eps_duration</th>\n      <th>age_rating</th>\n      <th>imdb_rate</th>\n      <th>rotten_tomatoes_rate</th>\n      <th>released_year</th>\n      <th>awards_won</th>\n      <th>awards_nominated</th>\n    </tr>\n  </thead>\n  <tbody>\n    <tr>\n      <th>2224</th>\n      <td>Wilfred</td>\n      <td>False</td>\n      <td>end</td>\n      <td>FX</td>\n      <td>2013</td>\n      <td>SBS</td>\n      <td>2494.0</td>\n      <td>3.4</td>\n      <td>[{'number': 1, 'nb_episodes': 8}, {'number': 2...</td>\n      <td>2.0</td>\n      <td>30.0</td>\n      <td>18.0</td>\n      <td>7.8</td>\n      <td>83.0</td>\n      <td>2011.0</td>\n      <td>NaN</td>\n      <td>NaN</td>\n    </tr>\n    <tr>\n      <th>2225</th>\n      <td>Wilfred</td>\n      <td>False</td>\n      <td>end</td>\n      <td>FX</td>\n      <td>2013</td>\n      <td>SBS</td>\n      <td>2494.0</td>\n      <td>3.4</td>\n      <td>[{'number': 1, 'nb_episodes': 8}, {'number': 2...</td>\n      <td>2.0</td>\n      <td>30.0</td>\n      <td>18.0</td>\n      <td>7.9</td>\n      <td>NaN</td>\n      <td>2007.0</td>\n      <td>NaN</td>\n      <td>NaN</td>\n    </tr>\n  </tbody>\n</table>\n</div>"
     },
     "metadata": {},
     "execution_count": 51
    }
   ],
   "source": [
    "df_final[df_final['name'].str.contains('Wilfred', flags=re.IGNORECASE, regex=True, na=False)]\n",
    "# mesma serie com realease years diferentes "
   ]
  },
  {
   "cell_type": "code",
   "execution_count": 75,
   "metadata": {},
   "outputs": [
    {
     "output_type": "execute_result",
     "data": {
      "text/plain": [
       "         name  changed_network status tv_network  metacritc_last_info_year  \\\n",
       "2224  Wilfred            False    end         FX                      2013   \n",
       "2225  Wilfred            False    end         FX                      2013   \n",
       "\n",
       "     network  tvtime_followers  tvtime_rate  \\\n",
       "2224     SBS            2494.0          3.4   \n",
       "2225     SBS            2494.0          3.4   \n",
       "\n",
       "                                          no_eps_season  no_seasons  \\\n",
       "2224  [{'number': 1, 'nb_episodes': 8}, {'number': 2...         2.0   \n",
       "2225  [{'number': 1, 'nb_episodes': 8}, {'number': 2...         2.0   \n",
       "\n",
       "      eps_duration  age_rating  imdb_rate  rotten_tomatoes_rate  released_year  \n",
       "2224          30.0        18.0        7.8                  83.0         2011.0  \n",
       "2225          30.0        18.0        7.9                   NaN         2007.0  "
      ],
      "text/html": "<div>\n<style scoped>\n    .dataframe tbody tr th:only-of-type {\n        vertical-align: middle;\n    }\n\n    .dataframe tbody tr th {\n        vertical-align: top;\n    }\n\n    .dataframe thead th {\n        text-align: right;\n    }\n</style>\n<table border=\"1\" class=\"dataframe\">\n  <thead>\n    <tr style=\"text-align: right;\">\n      <th></th>\n      <th>name</th>\n      <th>changed_network</th>\n      <th>status</th>\n      <th>tv_network</th>\n      <th>metacritc_last_info_year</th>\n      <th>network</th>\n      <th>tvtime_followers</th>\n      <th>tvtime_rate</th>\n      <th>no_eps_season</th>\n      <th>no_seasons</th>\n      <th>eps_duration</th>\n      <th>age_rating</th>\n      <th>imdb_rate</th>\n      <th>rotten_tomatoes_rate</th>\n      <th>released_year</th>\n    </tr>\n  </thead>\n  <tbody>\n    <tr>\n      <th>2224</th>\n      <td>Wilfred</td>\n      <td>False</td>\n      <td>end</td>\n      <td>FX</td>\n      <td>2013</td>\n      <td>SBS</td>\n      <td>2494.0</td>\n      <td>3.4</td>\n      <td>[{'number': 1, 'nb_episodes': 8}, {'number': 2...</td>\n      <td>2.0</td>\n      <td>30.0</td>\n      <td>18.0</td>\n      <td>7.8</td>\n      <td>83.0</td>\n      <td>2011.0</td>\n    </tr>\n    <tr>\n      <th>2225</th>\n      <td>Wilfred</td>\n      <td>False</td>\n      <td>end</td>\n      <td>FX</td>\n      <td>2013</td>\n      <td>SBS</td>\n      <td>2494.0</td>\n      <td>3.4</td>\n      <td>[{'number': 1, 'nb_episodes': 8}, {'number': 2...</td>\n      <td>2.0</td>\n      <td>30.0</td>\n      <td>18.0</td>\n      <td>7.9</td>\n      <td>NaN</td>\n      <td>2007.0</td>\n    </tr>\n  </tbody>\n</table>\n</div>"
     },
     "metadata": {},
     "execution_count": 75
    }
   ],
   "source": [
    "df_tv_shows[df_tv_shows['name'].str.contains('Wilfred', flags=re.IGNORECASE, regex=True, na=False)]\n",
    "\n"
   ]
  },
  {
   "cell_type": "code",
   "execution_count": 52,
   "metadata": {},
   "outputs": [
    {
     "output_type": "execute_result",
     "data": {
      "text/plain": [
       "         name  changed_network status tv_network  metacritc_last_info_year  \\\n",
       "2193  What/If            False    NaN    NETFLIX                      2018   \n",
       "2194  What/If            False    NaN    NETFLIX                      2018   \n",
       "2195  What/If            False    NaN    NETFLIX                      2018   \n",
       "\n",
       "        network  tvtime_followers  tvtime_rate  \\\n",
       "2193  MBC Drama             274.0         3.08   \n",
       "2194        VTM             475.0         3.55   \n",
       "2195    Netflix          127594.0         4.40   \n",
       "\n",
       "                                          no_eps_season  no_seasons  \\\n",
       "2193                 [{'number': 1, 'nb_episodes': 30}]         1.0   \n",
       "2194  [{'number': 1, 'nb_episodes': 8}, {'number': 2...         3.0   \n",
       "2195                 [{'number': 1, 'nb_episodes': 10}]         1.0   \n",
       "\n",
       "      eps_duration  age_rating  imdb_rate  rotten_tomatoes_rate  \\\n",
       "2193          45.0        18.0        6.3                   NaN   \n",
       "2194          25.0        18.0        6.3                   NaN   \n",
       "2195          50.0        18.0        6.3                   NaN   \n",
       "\n",
       "      released_year  awards_won  awards_nominated  \n",
       "2193         2019.0         NaN               NaN  \n",
       "2194         2019.0         NaN               NaN  \n",
       "2195         2019.0         NaN               NaN  "
      ],
      "text/html": "<div>\n<style scoped>\n    .dataframe tbody tr th:only-of-type {\n        vertical-align: middle;\n    }\n\n    .dataframe tbody tr th {\n        vertical-align: top;\n    }\n\n    .dataframe thead th {\n        text-align: right;\n    }\n</style>\n<table border=\"1\" class=\"dataframe\">\n  <thead>\n    <tr style=\"text-align: right;\">\n      <th></th>\n      <th>name</th>\n      <th>changed_network</th>\n      <th>status</th>\n      <th>tv_network</th>\n      <th>metacritc_last_info_year</th>\n      <th>network</th>\n      <th>tvtime_followers</th>\n      <th>tvtime_rate</th>\n      <th>no_eps_season</th>\n      <th>no_seasons</th>\n      <th>eps_duration</th>\n      <th>age_rating</th>\n      <th>imdb_rate</th>\n      <th>rotten_tomatoes_rate</th>\n      <th>released_year</th>\n      <th>awards_won</th>\n      <th>awards_nominated</th>\n    </tr>\n  </thead>\n  <tbody>\n    <tr>\n      <th>2193</th>\n      <td>What/If</td>\n      <td>False</td>\n      <td>NaN</td>\n      <td>NETFLIX</td>\n      <td>2018</td>\n      <td>MBC Drama</td>\n      <td>274.0</td>\n      <td>3.08</td>\n      <td>[{'number': 1, 'nb_episodes': 30}]</td>\n      <td>1.0</td>\n      <td>45.0</td>\n      <td>18.0</td>\n      <td>6.3</td>\n      <td>NaN</td>\n      <td>2019.0</td>\n      <td>NaN</td>\n      <td>NaN</td>\n    </tr>\n    <tr>\n      <th>2194</th>\n      <td>What/If</td>\n      <td>False</td>\n      <td>NaN</td>\n      <td>NETFLIX</td>\n      <td>2018</td>\n      <td>VTM</td>\n      <td>475.0</td>\n      <td>3.55</td>\n      <td>[{'number': 1, 'nb_episodes': 8}, {'number': 2...</td>\n      <td>3.0</td>\n      <td>25.0</td>\n      <td>18.0</td>\n      <td>6.3</td>\n      <td>NaN</td>\n      <td>2019.0</td>\n      <td>NaN</td>\n      <td>NaN</td>\n    </tr>\n    <tr>\n      <th>2195</th>\n      <td>What/If</td>\n      <td>False</td>\n      <td>NaN</td>\n      <td>NETFLIX</td>\n      <td>2018</td>\n      <td>Netflix</td>\n      <td>127594.0</td>\n      <td>4.40</td>\n      <td>[{'number': 1, 'nb_episodes': 10}]</td>\n      <td>1.0</td>\n      <td>50.0</td>\n      <td>18.0</td>\n      <td>6.3</td>\n      <td>NaN</td>\n      <td>2019.0</td>\n      <td>NaN</td>\n      <td>NaN</td>\n    </tr>\n  </tbody>\n</table>\n</div>"
     },
     "metadata": {},
     "execution_count": 52
    }
   ],
   "source": [
    "df_final[df_final['name'].str.contains('What/If', flags=re.IGNORECASE, regex=True, na=False)]\n",
    "# serie lançada em 2019, mas que a ultima informação foi em 2018 no metacritic e teve 3 emissoras diferentes"
   ]
  },
  {
   "cell_type": "code",
   "execution_count": 54,
   "metadata": {},
   "outputs": [
    {
     "output_type": "execute_result",
     "data": {
      "text/plain": [
       "      name  changed_network status tv_network  metacritc_last_info_year  \\\n",
       "20  7Seeds            False    NaN    NETFLIX                      2019   \n",
       "21  7Seeds            False    NaN    NETFLIX                      2019   \n",
       "\n",
       "    network  tvtime_followers  tvtime_rate  \\\n",
       "20  Netflix           12928.0         4.34   \n",
       "21  Netflix            1429.0         3.91   \n",
       "\n",
       "                         no_eps_season  no_seasons  eps_duration  age_rating  \\\n",
       "20  [{'number': 1, 'nb_episodes': 12}]         1.0          25.0        18.0   \n",
       "21  [{'number': 1, 'nb_episodes': 12}]         1.0          30.0        18.0   \n",
       "\n",
       "    imdb_rate  rotten_tomatoes_rate  released_year  awards_won  \\\n",
       "20        6.3                   NaN         2019.0         NaN   \n",
       "21        6.3                   NaN         2019.0         NaN   \n",
       "\n",
       "    awards_nominated  \n",
       "20               NaN  \n",
       "21               NaN  "
      ],
      "text/html": "<div>\n<style scoped>\n    .dataframe tbody tr th:only-of-type {\n        vertical-align: middle;\n    }\n\n    .dataframe tbody tr th {\n        vertical-align: top;\n    }\n\n    .dataframe thead th {\n        text-align: right;\n    }\n</style>\n<table border=\"1\" class=\"dataframe\">\n  <thead>\n    <tr style=\"text-align: right;\">\n      <th></th>\n      <th>name</th>\n      <th>changed_network</th>\n      <th>status</th>\n      <th>tv_network</th>\n      <th>metacritc_last_info_year</th>\n      <th>network</th>\n      <th>tvtime_followers</th>\n      <th>tvtime_rate</th>\n      <th>no_eps_season</th>\n      <th>no_seasons</th>\n      <th>eps_duration</th>\n      <th>age_rating</th>\n      <th>imdb_rate</th>\n      <th>rotten_tomatoes_rate</th>\n      <th>released_year</th>\n      <th>awards_won</th>\n      <th>awards_nominated</th>\n    </tr>\n  </thead>\n  <tbody>\n    <tr>\n      <th>20</th>\n      <td>7Seeds</td>\n      <td>False</td>\n      <td>NaN</td>\n      <td>NETFLIX</td>\n      <td>2019</td>\n      <td>Netflix</td>\n      <td>12928.0</td>\n      <td>4.34</td>\n      <td>[{'number': 1, 'nb_episodes': 12}]</td>\n      <td>1.0</td>\n      <td>25.0</td>\n      <td>18.0</td>\n      <td>6.3</td>\n      <td>NaN</td>\n      <td>2019.0</td>\n      <td>NaN</td>\n      <td>NaN</td>\n    </tr>\n    <tr>\n      <th>21</th>\n      <td>7Seeds</td>\n      <td>False</td>\n      <td>NaN</td>\n      <td>NETFLIX</td>\n      <td>2019</td>\n      <td>Netflix</td>\n      <td>1429.0</td>\n      <td>3.91</td>\n      <td>[{'number': 1, 'nb_episodes': 12}]</td>\n      <td>1.0</td>\n      <td>30.0</td>\n      <td>18.0</td>\n      <td>6.3</td>\n      <td>NaN</td>\n      <td>2019.0</td>\n      <td>NaN</td>\n      <td>NaN</td>\n    </tr>\n  </tbody>\n</table>\n</div>"
     },
     "metadata": {},
     "execution_count": 54
    }
   ],
   "source": [
    "df_final[df_final['name'].str.contains('7Seeds', flags=re.IGNORECASE, regex=True, na=False)]\n",
    "#TV TIME QUE TA REPETIDO"
   ]
  },
  {
   "cell_type": "code",
   "execution_count": 57,
   "metadata": {},
   "outputs": [
    {
     "output_type": "execute_result",
     "data": {
      "text/plain": [
       "          name  changed_network   status tv_network  metacritc_last_info_year  \\\n",
       "40  After Life            False  renewed    NETFLIX                      2020   \n",
       "41  After Life            False  renewed    NETFLIX                      2020   \n",
       "\n",
       "    network  tvtime_followers  tvtime_rate  \\\n",
       "40  Netflix           72894.0         4.61   \n",
       "41      ITV            1363.0         4.14   \n",
       "\n",
       "                                        no_eps_season  no_seasons  \\\n",
       "40                  [{'number': 1, 'nb_episodes': 6}]         1.0   \n",
       "41  [{'number': 1, 'nb_episodes': 6}, {'number': 2...         2.0   \n",
       "\n",
       "    eps_duration  age_rating  imdb_rate  rotten_tomatoes_rate  released_year  \\\n",
       "40          30.0        18.0        8.5                  70.0         2019.0   \n",
       "41          45.0        18.0        8.5                  70.0         2019.0   \n",
       "\n",
       "    awards_won  awards_nominated  \n",
       "40         NaN               NaN  \n",
       "41         NaN               NaN  "
      ],
      "text/html": "<div>\n<style scoped>\n    .dataframe tbody tr th:only-of-type {\n        vertical-align: middle;\n    }\n\n    .dataframe tbody tr th {\n        vertical-align: top;\n    }\n\n    .dataframe thead th {\n        text-align: right;\n    }\n</style>\n<table border=\"1\" class=\"dataframe\">\n  <thead>\n    <tr style=\"text-align: right;\">\n      <th></th>\n      <th>name</th>\n      <th>changed_network</th>\n      <th>status</th>\n      <th>tv_network</th>\n      <th>metacritc_last_info_year</th>\n      <th>network</th>\n      <th>tvtime_followers</th>\n      <th>tvtime_rate</th>\n      <th>no_eps_season</th>\n      <th>no_seasons</th>\n      <th>eps_duration</th>\n      <th>age_rating</th>\n      <th>imdb_rate</th>\n      <th>rotten_tomatoes_rate</th>\n      <th>released_year</th>\n      <th>awards_won</th>\n      <th>awards_nominated</th>\n    </tr>\n  </thead>\n  <tbody>\n    <tr>\n      <th>40</th>\n      <td>After Life</td>\n      <td>False</td>\n      <td>renewed</td>\n      <td>NETFLIX</td>\n      <td>2020</td>\n      <td>Netflix</td>\n      <td>72894.0</td>\n      <td>4.61</td>\n      <td>[{'number': 1, 'nb_episodes': 6}]</td>\n      <td>1.0</td>\n      <td>30.0</td>\n      <td>18.0</td>\n      <td>8.5</td>\n      <td>70.0</td>\n      <td>2019.0</td>\n      <td>NaN</td>\n      <td>NaN</td>\n    </tr>\n    <tr>\n      <th>41</th>\n      <td>After Life</td>\n      <td>False</td>\n      <td>renewed</td>\n      <td>NETFLIX</td>\n      <td>2020</td>\n      <td>ITV</td>\n      <td>1363.0</td>\n      <td>4.14</td>\n      <td>[{'number': 1, 'nb_episodes': 6}, {'number': 2...</td>\n      <td>2.0</td>\n      <td>45.0</td>\n      <td>18.0</td>\n      <td>8.5</td>\n      <td>70.0</td>\n      <td>2019.0</td>\n      <td>NaN</td>\n      <td>NaN</td>\n    </tr>\n  </tbody>\n</table>\n</div>"
     },
     "metadata": {},
     "execution_count": 57
    }
   ],
   "source": [
    "df_final[df_final['name'].str.contains('After Life', flags=re.IGNORECASE, regex=True, na=False)]"
   ]
  },
  {
   "cell_type": "code",
   "execution_count": 18,
   "metadata": {},
   "outputs": [
    {
     "output_type": "execute_result",
     "data": {
      "text/plain": [
       "name                         object\n",
       "changed_network                bool\n",
       "status                       object\n",
       "tv_network                   object\n",
       "metacritc_last_info_year      int64\n",
       "network                      object\n",
       "tvtime_followers            float64\n",
       "tvtime_rate                 float64\n",
       "no_eps_season                object\n",
       "no_seasons                  float64\n",
       "eps_duration                float64\n",
       "age_rating                  float64\n",
       "imdb_rate                   float64\n",
       "rotten_tomatoes_rate        float64\n",
       "released_year               float64\n",
       "awards_won                  float64\n",
       "awards_nominated            float64\n",
       "dtype: object"
      ]
     },
     "metadata": {},
     "execution_count": 18
    }
   ],
   "source": [
    "df_final.dtypes"
   ]
  },
  {
   "source": [
    "# ESTATÍSTICAS DESCRITIVAS"
   ],
   "cell_type": "markdown",
   "metadata": {}
  },
  {
   "cell_type": "code",
   "execution_count": null,
   "metadata": {},
   "outputs": [],
   "source": []
  },
  {
   "source": [
    "# TESTE DE HIPOTESE"
   ],
   "cell_type": "markdown",
   "metadata": {}
  },
  {
   "cell_type": "code",
   "execution_count": null,
   "metadata": {},
   "outputs": [],
   "source": []
  }
 ],
 "metadata": {
  "language_info": {
   "codemirror_mode": {
    "name": "ipython",
    "version": 3
   },
   "file_extension": ".py",
   "mimetype": "text/x-python",
   "name": "python",
   "nbconvert_exporter": "python",
   "pygments_lexer": "ipython3",
   "version": "3.6.9-final"
  },
  "orig_nbformat": 2,
  "kernelspec": {
   "name": "Python 3.6.9 64-bit",
   "display_name": "Python 3.6.9 64-bit",
   "metadata": {
    "interpreter": {
     "hash": "31f2aee4e71d21fbe5cf8b01ff0e069b9275f58929596ceb00d14d90e3e16cd6"
    }
   }
  }
 },
 "nbformat": 4,
 "nbformat_minor": 2
}