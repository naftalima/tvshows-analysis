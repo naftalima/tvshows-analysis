{
 "metadata": {
  "language_info": {
   "codemirror_mode": {
    "name": "ipython",
    "version": 3
   },
   "file_extension": ".py",
   "mimetype": "text/x-python",
   "name": "python",
   "nbconvert_exporter": "python",
   "pygments_lexer": "ipython3",
   "version": "3.6.9-final"
  },
  "orig_nbformat": 2,
  "kernelspec": {
   "name": "Python 3.6.9 64-bit",
   "display_name": "Python 3.6.9 64-bit",
   "metadata": {
    "interpreter": {
     "hash": "31f2aee4e71d21fbe5cf8b01ff0e069b9275f58929596ceb00d14d90e3e16cd6"
    }
   }
  }
 },
 "nbformat": 4,
 "nbformat_minor": 2,
 "cells": [
  {
   "cell_type": "code",
   "execution_count": 28,
   "metadata": {},
   "outputs": [],
   "source": [
    "import pandas as pd\n",
    "import kaggle\n",
    "import re"
   ]
  },
  {
   "cell_type": "code",
   "execution_count": 29,
   "metadata": {},
   "outputs": [],
   "source": [
    "kaggle.api.authenticate()"
   ]
  },
  {
   "cell_type": "code",
   "execution_count": 30,
   "metadata": {},
   "outputs": [
    {
     "output_type": "execute_result",
     "data": {
      "text/plain": [
       "       id                name  followers  nb_rates  runtime  \\\n",
       "0  288128         X-Ray & Vav        230        10        9   \n",
       "1  313803  Sister's Slam Dunk       1298       100       80   \n",
       "2  325462             Reverse        270        15       60   \n",
       "3  325198     Frame Arms Girl        900        24       25   \n",
       "4  349743        Mr Inbetween       7123       118       25   \n",
       "\n",
       "   number_of_seasons                    network  mean_rate  \\\n",
       "0                  2              Rooster Teeth       4.20   \n",
       "1                  2                    KBS TV2       4.25   \n",
       "2                  1  Tokyo Broadcasting System       4.63   \n",
       "3                  1                   Tokyo MX       3.54   \n",
       "4                  2                         FX       4.42   \n",
       "\n",
       "                                        poster_image  \\\n",
       "0  https://dg31sz3gwrwan.cloudfront.net/poster/28...   \n",
       "1  https://dg31sz3gwrwan.cloudfront.net/poster/31...   \n",
       "2  https://dg31sz3gwrwan.cloudfront.net/poster/32...   \n",
       "3  https://dg31sz3gwrwan.cloudfront.net/poster/32...   \n",
       "4  https://dg31sz3gwrwan.cloudfront.net/poster/34...   \n",
       "\n",
       "                                             seasons  \n",
       "0  [{'number': 1, 'nb_episodes': 4}, {'number': 2...  \n",
       "1  [{'number': 1, 'nb_episodes': 33}, {'number': ...  \n",
       "2                 [{'number': 1, 'nb_episodes': 10}]  \n",
       "3                 [{'number': 1, 'nb_episodes': 12}]  \n",
       "4  [{'number': 1, 'nb_episodes': 6}, {'number': 2...  "
      ],
      "text/html": "<div>\n<style scoped>\n    .dataframe tbody tr th:only-of-type {\n        vertical-align: middle;\n    }\n\n    .dataframe tbody tr th {\n        vertical-align: top;\n    }\n\n    .dataframe thead th {\n        text-align: right;\n    }\n</style>\n<table border=\"1\" class=\"dataframe\">\n  <thead>\n    <tr style=\"text-align: right;\">\n      <th></th>\n      <th>id</th>\n      <th>name</th>\n      <th>followers</th>\n      <th>nb_rates</th>\n      <th>runtime</th>\n      <th>number_of_seasons</th>\n      <th>network</th>\n      <th>mean_rate</th>\n      <th>poster_image</th>\n      <th>seasons</th>\n    </tr>\n  </thead>\n  <tbody>\n    <tr>\n      <th>0</th>\n      <td>288128</td>\n      <td>X-Ray &amp; Vav</td>\n      <td>230</td>\n      <td>10</td>\n      <td>9</td>\n      <td>2</td>\n      <td>Rooster Teeth</td>\n      <td>4.20</td>\n      <td>https://dg31sz3gwrwan.cloudfront.net/poster/28...</td>\n      <td>[{'number': 1, 'nb_episodes': 4}, {'number': 2...</td>\n    </tr>\n    <tr>\n      <th>1</th>\n      <td>313803</td>\n      <td>Sister's Slam Dunk</td>\n      <td>1298</td>\n      <td>100</td>\n      <td>80</td>\n      <td>2</td>\n      <td>KBS TV2</td>\n      <td>4.25</td>\n      <td>https://dg31sz3gwrwan.cloudfront.net/poster/31...</td>\n      <td>[{'number': 1, 'nb_episodes': 33}, {'number': ...</td>\n    </tr>\n    <tr>\n      <th>2</th>\n      <td>325462</td>\n      <td>Reverse</td>\n      <td>270</td>\n      <td>15</td>\n      <td>60</td>\n      <td>1</td>\n      <td>Tokyo Broadcasting System</td>\n      <td>4.63</td>\n      <td>https://dg31sz3gwrwan.cloudfront.net/poster/32...</td>\n      <td>[{'number': 1, 'nb_episodes': 10}]</td>\n    </tr>\n    <tr>\n      <th>3</th>\n      <td>325198</td>\n      <td>Frame Arms Girl</td>\n      <td>900</td>\n      <td>24</td>\n      <td>25</td>\n      <td>1</td>\n      <td>Tokyo MX</td>\n      <td>3.54</td>\n      <td>https://dg31sz3gwrwan.cloudfront.net/poster/32...</td>\n      <td>[{'number': 1, 'nb_episodes': 12}]</td>\n    </tr>\n    <tr>\n      <th>4</th>\n      <td>349743</td>\n      <td>Mr Inbetween</td>\n      <td>7123</td>\n      <td>118</td>\n      <td>25</td>\n      <td>2</td>\n      <td>FX</td>\n      <td>4.42</td>\n      <td>https://dg31sz3gwrwan.cloudfront.net/poster/34...</td>\n      <td>[{'number': 1, 'nb_episodes': 6}, {'number': 2...</td>\n    </tr>\n  </tbody>\n</table>\n</div>"
     },
     "metadata": {},
     "execution_count": 30
    }
   ],
   "source": [
    "# https://www.kaggle.com/oscarfry/tvtime-shows?select=tvtimeshows.csv\n",
    "kaggle.api.dataset_download_files('oscarfry/tvtime-shows', path='./data/tvtimeshows', unzip = True)\n",
    "\n",
    "df_tvtime = pd.read_csv('data/tvtimeshows/tvtimeshows.csv')\n",
    "df_tvtime.head()"
   ]
  },
  {
   "cell_type": "code",
   "execution_count": 31,
   "metadata": {},
   "outputs": [
    {
     "output_type": "execute_result",
     "data": {
      "text/plain": [
       "   Unnamed: 0             Title  Year  Age  IMDb Rotten Tomatoes  Netflix  \\\n",
       "0           0      Breaking Bad  2008  18+   9.5             96%        1   \n",
       "1           1   Stranger Things  2016  16+   8.8             93%        1   \n",
       "2           2       Money Heist  2017  18+   8.4             91%        1   \n",
       "3           3          Sherlock  2010  16+   9.1             78%        1   \n",
       "4           4  Better Call Saul  2015  18+   8.7             97%        1   \n",
       "\n",
       "   Hulu  Prime Video  Disney+  type  \n",
       "0     0            0        0     1  \n",
       "1     0            0        0     1  \n",
       "2     0            0        0     1  \n",
       "3     0            0        0     1  \n",
       "4     0            0        0     1  "
      ],
      "text/html": "<div>\n<style scoped>\n    .dataframe tbody tr th:only-of-type {\n        vertical-align: middle;\n    }\n\n    .dataframe tbody tr th {\n        vertical-align: top;\n    }\n\n    .dataframe thead th {\n        text-align: right;\n    }\n</style>\n<table border=\"1\" class=\"dataframe\">\n  <thead>\n    <tr style=\"text-align: right;\">\n      <th></th>\n      <th>Unnamed: 0</th>\n      <th>Title</th>\n      <th>Year</th>\n      <th>Age</th>\n      <th>IMDb</th>\n      <th>Rotten Tomatoes</th>\n      <th>Netflix</th>\n      <th>Hulu</th>\n      <th>Prime Video</th>\n      <th>Disney+</th>\n      <th>type</th>\n    </tr>\n  </thead>\n  <tbody>\n    <tr>\n      <th>0</th>\n      <td>0</td>\n      <td>Breaking Bad</td>\n      <td>2008</td>\n      <td>18+</td>\n      <td>9.5</td>\n      <td>96%</td>\n      <td>1</td>\n      <td>0</td>\n      <td>0</td>\n      <td>0</td>\n      <td>1</td>\n    </tr>\n    <tr>\n      <th>1</th>\n      <td>1</td>\n      <td>Stranger Things</td>\n      <td>2016</td>\n      <td>16+</td>\n      <td>8.8</td>\n      <td>93%</td>\n      <td>1</td>\n      <td>0</td>\n      <td>0</td>\n      <td>0</td>\n      <td>1</td>\n    </tr>\n    <tr>\n      <th>2</th>\n      <td>2</td>\n      <td>Money Heist</td>\n      <td>2017</td>\n      <td>18+</td>\n      <td>8.4</td>\n      <td>91%</td>\n      <td>1</td>\n      <td>0</td>\n      <td>0</td>\n      <td>0</td>\n      <td>1</td>\n    </tr>\n    <tr>\n      <th>3</th>\n      <td>3</td>\n      <td>Sherlock</td>\n      <td>2010</td>\n      <td>16+</td>\n      <td>9.1</td>\n      <td>78%</td>\n      <td>1</td>\n      <td>0</td>\n      <td>0</td>\n      <td>0</td>\n      <td>1</td>\n    </tr>\n    <tr>\n      <th>4</th>\n      <td>4</td>\n      <td>Better Call Saul</td>\n      <td>2015</td>\n      <td>18+</td>\n      <td>8.7</td>\n      <td>97%</td>\n      <td>1</td>\n      <td>0</td>\n      <td>0</td>\n      <td>0</td>\n      <td>1</td>\n    </tr>\n  </tbody>\n</table>\n</div>"
     },
     "metadata": {},
     "execution_count": 31
    }
   ],
   "source": [
    "# https://www.kaggle.com/ruchi798/tv-shows-on-netflix-prime-video-hulu-and-disney \n",
    "kaggle.api.dataset_download_files('ruchi798/tv-shows-on-netflix-prime-video-hulu-and-disney', path='./data/streamings', unzip = True)\n",
    "\n",
    "df_streamings = pd.read_csv('data/streamings/tv_shows.csv')\n",
    "df_streamings.head()"
   ]
  },
  {
   "cell_type": "code",
   "execution_count": 32,
   "metadata": {},
   "outputs": [
    {
     "output_type": "execute_result",
     "data": {
      "text/plain": [
       "   id  year                                           category  \\\n",
       "0   1  2019       Outstanding Character Voice-Over Performance   \n",
       "1   2  2019       Outstanding Character Voice-Over Performance   \n",
       "2   3  2019       Outstanding Character Voice-Over Performance   \n",
       "3   4  2019       Outstanding Character Voice-Over Performance   \n",
       "4   5  2019  Outstanding Production Design For A Narrative ...   \n",
       "\n",
       "                                             nominee  \\\n",
       "0                                       The Simpsons   \n",
       "1                                         Family Guy   \n",
       "2  When You Wish Upon A Pickle: A Sesame Street S...   \n",
       "3                                    F Is For Family   \n",
       "4                                Escape At Dannemora   \n",
       "\n",
       "                                               staff   company  \\\n",
       "0           Hank Azaria, as Moe, Carl, Duffman, Kirk       FOX   \n",
       "1    Alex Borstein, as Lois Griffin, Tricia Takanawa       FOX   \n",
       "2              Eric Jacobson, as Bert, Grover, Oscar       HBO   \n",
       "3                 Kevin Michael Richardson, as Rosie   Netflix   \n",
       "4  Mark Ricker, Production Designer; James Truesd...  Showtime   \n",
       "\n",
       "                                            producer    win  \n",
       "0  Gracie Films in association with 20th Century ...  False  \n",
       "1                        20th Century Fox Television  False  \n",
       "2                             Sesame Street Workshop  False  \n",
       "3  Wild West Television in association with Gaumo...  False  \n",
       "4  Red Hour, Busyhands, The White Mountain Compan...  False  "
      ],
      "text/html": "<div>\n<style scoped>\n    .dataframe tbody tr th:only-of-type {\n        vertical-align: middle;\n    }\n\n    .dataframe tbody tr th {\n        vertical-align: top;\n    }\n\n    .dataframe thead th {\n        text-align: right;\n    }\n</style>\n<table border=\"1\" class=\"dataframe\">\n  <thead>\n    <tr style=\"text-align: right;\">\n      <th></th>\n      <th>id</th>\n      <th>year</th>\n      <th>category</th>\n      <th>nominee</th>\n      <th>staff</th>\n      <th>company</th>\n      <th>producer</th>\n      <th>win</th>\n    </tr>\n  </thead>\n  <tbody>\n    <tr>\n      <th>0</th>\n      <td>1</td>\n      <td>2019</td>\n      <td>Outstanding Character Voice-Over Performance</td>\n      <td>The Simpsons</td>\n      <td>Hank Azaria, as Moe, Carl, Duffman, Kirk</td>\n      <td>FOX</td>\n      <td>Gracie Films in association with 20th Century ...</td>\n      <td>False</td>\n    </tr>\n    <tr>\n      <th>1</th>\n      <td>2</td>\n      <td>2019</td>\n      <td>Outstanding Character Voice-Over Performance</td>\n      <td>Family Guy</td>\n      <td>Alex Borstein, as Lois Griffin, Tricia Takanawa</td>\n      <td>FOX</td>\n      <td>20th Century Fox Television</td>\n      <td>False</td>\n    </tr>\n    <tr>\n      <th>2</th>\n      <td>3</td>\n      <td>2019</td>\n      <td>Outstanding Character Voice-Over Performance</td>\n      <td>When You Wish Upon A Pickle: A Sesame Street S...</td>\n      <td>Eric Jacobson, as Bert, Grover, Oscar</td>\n      <td>HBO</td>\n      <td>Sesame Street Workshop</td>\n      <td>False</td>\n    </tr>\n    <tr>\n      <th>3</th>\n      <td>4</td>\n      <td>2019</td>\n      <td>Outstanding Character Voice-Over Performance</td>\n      <td>F Is For Family</td>\n      <td>Kevin Michael Richardson, as Rosie</td>\n      <td>Netflix</td>\n      <td>Wild West Television in association with Gaumo...</td>\n      <td>False</td>\n    </tr>\n    <tr>\n      <th>4</th>\n      <td>5</td>\n      <td>2019</td>\n      <td>Outstanding Production Design For A Narrative ...</td>\n      <td>Escape At Dannemora</td>\n      <td>Mark Ricker, Production Designer; James Truesd...</td>\n      <td>Showtime</td>\n      <td>Red Hour, Busyhands, The White Mountain Compan...</td>\n      <td>False</td>\n    </tr>\n  </tbody>\n</table>\n</div>"
     },
     "metadata": {},
     "execution_count": 32
    }
   ],
   "source": [
    "# https://www.kaggle.com/unanimad/emmy-awards\n",
    "kaggle.api.dataset_download_files('unanimad/emmy-awards', path='./data/awards', unzip = True)\n",
    "\n",
    "df_award_emmy = pd.read_csv('data/awards/the_emmy_awards.csv')\n",
    "df_award_emmy.head()"
   ]
  },
  {
   "cell_type": "code",
   "execution_count": 33,
   "metadata": {},
   "outputs": [
    {
     "output_type": "execute_result",
     "data": {
      "text/plain": [
       "   year_film  year_award  ceremony  \\\n",
       "0       1943        1944         1   \n",
       "1       1943        1944         1   \n",
       "2       1943        1944         1   \n",
       "3       1943        1944         1   \n",
       "4       1943        1944         1   \n",
       "\n",
       "                                            category                 nominee  \\\n",
       "0  Best Performance by an Actress in a Supporting...          Katina Paxinou   \n",
       "1  Best Performance by an Actor in a Supporting R...           Akim Tamiroff   \n",
       "2                     Best Director - Motion Picture              Henry King   \n",
       "3                                            Picture  The Song Of Bernadette   \n",
       "4                          Actress In A Leading Role          Jennifer Jones   \n",
       "\n",
       "                      film   win  \n",
       "0  For Whom The Bell Tolls  True  \n",
       "1  For Whom The Bell Tolls  True  \n",
       "2   The Song Of Bernadette  True  \n",
       "3                      NaN  True  \n",
       "4   The Song Of Bernadette  True  "
      ],
      "text/html": "<div>\n<style scoped>\n    .dataframe tbody tr th:only-of-type {\n        vertical-align: middle;\n    }\n\n    .dataframe tbody tr th {\n        vertical-align: top;\n    }\n\n    .dataframe thead th {\n        text-align: right;\n    }\n</style>\n<table border=\"1\" class=\"dataframe\">\n  <thead>\n    <tr style=\"text-align: right;\">\n      <th></th>\n      <th>year_film</th>\n      <th>year_award</th>\n      <th>ceremony</th>\n      <th>category</th>\n      <th>nominee</th>\n      <th>film</th>\n      <th>win</th>\n    </tr>\n  </thead>\n  <tbody>\n    <tr>\n      <th>0</th>\n      <td>1943</td>\n      <td>1944</td>\n      <td>1</td>\n      <td>Best Performance by an Actress in a Supporting...</td>\n      <td>Katina Paxinou</td>\n      <td>For Whom The Bell Tolls</td>\n      <td>True</td>\n    </tr>\n    <tr>\n      <th>1</th>\n      <td>1943</td>\n      <td>1944</td>\n      <td>1</td>\n      <td>Best Performance by an Actor in a Supporting R...</td>\n      <td>Akim Tamiroff</td>\n      <td>For Whom The Bell Tolls</td>\n      <td>True</td>\n    </tr>\n    <tr>\n      <th>2</th>\n      <td>1943</td>\n      <td>1944</td>\n      <td>1</td>\n      <td>Best Director - Motion Picture</td>\n      <td>Henry King</td>\n      <td>The Song Of Bernadette</td>\n      <td>True</td>\n    </tr>\n    <tr>\n      <th>3</th>\n      <td>1943</td>\n      <td>1944</td>\n      <td>1</td>\n      <td>Picture</td>\n      <td>The Song Of Bernadette</td>\n      <td>NaN</td>\n      <td>True</td>\n    </tr>\n    <tr>\n      <th>4</th>\n      <td>1943</td>\n      <td>1944</td>\n      <td>1</td>\n      <td>Actress In A Leading Role</td>\n      <td>Jennifer Jones</td>\n      <td>The Song Of Bernadette</td>\n      <td>True</td>\n    </tr>\n  </tbody>\n</table>\n</div>"
     },
     "metadata": {},
     "execution_count": 33
    }
   ],
   "source": [
    "# https://www.kaggle.com/unanimad/golden-globe-awards\n",
    "kaggle.api.dataset_download_files('unanimad/golden-globe-awards', path='./data/awards' , unzip = True)\n",
    "\n",
    "df_award_goldenglobe = pd.read_csv('data/awards/golden_globe_awards.csv')\n",
    "df_award_goldenglobe.head()"
   ]
  },
  {
   "cell_type": "code",
   "execution_count": 34,
   "metadata": {},
   "outputs": [
    {
     "output_type": "execute_result",
     "data": {
      "text/plain": [
       "                             name      season  \\\n",
       "0                           20/20   SEASON 36   \n",
       "1  America's Funniest Home Videos   SEASON 24   \n",
       "2                      The Assets         NaN   \n",
       "3        The Astronaut Wives Club  Starts tbd   \n",
       "4                    The Bachelor   SEASON 18   \n",
       "\n",
       "                                 status tv_network   ano  \n",
       "0                          Renewed 5/13        ABC  2013  \n",
       "1                           Renewed 5/9        ABC  2013  \n",
       "2       Canceled 1/10 after 2 eps aired        ABC  2013  \n",
       "3  Delayed to 2015 for creative reasons        ABC  2013  \n",
       "4                           Renewed 5/9        ABC  2013  "
      ],
      "text/html": "<div>\n<style scoped>\n    .dataframe tbody tr th:only-of-type {\n        vertical-align: middle;\n    }\n\n    .dataframe tbody tr th {\n        vertical-align: top;\n    }\n\n    .dataframe thead th {\n        text-align: right;\n    }\n</style>\n<table border=\"1\" class=\"dataframe\">\n  <thead>\n    <tr style=\"text-align: right;\">\n      <th></th>\n      <th>name</th>\n      <th>season</th>\n      <th>status</th>\n      <th>tv_network</th>\n      <th>ano</th>\n    </tr>\n  </thead>\n  <tbody>\n    <tr>\n      <th>0</th>\n      <td>20/20</td>\n      <td>SEASON 36</td>\n      <td>Renewed 5/13</td>\n      <td>ABC</td>\n      <td>2013</td>\n    </tr>\n    <tr>\n      <th>1</th>\n      <td>America's Funniest Home Videos</td>\n      <td>SEASON 24</td>\n      <td>Renewed 5/9</td>\n      <td>ABC</td>\n      <td>2013</td>\n    </tr>\n    <tr>\n      <th>2</th>\n      <td>The Assets</td>\n      <td>NaN</td>\n      <td>Canceled 1/10 after 2 eps aired</td>\n      <td>ABC</td>\n      <td>2013</td>\n    </tr>\n    <tr>\n      <th>3</th>\n      <td>The Astronaut Wives Club</td>\n      <td>Starts tbd</td>\n      <td>Delayed to 2015 for creative reasons</td>\n      <td>ABC</td>\n      <td>2013</td>\n    </tr>\n    <tr>\n      <th>4</th>\n      <td>The Bachelor</td>\n      <td>SEASON 18</td>\n      <td>Renewed 5/9</td>\n      <td>ABC</td>\n      <td>2013</td>\n    </tr>\n  </tbody>\n</table>\n</div>"
     },
     "metadata": {},
     "execution_count": 34
    }
   ],
   "source": [
    "df_tvstatus = pd.read_csv('status/metacritic.csv')\n",
    "df_tvstatus.head()"
   ]
  },
  {
   "cell_type": "code",
   "execution_count": null,
   "metadata": {},
   "outputs": [],
   "source": [
    "        "
   ]
  }
 ]
}