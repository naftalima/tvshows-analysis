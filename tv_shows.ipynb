{
 "cells": [
  {
   "cell_type": "code",
   "execution_count": 29,
   "metadata": {},
   "outputs": [],
   "source": [
    "import pandas as pd\n",
    "import numpy as np\n",
    "import kaggle\n",
    "import re"
   ]
  },
  {
   "cell_type": "code",
   "execution_count": 30,
   "metadata": {},
   "outputs": [
    {
     "output_type": "error",
     "ename": "SyntaxError",
     "evalue": "invalid syntax (<ipython-input-30-e2e030d6a1b1>, line 10)",
     "traceback": [
      "\u001b[0;36m  File \u001b[0;32m\"<ipython-input-30-e2e030d6a1b1>\"\u001b[0;36m, line \u001b[0;32m10\u001b[0m\n\u001b[0;31m    kaggle.api.dataset_download_files('unanimad/emmy-awards', path='./data/awards', unzip = True)]\u001b[0m\n\u001b[0m                                                                                                 ^\u001b[0m\n\u001b[0;31mSyntaxError\u001b[0m\u001b[0;31m:\u001b[0m invalid syntax\n"
     ]
    }
   ],
   "source": [
    "kaggle.api.authenticate()\n",
    "\n",
    "# https://www.kaggle.com/oscarfry/tvtime-shows?select=tvtimeshows.csv\n",
    "kaggle.api.dataset_download_files('oscarfry/tvtime-shows', path='./data/tvtimeshows', unzip = True)\n",
    "\n",
    "# https://www.kaggle.com/ruchi798/tv-shows-on-netflix-prime-video-hulu-and-disney \n",
    "kaggle.api.dataset_download_files('ruchi798/tv-shows-on-netflix-prime-video-hulu-and-disney', path='./data/streamings', unzip = True)\n",
    "\n",
    "# https://www.kaggle.com/unanimad/emmy-awards\n",
    "kaggle.api.dataset_download_files('unanimad/emmy-awards', path='./data/awards', unzip = True)]\n",
    "\n",
    "# https://www.kaggle.com/unanimad/golden-globe-awards\n",
    "kaggle.api.dataset_download_files('unanimad/golden-globe-awards', path='./data/awards' , unzip = True)"
   ]
  },
  {
   "cell_type": "code",
   "execution_count": 31,
   "metadata": {},
   "outputs": [],
   "source": [
    "df_tvtime = pd.read_csv('data/tvtimeshows/tvtimeshows.csv')\n",
    "# df_tvtime.head()\n",
    "\n",
    "df_streamings = pd.read_csv('data/streamings/tv_shows.csv')\n",
    "# df_streamings.head()\n",
    "\n",
    "df_award_emmy = pd.read_csv('data/awards/the_emmy_awards.csv')\n",
    "# df_award_emmy.head()\n",
    "\n",
    "df_award_goldenglobe = pd.read_csv('data/awards/golden_globe_awards.csv')\n",
    "# df_award_goldenglobe.head()"
   ]
  },
  {
   "cell_type": "code",
   "execution_count": 32,
   "metadata": {},
   "outputs": [
    {
     "output_type": "execute_result",
     "data": {
      "text/plain": "                             name      season  \\\n0                           20/20   SEASON 36   \n1  America's Funniest Home Videos   SEASON 24   \n2                      The Assets         NaN   \n3        The Astronaut Wives Club  Starts tbd   \n4                    The Bachelor   SEASON 18   \n\n                                 status tv_network   ano  \n0                          Renewed 5/13        ABC  2013  \n1                           Renewed 5/9        ABC  2013  \n2       Canceled 1/10 after 2 eps aired        ABC  2013  \n3  Delayed to 2015 for creative reasons        ABC  2013  \n4                           Renewed 5/9        ABC  2013  ",
      "text/html": "<div>\n<style scoped>\n    .dataframe tbody tr th:only-of-type {\n        vertical-align: middle;\n    }\n\n    .dataframe tbody tr th {\n        vertical-align: top;\n    }\n\n    .dataframe thead th {\n        text-align: right;\n    }\n</style>\n<table border=\"1\" class=\"dataframe\">\n  <thead>\n    <tr style=\"text-align: right;\">\n      <th></th>\n      <th>name</th>\n      <th>season</th>\n      <th>status</th>\n      <th>tv_network</th>\n      <th>ano</th>\n    </tr>\n  </thead>\n  <tbody>\n    <tr>\n      <th>0</th>\n      <td>20/20</td>\n      <td>SEASON 36</td>\n      <td>Renewed 5/13</td>\n      <td>ABC</td>\n      <td>2013</td>\n    </tr>\n    <tr>\n      <th>1</th>\n      <td>America's Funniest Home Videos</td>\n      <td>SEASON 24</td>\n      <td>Renewed 5/9</td>\n      <td>ABC</td>\n      <td>2013</td>\n    </tr>\n    <tr>\n      <th>2</th>\n      <td>The Assets</td>\n      <td>NaN</td>\n      <td>Canceled 1/10 after 2 eps aired</td>\n      <td>ABC</td>\n      <td>2013</td>\n    </tr>\n    <tr>\n      <th>3</th>\n      <td>The Astronaut Wives Club</td>\n      <td>Starts tbd</td>\n      <td>Delayed to 2015 for creative reasons</td>\n      <td>ABC</td>\n      <td>2013</td>\n    </tr>\n    <tr>\n      <th>4</th>\n      <td>The Bachelor</td>\n      <td>SEASON 18</td>\n      <td>Renewed 5/9</td>\n      <td>ABC</td>\n      <td>2013</td>\n    </tr>\n  </tbody>\n</table>\n</div>"
     },
     "metadata": {},
     "execution_count": 32
    }
   ],
   "source": [
    "df_tvstatus = pd.read_csv('status/metacritic.csv')\n",
    "df_tvstatus.head()"
   ]
  },
  {
   "cell_type": "code",
   "execution_count": 33,
   "metadata": {},
   "outputs": [],
   "source": [
    "def networks_more_popular(df_tt, networks): \n",
    "    column_names = list(df_tt.columns)\n",
    "    df_most_popular = pd.DataFrame(columns = column_names)\n",
    "    for i in networks:\n",
    "        df = df_tt[df_tt['tv_network'].str.contains(i, flags=re.IGNORECASE, regex=True, na=False)]\n",
    "        df_most_popular = df_most_popular.append(df,ignore_index=True)\n",
    "        df_most_popular['tv_network'] = np.where(df_most_popular['tv_network'].str.contains(i, flags=re.IGNORECASE, regex=True, na=False),i,df_most_popular['tv_network'] )\n",
    "    return df_most_popular"
   ]
  },
  {
   "cell_type": "code",
   "execution_count": 34,
   "metadata": {},
   "outputs": [],
   "source": [
    "popular_networks = [ \"ABC\", \"CBC\", \"NBC\", \"NETFLIX\", \"AMAZON\", \"DISNEY\", \"HULU\", \"HBO\", \"CRUNCHYROLL\", \"GLOBO\", \"APPLE\", \"FOX\", \"MTV\",'FX','CBS','SYFY','THE CW','FREEF','TNT','IFC','STRZ','TVL','SHOWTIME','AMC','USA']\n",
    "df_tvstatus_popular = networks_more_popular(df_tvstatus,popular_networks)"
   ]
  },
  {
   "cell_type": "code",
   "execution_count": 35,
   "metadata": {},
   "outputs": [],
   "source": [
    "def standardize_status(df): \n",
    "    column_names = list(df.columns)\n",
    "    column_names.append('changed_network')\n",
    "    df_clean = pd.DataFrame(columns = column_names)\n",
    "    df_clean = df\n",
    "    df_clean['changed_network'] = False\n",
    "\n",
    "    #canceled\n",
    "    df_clean['status'] =  np.where(df_clean['status'].str.contains('CANCELED', flags=re.IGNORECASE, regex=True, na=False),'CANCELED',df_clean['status'] )\n",
    "    df_clean['status'] =  np.where(df_clean['status'].str.contains('order rescinded', flags=re.IGNORECASE, regex=True, na=False),'CANCELED',df_clean['status'] )\n",
    "    df_clean['status'] =  np.where(df_clean['status'].str.contains('Likely to end', flags=re.IGNORECASE, regex=True, na=False),'CANCELED',df_clean['status'] )\n",
    "    df_clean['status'] =  np.where(df_clean['status'].str.contains('won\\'t air', flags=re.IGNORECASE, regex=True, na=False),'CANCELED',df_clean['status'] )\n",
    "\n",
    "    #renewed\n",
    "    df_clean['status'] =  np.where(df_clean['status'].str.contains('Renew' , flags=re.IGNORECASE, regex=True, na=False),'RENEWED',df_clean['status'] )\n",
    "    df_clean['status'] =  np.where(df_clean['status'].str.contains('order' , flags=re.IGNORECASE, regex=True, na=False),'RENEWED',df_clean['status'] )\n",
    "\n",
    "    #renewed but changed network\n",
    "    df_clean.loc[df_clean['status'].str.contains('mov' , flags=re.IGNORECASE, regex=True, na=False),'changed_network'] = True\n",
    "    df_clean['status'] =  np.where(df_clean['status'].str.contains('mov' , flags=re.IGNORECASE, regex=True, na=False),'RENEWED',df_clean['status'] )  \n",
    "\n",
    "    #delayed\n",
    "    df_clean['status'] =  np.where(df_clean['status'].str.contains('Delayed' , flags=re.IGNORECASE, regex=True, na=False),'DELAYED',df_clean['status'] )\n",
    "\n",
    "    #end\n",
    "    df_clean['status'] =  np.where(df_clean['status'].str.contains('Ending' , flags=re.IGNORECASE, regex=True, na=False),'END',df_clean['status'] )\n",
    "    df_clean['status'] =  np.where(df_clean['status'].str.contains('ended' , flags=re.IGNORECASE, regex=True, na=False),'END',df_clean['status'] )\n",
    "    df_clean['status'] =  np.where(df_clean['status'].str.contains('Final season' , flags=re.IGNORECASE, regex=True, na=False),'END',df_clean['status'] )\n",
    "    df_clean['status'] =  np.where(df_clean['status'].str.contains('miniseries' , flags=re.IGNORECASE, regex=True, na=False),'END',df_clean['status'] )\n",
    "\n",
    "   # Não tem Info\n",
    "    nationality = ['Brazilian' , 'Spanish', 'German', 'Korean', 'Japanese', 'Swedish', 'French', 'Argentinian', 'Austalian', 'British', 'Belgian', 'Polish', 'Chinese', 'Italian', 'Mexican', 'Indian', 'Colombian', 'Thai', 'Taiwanese', 'Turkish', 'Norwegian', 'Lebanese', 'Israeli', 'Arabic', 'Dutch', 'Argentine','UK','Irish','USA']\n",
    "\n",
    "    for i in nationality:\n",
    "       df_clean['status'] =  np.where(df_clean['status'].str.contains(i , flags=re.IGNORECASE, regex=True, na=False),'NAN',df_clean['status'] ) \n",
    "\n",
    "    return(df_clean)\n"
   ]
  },
  {
   "cell_type": "code",
   "execution_count": 36,
   "metadata": {},
   "outputs": [
    {
     "output_type": "execute_result",
     "data": {
      "text/plain": "                             name      season    status tv_network   ano  \\\n0                           20/20   SEASON 36   RENEWED        ABC  2013   \n1  America's Funniest Home Videos   SEASON 24   RENEWED        ABC  2013   \n2                      The Assets         NaN  CANCELED        ABC  2013   \n3        The Astronaut Wives Club  Starts tbd   DELAYED        ABC  2013   \n4                    The Bachelor   SEASON 18   RENEWED        ABC  2013   \n\n   changed_network  \n0            False  \n1            False  \n2            False  \n3            False  \n4            False  ",
      "text/html": "<div>\n<style scoped>\n    .dataframe tbody tr th:only-of-type {\n        vertical-align: middle;\n    }\n\n    .dataframe tbody tr th {\n        vertical-align: top;\n    }\n\n    .dataframe thead th {\n        text-align: right;\n    }\n</style>\n<table border=\"1\" class=\"dataframe\">\n  <thead>\n    <tr style=\"text-align: right;\">\n      <th></th>\n      <th>name</th>\n      <th>season</th>\n      <th>status</th>\n      <th>tv_network</th>\n      <th>ano</th>\n      <th>changed_network</th>\n    </tr>\n  </thead>\n  <tbody>\n    <tr>\n      <th>0</th>\n      <td>20/20</td>\n      <td>SEASON 36</td>\n      <td>RENEWED</td>\n      <td>ABC</td>\n      <td>2013</td>\n      <td>False</td>\n    </tr>\n    <tr>\n      <th>1</th>\n      <td>America's Funniest Home Videos</td>\n      <td>SEASON 24</td>\n      <td>RENEWED</td>\n      <td>ABC</td>\n      <td>2013</td>\n      <td>False</td>\n    </tr>\n    <tr>\n      <th>2</th>\n      <td>The Assets</td>\n      <td>NaN</td>\n      <td>CANCELED</td>\n      <td>ABC</td>\n      <td>2013</td>\n      <td>False</td>\n    </tr>\n    <tr>\n      <th>3</th>\n      <td>The Astronaut Wives Club</td>\n      <td>Starts tbd</td>\n      <td>DELAYED</td>\n      <td>ABC</td>\n      <td>2013</td>\n      <td>False</td>\n    </tr>\n    <tr>\n      <th>4</th>\n      <td>The Bachelor</td>\n      <td>SEASON 18</td>\n      <td>RENEWED</td>\n      <td>ABC</td>\n      <td>2013</td>\n      <td>False</td>\n    </tr>\n  </tbody>\n</table>\n</div>"
     },
     "metadata": {},
     "execution_count": 36
    }
   ],
   "source": [
    "df_tvstatus_popular_cleaning = standardize_status(df_tvstatus_popular)\n",
    "df_tvstatus_popular_cleaning.head()"
   ]
  },
  {
   "cell_type": "code",
   "execution_count": 37,
   "metadata": {},
   "outputs": [],
   "source": [
    "# df_tvstatus_popular_cleaning['tv_network'].head()"
   ]
  },
  {
   "cell_type": "code",
   "execution_count": 38,
   "metadata": {},
   "outputs": [
    {
     "output_type": "execute_result",
     "data": {
      "text/plain": "array(['RENEWED', 'CANCELED', 'DELAYED', nan,\n       '1st season in ABC primetime',\n       'Season cut to 10 episodes on 10/23', 'END',\n       'New version of classic game show', 'Postponed to summer',\n       'Pulled from schedule on 3/29 after 5 episodes',\n       'Pulled from schedule 1/4 (4 eps unaired)',\n       'Banished to Saturdays effective 7/8',\n       \"Sneak preview aired in March;  returns later in '18\",\n       'Fate uncertain; not included in 2014-15 schedule',\n       'Pulled from schedule on 10/18',\n       'Pulled from schedule 2/5; 7 eps unaired',\n       'Not on schedule; likely will never air', 'Variety show', 'NAN',\n       '2nd season already in production',\n       'Continuation of 2000-07 WB/CW series', 'Canadian series', 'Anime',\n       'Philippine series', 'Two-part season (part 2 date is tbd)',\n       'Documentary series', 'Both seasons will stream at once',\n       'Australian series', \"Revival of classic children's show\",\n       'Animated series', 'Finnish series', 'Animated',\n       'Cancellation confirmed 11/26/19', 'S4 announced on 6/18/19',\n       'South African series', 'Two seasons picked up', 'Danish series',\n       '2nd season in development', 'Russian series',\n       'Potential 6th season on hold', 'Anime; rescheduled from April',\n       'Anthology series', '3rd season unlikely (esp. in near future)',\n       'fka untitled Mindy Kaling comedy', 'First new season in 6 years',\n       'fka untitled Woody Allen series',\n       'S2 confirmed on 8/25/17; will air in 2019', 'Renwed 9/13/18',\n       'Project in jeopardy due to Ed Westwick scandal',\n       '3rd season of National Treasure anthology', 'Monthly anthology',\n       'Now a Hulu exclusive in the U.S.',\n       'Final 10-ep. 7th season in summer 2014',\n       'Returns after a 10-year absence', 'Will likely air in the fall',\n       'Previously picked up for a 2nd season', 'Returns on 2/14',\n       'Short (7-episode) season;  S8 to air in 2019',\n       'Alternate version released as an app in fall 2017',\n       '(4th season on HBO)', 'Reboot of 1980s anthology series',\n       '12-episode mini-season', 'Last aired on Fox in 2009',\n       'Production halted at 13 eps; off sched. after 12/3',\n       'In negotiations to return for 2017-18',\n       'Revival of the classic dating  show', '8th season announced 2/16',\n       \"Not on Fox's 2017-18 sched; presumed done\",\n       \"Won't be back in 2017, but could return in 2018\",\n       'No plans to revive the show again as of 5/14',\n       \"Not included in Fox's 2019-20 plans\",\n       'Pulled from schedule after 1/15', 'Game show',\n       'Will air in 2015-16 season', 'Short (6-episode) season',\n       'Short season (8 episodes)',\n       'A potential 2nd season is in development',\n       'S3 (Katrina) will now start in 2018-19',\n       'Rare fall season airs exclusively on CBS All Access',\n       'Pulled from  schedule on 4/19 with 5 eps unaired',\n       'CBS All-Access', 'Celebrity edition',\n       'Banished to Saturdays effective 5/4',\n       'Exclusive to CBS All Access', 'Syfy will air at least 2 seasons',\n       'Officially not progressing as a series 3/10',\n       'Syfy will air S1 & S2 of the web series',\n       '3rd season picked up by CW on 5/31/19',\n       \"fka One Day She'll Darken\", 'Sequel to The Spoils of Babylon',\n       'New title', 'Confirmed as a 1-season show prior to airing',\n       'Starz pulled out 3/2; may go elsewhere', 'American debut',\n       'Continuation of 1990-91 ABC series',\n       'Production halted as of June 2018',\n       'Will not return for a 2nd season',\n       '7 eps to air in 2014, final 7 in spring 2015', 'Anthology',\n       'Miniseres'], dtype=object)"
     },
     "metadata": {},
     "execution_count": 38
    }
   ],
   "source": [
    "df_tvstatus_popular_cleaning['status'].unique()"
   ]
  },
  {
   "cell_type": "code",
   "execution_count": 39,
   "metadata": {},
   "outputs": [
    {
     "output_type": "execute_result",
     "data": {
      "text/plain": "                name                    season    status tv_network   ano  \\\n649   Anne With an E                       NaN   RENEWED    NETFLIX  2016   \n724   Anne With an E  SEASON 2 starts tbd 2018       NaN    NETFLIX  2017   \n898   Anne With an E                  SEASON 2   RENEWED    NETFLIX  2018   \n1168  Anne With an E                  SEASON 3  CANCELED    NETFLIX  2019   \n\n      changed_network  \n649             False  \n724             False  \n898             False  \n1168            False  ",
      "text/html": "<div>\n<style scoped>\n    .dataframe tbody tr th:only-of-type {\n        vertical-align: middle;\n    }\n\n    .dataframe tbody tr th {\n        vertical-align: top;\n    }\n\n    .dataframe thead th {\n        text-align: right;\n    }\n</style>\n<table border=\"1\" class=\"dataframe\">\n  <thead>\n    <tr style=\"text-align: right;\">\n      <th></th>\n      <th>name</th>\n      <th>season</th>\n      <th>status</th>\n      <th>tv_network</th>\n      <th>ano</th>\n      <th>changed_network</th>\n    </tr>\n  </thead>\n  <tbody>\n    <tr>\n      <th>649</th>\n      <td>Anne With an E</td>\n      <td>NaN</td>\n      <td>RENEWED</td>\n      <td>NETFLIX</td>\n      <td>2016</td>\n      <td>False</td>\n    </tr>\n    <tr>\n      <th>724</th>\n      <td>Anne With an E</td>\n      <td>SEASON 2 starts tbd 2018</td>\n      <td>NaN</td>\n      <td>NETFLIX</td>\n      <td>2017</td>\n      <td>False</td>\n    </tr>\n    <tr>\n      <th>898</th>\n      <td>Anne With an E</td>\n      <td>SEASON 2</td>\n      <td>RENEWED</td>\n      <td>NETFLIX</td>\n      <td>2018</td>\n      <td>False</td>\n    </tr>\n    <tr>\n      <th>1168</th>\n      <td>Anne With an E</td>\n      <td>SEASON 3</td>\n      <td>CANCELED</td>\n      <td>NETFLIX</td>\n      <td>2019</td>\n      <td>False</td>\n    </tr>\n  </tbody>\n</table>\n</div>"
     },
     "metadata": {},
     "execution_count": 39
    }
   ],
   "source": [
    "df_tvstatus_popular_cleaning[df_tvstatus_popular_cleaning['name'].str.contains('anne with an e', flags=re.IGNORECASE, regex=True, na=False)]"
   ]
  },
  {
   "cell_type": "code",
   "execution_count": 40,
   "metadata": {},
   "outputs": [
    {
     "output_type": "execute_result",
     "data": {
      "text/plain": "                                name       season  \\\n331            The Spoils of Babylon          NaN   \n576                       Blunt Talk  Starts 8/22   \n633            Fear the Walking Dead   tbd August   \n1060                      Blunt Talk          NaN   \n1065             Brothers in Atlanta  starts  tbd   \n1493                 Vice Principals          NaN   \n1514                    Black Mirror     SEASON 3   \n1565              Skylanders Academy          NaN   \n1584                  The Grand Tour          NaN   \n1599                          Chance          NaN   \n1645                    Channel Zero          NaN   \n2258       The Marvelous Mrs. Maisel          NaN   \n2308                    The Alienist          NaN   \n2347                     Counterpart          NaN   \n2515                       X Company          NaN   \n2800  Chilling Adventures of Sabrina          NaN   \n2942           The Rise of Phoenixes          NaN   \n3038                      Homecoming          NaN   \n3142                      Dirty John          NaN   \n3346                        All Rise          NaN   \n3350                  Bob ♥ Abishola          NaN   \n3353              Carol's Second Act          NaN   \n3378                     The Unicorn          NaN   \n3741                  The Politician          NaN   \n3848                    Central Park          NaN   \n3857                The Morning Show          NaN   \n3924                 Solar Opposites          NaN   \n\n                                                 status          tv_network  \\\n331         Sequel ordered 7/7; will air in summer 2015                 IFC   \n576                          2nd season already ordered                STRZ   \n633                       Two seasons ordered on 3/9/15                 AMC   \n1060                         2nd season already ordered                STRZ   \n1065                     Series order rescinded on 1/22                 HBO   \n1493        Order is for 2 seasons; will end after that                 HBO   \n1514           Two seasons (S3 & S4) ordered by Netflix             Netflix   \n1565                    Original order is for 2 seasons             Netflix   \n1584                     Initial order is for 3 seasons        Amazon Prime   \n1599                     Initial order is for 2 seasons                Hulu   \n1645                       Anthology; 2 seasons ordered                SYFY   \n2258  Initial order is for 2 seasons; S3 renewal on ...  Amazon Prime Video   \n2308                  Sequel miniseries ordered 8/16/18                 TNT   \n2347                     Initial order is for 2 seasons                STRZ   \n2515                    Original order is for 3 seasons                OVAT   \n2800                     Initial order is for 2 seasons             Netflix   \n2942                   Chinese series; 70-episode order             Netflix   \n3038                     Initial order is for 2 seasons  Amazon Prime Video   \n3142      Initial order is for 2 seasons; moving to USA                BRAV   \n3346            Full-season order on 10/22; renewed 5/7                 CBS   \n3350            Full-season order on 10/22; renewed 5/7                 CBS   \n3353           Full-season order on 10/22; canceled 5/7                 CBS   \n3378            Full-season order on 10/22; renewed 5/7                 CBS   \n3741                     Initial order is for 2 seasons             Netflix   \n3848                    Initial  order is for 2 seasons           Apple TV+   \n3857                    Initial  order is for 2 seasons           Apple TV+   \n3924           Animated; initial order is for 2 seasons                Hulu   \n\n       ano  \n331   2013  \n576   2014  \n633   2014  \n1060  2015  \n1065  2015  \n1493  2016  \n1514  2016  \n1565  2016  \n1584  2016  \n1599  2016  \n1645  2016  \n2258  2017  \n2308  2017  \n2347  2017  \n2515  2017  \n2800  2018  \n2942  2018  \n3038  2018  \n3142  2018  \n3346  2019  \n3350  2019  \n3353  2019  \n3378  2019  \n3741  2019  \n3848  2019  \n3857  2019  \n3924  2019  ",
      "text/html": "<div>\n<style scoped>\n    .dataframe tbody tr th:only-of-type {\n        vertical-align: middle;\n    }\n\n    .dataframe tbody tr th {\n        vertical-align: top;\n    }\n\n    .dataframe thead th {\n        text-align: right;\n    }\n</style>\n<table border=\"1\" class=\"dataframe\">\n  <thead>\n    <tr style=\"text-align: right;\">\n      <th></th>\n      <th>name</th>\n      <th>season</th>\n      <th>status</th>\n      <th>tv_network</th>\n      <th>ano</th>\n    </tr>\n  </thead>\n  <tbody>\n    <tr>\n      <th>331</th>\n      <td>The Spoils of Babylon</td>\n      <td>NaN</td>\n      <td>Sequel ordered 7/7; will air in summer 2015</td>\n      <td>IFC</td>\n      <td>2013</td>\n    </tr>\n    <tr>\n      <th>576</th>\n      <td>Blunt Talk</td>\n      <td>Starts 8/22</td>\n      <td>2nd season already ordered</td>\n      <td>STRZ</td>\n      <td>2014</td>\n    </tr>\n    <tr>\n      <th>633</th>\n      <td>Fear the Walking Dead</td>\n      <td>tbd August</td>\n      <td>Two seasons ordered on 3/9/15</td>\n      <td>AMC</td>\n      <td>2014</td>\n    </tr>\n    <tr>\n      <th>1060</th>\n      <td>Blunt Talk</td>\n      <td>NaN</td>\n      <td>2nd season already ordered</td>\n      <td>STRZ</td>\n      <td>2015</td>\n    </tr>\n    <tr>\n      <th>1065</th>\n      <td>Brothers in Atlanta</td>\n      <td>starts  tbd</td>\n      <td>Series order rescinded on 1/22</td>\n      <td>HBO</td>\n      <td>2015</td>\n    </tr>\n    <tr>\n      <th>1493</th>\n      <td>Vice Principals</td>\n      <td>NaN</td>\n      <td>Order is for 2 seasons; will end after that</td>\n      <td>HBO</td>\n      <td>2016</td>\n    </tr>\n    <tr>\n      <th>1514</th>\n      <td>Black Mirror</td>\n      <td>SEASON 3</td>\n      <td>Two seasons (S3 &amp; S4) ordered by Netflix</td>\n      <td>Netflix</td>\n      <td>2016</td>\n    </tr>\n    <tr>\n      <th>1565</th>\n      <td>Skylanders Academy</td>\n      <td>NaN</td>\n      <td>Original order is for 2 seasons</td>\n      <td>Netflix</td>\n      <td>2016</td>\n    </tr>\n    <tr>\n      <th>1584</th>\n      <td>The Grand Tour</td>\n      <td>NaN</td>\n      <td>Initial order is for 3 seasons</td>\n      <td>Amazon Prime</td>\n      <td>2016</td>\n    </tr>\n    <tr>\n      <th>1599</th>\n      <td>Chance</td>\n      <td>NaN</td>\n      <td>Initial order is for 2 seasons</td>\n      <td>Hulu</td>\n      <td>2016</td>\n    </tr>\n    <tr>\n      <th>1645</th>\n      <td>Channel Zero</td>\n      <td>NaN</td>\n      <td>Anthology; 2 seasons ordered</td>\n      <td>SYFY</td>\n      <td>2016</td>\n    </tr>\n    <tr>\n      <th>2258</th>\n      <td>The Marvelous Mrs. Maisel</td>\n      <td>NaN</td>\n      <td>Initial order is for 2 seasons; S3 renewal on ...</td>\n      <td>Amazon Prime Video</td>\n      <td>2017</td>\n    </tr>\n    <tr>\n      <th>2308</th>\n      <td>The Alienist</td>\n      <td>NaN</td>\n      <td>Sequel miniseries ordered 8/16/18</td>\n      <td>TNT</td>\n      <td>2017</td>\n    </tr>\n    <tr>\n      <th>2347</th>\n      <td>Counterpart</td>\n      <td>NaN</td>\n      <td>Initial order is for 2 seasons</td>\n      <td>STRZ</td>\n      <td>2017</td>\n    </tr>\n    <tr>\n      <th>2515</th>\n      <td>X Company</td>\n      <td>NaN</td>\n      <td>Original order is for 3 seasons</td>\n      <td>OVAT</td>\n      <td>2017</td>\n    </tr>\n    <tr>\n      <th>2800</th>\n      <td>Chilling Adventures of Sabrina</td>\n      <td>NaN</td>\n      <td>Initial order is for 2 seasons</td>\n      <td>Netflix</td>\n      <td>2018</td>\n    </tr>\n    <tr>\n      <th>2942</th>\n      <td>The Rise of Phoenixes</td>\n      <td>NaN</td>\n      <td>Chinese series; 70-episode order</td>\n      <td>Netflix</td>\n      <td>2018</td>\n    </tr>\n    <tr>\n      <th>3038</th>\n      <td>Homecoming</td>\n      <td>NaN</td>\n      <td>Initial order is for 2 seasons</td>\n      <td>Amazon Prime Video</td>\n      <td>2018</td>\n    </tr>\n    <tr>\n      <th>3142</th>\n      <td>Dirty John</td>\n      <td>NaN</td>\n      <td>Initial order is for 2 seasons; moving to USA</td>\n      <td>BRAV</td>\n      <td>2018</td>\n    </tr>\n    <tr>\n      <th>3346</th>\n      <td>All Rise</td>\n      <td>NaN</td>\n      <td>Full-season order on 10/22; renewed 5/7</td>\n      <td>CBS</td>\n      <td>2019</td>\n    </tr>\n    <tr>\n      <th>3350</th>\n      <td>Bob ♥ Abishola</td>\n      <td>NaN</td>\n      <td>Full-season order on 10/22; renewed 5/7</td>\n      <td>CBS</td>\n      <td>2019</td>\n    </tr>\n    <tr>\n      <th>3353</th>\n      <td>Carol's Second Act</td>\n      <td>NaN</td>\n      <td>Full-season order on 10/22; canceled 5/7</td>\n      <td>CBS</td>\n      <td>2019</td>\n    </tr>\n    <tr>\n      <th>3378</th>\n      <td>The Unicorn</td>\n      <td>NaN</td>\n      <td>Full-season order on 10/22; renewed 5/7</td>\n      <td>CBS</td>\n      <td>2019</td>\n    </tr>\n    <tr>\n      <th>3741</th>\n      <td>The Politician</td>\n      <td>NaN</td>\n      <td>Initial order is for 2 seasons</td>\n      <td>Netflix</td>\n      <td>2019</td>\n    </tr>\n    <tr>\n      <th>3848</th>\n      <td>Central Park</td>\n      <td>NaN</td>\n      <td>Initial  order is for 2 seasons</td>\n      <td>Apple TV+</td>\n      <td>2019</td>\n    </tr>\n    <tr>\n      <th>3857</th>\n      <td>The Morning Show</td>\n      <td>NaN</td>\n      <td>Initial  order is for 2 seasons</td>\n      <td>Apple TV+</td>\n      <td>2019</td>\n    </tr>\n    <tr>\n      <th>3924</th>\n      <td>Solar Opposites</td>\n      <td>NaN</td>\n      <td>Animated; initial order is for 2 seasons</td>\n      <td>Hulu</td>\n      <td>2019</td>\n    </tr>\n  </tbody>\n</table>\n</div>"
     },
     "metadata": {},
     "execution_count": 40
    }
   ],
   "source": [
    "df_tvstatus[df_tvstatus['status'].str.contains('order', flags=re.IGNORECASE, regex=True, na=False)]"
   ]
  },
  {
   "cell_type": "code",
   "execution_count": 41,
   "metadata": {},
   "outputs": [
    {
     "output_type": "execute_result",
     "data": {
      "text/plain": "                       name                    season   status tv_network  \\\n257   The Alec Baldwin Show                       NaN  RENEWED        ABC   \n582          The Gilded Age               starts  tbd  RENEWED        NBC   \n684        The Last Kingdom                  SEASON 2  RENEWED    NETFLIX   \n911              Black Spot                  SEASON 2  RENEWED    NETFLIX   \n1453              Fortitude                  SEASON 2  RENEWED     AMAZON   \n1621    There's ... Johnny!                       NaN  RENEWED       HULU   \n1642                 UnREAL                  SEASON 4  RENEWED       HULU   \n1655          High Fidelity                       NaN  RENEWED       HULU   \n1676          Veronica Mars                  SEASON 4  RENEWED       HULU   \n1878          American Dad!               SEASON 9/10  RENEWED        FOX   \n2085      Big Bounce Battle                starts tbd  RENEWED        FOX   \n2165       You're the Worst  SEASON 2 starts tbd 2015  RENEWED         FX   \n3060                   Vice                  SEASON 7  RENEWED   SHOWTIME   \n3155                 Motive                  SEASON 3  RENEWED        USA   \n\n       ano  changed_network  \n257   2018             True  \n582   2018             True  \n684   2016             True  \n911   2018             True  \n1453  2016             True  \n1621  2017             True  \n1642  2018             True  \n1655  2019             True  \n1676  2019             True  \n1878  2013             True  \n2085  2019             True  \n2165  2014             True  \n3060  2019             True  \n3155  2015             True  ",
      "text/html": "<div>\n<style scoped>\n    .dataframe tbody tr th:only-of-type {\n        vertical-align: middle;\n    }\n\n    .dataframe tbody tr th {\n        vertical-align: top;\n    }\n\n    .dataframe thead th {\n        text-align: right;\n    }\n</style>\n<table border=\"1\" class=\"dataframe\">\n  <thead>\n    <tr style=\"text-align: right;\">\n      <th></th>\n      <th>name</th>\n      <th>season</th>\n      <th>status</th>\n      <th>tv_network</th>\n      <th>ano</th>\n      <th>changed_network</th>\n    </tr>\n  </thead>\n  <tbody>\n    <tr>\n      <th>257</th>\n      <td>The Alec Baldwin Show</td>\n      <td>NaN</td>\n      <td>RENEWED</td>\n      <td>ABC</td>\n      <td>2018</td>\n      <td>True</td>\n    </tr>\n    <tr>\n      <th>582</th>\n      <td>The Gilded Age</td>\n      <td>starts  tbd</td>\n      <td>RENEWED</td>\n      <td>NBC</td>\n      <td>2018</td>\n      <td>True</td>\n    </tr>\n    <tr>\n      <th>684</th>\n      <td>The Last Kingdom</td>\n      <td>SEASON 2</td>\n      <td>RENEWED</td>\n      <td>NETFLIX</td>\n      <td>2016</td>\n      <td>True</td>\n    </tr>\n    <tr>\n      <th>911</th>\n      <td>Black Spot</td>\n      <td>SEASON 2</td>\n      <td>RENEWED</td>\n      <td>NETFLIX</td>\n      <td>2018</td>\n      <td>True</td>\n    </tr>\n    <tr>\n      <th>1453</th>\n      <td>Fortitude</td>\n      <td>SEASON 2</td>\n      <td>RENEWED</td>\n      <td>AMAZON</td>\n      <td>2016</td>\n      <td>True</td>\n    </tr>\n    <tr>\n      <th>1621</th>\n      <td>There's ... Johnny!</td>\n      <td>NaN</td>\n      <td>RENEWED</td>\n      <td>HULU</td>\n      <td>2017</td>\n      <td>True</td>\n    </tr>\n    <tr>\n      <th>1642</th>\n      <td>UnREAL</td>\n      <td>SEASON 4</td>\n      <td>RENEWED</td>\n      <td>HULU</td>\n      <td>2018</td>\n      <td>True</td>\n    </tr>\n    <tr>\n      <th>1655</th>\n      <td>High Fidelity</td>\n      <td>NaN</td>\n      <td>RENEWED</td>\n      <td>HULU</td>\n      <td>2019</td>\n      <td>True</td>\n    </tr>\n    <tr>\n      <th>1676</th>\n      <td>Veronica Mars</td>\n      <td>SEASON 4</td>\n      <td>RENEWED</td>\n      <td>HULU</td>\n      <td>2019</td>\n      <td>True</td>\n    </tr>\n    <tr>\n      <th>1878</th>\n      <td>American Dad!</td>\n      <td>SEASON 9/10</td>\n      <td>RENEWED</td>\n      <td>FOX</td>\n      <td>2013</td>\n      <td>True</td>\n    </tr>\n    <tr>\n      <th>2085</th>\n      <td>Big Bounce Battle</td>\n      <td>starts tbd</td>\n      <td>RENEWED</td>\n      <td>FOX</td>\n      <td>2019</td>\n      <td>True</td>\n    </tr>\n    <tr>\n      <th>2165</th>\n      <td>You're the Worst</td>\n      <td>SEASON 2 starts tbd 2015</td>\n      <td>RENEWED</td>\n      <td>FX</td>\n      <td>2014</td>\n      <td>True</td>\n    </tr>\n    <tr>\n      <th>3060</th>\n      <td>Vice</td>\n      <td>SEASON 7</td>\n      <td>RENEWED</td>\n      <td>SHOWTIME</td>\n      <td>2019</td>\n      <td>True</td>\n    </tr>\n    <tr>\n      <th>3155</th>\n      <td>Motive</td>\n      <td>SEASON 3</td>\n      <td>RENEWED</td>\n      <td>USA</td>\n      <td>2015</td>\n      <td>True</td>\n    </tr>\n  </tbody>\n</table>\n</div>"
     },
     "metadata": {},
     "execution_count": 41
    }
   ],
   "source": [
    "df_tvstatus_popular_cleaning[df_tvstatus_popular_cleaning['changed_network'] == True]"
   ]
  },
  {
   "cell_type": "code",
   "execution_count": 42,
   "metadata": {},
   "outputs": [
    {
     "output_type": "execute_result",
     "data": {
      "text/plain": "               name       season  \\\n102   American Dad!  SEASON 9/10   \n548   American Dad!    SEASON 11   \n1033  American Dad!    SEASON 11   \n1613  American Dad!    SEASON 12   \n2311  American Dad!    SEASON 13   \n2312  American Dad!    SEASON 14   \n3104  American Dad!    SEASON 15   \n3936  American Dad!    SEASON 15   \n\n                                              status tv_network   ano  \n102   Final season on  Fox; moves to  TBS in 2014-15        Fox  2013  \n548               Renewed for a 12th season on 11/18        TBS  2014  \n1033        Renewed for 2 additional seasons on 8/27        TBS  2015  \n1613                  Previously renewed through S13        TBS  2016  \n2311                                             NaN        TBS  2017  \n2312                  Renewed through S16 on 1/11/18        TBS  2017  \n3104                  Previously renewed through S16        TBS  2018  \n3936                                             NaN        TBS  2019  ",
      "text/html": "<div>\n<style scoped>\n    .dataframe tbody tr th:only-of-type {\n        vertical-align: middle;\n    }\n\n    .dataframe tbody tr th {\n        vertical-align: top;\n    }\n\n    .dataframe thead th {\n        text-align: right;\n    }\n</style>\n<table border=\"1\" class=\"dataframe\">\n  <thead>\n    <tr style=\"text-align: right;\">\n      <th></th>\n      <th>name</th>\n      <th>season</th>\n      <th>status</th>\n      <th>tv_network</th>\n      <th>ano</th>\n    </tr>\n  </thead>\n  <tbody>\n    <tr>\n      <th>102</th>\n      <td>American Dad!</td>\n      <td>SEASON 9/10</td>\n      <td>Final season on  Fox; moves to  TBS in 2014-15</td>\n      <td>Fox</td>\n      <td>2013</td>\n    </tr>\n    <tr>\n      <th>548</th>\n      <td>American Dad!</td>\n      <td>SEASON 11</td>\n      <td>Renewed for a 12th season on 11/18</td>\n      <td>TBS</td>\n      <td>2014</td>\n    </tr>\n    <tr>\n      <th>1033</th>\n      <td>American Dad!</td>\n      <td>SEASON 11</td>\n      <td>Renewed for 2 additional seasons on 8/27</td>\n      <td>TBS</td>\n      <td>2015</td>\n    </tr>\n    <tr>\n      <th>1613</th>\n      <td>American Dad!</td>\n      <td>SEASON 12</td>\n      <td>Previously renewed through S13</td>\n      <td>TBS</td>\n      <td>2016</td>\n    </tr>\n    <tr>\n      <th>2311</th>\n      <td>American Dad!</td>\n      <td>SEASON 13</td>\n      <td>NaN</td>\n      <td>TBS</td>\n      <td>2017</td>\n    </tr>\n    <tr>\n      <th>2312</th>\n      <td>American Dad!</td>\n      <td>SEASON 14</td>\n      <td>Renewed through S16 on 1/11/18</td>\n      <td>TBS</td>\n      <td>2017</td>\n    </tr>\n    <tr>\n      <th>3104</th>\n      <td>American Dad!</td>\n      <td>SEASON 15</td>\n      <td>Previously renewed through S16</td>\n      <td>TBS</td>\n      <td>2018</td>\n    </tr>\n    <tr>\n      <th>3936</th>\n      <td>American Dad!</td>\n      <td>SEASON 15</td>\n      <td>NaN</td>\n      <td>TBS</td>\n      <td>2019</td>\n    </tr>\n  </tbody>\n</table>\n</div>"
     },
     "metadata": {},
     "execution_count": 42
    }
   ],
   "source": [
    "df_tvstatus[df_tvstatus['name'].str.contains('American Dad!', flags=re.IGNORECASE, regex=True, na=False)]"
   ]
  },
  {
   "cell_type": "code",
   "execution_count": 43,
   "metadata": {},
   "outputs": [
    {
     "output_type": "execute_result",
     "data": {
      "text/plain": "                name                    season    status tv_network   ano  \\\n649   Anne With an E                       NaN   RENEWED    NETFLIX  2016   \n724   Anne With an E  SEASON 2 starts tbd 2018       NaN    NETFLIX  2017   \n898   Anne With an E                  SEASON 2   RENEWED    NETFLIX  2018   \n1168  Anne With an E                  SEASON 3  CANCELED    NETFLIX  2019   \n\n      changed_network  \n649             False  \n724             False  \n898             False  \n1168            False  ",
      "text/html": "<div>\n<style scoped>\n    .dataframe tbody tr th:only-of-type {\n        vertical-align: middle;\n    }\n\n    .dataframe tbody tr th {\n        vertical-align: top;\n    }\n\n    .dataframe thead th {\n        text-align: right;\n    }\n</style>\n<table border=\"1\" class=\"dataframe\">\n  <thead>\n    <tr style=\"text-align: right;\">\n      <th></th>\n      <th>name</th>\n      <th>season</th>\n      <th>status</th>\n      <th>tv_network</th>\n      <th>ano</th>\n      <th>changed_network</th>\n    </tr>\n  </thead>\n  <tbody>\n    <tr>\n      <th>649</th>\n      <td>Anne With an E</td>\n      <td>NaN</td>\n      <td>RENEWED</td>\n      <td>NETFLIX</td>\n      <td>2016</td>\n      <td>False</td>\n    </tr>\n    <tr>\n      <th>724</th>\n      <td>Anne With an E</td>\n      <td>SEASON 2 starts tbd 2018</td>\n      <td>NaN</td>\n      <td>NETFLIX</td>\n      <td>2017</td>\n      <td>False</td>\n    </tr>\n    <tr>\n      <th>898</th>\n      <td>Anne With an E</td>\n      <td>SEASON 2</td>\n      <td>RENEWED</td>\n      <td>NETFLIX</td>\n      <td>2018</td>\n      <td>False</td>\n    </tr>\n    <tr>\n      <th>1168</th>\n      <td>Anne With an E</td>\n      <td>SEASON 3</td>\n      <td>CANCELED</td>\n      <td>NETFLIX</td>\n      <td>2019</td>\n      <td>False</td>\n    </tr>\n  </tbody>\n</table>\n</div>"
     },
     "metadata": {},
     "execution_count": 43
    }
   ],
   "source": [
    "df_tvstatus_popular_cleaning[df_tvstatus_popular_cleaning['name'].str.contains('Anne with an e', flags=re.IGNORECASE, regex=True, na=False)]"
   ]
  },
  {
   "cell_type": "code",
   "execution_count": 50,
   "metadata": {},
   "outputs": [],
   "source": [
    "df_grouped = df_tvstatus_popular_cleaning[['name', 'season', 'status', 'tv_network', 'ano', 'changed_network']].groupby(df_tvstatus_popular_cleaning['name'])"
   ]
  },
  {
   "cell_type": "code",
   "execution_count": 53,
   "metadata": {},
   "outputs": [
    {
     "output_type": "execute_result",
     "data": {
      "text/plain": "                                      name         \\\n                                     count unique   \nname                                                \n#blackAF                                 1      1   \n$100,000 Pyramid                         5      1   \n11/22/63                                 2      1   \n12 Monkeys                               4      1   \n13 Reasons Why                           3      1   \n...                                    ...    ...   \nmixed-ish                                1      1   \nrevisions                                1      1   \nuntitled Halo series (Spielberg)         1      1   \nuntitled Jon Stewart animated series     1      1   \nÉlite                                    3      1   \n\n                                                                            \\\n                                                                       top   \nname                                                                         \n#blackAF                                                          #blackAF   \n$100,000 Pyramid                                          $100,000 Pyramid   \n11/22/63                                                          11/22/63   \n12 Monkeys                                                      12 Monkeys   \n13 Reasons Why                                              13 Reasons Why   \n...                                                                    ...   \nmixed-ish                                                        mixed-ish   \nrevisions                                                        revisions   \nuntitled Halo series (Spielberg)          untitled Halo series (Spielberg)   \nuntitled Jon Stewart animated series  untitled Jon Stewart animated series   \nÉlite                                                                Élite   \n\n                                          season                          \\\n                                     freq  count unique         top freq   \nname                                                                       \n#blackAF                                1      0      0         NaN  NaN   \n$100,000 Pyramid                        5      4      4    SEASON 3    1   \n11/22/63                                2      1      1  Starts tbd    1   \n12 Monkeys                              4      3      3    SEASON 3    1   \n13 Reasons Why                          3      2      2    SEASON 3    1   \n...                                   ...    ...    ...         ...  ...   \nmixed-ish                               1      0      0         NaN  NaN   \nrevisions                               1      0      0         NaN  NaN   \nuntitled Halo series (Spielberg)        1      1      1  starts tbd    1   \nuntitled Jon Stewart animated series    1      0      0         NaN  NaN   \nÉlite                                   3      2      2    SEASON 3    1   \n\n                                     status         ... tv_network        ano  \\\n                                      count unique  ...        top freq count   \nname                                                ...                         \n#blackAF                                  1      1  ...    NETFLIX    1     1   \n$100,000 Pyramid                          5      2  ...        ABC    5     5   \n11/22/63                                  0      0  ...       HULU    2     2   \n12 Monkeys                                4      2  ...       SYFY    4     4   \n13 Reasons Why                            3      1  ...    NETFLIX    3     3   \n...                                     ...    ...  ...        ...  ...   ...   \nmixed-ish                                 1      1  ...        ABC    1     1   \nrevisions                                 1      1  ...    NETFLIX    1     1   \nuntitled Halo series (Spielberg)          1      1  ...   SHOWTIME    1     1   \nuntitled Jon Stewart animated series      1      1  ...        HBO    1     1   \nÉlite                                     3      1  ...    NETFLIX    3     3   \n\n                                                       changed_network         \\\n                                     unique   top freq           count unique   \nname                                                                            \n#blackAF                                  1  2019    1               1      1   \n$100,000 Pyramid                          5  2015    1               5      1   \n11/22/63                                  2  2015    1               2      1   \n12 Monkeys                                4  2015    1               4      1   \n13 Reasons Why                            3  2019    1               3      1   \n...                                     ...   ...  ...             ...    ...   \nmixed-ish                                 1  2019    1               1      1   \nrevisions                                 1  2018    1               1      1   \nuntitled Halo series (Spielberg)          1  2017    1               1      1   \nuntitled Jon Stewart animated series      1  2016    1               1      1   \nÉlite                                     2  2019    2               3      1   \n\n                                                  \n                                        top freq  \nname                                              \n#blackAF                              False    1  \n$100,000 Pyramid                      False    5  \n11/22/63                              False    2  \n12 Monkeys                            False    4  \n13 Reasons Why                        False    3  \n...                                     ...  ...  \nmixed-ish                             False    1  \nrevisions                             False    1  \nuntitled Halo series (Spielberg)      False    1  \nuntitled Jon Stewart animated series  False    1  \nÉlite                                 False    3  \n\n[1737 rows x 24 columns]",
      "text/html": "<div>\n<style scoped>\n    .dataframe tbody tr th:only-of-type {\n        vertical-align: middle;\n    }\n\n    .dataframe tbody tr th {\n        vertical-align: top;\n    }\n\n    .dataframe thead tr th {\n        text-align: left;\n    }\n\n    .dataframe thead tr:last-of-type th {\n        text-align: right;\n    }\n</style>\n<table border=\"1\" class=\"dataframe\">\n  <thead>\n    <tr>\n      <th></th>\n      <th colspan=\"4\" halign=\"left\">name</th>\n      <th colspan=\"4\" halign=\"left\">season</th>\n      <th colspan=\"2\" halign=\"left\">status</th>\n      <th>...</th>\n      <th colspan=\"2\" halign=\"left\">tv_network</th>\n      <th colspan=\"4\" halign=\"left\">ano</th>\n      <th colspan=\"4\" halign=\"left\">changed_network</th>\n    </tr>\n    <tr>\n      <th></th>\n      <th>count</th>\n      <th>unique</th>\n      <th>top</th>\n      <th>freq</th>\n      <th>count</th>\n      <th>unique</th>\n      <th>top</th>\n      <th>freq</th>\n      <th>count</th>\n      <th>unique</th>\n      <th>...</th>\n      <th>top</th>\n      <th>freq</th>\n      <th>count</th>\n      <th>unique</th>\n      <th>top</th>\n      <th>freq</th>\n      <th>count</th>\n      <th>unique</th>\n      <th>top</th>\n      <th>freq</th>\n    </tr>\n    <tr>\n      <th>name</th>\n      <th></th>\n      <th></th>\n      <th></th>\n      <th></th>\n      <th></th>\n      <th></th>\n      <th></th>\n      <th></th>\n      <th></th>\n      <th></th>\n      <th></th>\n      <th></th>\n      <th></th>\n      <th></th>\n      <th></th>\n      <th></th>\n      <th></th>\n      <th></th>\n      <th></th>\n      <th></th>\n      <th></th>\n    </tr>\n  </thead>\n  <tbody>\n    <tr>\n      <th>#blackAF</th>\n      <td>1</td>\n      <td>1</td>\n      <td>#blackAF</td>\n      <td>1</td>\n      <td>0</td>\n      <td>0</td>\n      <td>NaN</td>\n      <td>NaN</td>\n      <td>1</td>\n      <td>1</td>\n      <td>...</td>\n      <td>NETFLIX</td>\n      <td>1</td>\n      <td>1</td>\n      <td>1</td>\n      <td>2019</td>\n      <td>1</td>\n      <td>1</td>\n      <td>1</td>\n      <td>False</td>\n      <td>1</td>\n    </tr>\n    <tr>\n      <th>$100,000 Pyramid</th>\n      <td>5</td>\n      <td>1</td>\n      <td>$100,000 Pyramid</td>\n      <td>5</td>\n      <td>4</td>\n      <td>4</td>\n      <td>SEASON 3</td>\n      <td>1</td>\n      <td>5</td>\n      <td>2</td>\n      <td>...</td>\n      <td>ABC</td>\n      <td>5</td>\n      <td>5</td>\n      <td>5</td>\n      <td>2015</td>\n      <td>1</td>\n      <td>5</td>\n      <td>1</td>\n      <td>False</td>\n      <td>5</td>\n    </tr>\n    <tr>\n      <th>11/22/63</th>\n      <td>2</td>\n      <td>1</td>\n      <td>11/22/63</td>\n      <td>2</td>\n      <td>1</td>\n      <td>1</td>\n      <td>Starts tbd</td>\n      <td>1</td>\n      <td>0</td>\n      <td>0</td>\n      <td>...</td>\n      <td>HULU</td>\n      <td>2</td>\n      <td>2</td>\n      <td>2</td>\n      <td>2015</td>\n      <td>1</td>\n      <td>2</td>\n      <td>1</td>\n      <td>False</td>\n      <td>2</td>\n    </tr>\n    <tr>\n      <th>12 Monkeys</th>\n      <td>4</td>\n      <td>1</td>\n      <td>12 Monkeys</td>\n      <td>4</td>\n      <td>3</td>\n      <td>3</td>\n      <td>SEASON 3</td>\n      <td>1</td>\n      <td>4</td>\n      <td>2</td>\n      <td>...</td>\n      <td>SYFY</td>\n      <td>4</td>\n      <td>4</td>\n      <td>4</td>\n      <td>2015</td>\n      <td>1</td>\n      <td>4</td>\n      <td>1</td>\n      <td>False</td>\n      <td>4</td>\n    </tr>\n    <tr>\n      <th>13 Reasons Why</th>\n      <td>3</td>\n      <td>1</td>\n      <td>13 Reasons Why</td>\n      <td>3</td>\n      <td>2</td>\n      <td>2</td>\n      <td>SEASON 3</td>\n      <td>1</td>\n      <td>3</td>\n      <td>1</td>\n      <td>...</td>\n      <td>NETFLIX</td>\n      <td>3</td>\n      <td>3</td>\n      <td>3</td>\n      <td>2019</td>\n      <td>1</td>\n      <td>3</td>\n      <td>1</td>\n      <td>False</td>\n      <td>3</td>\n    </tr>\n    <tr>\n      <th>...</th>\n      <td>...</td>\n      <td>...</td>\n      <td>...</td>\n      <td>...</td>\n      <td>...</td>\n      <td>...</td>\n      <td>...</td>\n      <td>...</td>\n      <td>...</td>\n      <td>...</td>\n      <td>...</td>\n      <td>...</td>\n      <td>...</td>\n      <td>...</td>\n      <td>...</td>\n      <td>...</td>\n      <td>...</td>\n      <td>...</td>\n      <td>...</td>\n      <td>...</td>\n      <td>...</td>\n    </tr>\n    <tr>\n      <th>mixed-ish</th>\n      <td>1</td>\n      <td>1</td>\n      <td>mixed-ish</td>\n      <td>1</td>\n      <td>0</td>\n      <td>0</td>\n      <td>NaN</td>\n      <td>NaN</td>\n      <td>1</td>\n      <td>1</td>\n      <td>...</td>\n      <td>ABC</td>\n      <td>1</td>\n      <td>1</td>\n      <td>1</td>\n      <td>2019</td>\n      <td>1</td>\n      <td>1</td>\n      <td>1</td>\n      <td>False</td>\n      <td>1</td>\n    </tr>\n    <tr>\n      <th>revisions</th>\n      <td>1</td>\n      <td>1</td>\n      <td>revisions</td>\n      <td>1</td>\n      <td>0</td>\n      <td>0</td>\n      <td>NaN</td>\n      <td>NaN</td>\n      <td>1</td>\n      <td>1</td>\n      <td>...</td>\n      <td>NETFLIX</td>\n      <td>1</td>\n      <td>1</td>\n      <td>1</td>\n      <td>2018</td>\n      <td>1</td>\n      <td>1</td>\n      <td>1</td>\n      <td>False</td>\n      <td>1</td>\n    </tr>\n    <tr>\n      <th>untitled Halo series (Spielberg)</th>\n      <td>1</td>\n      <td>1</td>\n      <td>untitled Halo series (Spielberg)</td>\n      <td>1</td>\n      <td>1</td>\n      <td>1</td>\n      <td>starts tbd</td>\n      <td>1</td>\n      <td>1</td>\n      <td>1</td>\n      <td>...</td>\n      <td>SHOWTIME</td>\n      <td>1</td>\n      <td>1</td>\n      <td>1</td>\n      <td>2017</td>\n      <td>1</td>\n      <td>1</td>\n      <td>1</td>\n      <td>False</td>\n      <td>1</td>\n    </tr>\n    <tr>\n      <th>untitled Jon Stewart animated series</th>\n      <td>1</td>\n      <td>1</td>\n      <td>untitled Jon Stewart animated series</td>\n      <td>1</td>\n      <td>0</td>\n      <td>0</td>\n      <td>NaN</td>\n      <td>NaN</td>\n      <td>1</td>\n      <td>1</td>\n      <td>...</td>\n      <td>HBO</td>\n      <td>1</td>\n      <td>1</td>\n      <td>1</td>\n      <td>2016</td>\n      <td>1</td>\n      <td>1</td>\n      <td>1</td>\n      <td>False</td>\n      <td>1</td>\n    </tr>\n    <tr>\n      <th>Élite</th>\n      <td>3</td>\n      <td>1</td>\n      <td>Élite</td>\n      <td>3</td>\n      <td>2</td>\n      <td>2</td>\n      <td>SEASON 3</td>\n      <td>1</td>\n      <td>3</td>\n      <td>1</td>\n      <td>...</td>\n      <td>NETFLIX</td>\n      <td>3</td>\n      <td>3</td>\n      <td>2</td>\n      <td>2019</td>\n      <td>2</td>\n      <td>3</td>\n      <td>1</td>\n      <td>False</td>\n      <td>3</td>\n    </tr>\n  </tbody>\n</table>\n<p>1737 rows × 24 columns</p>\n</div>"
     },
     "metadata": {},
     "execution_count": 53
    }
   ],
   "source": [
    "df_grouped.describe()"
   ]
  },
  {
   "cell_type": "code",
   "execution_count": 57,
   "metadata": {},
   "outputs": [
    {
     "output_type": "execute_result",
     "data": {
      "text/plain": "            name    season   status tv_network   ano  changed_network\n2531  12 Monkeys       NaN  RENEWED       SYFY  2014            False\n2548  12 Monkeys  SEASON 2  RENEWED       SYFY  2015            False\n2560  12 Monkeys  SEASON 3  RENEWED       SYFY  2016            False\n2585  12 Monkeys  SEASON 4      END       SYFY  2018            False",
      "text/html": "<div>\n<style scoped>\n    .dataframe tbody tr th:only-of-type {\n        vertical-align: middle;\n    }\n\n    .dataframe tbody tr th {\n        vertical-align: top;\n    }\n\n    .dataframe thead th {\n        text-align: right;\n    }\n</style>\n<table border=\"1\" class=\"dataframe\">\n  <thead>\n    <tr style=\"text-align: right;\">\n      <th></th>\n      <th>name</th>\n      <th>season</th>\n      <th>status</th>\n      <th>tv_network</th>\n      <th>ano</th>\n      <th>changed_network</th>\n    </tr>\n  </thead>\n  <tbody>\n    <tr>\n      <th>2531</th>\n      <td>12 Monkeys</td>\n      <td>NaN</td>\n      <td>RENEWED</td>\n      <td>SYFY</td>\n      <td>2014</td>\n      <td>False</td>\n    </tr>\n    <tr>\n      <th>2548</th>\n      <td>12 Monkeys</td>\n      <td>SEASON 2</td>\n      <td>RENEWED</td>\n      <td>SYFY</td>\n      <td>2015</td>\n      <td>False</td>\n    </tr>\n    <tr>\n      <th>2560</th>\n      <td>12 Monkeys</td>\n      <td>SEASON 3</td>\n      <td>RENEWED</td>\n      <td>SYFY</td>\n      <td>2016</td>\n      <td>False</td>\n    </tr>\n    <tr>\n      <th>2585</th>\n      <td>12 Monkeys</td>\n      <td>SEASON 4</td>\n      <td>END</td>\n      <td>SYFY</td>\n      <td>2018</td>\n      <td>False</td>\n    </tr>\n  </tbody>\n</table>\n</div>"
     },
     "metadata": {},
     "execution_count": 57
    }
   ],
   "source": [
    "df_tvstatus_popular_cleaning[df_tvstatus_popular_cleaning['name'].str.contains('12 Monkeys', flags=re.IGNORECASE, regex=True, na=False)]"
   ]
  },
  {
   "cell_type": "code",
   "execution_count": null,
   "metadata": {},
   "outputs": [],
   "source": []
  }
 ],
 "metadata": {
  "language_info": {
   "codemirror_mode": {
    "name": "ipython",
    "version": 3
   },
   "file_extension": ".py",
   "mimetype": "text/x-python",
   "name": "python",
   "nbconvert_exporter": "python",
   "pygments_lexer": "ipython3",
   "version": "3.6.9-final"
  },
  "orig_nbformat": 2,
  "kernelspec": {
   "name": "python36964bit8187c9110e0b4b26a93ccac805d1391d",
   "display_name": "Python 3.6.9 64-bit",
   "metadata": {
    "interpreter": {
     "hash": "31f2aee4e71d21fbe5cf8b01ff0e069b9275f58929596ceb00d14d90e3e16cd6"
    }
   }
  }
 },
 "nbformat": 4,
 "nbformat_minor": 2
}