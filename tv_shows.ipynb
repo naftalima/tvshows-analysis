{
 "metadata": {
  "language_info": {
   "codemirror_mode": {
    "name": "ipython",
    "version": 3
   },
   "file_extension": ".py",
   "mimetype": "text/x-python",
   "name": "python",
   "nbconvert_exporter": "python",
   "pygments_lexer": "ipython3",
   "version": "3.6.9-final"
  },
  "orig_nbformat": 2,
  "kernelspec": {
   "name": "Python 3.6.9 64-bit",
   "display_name": "Python 3.6.9 64-bit",
   "metadata": {
    "interpreter": {
     "hash": "31f2aee4e71d21fbe5cf8b01ff0e069b9275f58929596ceb00d14d90e3e16cd6"
    }
   }
  }
 },
 "nbformat": 4,
 "nbformat_minor": 2,
 "cells": [
  {
   "cell_type": "code",
   "execution_count": 28,
   "metadata": {},
   "outputs": [],
   "source": [
    "import pandas as pd\n",
    "import kaggle\n",
    "import re"
   ]
  },
  {
   "cell_type": "code",
   "execution_count": 29,
   "metadata": {},
   "outputs": [],
   "source": [
    "kaggle.api.authenticate()"
   ]
  },
  {
   "cell_type": "code",
   "execution_count": 30,
   "metadata": {},
   "outputs": [
    {
     "output_type": "execute_result",
     "data": {
      "text/plain": [
       "       id                name  followers  nb_rates  runtime  \\\n",
       "0  288128         X-Ray & Vav        230        10        9   \n",
       "1  313803  Sister's Slam Dunk       1298       100       80   \n",
       "2  325462             Reverse        270        15       60   \n",
       "3  325198     Frame Arms Girl        900        24       25   \n",
       "4  349743        Mr Inbetween       7123       118       25   \n",
       "\n",
       "   number_of_seasons                    network  mean_rate  \\\n",
       "0                  2              Rooster Teeth       4.20   \n",
       "1                  2                    KBS TV2       4.25   \n",
       "2                  1  Tokyo Broadcasting System       4.63   \n",
       "3                  1                   Tokyo MX       3.54   \n",
       "4                  2                         FX       4.42   \n",
       "\n",
       "                                        poster_image  \\\n",
       "0  https://dg31sz3gwrwan.cloudfront.net/poster/28...   \n",
       "1  https://dg31sz3gwrwan.cloudfront.net/poster/31...   \n",
       "2  https://dg31sz3gwrwan.cloudfront.net/poster/32...   \n",
       "3  https://dg31sz3gwrwan.cloudfront.net/poster/32...   \n",
       "4  https://dg31sz3gwrwan.cloudfront.net/poster/34...   \n",
       "\n",
       "                                             seasons  \n",
       "0  [{'number': 1, 'nb_episodes': 4}, {'number': 2...  \n",
       "1  [{'number': 1, 'nb_episodes': 33}, {'number': ...  \n",
       "2                 [{'number': 1, 'nb_episodes': 10}]  \n",
       "3                 [{'number': 1, 'nb_episodes': 12}]  \n",
       "4  [{'number': 1, 'nb_episodes': 6}, {'number': 2...  "
      ],
      "text/html": "<div>\n<style scoped>\n    .dataframe tbody tr th:only-of-type {\n        vertical-align: middle;\n    }\n\n    .dataframe tbody tr th {\n        vertical-align: top;\n    }\n\n    .dataframe thead th {\n        text-align: right;\n    }\n</style>\n<table border=\"1\" class=\"dataframe\">\n  <thead>\n    <tr style=\"text-align: right;\">\n      <th></th>\n      <th>id</th>\n      <th>name</th>\n      <th>followers</th>\n      <th>nb_rates</th>\n      <th>runtime</th>\n      <th>number_of_seasons</th>\n      <th>network</th>\n      <th>mean_rate</th>\n      <th>poster_image</th>\n      <th>seasons</th>\n    </tr>\n  </thead>\n  <tbody>\n    <tr>\n      <th>0</th>\n      <td>288128</td>\n      <td>X-Ray &amp; Vav</td>\n      <td>230</td>\n      <td>10</td>\n      <td>9</td>\n      <td>2</td>\n      <td>Rooster Teeth</td>\n      <td>4.20</td>\n      <td>https://dg31sz3gwrwan.cloudfront.net/poster/28...</td>\n      <td>[{'number': 1, 'nb_episodes': 4}, {'number': 2...</td>\n    </tr>\n    <tr>\n      <th>1</th>\n      <td>313803</td>\n      <td>Sister's Slam Dunk</td>\n      <td>1298</td>\n      <td>100</td>\n      <td>80</td>\n      <td>2</td>\n      <td>KBS TV2</td>\n      <td>4.25</td>\n      <td>https://dg31sz3gwrwan.cloudfront.net/poster/31...</td>\n      <td>[{'number': 1, 'nb_episodes': 33}, {'number': ...</td>\n    </tr>\n    <tr>\n      <th>2</th>\n      <td>325462</td>\n      <td>Reverse</td>\n      <td>270</td>\n      <td>15</td>\n      <td>60</td>\n      <td>1</td>\n      <td>Tokyo Broadcasting System</td>\n      <td>4.63</td>\n      <td>https://dg31sz3gwrwan.cloudfront.net/poster/32...</td>\n      <td>[{'number': 1, 'nb_episodes': 10}]</td>\n    </tr>\n    <tr>\n      <th>3</th>\n      <td>325198</td>\n      <td>Frame Arms Girl</td>\n      <td>900</td>\n      <td>24</td>\n      <td>25</td>\n      <td>1</td>\n      <td>Tokyo MX</td>\n      <td>3.54</td>\n      <td>https://dg31sz3gwrwan.cloudfront.net/poster/32...</td>\n      <td>[{'number': 1, 'nb_episodes': 12}]</td>\n    </tr>\n    <tr>\n      <th>4</th>\n      <td>349743</td>\n      <td>Mr Inbetween</td>\n      <td>7123</td>\n      <td>118</td>\n      <td>25</td>\n      <td>2</td>\n      <td>FX</td>\n      <td>4.42</td>\n      <td>https://dg31sz3gwrwan.cloudfront.net/poster/34...</td>\n      <td>[{'number': 1, 'nb_episodes': 6}, {'number': 2...</td>\n    </tr>\n  </tbody>\n</table>\n</div>"
     },
     "metadata": {},
     "execution_count": 30
    }
   ],
   "source": [
    "# https://www.kaggle.com/oscarfry/tvtime-shows?select=tvtimeshows.csv\n",
    "kaggle.api.dataset_download_files('oscarfry/tvtime-shows', path='./data/tvtimeshows', unzip = True)\n",
    "\n",
    "df_tvtime = pd.read_csv('data/tvtimeshows/tvtimeshows.csv')\n",
    "df_tvtime.head()"
   ]
  },
  {
   "cell_type": "code",
   "execution_count": 31,
   "metadata": {},
   "outputs": [
    {
     "output_type": "execute_result",
     "data": {
      "text/plain": [
       "   Unnamed: 0             Title  Year  Age  IMDb Rotten Tomatoes  Netflix  \\\n",
       "0           0      Breaking Bad  2008  18+   9.5             96%        1   \n",
       "1           1   Stranger Things  2016  16+   8.8             93%        1   \n",
       "2           2       Money Heist  2017  18+   8.4             91%        1   \n",
       "3           3          Sherlock  2010  16+   9.1             78%        1   \n",
       "4           4  Better Call Saul  2015  18+   8.7             97%        1   \n",
       "\n",
       "   Hulu  Prime Video  Disney+  type  \n",
       "0     0            0        0     1  \n",
       "1     0            0        0     1  \n",
       "2     0            0        0     1  \n",
       "3     0            0        0     1  \n",
       "4     0            0        0     1  "
      ],
      "text/html": "<div>\n<style scoped>\n    .dataframe tbody tr th:only-of-type {\n        vertical-align: middle;\n    }\n\n    .dataframe tbody tr th {\n        vertical-align: top;\n    }\n\n    .dataframe thead th {\n        text-align: right;\n    }\n</style>\n<table border=\"1\" class=\"dataframe\">\n  <thead>\n    <tr style=\"text-align: right;\">\n      <th></th>\n      <th>Unnamed: 0</th>\n      <th>Title</th>\n      <th>Year</th>\n      <th>Age</th>\n      <th>IMDb</th>\n      <th>Rotten Tomatoes</th>\n      <th>Netflix</th>\n      <th>Hulu</th>\n      <th>Prime Video</th>\n      <th>Disney+</th>\n      <th>type</th>\n    </tr>\n  </thead>\n  <tbody>\n    <tr>\n      <th>0</th>\n      <td>0</td>\n      <td>Breaking Bad</td>\n      <td>2008</td>\n      <td>18+</td>\n      <td>9.5</td>\n      <td>96%</td>\n      <td>1</td>\n      <td>0</td>\n      <td>0</td>\n      <td>0</td>\n      <td>1</td>\n    </tr>\n    <tr>\n      <th>1</th>\n      <td>1</td>\n      <td>Stranger Things</td>\n      <td>2016</td>\n      <td>16+</td>\n      <td>8.8</td>\n      <td>93%</td>\n      <td>1</td>\n      <td>0</td>\n      <td>0</td>\n      <td>0</td>\n      <td>1</td>\n    </tr>\n    <tr>\n      <th>2</th>\n      <td>2</td>\n      <td>Money Heist</td>\n      <td>2017</td>\n      <td>18+</td>\n      <td>8.4</td>\n      <td>91%</td>\n      <td>1</td>\n      <td>0</td>\n      <td>0</td>\n      <td>0</td>\n      <td>1</td>\n    </tr>\n    <tr>\n      <th>3</th>\n      <td>3</td>\n      <td>Sherlock</td>\n      <td>2010</td>\n      <td>16+</td>\n      <td>9.1</td>\n      <td>78%</td>\n      <td>1</td>\n      <td>0</td>\n      <td>0</td>\n      <td>0</td>\n      <td>1</td>\n    </tr>\n    <tr>\n      <th>4</th>\n      <td>4</td>\n      <td>Better Call Saul</td>\n      <td>2015</td>\n      <td>18+</td>\n      <td>8.7</td>\n      <td>97%</td>\n      <td>1</td>\n      <td>0</td>\n      <td>0</td>\n      <td>0</td>\n      <td>1</td>\n    </tr>\n  </tbody>\n</table>\n</div>"
     },
     "metadata": {},
     "execution_count": 31
    }
   ],
   "source": [
    "# https://www.kaggle.com/ruchi798/tv-shows-on-netflix-prime-video-hulu-and-disney \n",
    "kaggle.api.dataset_download_files('ruchi798/tv-shows-on-netflix-prime-video-hulu-and-disney', path='./data/streamings', unzip = True)\n",
    "\n",
    "df_streamings = pd.read_csv('data/streamings/tv_shows.csv')\n",
    "df_streamings.head()"
   ]
  },
  {
   "cell_type": "code",
   "execution_count": 32,
   "metadata": {},
   "outputs": [
    {
     "output_type": "execute_result",
     "data": {
      "text/plain": [
       "   id  year                                           category  \\\n",
       "0   1  2019       Outstanding Character Voice-Over Performance   \n",
       "1   2  2019       Outstanding Character Voice-Over Performance   \n",
       "2   3  2019       Outstanding Character Voice-Over Performance   \n",
       "3   4  2019       Outstanding Character Voice-Over Performance   \n",
       "4   5  2019  Outstanding Production Design For A Narrative ...   \n",
       "\n",
       "                                             nominee  \\\n",
       "0                                       The Simpsons   \n",
       "1                                         Family Guy   \n",
       "2  When You Wish Upon A Pickle: A Sesame Street S...   \n",
       "3                                    F Is For Family   \n",
       "4                                Escape At Dannemora   \n",
       "\n",
       "                                               staff   company  \\\n",
       "0           Hank Azaria, as Moe, Carl, Duffman, Kirk       FOX   \n",
       "1    Alex Borstein, as Lois Griffin, Tricia Takanawa       FOX   \n",
       "2              Eric Jacobson, as Bert, Grover, Oscar       HBO   \n",
       "3                 Kevin Michael Richardson, as Rosie   Netflix   \n",
       "4  Mark Ricker, Production Designer; James Truesd...  Showtime   \n",
       "\n",
       "                                            producer    win  \n",
       "0  Gracie Films in association with 20th Century ...  False  \n",
       "1                        20th Century Fox Television  False  \n",
       "2                             Sesame Street Workshop  False  \n",
       "3  Wild West Television in association with Gaumo...  False  \n",
       "4  Red Hour, Busyhands, The White Mountain Compan...  False  "
      ],
      "text/html": "<div>\n<style scoped>\n    .dataframe tbody tr th:only-of-type {\n        vertical-align: middle;\n    }\n\n    .dataframe tbody tr th {\n        vertical-align: top;\n    }\n\n    .dataframe thead th {\n        text-align: right;\n    }\n</style>\n<table border=\"1\" class=\"dataframe\">\n  <thead>\n    <tr style=\"text-align: right;\">\n      <th></th>\n      <th>id</th>\n      <th>year</th>\n      <th>category</th>\n      <th>nominee</th>\n      <th>staff</th>\n      <th>company</th>\n      <th>producer</th>\n      <th>win</th>\n    </tr>\n  </thead>\n  <tbody>\n    <tr>\n      <th>0</th>\n      <td>1</td>\n      <td>2019</td>\n      <td>Outstanding Character Voice-Over Performance</td>\n      <td>The Simpsons</td>\n      <td>Hank Azaria, as Moe, Carl, Duffman, Kirk</td>\n      <td>FOX</td>\n      <td>Gracie Films in association with 20th Century ...</td>\n      <td>False</td>\n    </tr>\n    <tr>\n      <th>1</th>\n      <td>2</td>\n      <td>2019</td>\n      <td>Outstanding Character Voice-Over Performance</td>\n      <td>Family Guy</td>\n      <td>Alex Borstein, as Lois Griffin, Tricia Takanawa</td>\n      <td>FOX</td>\n      <td>20th Century Fox Television</td>\n      <td>False</td>\n    </tr>\n    <tr>\n      <th>2</th>\n      <td>3</td>\n      <td>2019</td>\n      <td>Outstanding Character Voice-Over Performance</td>\n      <td>When You Wish Upon A Pickle: A Sesame Street S...</td>\n      <td>Eric Jacobson, as Bert, Grover, Oscar</td>\n      <td>HBO</td>\n      <td>Sesame Street Workshop</td>\n      <td>False</td>\n    </tr>\n    <tr>\n      <th>3</th>\n      <td>4</td>\n      <td>2019</td>\n      <td>Outstanding Character Voice-Over Performance</td>\n      <td>F Is For Family</td>\n      <td>Kevin Michael Richardson, as Rosie</td>\n      <td>Netflix</td>\n      <td>Wild West Television in association with Gaumo...</td>\n      <td>False</td>\n    </tr>\n    <tr>\n      <th>4</th>\n      <td>5</td>\n      <td>2019</td>\n      <td>Outstanding Production Design For A Narrative ...</td>\n      <td>Escape At Dannemora</td>\n      <td>Mark Ricker, Production Designer; James Truesd...</td>\n      <td>Showtime</td>\n      <td>Red Hour, Busyhands, The White Mountain Compan...</td>\n      <td>False</td>\n    </tr>\n  </tbody>\n</table>\n</div>"
     },
     "metadata": {},
     "execution_count": 32
    }
   ],
   "source": [
    "# https://www.kaggle.com/unanimad/emmy-awards\n",
    "kaggle.api.dataset_download_files('unanimad/emmy-awards', path='./data/awards', unzip = True)\n",
    "\n",
    "df_award_emmy = pd.read_csv('data/awards/the_emmy_awards.csv')\n",
    "df_award_emmy.head()"
   ]
  },
  {
   "cell_type": "code",
   "execution_count": 33,
   "metadata": {},
   "outputs": [
    {
     "output_type": "execute_result",
     "data": {
      "text/plain": [
       "   year_film  year_award  ceremony  \\\n",
       "0       1943        1944         1   \n",
       "1       1943        1944         1   \n",
       "2       1943        1944         1   \n",
       "3       1943        1944         1   \n",
       "4       1943        1944         1   \n",
       "\n",
       "                                            category                 nominee  \\\n",
       "0  Best Performance by an Actress in a Supporting...          Katina Paxinou   \n",
       "1  Best Performance by an Actor in a Supporting R...           Akim Tamiroff   \n",
       "2                     Best Director - Motion Picture              Henry King   \n",
       "3                                            Picture  The Song Of Bernadette   \n",
       "4                          Actress In A Leading Role          Jennifer Jones   \n",
       "\n",
       "                      film   win  \n",
       "0  For Whom The Bell Tolls  True  \n",
       "1  For Whom The Bell Tolls  True  \n",
       "2   The Song Of Bernadette  True  \n",
       "3                      NaN  True  \n",
       "4   The Song Of Bernadette  True  "
      ],
      "text/html": "<div>\n<style scoped>\n    .dataframe tbody tr th:only-of-type {\n        vertical-align: middle;\n    }\n\n    .dataframe tbody tr th {\n        vertical-align: top;\n    }\n\n    .dataframe thead th {\n        text-align: right;\n    }\n</style>\n<table border=\"1\" class=\"dataframe\">\n  <thead>\n    <tr style=\"text-align: right;\">\n      <th></th>\n      <th>year_film</th>\n      <th>year_award</th>\n      <th>ceremony</th>\n      <th>category</th>\n      <th>nominee</th>\n      <th>film</th>\n      <th>win</th>\n    </tr>\n  </thead>\n  <tbody>\n    <tr>\n      <th>0</th>\n      <td>1943</td>\n      <td>1944</td>\n      <td>1</td>\n      <td>Best Performance by an Actress in a Supporting...</td>\n      <td>Katina Paxinou</td>\n      <td>For Whom The Bell Tolls</td>\n      <td>True</td>\n    </tr>\n    <tr>\n      <th>1</th>\n      <td>1943</td>\n      <td>1944</td>\n      <td>1</td>\n      <td>Best Performance by an Actor in a Supporting R...</td>\n      <td>Akim Tamiroff</td>\n      <td>For Whom The Bell Tolls</td>\n      <td>True</td>\n    </tr>\n    <tr>\n      <th>2</th>\n      <td>1943</td>\n      <td>1944</td>\n      <td>1</td>\n      <td>Best Director - Motion Picture</td>\n      <td>Henry King</td>\n      <td>The Song Of Bernadette</td>\n      <td>True</td>\n    </tr>\n    <tr>\n      <th>3</th>\n      <td>1943</td>\n      <td>1944</td>\n      <td>1</td>\n      <td>Picture</td>\n      <td>The Song Of Bernadette</td>\n      <td>NaN</td>\n      <td>True</td>\n    </tr>\n    <tr>\n      <th>4</th>\n      <td>1943</td>\n      <td>1944</td>\n      <td>1</td>\n      <td>Actress In A Leading Role</td>\n      <td>Jennifer Jones</td>\n      <td>The Song Of Bernadette</td>\n      <td>True</td>\n    </tr>\n  </tbody>\n</table>\n</div>"
     },
     "metadata": {},
     "execution_count": 33
    }
   ],
   "source": [
    "# https://www.kaggle.com/unanimad/golden-globe-awards\n",
    "kaggle.api.dataset_download_files('unanimad/golden-globe-awards', path='./data/awards' , unzip = True)\n",
    "\n",
    "df_award_goldenglobe = pd.read_csv('data/awards/golden_globe_awards.csv')\n",
    "df_award_goldenglobe.head()"
   ]
  },
  {
   "cell_type": "code",
   "execution_count": 34,
   "metadata": {},
   "outputs": [
    {
     "output_type": "execute_result",
     "data": {
      "text/plain": [
       "                             name      season  \\\n",
       "0                           20/20   SEASON 36   \n",
       "1  America's Funniest Home Videos   SEASON 24   \n",
       "2                      The Assets         NaN   \n",
       "3        The Astronaut Wives Club  Starts tbd   \n",
       "4                    The Bachelor   SEASON 18   \n",
       "\n",
       "                                 status tv_network   ano  \n",
       "0                          Renewed 5/13        ABC  2013  \n",
       "1                           Renewed 5/9        ABC  2013  \n",
       "2       Canceled 1/10 after 2 eps aired        ABC  2013  \n",
       "3  Delayed to 2015 for creative reasons        ABC  2013  \n",
       "4                           Renewed 5/9        ABC  2013  "
      ],
      "text/html": "<div>\n<style scoped>\n    .dataframe tbody tr th:only-of-type {\n        vertical-align: middle;\n    }\n\n    .dataframe tbody tr th {\n        vertical-align: top;\n    }\n\n    .dataframe thead th {\n        text-align: right;\n    }\n</style>\n<table border=\"1\" class=\"dataframe\">\n  <thead>\n    <tr style=\"text-align: right;\">\n      <th></th>\n      <th>name</th>\n      <th>season</th>\n      <th>status</th>\n      <th>tv_network</th>\n      <th>ano</th>\n    </tr>\n  </thead>\n  <tbody>\n    <tr>\n      <th>0</th>\n      <td>20/20</td>\n      <td>SEASON 36</td>\n      <td>Renewed 5/13</td>\n      <td>ABC</td>\n      <td>2013</td>\n    </tr>\n    <tr>\n      <th>1</th>\n      <td>America's Funniest Home Videos</td>\n      <td>SEASON 24</td>\n      <td>Renewed 5/9</td>\n      <td>ABC</td>\n      <td>2013</td>\n    </tr>\n    <tr>\n      <th>2</th>\n      <td>The Assets</td>\n      <td>NaN</td>\n      <td>Canceled 1/10 after 2 eps aired</td>\n      <td>ABC</td>\n      <td>2013</td>\n    </tr>\n    <tr>\n      <th>3</th>\n      <td>The Astronaut Wives Club</td>\n      <td>Starts tbd</td>\n      <td>Delayed to 2015 for creative reasons</td>\n      <td>ABC</td>\n      <td>2013</td>\n    </tr>\n    <tr>\n      <th>4</th>\n      <td>The Bachelor</td>\n      <td>SEASON 18</td>\n      <td>Renewed 5/9</td>\n      <td>ABC</td>\n      <td>2013</td>\n    </tr>\n  </tbody>\n</table>\n</div>"
     },
     "metadata": {},
     "execution_count": 34
    }
   ],
   "source": [
    "df_tvstatus = pd.read_csv('status/metacritic.csv')\n",
    "df_tvstatus.head()"
   ]
  },
  {
   "cell_type": "code",
   "execution_count": 37,
   "metadata": {},
   "outputs": [
    {
     "output_type": "execute_result",
     "data": {
      "text/plain": [
       "            name    season      status tv_network          ano\n",
       "count       4139      2296        3228       4139  4139.000000\n",
       "unique      2221       201        1904        100          NaN\n",
       "top     Survivor  SEASON 2  Miniseries    Netflix          NaN\n",
       "freq          11       734          88        799          NaN\n",
       "mean         NaN       NaN         NaN        NaN  2016.553999\n",
       "std          NaN       NaN         NaN        NaN     1.951730\n",
       "min          NaN       NaN         NaN        NaN  2013.000000\n",
       "25%          NaN       NaN         NaN        NaN  2015.000000\n",
       "50%          NaN       NaN         NaN        NaN  2017.000000\n",
       "75%          NaN       NaN         NaN        NaN  2018.000000\n",
       "max          NaN       NaN         NaN        NaN  2019.000000"
      ],
      "text/html": "<div>\n<style scoped>\n    .dataframe tbody tr th:only-of-type {\n        vertical-align: middle;\n    }\n\n    .dataframe tbody tr th {\n        vertical-align: top;\n    }\n\n    .dataframe thead th {\n        text-align: right;\n    }\n</style>\n<table border=\"1\" class=\"dataframe\">\n  <thead>\n    <tr style=\"text-align: right;\">\n      <th></th>\n      <th>name</th>\n      <th>season</th>\n      <th>status</th>\n      <th>tv_network</th>\n      <th>ano</th>\n    </tr>\n  </thead>\n  <tbody>\n    <tr>\n      <th>count</th>\n      <td>4139</td>\n      <td>2296</td>\n      <td>3228</td>\n      <td>4139</td>\n      <td>4139.000000</td>\n    </tr>\n    <tr>\n      <th>unique</th>\n      <td>2221</td>\n      <td>201</td>\n      <td>1904</td>\n      <td>100</td>\n      <td>NaN</td>\n    </tr>\n    <tr>\n      <th>top</th>\n      <td>Survivor</td>\n      <td>SEASON 2</td>\n      <td>Miniseries</td>\n      <td>Netflix</td>\n      <td>NaN</td>\n    </tr>\n    <tr>\n      <th>freq</th>\n      <td>11</td>\n      <td>734</td>\n      <td>88</td>\n      <td>799</td>\n      <td>NaN</td>\n    </tr>\n    <tr>\n      <th>mean</th>\n      <td>NaN</td>\n      <td>NaN</td>\n      <td>NaN</td>\n      <td>NaN</td>\n      <td>2016.553999</td>\n    </tr>\n    <tr>\n      <th>std</th>\n      <td>NaN</td>\n      <td>NaN</td>\n      <td>NaN</td>\n      <td>NaN</td>\n      <td>1.951730</td>\n    </tr>\n    <tr>\n      <th>min</th>\n      <td>NaN</td>\n      <td>NaN</td>\n      <td>NaN</td>\n      <td>NaN</td>\n      <td>2013.000000</td>\n    </tr>\n    <tr>\n      <th>25%</th>\n      <td>NaN</td>\n      <td>NaN</td>\n      <td>NaN</td>\n      <td>NaN</td>\n      <td>2015.000000</td>\n    </tr>\n    <tr>\n      <th>50%</th>\n      <td>NaN</td>\n      <td>NaN</td>\n      <td>NaN</td>\n      <td>NaN</td>\n      <td>2017.000000</td>\n    </tr>\n    <tr>\n      <th>75%</th>\n      <td>NaN</td>\n      <td>NaN</td>\n      <td>NaN</td>\n      <td>NaN</td>\n      <td>2018.000000</td>\n    </tr>\n    <tr>\n      <th>max</th>\n      <td>NaN</td>\n      <td>NaN</td>\n      <td>NaN</td>\n      <td>NaN</td>\n      <td>2019.000000</td>\n    </tr>\n  </tbody>\n</table>\n</div>"
     },
     "metadata": {},
     "execution_count": 37
    }
   ],
   "source": [
    "df_tvstatus.describe(include='all')"
   ]
  },
  {
   "cell_type": "code",
   "execution_count": 38,
   "metadata": {},
   "outputs": [
    {
     "output_type": "execute_result",
     "data": {
      "text/plain": [
       "                                     season                                    \\\n",
       "                                      count unique         top freq mean  std   \n",
       "name                                                                            \n",
       "#blackAF                                  0      0         NaN  NaN  NaN  NaN   \n",
       "$100,000 Pyramid                          4      4    SEASON 3    1  NaN  NaN   \n",
       "100 Code                                  0      0         NaN  NaN  NaN  NaN   \n",
       "11/22/63                                  1      1  Starts tbd    1  NaN  NaN   \n",
       "12 Monkeys                                3      3    SEASON 3    1  NaN  NaN   \n",
       "...                                     ...    ...         ...  ...  ...  ...   \n",
       "mixed-ish                                 0      0         NaN  NaN  NaN  NaN   \n",
       "revisions                                 0      0         NaN  NaN  NaN  NaN   \n",
       "untitled Halo series (Spielberg)          1      1  starts tbd    1  NaN  NaN   \n",
       "untitled Jon Stewart animated series      0      0         NaN  NaN  NaN  NaN   \n",
       "Élite                                     2      2    SEASON 3    1  NaN  NaN   \n",
       "\n",
       "                                                          ...    ano           \\\n",
       "                                      min  25%  50%  75%  ... unique top freq   \n",
       "name                                                      ...                   \n",
       "#blackAF                              NaN  NaN  NaN  NaN  ...    NaN NaN  NaN   \n",
       "$100,000 Pyramid                      NaN  NaN  NaN  NaN  ...    NaN NaN  NaN   \n",
       "100 Code                              NaN  NaN  NaN  NaN  ...    NaN NaN  NaN   \n",
       "11/22/63                              NaN  NaN  NaN  NaN  ...    NaN NaN  NaN   \n",
       "12 Monkeys                            NaN  NaN  NaN  NaN  ...    NaN NaN  NaN   \n",
       "...                                   ...  ...  ...  ...  ...    ...  ..  ...   \n",
       "mixed-ish                             NaN  NaN  NaN  NaN  ...    NaN NaN  NaN   \n",
       "revisions                             NaN  NaN  NaN  NaN  ...    NaN NaN  NaN   \n",
       "untitled Halo series (Spielberg)      NaN  NaN  NaN  NaN  ...    NaN NaN  NaN   \n",
       "untitled Jon Stewart animated series  NaN  NaN  NaN  NaN  ...    NaN NaN  NaN   \n",
       "Élite                                 NaN  NaN  NaN  NaN  ...    NaN NaN  NaN   \n",
       "\n",
       "                                                                              \\\n",
       "                                             mean       std     min      25%   \n",
       "name                                                                           \n",
       "#blackAF                              2019.000000       NaN  2019.0  2019.00   \n",
       "$100,000 Pyramid                      2017.000000  1.581139  2015.0  2016.00   \n",
       "100 Code                              2017.500000  0.707107  2017.0  2017.25   \n",
       "11/22/63                              2014.500000  0.707107  2014.0  2014.25   \n",
       "12 Monkeys                            2015.750000  1.707825  2014.0  2014.75   \n",
       "...                                           ...       ...     ...      ...   \n",
       "mixed-ish                             2019.000000       NaN  2019.0  2019.00   \n",
       "revisions                             2018.000000       NaN  2018.0  2018.00   \n",
       "untitled Halo series (Spielberg)      2017.000000       NaN  2017.0  2017.00   \n",
       "untitled Jon Stewart animated series  2016.000000       NaN  2016.0  2016.00   \n",
       "Élite                                 2018.666667  0.577350  2018.0  2018.50   \n",
       "\n",
       "                                                               \n",
       "                                         50%      75%     max  \n",
       "name                                                           \n",
       "#blackAF                              2019.0  2019.00  2019.0  \n",
       "$100,000 Pyramid                      2017.0  2018.00  2019.0  \n",
       "100 Code                              2017.5  2017.75  2018.0  \n",
       "11/22/63                              2014.5  2014.75  2015.0  \n",
       "12 Monkeys                            2015.5  2016.50  2018.0  \n",
       "...                                      ...      ...     ...  \n",
       "mixed-ish                             2019.0  2019.00  2019.0  \n",
       "revisions                             2018.0  2018.00  2018.0  \n",
       "untitled Halo series (Spielberg)      2017.0  2017.00  2017.0  \n",
       "untitled Jon Stewart animated series  2016.0  2016.00  2016.0  \n",
       "Élite                                 2019.0  2019.00  2019.0  \n",
       "\n",
       "[2221 rows x 44 columns]"
      ],
      "text/html": "<div>\n<style scoped>\n    .dataframe tbody tr th:only-of-type {\n        vertical-align: middle;\n    }\n\n    .dataframe tbody tr th {\n        vertical-align: top;\n    }\n\n    .dataframe thead tr th {\n        text-align: left;\n    }\n\n    .dataframe thead tr:last-of-type th {\n        text-align: right;\n    }\n</style>\n<table border=\"1\" class=\"dataframe\">\n  <thead>\n    <tr>\n      <th></th>\n      <th colspan=\"10\" halign=\"left\">season</th>\n      <th>...</th>\n      <th colspan=\"10\" halign=\"left\">ano</th>\n    </tr>\n    <tr>\n      <th></th>\n      <th>count</th>\n      <th>unique</th>\n      <th>top</th>\n      <th>freq</th>\n      <th>mean</th>\n      <th>std</th>\n      <th>min</th>\n      <th>25%</th>\n      <th>50%</th>\n      <th>75%</th>\n      <th>...</th>\n      <th>unique</th>\n      <th>top</th>\n      <th>freq</th>\n      <th>mean</th>\n      <th>std</th>\n      <th>min</th>\n      <th>25%</th>\n      <th>50%</th>\n      <th>75%</th>\n      <th>max</th>\n    </tr>\n    <tr>\n      <th>name</th>\n      <th></th>\n      <th></th>\n      <th></th>\n      <th></th>\n      <th></th>\n      <th></th>\n      <th></th>\n      <th></th>\n      <th></th>\n      <th></th>\n      <th></th>\n      <th></th>\n      <th></th>\n      <th></th>\n      <th></th>\n      <th></th>\n      <th></th>\n      <th></th>\n      <th></th>\n      <th></th>\n      <th></th>\n    </tr>\n  </thead>\n  <tbody>\n    <tr>\n      <th>#blackAF</th>\n      <td>0</td>\n      <td>0</td>\n      <td>NaN</td>\n      <td>NaN</td>\n      <td>NaN</td>\n      <td>NaN</td>\n      <td>NaN</td>\n      <td>NaN</td>\n      <td>NaN</td>\n      <td>NaN</td>\n      <td>...</td>\n      <td>NaN</td>\n      <td>NaN</td>\n      <td>NaN</td>\n      <td>2019.000000</td>\n      <td>NaN</td>\n      <td>2019.0</td>\n      <td>2019.00</td>\n      <td>2019.0</td>\n      <td>2019.00</td>\n      <td>2019.0</td>\n    </tr>\n    <tr>\n      <th>$100,000 Pyramid</th>\n      <td>4</td>\n      <td>4</td>\n      <td>SEASON 3</td>\n      <td>1</td>\n      <td>NaN</td>\n      <td>NaN</td>\n      <td>NaN</td>\n      <td>NaN</td>\n      <td>NaN</td>\n      <td>NaN</td>\n      <td>...</td>\n      <td>NaN</td>\n      <td>NaN</td>\n      <td>NaN</td>\n      <td>2017.000000</td>\n      <td>1.581139</td>\n      <td>2015.0</td>\n      <td>2016.00</td>\n      <td>2017.0</td>\n      <td>2018.00</td>\n      <td>2019.0</td>\n    </tr>\n    <tr>\n      <th>100 Code</th>\n      <td>0</td>\n      <td>0</td>\n      <td>NaN</td>\n      <td>NaN</td>\n      <td>NaN</td>\n      <td>NaN</td>\n      <td>NaN</td>\n      <td>NaN</td>\n      <td>NaN</td>\n      <td>NaN</td>\n      <td>...</td>\n      <td>NaN</td>\n      <td>NaN</td>\n      <td>NaN</td>\n      <td>2017.500000</td>\n      <td>0.707107</td>\n      <td>2017.0</td>\n      <td>2017.25</td>\n      <td>2017.5</td>\n      <td>2017.75</td>\n      <td>2018.0</td>\n    </tr>\n    <tr>\n      <th>11/22/63</th>\n      <td>1</td>\n      <td>1</td>\n      <td>Starts tbd</td>\n      <td>1</td>\n      <td>NaN</td>\n      <td>NaN</td>\n      <td>NaN</td>\n      <td>NaN</td>\n      <td>NaN</td>\n      <td>NaN</td>\n      <td>...</td>\n      <td>NaN</td>\n      <td>NaN</td>\n      <td>NaN</td>\n      <td>2014.500000</td>\n      <td>0.707107</td>\n      <td>2014.0</td>\n      <td>2014.25</td>\n      <td>2014.5</td>\n      <td>2014.75</td>\n      <td>2015.0</td>\n    </tr>\n    <tr>\n      <th>12 Monkeys</th>\n      <td>3</td>\n      <td>3</td>\n      <td>SEASON 3</td>\n      <td>1</td>\n      <td>NaN</td>\n      <td>NaN</td>\n      <td>NaN</td>\n      <td>NaN</td>\n      <td>NaN</td>\n      <td>NaN</td>\n      <td>...</td>\n      <td>NaN</td>\n      <td>NaN</td>\n      <td>NaN</td>\n      <td>2015.750000</td>\n      <td>1.707825</td>\n      <td>2014.0</td>\n      <td>2014.75</td>\n      <td>2015.5</td>\n      <td>2016.50</td>\n      <td>2018.0</td>\n    </tr>\n    <tr>\n      <th>...</th>\n      <td>...</td>\n      <td>...</td>\n      <td>...</td>\n      <td>...</td>\n      <td>...</td>\n      <td>...</td>\n      <td>...</td>\n      <td>...</td>\n      <td>...</td>\n      <td>...</td>\n      <td>...</td>\n      <td>...</td>\n      <td>...</td>\n      <td>...</td>\n      <td>...</td>\n      <td>...</td>\n      <td>...</td>\n      <td>...</td>\n      <td>...</td>\n      <td>...</td>\n      <td>...</td>\n    </tr>\n    <tr>\n      <th>mixed-ish</th>\n      <td>0</td>\n      <td>0</td>\n      <td>NaN</td>\n      <td>NaN</td>\n      <td>NaN</td>\n      <td>NaN</td>\n      <td>NaN</td>\n      <td>NaN</td>\n      <td>NaN</td>\n      <td>NaN</td>\n      <td>...</td>\n      <td>NaN</td>\n      <td>NaN</td>\n      <td>NaN</td>\n      <td>2019.000000</td>\n      <td>NaN</td>\n      <td>2019.0</td>\n      <td>2019.00</td>\n      <td>2019.0</td>\n      <td>2019.00</td>\n      <td>2019.0</td>\n    </tr>\n    <tr>\n      <th>revisions</th>\n      <td>0</td>\n      <td>0</td>\n      <td>NaN</td>\n      <td>NaN</td>\n      <td>NaN</td>\n      <td>NaN</td>\n      <td>NaN</td>\n      <td>NaN</td>\n      <td>NaN</td>\n      <td>NaN</td>\n      <td>...</td>\n      <td>NaN</td>\n      <td>NaN</td>\n      <td>NaN</td>\n      <td>2018.000000</td>\n      <td>NaN</td>\n      <td>2018.0</td>\n      <td>2018.00</td>\n      <td>2018.0</td>\n      <td>2018.00</td>\n      <td>2018.0</td>\n    </tr>\n    <tr>\n      <th>untitled Halo series (Spielberg)</th>\n      <td>1</td>\n      <td>1</td>\n      <td>starts tbd</td>\n      <td>1</td>\n      <td>NaN</td>\n      <td>NaN</td>\n      <td>NaN</td>\n      <td>NaN</td>\n      <td>NaN</td>\n      <td>NaN</td>\n      <td>...</td>\n      <td>NaN</td>\n      <td>NaN</td>\n      <td>NaN</td>\n      <td>2017.000000</td>\n      <td>NaN</td>\n      <td>2017.0</td>\n      <td>2017.00</td>\n      <td>2017.0</td>\n      <td>2017.00</td>\n      <td>2017.0</td>\n    </tr>\n    <tr>\n      <th>untitled Jon Stewart animated series</th>\n      <td>0</td>\n      <td>0</td>\n      <td>NaN</td>\n      <td>NaN</td>\n      <td>NaN</td>\n      <td>NaN</td>\n      <td>NaN</td>\n      <td>NaN</td>\n      <td>NaN</td>\n      <td>NaN</td>\n      <td>...</td>\n      <td>NaN</td>\n      <td>NaN</td>\n      <td>NaN</td>\n      <td>2016.000000</td>\n      <td>NaN</td>\n      <td>2016.0</td>\n      <td>2016.00</td>\n      <td>2016.0</td>\n      <td>2016.00</td>\n      <td>2016.0</td>\n    </tr>\n    <tr>\n      <th>Élite</th>\n      <td>2</td>\n      <td>2</td>\n      <td>SEASON 3</td>\n      <td>1</td>\n      <td>NaN</td>\n      <td>NaN</td>\n      <td>NaN</td>\n      <td>NaN</td>\n      <td>NaN</td>\n      <td>NaN</td>\n      <td>...</td>\n      <td>NaN</td>\n      <td>NaN</td>\n      <td>NaN</td>\n      <td>2018.666667</td>\n      <td>0.577350</td>\n      <td>2018.0</td>\n      <td>2018.50</td>\n      <td>2019.0</td>\n      <td>2019.00</td>\n      <td>2019.0</td>\n    </tr>\n  </tbody>\n</table>\n<p>2221 rows × 44 columns</p>\n</div>"
     },
     "metadata": {},
     "execution_count": 38
    }
   ],
   "source": [
    "df_tvstatus_gbn = df_tvstatus.groupby('name')\n",
    "df_tvstatus_gbn.describe(include='all')"
   ]
  },
  {
   "cell_type": "code",
   "execution_count": 40,
   "metadata": {},
   "outputs": [
    {
     "output_type": "execute_result",
     "data": {
      "text/plain": [
       "                                name               season  \\\n",
       "0                              20/20            SEASON 36   \n",
       "1     America's Funniest Home Videos            SEASON 24   \n",
       "2                         The Assets                  NaN   \n",
       "3           The Astronaut Wives Club           Starts tbd   \n",
       "4                       The Bachelor            SEASON 18   \n",
       "...                              ...                  ...   \n",
       "4133                     Yellowstone             SEASON 2   \n",
       "4134                      You Me Her  SEASON 5 starts tbd   \n",
       "4135            You're Not a Monster                  NaN   \n",
       "4136                     Young Dylan                  NaN   \n",
       "4137        Young Justice: Outsiders             SEASON 2   \n",
       "\n",
       "                                          status tv_network   ano  \n",
       "0                                   Renewed 5/13        ABC  2013  \n",
       "1                                    Renewed 5/9        ABC  2013  \n",
       "2                Canceled 1/10 after 2 eps aired        ABC  2013  \n",
       "3           Delayed to 2015 for creative reasons        ABC  2013  \n",
       "4                                    Renewed 5/9        ABC  2013  \n",
       "...                                          ...        ...   ...  \n",
       "4133      S3 renewal on 6/19; S4 renewal on 2/21        PAR  2019  \n",
       "4134  Network defunct; not sure if/when will air      DIREC  2019  \n",
       "4135                             Animated series       IMDB  2019  \n",
       "4136                                         NaN       NICK  2019  \n",
       "4137                                         NaN        DCU  2019  \n",
       "\n",
       "[3957 rows x 5 columns]"
      ],
      "text/html": "<div>\n<style scoped>\n    .dataframe tbody tr th:only-of-type {\n        vertical-align: middle;\n    }\n\n    .dataframe tbody tr th {\n        vertical-align: top;\n    }\n\n    .dataframe thead th {\n        text-align: right;\n    }\n</style>\n<table border=\"1\" class=\"dataframe\">\n  <thead>\n    <tr style=\"text-align: right;\">\n      <th></th>\n      <th>name</th>\n      <th>season</th>\n      <th>status</th>\n      <th>tv_network</th>\n      <th>ano</th>\n    </tr>\n  </thead>\n  <tbody>\n    <tr>\n      <th>0</th>\n      <td>20/20</td>\n      <td>SEASON 36</td>\n      <td>Renewed 5/13</td>\n      <td>ABC</td>\n      <td>2013</td>\n    </tr>\n    <tr>\n      <th>1</th>\n      <td>America's Funniest Home Videos</td>\n      <td>SEASON 24</td>\n      <td>Renewed 5/9</td>\n      <td>ABC</td>\n      <td>2013</td>\n    </tr>\n    <tr>\n      <th>2</th>\n      <td>The Assets</td>\n      <td>NaN</td>\n      <td>Canceled 1/10 after 2 eps aired</td>\n      <td>ABC</td>\n      <td>2013</td>\n    </tr>\n    <tr>\n      <th>3</th>\n      <td>The Astronaut Wives Club</td>\n      <td>Starts tbd</td>\n      <td>Delayed to 2015 for creative reasons</td>\n      <td>ABC</td>\n      <td>2013</td>\n    </tr>\n    <tr>\n      <th>4</th>\n      <td>The Bachelor</td>\n      <td>SEASON 18</td>\n      <td>Renewed 5/9</td>\n      <td>ABC</td>\n      <td>2013</td>\n    </tr>\n    <tr>\n      <th>...</th>\n      <td>...</td>\n      <td>...</td>\n      <td>...</td>\n      <td>...</td>\n      <td>...</td>\n    </tr>\n    <tr>\n      <th>4133</th>\n      <td>Yellowstone</td>\n      <td>SEASON 2</td>\n      <td>S3 renewal on 6/19; S4 renewal on 2/21</td>\n      <td>PAR</td>\n      <td>2019</td>\n    </tr>\n    <tr>\n      <th>4134</th>\n      <td>You Me Her</td>\n      <td>SEASON 5 starts tbd</td>\n      <td>Network defunct; not sure if/when will air</td>\n      <td>DIREC</td>\n      <td>2019</td>\n    </tr>\n    <tr>\n      <th>4135</th>\n      <td>You're Not a Monster</td>\n      <td>NaN</td>\n      <td>Animated series</td>\n      <td>IMDB</td>\n      <td>2019</td>\n    </tr>\n    <tr>\n      <th>4136</th>\n      <td>Young Dylan</td>\n      <td>NaN</td>\n      <td>NaN</td>\n      <td>NICK</td>\n      <td>2019</td>\n    </tr>\n    <tr>\n      <th>4137</th>\n      <td>Young Justice: Outsiders</td>\n      <td>SEASON 2</td>\n      <td>NaN</td>\n      <td>DCU</td>\n      <td>2019</td>\n    </tr>\n  </tbody>\n</table>\n<p>3957 rows × 5 columns</p>\n</div>"
     },
     "metadata": {},
     "execution_count": 40
    }
   ],
   "source": [
    "df_tvstatus_gbn.head()"
   ]
  },
  {
   "cell_type": "code",
   "execution_count": 42,
   "metadata": {},
   "outputs": [
    {
     "output_type": "execute_result",
     "data": {
      "text/plain": [
       "                                name               season  \\\n",
       "0                              20/20            SEASON 36   \n",
       "1     America's Funniest Home Videos            SEASON 24   \n",
       "2                         The Assets                  NaN   \n",
       "3           The Astronaut Wives Club           Starts tbd   \n",
       "4                       The Bachelor            SEASON 18   \n",
       "...                              ...                  ...   \n",
       "4134                      You Me Her  SEASON 5 starts tbd   \n",
       "4135            You're Not a Monster                  NaN   \n",
       "4136                     Young Dylan                  NaN   \n",
       "4137        Young Justice: Outsiders             SEASON 2   \n",
       "4138                         Younger             SEASON 6   \n",
       "\n",
       "                                          status tv_network   ano  \n",
       "0                                   Renewed 5/13        ABC  2013  \n",
       "1                                    Renewed 5/9        ABC  2013  \n",
       "2                Canceled 1/10 after 2 eps aired        ABC  2013  \n",
       "3           Delayed to 2015 for creative reasons        ABC  2013  \n",
       "4                                    Renewed 5/9        ABC  2013  \n",
       "...                                          ...        ...   ...  \n",
       "4134  Network defunct; not sure if/when will air      DIREC  2019  \n",
       "4135                             Animated series       IMDB  2019  \n",
       "4136                                         NaN       NICK  2019  \n",
       "4137                                         NaN        DCU  2019  \n",
       "4138            Renewed for a 7th season on 7/24        TVL  2019  \n",
       "\n",
       "[4139 rows x 5 columns]"
      ],
      "text/html": "<div>\n<style scoped>\n    .dataframe tbody tr th:only-of-type {\n        vertical-align: middle;\n    }\n\n    .dataframe tbody tr th {\n        vertical-align: top;\n    }\n\n    .dataframe thead th {\n        text-align: right;\n    }\n</style>\n<table border=\"1\" class=\"dataframe\">\n  <thead>\n    <tr style=\"text-align: right;\">\n      <th></th>\n      <th>name</th>\n      <th>season</th>\n      <th>status</th>\n      <th>tv_network</th>\n      <th>ano</th>\n    </tr>\n  </thead>\n  <tbody>\n    <tr>\n      <th>0</th>\n      <td>20/20</td>\n      <td>SEASON 36</td>\n      <td>Renewed 5/13</td>\n      <td>ABC</td>\n      <td>2013</td>\n    </tr>\n    <tr>\n      <th>1</th>\n      <td>America's Funniest Home Videos</td>\n      <td>SEASON 24</td>\n      <td>Renewed 5/9</td>\n      <td>ABC</td>\n      <td>2013</td>\n    </tr>\n    <tr>\n      <th>2</th>\n      <td>The Assets</td>\n      <td>NaN</td>\n      <td>Canceled 1/10 after 2 eps aired</td>\n      <td>ABC</td>\n      <td>2013</td>\n    </tr>\n    <tr>\n      <th>3</th>\n      <td>The Astronaut Wives Club</td>\n      <td>Starts tbd</td>\n      <td>Delayed to 2015 for creative reasons</td>\n      <td>ABC</td>\n      <td>2013</td>\n    </tr>\n    <tr>\n      <th>4</th>\n      <td>The Bachelor</td>\n      <td>SEASON 18</td>\n      <td>Renewed 5/9</td>\n      <td>ABC</td>\n      <td>2013</td>\n    </tr>\n    <tr>\n      <th>...</th>\n      <td>...</td>\n      <td>...</td>\n      <td>...</td>\n      <td>...</td>\n      <td>...</td>\n    </tr>\n    <tr>\n      <th>4134</th>\n      <td>You Me Her</td>\n      <td>SEASON 5 starts tbd</td>\n      <td>Network defunct; not sure if/when will air</td>\n      <td>DIREC</td>\n      <td>2019</td>\n    </tr>\n    <tr>\n      <th>4135</th>\n      <td>You're Not a Monster</td>\n      <td>NaN</td>\n      <td>Animated series</td>\n      <td>IMDB</td>\n      <td>2019</td>\n    </tr>\n    <tr>\n      <th>4136</th>\n      <td>Young Dylan</td>\n      <td>NaN</td>\n      <td>NaN</td>\n      <td>NICK</td>\n      <td>2019</td>\n    </tr>\n    <tr>\n      <th>4137</th>\n      <td>Young Justice: Outsiders</td>\n      <td>SEASON 2</td>\n      <td>NaN</td>\n      <td>DCU</td>\n      <td>2019</td>\n    </tr>\n    <tr>\n      <th>4138</th>\n      <td>Younger</td>\n      <td>SEASON 6</td>\n      <td>Renewed for a 7th season on 7/24</td>\n      <td>TVL</td>\n      <td>2019</td>\n    </tr>\n  </tbody>\n</table>\n<p>4139 rows × 5 columns</p>\n</div>"
     },
     "metadata": {},
     "execution_count": 42
    }
   ],
   "source": [
    "df_tvstatus"
   ]
  },
  {
   "cell_type": "code",
   "execution_count": null,
   "metadata": {},
   "outputs": [],
   "source": []
  }
 ]
}