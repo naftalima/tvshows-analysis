{
 "metadata": {
  "language_info": {
   "codemirror_mode": {
    "name": "ipython",
    "version": 3
   },
   "file_extension": ".py",
   "mimetype": "text/x-python",
   "name": "python",
   "nbconvert_exporter": "python",
   "pygments_lexer": "ipython3",
   "version": "3.6.9-final"
  },
  "orig_nbformat": 2,
  "kernelspec": {
   "name": "Python 3.6.9 64-bit",
   "display_name": "Python 3.6.9 64-bit",
   "metadata": {
    "interpreter": {
     "hash": "31f2aee4e71d21fbe5cf8b01ff0e069b9275f58929596ceb00d14d90e3e16cd6"
    }
   }
  }
 },
 "nbformat": 4,
 "nbformat_minor": 2,
 "cells": [
  {
   "cell_type": "code",
   "execution_count": 7,
   "metadata": {},
   "outputs": [],
   "source": [
    "import pandas as pd\n",
    "import numpy as np\n",
    "import kaggle\n",
    "import re"
   ]
  },
  {
   "cell_type": "code",
   "execution_count": null,
   "metadata": {},
   "outputs": [],
   "source": [
    "kaggle.api.authenticate()\n",
    "\n",
    "# https://www.kaggle.com/oscarfry/tvtime-shows?select=tvtimeshows.csv\n",
    "kaggle.api.dataset_download_files('oscarfry/tvtime-shows', path='./data/tvtimeshows', unzip = True)\n",
    "\n",
    "# https://www.kaggle.com/ruchi798/tv-shows-on-netflix-prime-video-hulu-and-disney \n",
    "kaggle.api.dataset_download_files('ruchi798/tv-shows-on-netflix-prime-video-hulu-and-disney', path='./data/streamings', unzip = True)\n",
    "\n",
    "# https://www.kaggle.com/unanimad/emmy-awards\n",
    "kaggle.api.dataset_download_files('unanimad/emmy-awards', path='./data/awards', unzip = True)]\n",
    "\n",
    "# https://www.kaggle.com/unanimad/golden-globe-awards\n",
    "kaggle.api.dataset_download_files('unanimad/golden-globe-awards', path='./data/awards' , unzip = True)"
   ]
  },
  {
   "cell_type": "code",
   "execution_count": 2,
   "metadata": {},
   "outputs": [],
   "source": [
    "df_tvtime = pd.read_csv('data/tvtimeshows/tvtimeshows.csv')\n",
    "# df_tvtime.head()\n",
    "\n",
    "df_streamings = pd.read_csv('data/streamings/tv_shows.csv')\n",
    "# df_streamings.head()\n",
    "\n",
    "df_award_emmy = pd.read_csv('data/awards/the_emmy_awards.csv')\n",
    "# df_award_emmy.head()\n",
    "\n",
    "df_award_goldenglobe = pd.read_csv('data/awards/golden_globe_awards.csv')\n",
    "# df_award_goldenglobe.head()"
   ]
  },
  {
   "cell_type": "code",
   "execution_count": 94,
   "metadata": {},
   "outputs": [
    {
     "output_type": "execute_result",
     "data": {
      "text/plain": [
       "                             name      season  \\\n",
       "0                           20/20   SEASON 36   \n",
       "1  America's Funniest Home Videos   SEASON 24   \n",
       "2                      The Assets         NaN   \n",
       "3        The Astronaut Wives Club  Starts tbd   \n",
       "4                    The Bachelor   SEASON 18   \n",
       "\n",
       "                                 status tv_network   ano  \n",
       "0                          Renewed 5/13        ABC  2013  \n",
       "1                           Renewed 5/9        ABC  2013  \n",
       "2       Canceled 1/10 after 2 eps aired        ABC  2013  \n",
       "3  Delayed to 2015 for creative reasons        ABC  2013  \n",
       "4                           Renewed 5/9        ABC  2013  "
      ],
      "text/html": "<div>\n<style scoped>\n    .dataframe tbody tr th:only-of-type {\n        vertical-align: middle;\n    }\n\n    .dataframe tbody tr th {\n        vertical-align: top;\n    }\n\n    .dataframe thead th {\n        text-align: right;\n    }\n</style>\n<table border=\"1\" class=\"dataframe\">\n  <thead>\n    <tr style=\"text-align: right;\">\n      <th></th>\n      <th>name</th>\n      <th>season</th>\n      <th>status</th>\n      <th>tv_network</th>\n      <th>ano</th>\n    </tr>\n  </thead>\n  <tbody>\n    <tr>\n      <th>0</th>\n      <td>20/20</td>\n      <td>SEASON 36</td>\n      <td>Renewed 5/13</td>\n      <td>ABC</td>\n      <td>2013</td>\n    </tr>\n    <tr>\n      <th>1</th>\n      <td>America's Funniest Home Videos</td>\n      <td>SEASON 24</td>\n      <td>Renewed 5/9</td>\n      <td>ABC</td>\n      <td>2013</td>\n    </tr>\n    <tr>\n      <th>2</th>\n      <td>The Assets</td>\n      <td>NaN</td>\n      <td>Canceled 1/10 after 2 eps aired</td>\n      <td>ABC</td>\n      <td>2013</td>\n    </tr>\n    <tr>\n      <th>3</th>\n      <td>The Astronaut Wives Club</td>\n      <td>Starts tbd</td>\n      <td>Delayed to 2015 for creative reasons</td>\n      <td>ABC</td>\n      <td>2013</td>\n    </tr>\n    <tr>\n      <th>4</th>\n      <td>The Bachelor</td>\n      <td>SEASON 18</td>\n      <td>Renewed 5/9</td>\n      <td>ABC</td>\n      <td>2013</td>\n    </tr>\n  </tbody>\n</table>\n</div>"
     },
     "metadata": {},
     "execution_count": 94
    }
   ],
   "source": [
    "df_tvstatus = pd.read_csv('status/metacritic.csv')\n",
    "df_tvstatus.head()"
   ]
  },
  {
   "cell_type": "code",
   "execution_count": 95,
   "metadata": {},
   "outputs": [],
   "source": [
    "def networks_more_popular(df_tt, networks): \n",
    "    column_names = list(df_tt.columns)\n",
    "    df_most_popular = pd.DataFrame(columns = column_names)\n",
    "    for i in networks:\n",
    "        df = df_tt[df_tt['tv_network'].str.contains(i, flags=re.IGNORECASE, regex=True, na=False)]\n",
    "        df_most_popular = df_most_popular.append(df,ignore_index=True)\n",
    "        df_most_popular['tv_network'] = np.where(df_most_popular['tv_network'].str.contains(i, flags=re.IGNORECASE, regex=True, na=False),i,df_most_popular['tv_network'] )\n",
    "    return df_most_popular"
   ]
  },
  {
   "cell_type": "code",
   "execution_count": 96,
   "metadata": {},
   "outputs": [],
   "source": [
    "popular_networks = [ \"ABC\", \"CBC\", \"NBC\", \"NETFLIX\", \"AMAZON\", \"DISNEY\", \"HULU\", \"HBO\", \"CRUNCHYROLL\", \"GLOBO\", \"APPLE\", \"FOX\", \"MTV\",'FX','CBS','SYFY','THE CW','FREEF','TNT','IFC','STRZ','TVL','SHOWTIME','AMC','USA']\n",
    "df_tvstatus_popular = networks_more_popular(df_tvstatus,popular_networks)"
   ]
  },
  {
   "cell_type": "code",
   "execution_count": 97,
   "metadata": {},
   "outputs": [],
   "source": [
    "def standardize_status(df): \n",
    "    column_names = list(df.columns)\n",
    "    df_clean = pd.DataFrame(columns = column_names)\n",
    "    df_clean = df\n",
    "    df_clean['status'] =  np.where(df_clean['status'].str.contains('CANCELED', flags=re.IGNORECASE, regex=True, na=False),'CANCELED',df_clean['status'] )\n",
    "    df_clean['status'] =  np.where(df_clean['status'].str.contains('Renew' , flags=re.IGNORECASE, regex=True, na=False),'RENEWED',df_clean['status'] )\n",
    "    df_clean['status'] =  np.where(df_clean['status'].str.contains('Delayed' , flags=re.IGNORECASE, regex=True, na=False),'DELAYED',df_clean['status'] )\n",
    "    df_clean['status'] =  np.where(df_clean['status'].str.contains('Ending' , flags=re.IGNORECASE, regex=True, na=False),'END',df_clean['status'] )\n",
    "    df_clean['status'] =  np.where(df_clean['status'].str.contains('ended' , flags=re.IGNORECASE, regex=True, na=False),'END',df_clean['status'] )\n",
    "    df_clean['status'] =  np.where(df_clean['status'].str.contains('Final season' , flags=re.IGNORECASE, regex=True, na=False),'end',df_clean['status'] )\n",
    "    df_clean['status'] =  np.where(df_clean['status'].str.contains('miniseries' , flags=re.IGNORECASE, regex=True, na=False),'MINISERIES',df_clean['status'] )\n",
    "    nationality = ['Brazilian' , 'Spanish', 'German', 'Korean', 'Japanese', 'Swedish', 'French', 'Argentinian', 'Austalian', 'British', 'Belgian', 'Polish', 'Chinese', 'Italian', 'Mexican', 'Indian', 'Colombian', 'Thai', 'Taiwanese', 'Turkish', 'Norwegian', 'Lebanese', 'Israeli', 'Arabic', 'Dutch', 'Argentine']\n",
    "    for i in nationality:\n",
    "       df_clean['status'] =  np.where(df_clean['status'].str.contains(i , flags=re.IGNORECASE, regex=True, na=False),'NATIONALITY',df_clean['status'] ) \n",
    "    return(df_clean)\n"
   ]
  },
  {
   "cell_type": "code",
   "execution_count": 98,
   "metadata": {},
   "outputs": [],
   "source": [
    "df_tvstatus_popular_cleaning = standardize_status(df_tvstatus_popular)"
   ]
  },
  {
   "cell_type": "code",
   "execution_count": 99,
   "metadata": {},
   "outputs": [],
   "source": [
    "# df_tvstatus_popular_cleaning['tv_network'].unique()"
   ]
  },
  {
   "cell_type": "code",
   "execution_count": 100,
   "metadata": {},
   "outputs": [
    {
     "output_type": "execute_result",
     "data": {
      "text/plain": [
       "array(['RENEWED', 'CANCELED', 'DELAYED', nan,\n",
       "       '1st season in ABC primetime',\n",
       "       'Season cut to 10 episodes on 10/23', 'MINISERIES',\n",
       "       'New version of classic game show', 'Postponed to summer',\n",
       "       'Pulled from schedule on 3/29 after 5 episodes', 'END',\n",
       "       'Pulled from schedule 1/4 (4 eps unaired)',\n",
       "       'Banished to Saturdays effective 7/8',\n",
       "       \"Sneak preview aired in March;  returns later in '18\",\n",
       "       'Moved  to Saturdays 12/8; pulled 1/4',\n",
       "       'Fate uncertain; not included in 2014-15 schedule',\n",
       "       'Pulled from schedule on 10/18',\n",
       "       'Pulled from schedule 2/5; 7 eps unaired',\n",
       "       'Not on schedule; likely will never air', 'Variety show',\n",
       "       'NATIONALITY', 'Two seasons (S3 & S4) ordered by Netflix',\n",
       "       '2nd season already in production',\n",
       "       'Continuation of 2000-07 WB/CW series',\n",
       "       'Moves to Netflix from BBC America',\n",
       "       'UK series formerly known as Scrotal Recall',\n",
       "       'Original order is for 2 seasons', 'Canadian series', 'Anime',\n",
       "       'Philippine series', 'Two-part season (part 2 date is tbd)',\n",
       "       'Documentary series', 'Both seasons will stream at once',\n",
       "       'Australian series', \"Revival of classic children's show\",\n",
       "       'Animated series', \"Series won't air; re-edited as movie\",\n",
       "       'USA debut of UK series', 'Finnish series', 'Animated',\n",
       "       'Initial order is for 2 seasons', 'Irish series',\n",
       "       'Cancellation confirmed 11/26/19', 'S4 announced on 6/18/19',\n",
       "       'South African series', 'Two seasons picked up', 'Danish series',\n",
       "       '2nd season in development', 'Russian series',\n",
       "       'Potential 6th season on hold', 'Anime; rescheduled from April',\n",
       "       'Anthology series', '3rd season unlikely (esp. in near future)',\n",
       "       'fka untitled Mindy Kaling comedy', 'First new season in 6 years',\n",
       "       'fka untitled Woody Allen series',\n",
       "       'S2 confirmed on 8/25/17; will air in 2019',\n",
       "       'Moving to Amazon from Pivot', 'Initial order is for 3 seasons',\n",
       "       'Renwed 9/13/18', 'UK series',\n",
       "       'Project in jeopardy due to Ed Westwick scandal', 'end',\n",
       "       'Moved from Seeso', 'USA debut of Australian series',\n",
       "       '3rd season of National Treasure anthology',\n",
       "       'Project moved from Disney+', 'Monthly anthology',\n",
       "       'Now a Hulu exclusive in the U.S.',\n",
       "       'Animated; initial order is for 2 seasons',\n",
       "       'Moves to Hulu from CW', 'Final 10-ep. 7th season in summer 2014',\n",
       "       'Returns after a 10-year absence', 'Will likely air in the fall',\n",
       "       'Previously picked up for a 2nd season',\n",
       "       'Series order rescinded on 1/22', 'Returns on 2/14',\n",
       "       'Order is for 2 seasons; will end after that',\n",
       "       'Short (7-episode) season;  S8 to air in 2019',\n",
       "       'Alternate version released as an app in fall 2017',\n",
       "       '(4th season on HBO)', 'Reboot of 1980s anthology series',\n",
       "       'Initial  order is for 2 seasons', '12-episode mini-season',\n",
       "       'Last aired on Fox in 2009',\n",
       "       'Production halted at 13 eps; off sched. after 12/3',\n",
       "       'In negotiations to return for 2017-18',\n",
       "       'Revival of the classic dating  show', '8th season announced 2/16',\n",
       "       \"Not on Fox's 2017-18 sched; presumed done\",\n",
       "       \"Won't be back in 2017, but could return in 2018\",\n",
       "       'No plans to revive the show again as of 5/14',\n",
       "       \"Not included in Fox's 2019-20 plans\", 'May not be moving forward',\n",
       "       'Pulled from schedule after 1/15', 'Game show',\n",
       "       'Will air in 2015-16 season', 'Short (6-episode) season',\n",
       "       'Short season (8 episodes)',\n",
       "       'A potential 2nd season is in development',\n",
       "       'S3 (Katrina) will now start in 2018-19',\n",
       "       'Rare fall season airs exclusively on CBS All Access',\n",
       "       'Pulled from  schedule on 4/19 with 5 eps unaired',\n",
       "       'CBS All-Access', 'Celebrity edition',\n",
       "       'Banished to Saturdays effective 5/4',\n",
       "       'Exclusive to CBS All Access', 'Syfy will air at least 2 seasons',\n",
       "       'Officially not progressing as a series 3/10',\n",
       "       'Anthology; 2 seasons ordered',\n",
       "       'Syfy will air S1 & S2 of the web series', 'USA debut',\n",
       "       '3rd season picked up by CW on 5/31/19',\n",
       "       'Likely to end with movie or short S3',\n",
       "       \"fka One Day She'll Darken\",\n",
       "       'Sequel ordered 7/7; will air in summer 2015',\n",
       "       'Sequel to The Spoils of Babylon', 'New title',\n",
       "       '2nd season already ordered',\n",
       "       'Confirmed as a 1-season show prior to airing',\n",
       "       'Starz pulled out 3/2; may go elsewhere', 'American debut',\n",
       "       'Continuation of 1990-91 ABC series',\n",
       "       'Production halted as of June 2018',\n",
       "       'Will not return for a 2nd season', 'Moving from HBO',\n",
       "       '7 eps to air in 2014, final 7 in spring 2015',\n",
       "       'Two seasons ordered on 3/9/15', 'Anthology', 'Miniseres',\n",
       "       'Moving to USA from ABC'], dtype=object)"
      ]
     },
     "metadata": {},
     "execution_count": 100
    }
   ],
   "source": [
    "df_tvstatus_popular_cleaning['status'].unique()"
   ]
  },
  {
   "cell_type": "code",
   "execution_count": 101,
   "metadata": {},
   "outputs": [
    {
     "output_type": "execute_result",
     "data": {
      "text/plain": [
       "Empty DataFrame\n",
       "Columns: [name, season, status, tv_network, ano]\n",
       "Index: []"
      ],
      "text/html": "<div>\n<style scoped>\n    .dataframe tbody tr th:only-of-type {\n        vertical-align: middle;\n    }\n\n    .dataframe tbody tr th {\n        vertical-align: top;\n    }\n\n    .dataframe thead th {\n        text-align: right;\n    }\n</style>\n<table border=\"1\" class=\"dataframe\">\n  <thead>\n    <tr style=\"text-align: right;\">\n      <th></th>\n      <th>name</th>\n      <th>season</th>\n      <th>status</th>\n      <th>tv_network</th>\n      <th>ano</th>\n    </tr>\n  </thead>\n  <tbody>\n  </tbody>\n</table>\n</div>"
     },
     "metadata": {},
     "execution_count": 101
    }
   ],
   "source": [
    "df_tvstatus_popular_cleaning[df_tvstatus_popular_cleaning['status'].str.contains('Japanese series', flags=re.IGNORECASE, regex=True, na=False)]"
   ]
  },
  {
   "cell_type": "code",
   "execution_count": null,
   "metadata": {},
   "outputs": [],
   "source": []
  }
 ]
}