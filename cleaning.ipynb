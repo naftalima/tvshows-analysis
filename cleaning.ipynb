{
 "cells": [
  {
   "cell_type": "code",
   "execution_count": 1,
   "metadata": {},
   "outputs": [],
   "source": [
    "import pandas as pd\n",
    "import numpy as np\n",
    "import kaggle\n",
    "import customfunctions as cf"
   ]
  },
  {
   "cell_type": "code",
   "execution_count": 2,
   "metadata": {
    "tags": []
   },
   "outputs": [],
   "source": [
    "kaggle.api.authenticate()\n",
    "kaggle.api.dataset_download_files('oscarfry/tvtime-shows', path='./data/tvtimeshows')\n",
    "\n",
    "df_tvtime = pd.read_csv('data/tvtimeshows/tvtimeshows.csv')"
   ]
  },
  {
   "cell_type": "code",
   "execution_count": 5,
   "metadata": {},
   "outputs": [
    {
     "output_type": "execute_result",
     "data": {
      "text/plain": "Index(['id', 'name', 'followers', 'nb_rates', 'runtime', 'number_of_seasons',\n       'network', 'mean_rate', 'poster_image', 'seasons'],\n      dtype='object')"
     },
     "metadata": {},
     "execution_count": 5
    }
   ],
   "source": [
    "df_tvtime.columns"
   ]
  },
  {
   "cell_type": "code",
   "execution_count": 6,
   "metadata": {},
   "outputs": [
    {
     "output_type": "execute_result",
     "data": {
      "text/plain": "                  id                          name     followers  \\\ncount   1.981600e+04                         19812  1.981600e+04   \nunique           NaN                         19479           NaN   \ntop              NaN  ***Movies are not allowed***           NaN   \nfreq             NaN                             6           NaN   \nmean    2.670577e+05                           NaN  1.036959e+04   \nstd     3.733336e+05                           NaN  9.396993e+04   \nmin     7.032700e+04                           NaN  1.630000e+02   \n25%     1.821335e+05                           NaN  3.210000e+02   \n50%     2.875910e+05                           NaN  7.800000e+02   \n75%     3.320820e+05                           NaN  2.993250e+03   \nmax     1.000004e+07                           NaN  4.618578e+06   \n\n             nb_rates       runtime  number_of_seasons  network     mean_rate  \\\ncount    19816.000000  19816.000000       19816.000000    18854  19816.000000   \nunique            NaN           NaN                NaN      945           NaN   \ntop               NaN           NaN                NaN  YouTube           NaN   \nfreq              NaN           NaN                NaN      715           NaN   \nmean       376.513474     42.138423           9.467198      NaN      3.852017   \nstd       4044.547313     27.277166         116.659625      NaN      1.008189   \nmin          0.000000      0.000000           0.000000      NaN      0.000000   \n25%          6.000000     25.000000           1.000000      NaN      3.630000   \n50%         20.000000     45.000000           1.000000      NaN      4.060000   \n75%         86.000000     55.000000           3.000000      NaN      4.470000   \nmax     233167.000000    420.000000        2019.000000      NaN      5.000000   \n\n                                             poster_image  \\\ncount                                               19816   \nunique                                              18658   \ntop     https://d36rlb2fgh8cjd.cloudfront.net/default-...   \nfreq                                                 1159   \nmean                                                  NaN   \nstd                                                   NaN   \nmin                                                   NaN   \n25%                                                   NaN   \n50%                                                   NaN   \n75%                                                   NaN   \nmax                                                   NaN   \n\n                                   seasons  \ncount                                19816  \nunique                                5300  \ntop     [{'number': 1, 'nb_episodes': 12}]  \nfreq                                  1061  \nmean                                   NaN  \nstd                                    NaN  \nmin                                    NaN  \n25%                                    NaN  \n50%                                    NaN  \n75%                                    NaN  \nmax                                    NaN  ",
      "text/html": "<div>\n<style scoped>\n    .dataframe tbody tr th:only-of-type {\n        vertical-align: middle;\n    }\n\n    .dataframe tbody tr th {\n        vertical-align: top;\n    }\n\n    .dataframe thead th {\n        text-align: right;\n    }\n</style>\n<table border=\"1\" class=\"dataframe\">\n  <thead>\n    <tr style=\"text-align: right;\">\n      <th></th>\n      <th>id</th>\n      <th>name</th>\n      <th>followers</th>\n      <th>nb_rates</th>\n      <th>runtime</th>\n      <th>number_of_seasons</th>\n      <th>network</th>\n      <th>mean_rate</th>\n      <th>poster_image</th>\n      <th>seasons</th>\n    </tr>\n  </thead>\n  <tbody>\n    <tr>\n      <th>count</th>\n      <td>1.981600e+04</td>\n      <td>19812</td>\n      <td>1.981600e+04</td>\n      <td>19816.000000</td>\n      <td>19816.000000</td>\n      <td>19816.000000</td>\n      <td>18854</td>\n      <td>19816.000000</td>\n      <td>19816</td>\n      <td>19816</td>\n    </tr>\n    <tr>\n      <th>unique</th>\n      <td>NaN</td>\n      <td>19479</td>\n      <td>NaN</td>\n      <td>NaN</td>\n      <td>NaN</td>\n      <td>NaN</td>\n      <td>945</td>\n      <td>NaN</td>\n      <td>18658</td>\n      <td>5300</td>\n    </tr>\n    <tr>\n      <th>top</th>\n      <td>NaN</td>\n      <td>***Movies are not allowed***</td>\n      <td>NaN</td>\n      <td>NaN</td>\n      <td>NaN</td>\n      <td>NaN</td>\n      <td>YouTube</td>\n      <td>NaN</td>\n      <td>https://d36rlb2fgh8cjd.cloudfront.net/default-...</td>\n      <td>[{'number': 1, 'nb_episodes': 12}]</td>\n    </tr>\n    <tr>\n      <th>freq</th>\n      <td>NaN</td>\n      <td>6</td>\n      <td>NaN</td>\n      <td>NaN</td>\n      <td>NaN</td>\n      <td>NaN</td>\n      <td>715</td>\n      <td>NaN</td>\n      <td>1159</td>\n      <td>1061</td>\n    </tr>\n    <tr>\n      <th>mean</th>\n      <td>2.670577e+05</td>\n      <td>NaN</td>\n      <td>1.036959e+04</td>\n      <td>376.513474</td>\n      <td>42.138423</td>\n      <td>9.467198</td>\n      <td>NaN</td>\n      <td>3.852017</td>\n      <td>NaN</td>\n      <td>NaN</td>\n    </tr>\n    <tr>\n      <th>std</th>\n      <td>3.733336e+05</td>\n      <td>NaN</td>\n      <td>9.396993e+04</td>\n      <td>4044.547313</td>\n      <td>27.277166</td>\n      <td>116.659625</td>\n      <td>NaN</td>\n      <td>1.008189</td>\n      <td>NaN</td>\n      <td>NaN</td>\n    </tr>\n    <tr>\n      <th>min</th>\n      <td>7.032700e+04</td>\n      <td>NaN</td>\n      <td>1.630000e+02</td>\n      <td>0.000000</td>\n      <td>0.000000</td>\n      <td>0.000000</td>\n      <td>NaN</td>\n      <td>0.000000</td>\n      <td>NaN</td>\n      <td>NaN</td>\n    </tr>\n    <tr>\n      <th>25%</th>\n      <td>1.821335e+05</td>\n      <td>NaN</td>\n      <td>3.210000e+02</td>\n      <td>6.000000</td>\n      <td>25.000000</td>\n      <td>1.000000</td>\n      <td>NaN</td>\n      <td>3.630000</td>\n      <td>NaN</td>\n      <td>NaN</td>\n    </tr>\n    <tr>\n      <th>50%</th>\n      <td>2.875910e+05</td>\n      <td>NaN</td>\n      <td>7.800000e+02</td>\n      <td>20.000000</td>\n      <td>45.000000</td>\n      <td>1.000000</td>\n      <td>NaN</td>\n      <td>4.060000</td>\n      <td>NaN</td>\n      <td>NaN</td>\n    </tr>\n    <tr>\n      <th>75%</th>\n      <td>3.320820e+05</td>\n      <td>NaN</td>\n      <td>2.993250e+03</td>\n      <td>86.000000</td>\n      <td>55.000000</td>\n      <td>3.000000</td>\n      <td>NaN</td>\n      <td>4.470000</td>\n      <td>NaN</td>\n      <td>NaN</td>\n    </tr>\n    <tr>\n      <th>max</th>\n      <td>1.000004e+07</td>\n      <td>NaN</td>\n      <td>4.618578e+06</td>\n      <td>233167.000000</td>\n      <td>420.000000</td>\n      <td>2019.000000</td>\n      <td>NaN</td>\n      <td>5.000000</td>\n      <td>NaN</td>\n      <td>NaN</td>\n    </tr>\n  </tbody>\n</table>\n</div>"
     },
     "metadata": {},
     "execution_count": 6
    }
   ],
   "source": [
    "df_tvtime.describe(include='all')"
   ]
  },
  {
   "cell_type": "code",
   "execution_count": 15,
   "metadata": {},
   "outputs": [
    {
     "output_type": "execute_result",
     "data": {
      "text/plain": "2"
     },
     "metadata": {},
     "execution_count": 15
    }
   ],
   "source": [
    "df_tvtime['number_of_seasons'][0]"
   ]
  },
  {
   "cell_type": "code",
   "execution_count": 14,
   "metadata": {},
   "outputs": [
    {
     "output_type": "execute_result",
     "data": {
      "text/plain": "\"[{'number': 1, 'nb_episodes': 4}, {'number': 2, 'nb_episodes': 10}]\""
     },
     "metadata": {},
     "execution_count": 14
    }
   ],
   "source": [
    "df_tvtime['seasons'][0]"
   ]
  },
  {
   "cell_type": "code",
   "execution_count": 17,
   "metadata": {},
   "outputs": [
    {
     "output_type": "execute_result",
     "data": {
      "text/plain": "count       18854\nunique        945\ntop       YouTube\nfreq          715\nName: network, dtype: object"
     },
     "metadata": {},
     "execution_count": 17
    }
   ],
   "source": [
    "df_tvtime['network'].describe()"
   ]
  },
  {
   "cell_type": "code",
   "execution_count": 19,
   "metadata": {},
   "outputs": [
    {
     "output_type": "execute_result",
     "data": {
      "text/plain": "count                            19812\nunique                           19479\ntop       ***Movies are not allowed***\nfreq                                 6\nName: name, dtype: object"
     },
     "metadata": {},
     "execution_count": 19
    }
   ],
   "source": [
    "df_tvtime['name'].describe()"
   ]
  },
  {
   "cell_type": "code",
   "execution_count": 29,
   "metadata": {},
   "outputs": [
    {
     "output_type": "execute_result",
     "data": {
      "text/plain": "array(['Rooster Teeth', 'KBS TV2', 'Tokyo Broadcasting System',\n       'Tokyo MX', 'FX', 'E-Channel', 'BR', 'CBS', 'WGN America',\n       'BBC One', 'BET', 'OnStyle', 'HBO', 'Disney XD', 'History',\n       'GMM One', 'Radio-Canada', 'één', 'ITV1', 'V', 'PBS', 'Rede Globo',\n       'BBC Three', 'TV2', 'SBS (KR)', 'M6', 'El Trece', 'France 2',\n       'FOX', 'UPN', 'Star TV', 'NBC', 'ABC', 'Amazon', 'Netflix', 'TTV',\n       'Telefe', 'Nick Jr.', 'The WB', 'Das Erste', 'Peacock',\n       'Canal Sony', 'Videoland (NL)', 'SBS (AU)', 'Первый канал',\n       'Fuji TV', 'Syfy', 'Telecinco', 'ESPN', 'G4', 'Disney Junior',\n       'Cartoon Network', 'YouTube Premium', 'ТНТ', 'TVN', 'BBC Two',\n       'TV Asahi', 'iQiyi', nan, 'GNT', 'MEGA TV', 'jTBC', 'Velocity',\n       'Youku', 'NRK1', 'ITV', 'ABC1', 'Viaplay', 'Mnet', 'YouTube',\n       'ABC (US)', 'MBC 1', 'SIC', 'Food Network Canada', 'E!', 'YES',\n       'NTV (JP)', 'Lifetime', 'Antena 3', 'Comedy Central', 'Movistar+',\n       'TeleToon', 'ITV2', 'Vimeo', 'Sky Sports', 'Nine Network', 'Arte',\n       'Sky Arts', 'sho.com', 'USA Network', 'Discovery', 'MTV', 'Polsat',\n       'Speed', 'Rai 1', 'SBT', 'Syndication', 'EPIC TV', 'CBC (CA)',\n       'FTV, Nova', 'Food Network', 'Kanal D', 'AT-X', 'Channel 5',\n       'RTS Un', 'Show TV', 'TV Tokyo', 'CTV', 'NHK', 'Channel 4',\n       'NovaTV', 'Colors', 'Canal+', 'Investigation Discovery', 'HLN',\n       'ABC (AU)', 'Telemundo', 'SVT', 'E4', 'BBC America', 'SBS',\n       'Cosmopolitan TV', 'Disney Channel', 'Comedy Central (UK)',\n       'MTV Brazil', 'BBC', 'KBS', 'RAI', 'Anime OAV',\n       'PlayStation Network', 'Rede Bandeirantes', 'SKY PerfecTV!',\n       'NAVER tvcast', 'TVE', 'Sky Living', 'Viceland (US)', 'CNN',\n       'Hallmark Channel', 'La Une', 'TV2 (NO)', 'DR1', 'Infinity', 'VOX',\n       'Mega Channel', 'MTV2', 'Animax', 'Showtime', 'OCN', 'Canale 5',\n       'National Geographic', 'Sony Crackle', 'CDA', 'VTM',\n       'Travel Channel', 'Network Ten', 'MBS', 'MBC', 'Kids Station',\n       'Mega', 'Dailymotion', 'CBBC', 'Fox Life (BR)', 'History (CA)',\n       'YTV (JP)', 'Niconico', 'TLC', 'Record', 'ALT Balaji', 'TBS',\n       'AMC', 'CBS All Access', 'Channel 3', 'STAR Plus', 'NOVE',\n       'Movie Central', 'Nickelodeon', 'SAT.1', 'TVA', 'ABC (JA)',\n       'Centric', 'The Hub', 'ZDF', 'Teletama', 'Super Channel',\n       'Animal Planet', 'CW Seed', 'TNT (US)', 'WE tv', 'ANT1', 'VIER',\n       'ART TV', 'oksusu', 'VH1', 'family gekijou (japan)', 'ICI Tou.tv',\n       'ช่อง one', 'HGTV', 'Bravo (CA)', 'Syndicated', 'NTV', 'YTV (CA)',\n       'A&E', 'Blackpills', 'Universal Channel', 'Bravo', 'RTÉ One',\n       'Audience Network', 'BBC one', 'WOWOW', 'Freeform', 'nickToons',\n       'Paramount Network', 'VRV', 'Space', 'קשת 12', 'France 3', 'Rai 2',\n       'Sony TV', 'Starz', 'Hunan TV', 'GSN', 'Hulu', 'TF1',\n       'WWE Network', 'SundanceTV', 'Spectrum', 'Oxygen', 'TV3 (NO)',\n       'Xbox Video', 'France 5', 'CTV (TW)',\n       'Радио-телевизија Србије (PTC)', 'TV3', 'Ion Television',\n       'TV4 (SE)', 'FXX', 'Россия 1', 'Spike TV', 'ATV Türkiye',\n       'TV3 (NZ)', 'TRT 1', 'TFX', 'HBO Latin America', 'Sky Uno',\n       'truTV', 'Channel 5 (UK)', '6ter', 'The CW',\n       'National Geographic (UK)', 'Global', 'Disney Channel (IT)', 'TVI',\n       'Flooxer', 'TV Azteca', 'El Rey Network', 'Chiba TV', 'LMN',\n       'FOX Türkiye (TR)', 'V LIVE', 'CTC (JA)', 'The Movie Network',\n       'CMT', 'bTV', 'BBC HD', 'TV Cultura', 'Vrak.TV', 'France 4',\n       'Canal de las Estrellas', 'Apple TV+', 'TBS Superstation',\n       'Tencent Video', 'HDNet', 'M-Net', 'SABC1', 'Adult Swim', 'Noggin',\n       'Univision', 'Zhejiang TV', 'Televisa', 'Canvas/Ketnet', 'ORTF',\n       '#0', 'Multishow', 'TVP2', 'CBC (JP)', 'CTS', 'SET Metro',\n       'Space (Latin America)', 'Channel 7', 'Apple Music', 'Style',\n       'FYI', 'TV3 (ES)', 'Science Channel', 'TV Kanagawa',\n       'NHK Educational', 'TV Pública', 'Antenne 2', 'AHC', 'CineMax',\n       'Fox Family', 'TV Land', 'Dave', 'Showcase (CA)', 'ABC Family',\n       'Facebook Watch', 'Super Écran', 'BNN-VARA', 'FOX Türkiye',\n       'LINE TV (TH)', 'C More', 'MBN', 'Playhouse Disney',\n       'travel CHANNEL', 'Discovery Family', 'The Comedy Channel',\n       'RTL Television', 'IRIB TV1', 'קשת', 'HISTORY', 'Revision3',\n       'Eleven', 'TMS', 'Star World', 'Seven Network', 'MBC Plus Media',\n       'Italia 1', 'YouTube Red', 'Viasat3', 'Unknown', 'Esquire Network',\n       'H2', 'IFC', 'SHOWTIME', 'Sky Cinema', 'ten',\n       'Fox (Latin America)', 'FOX+', 'DisneyLife', 'DramaX',\n       'Club Illico', 'BBC Four', 'Sony Entertainment Television', 'VPRO',\n       'Universal Kids', 'רשת', 'Warner Channel', 'Disney Channel (BR)',\n       '1+1', 'MTV (UK)', 'Fox8', 'OCS', 'Jiangsu TV', 'HOT', 'Mango TV',\n       'Outdoor Channel', 'ReelzChannel', 'Omroep MAX',\n       'My Nickelodeon Junior', 'Slash', 'Dragon TV', 'RTBF Webcréation',\n       'DC Universe', 'Go90', 'Destination America', 'ORF 1',\n       'Oprah Winfrey Network', 'Kanal 5 (SE)', 'MBC Drama', 'Line TV',\n       'OutTV', 'CBS Reality (UK)', 'Real Time', 'SET TV',\n       'Sky Cinema (IT)', 'Alpha TV', 'TVP1', 'BluTV', 'SUN-TV', '2be',\n       'Toon Disney', 'Kanal 5 (DK)', 'MSNBC', 'XBOX LIVE', 'Life OK',\n       'SET MAX', 'AOL', 'СТС', 'Paramount Comedy', 'Fuse', 'Sun TV',\n       'UKTV History', 'BS11', 'Maxdome', 'LOGO', 'Omni', 'AVROTROS',\n       'ABS-CBN Broadcasting Company', 'Televisió de Catalunya',\n       'Bounce TV', 'Stöð 2', 'TVNZ', 'Toei Channel', 'Locomotion',\n       'MusiquePlus', 'W9', 'RCN TV', 'MBC Every1', 'Rai Gulp', 'TVO',\n       'Stan', 'GTV', 'Nat Geo Wild', 'sky ARTS 2', 'Česká televize',\n       'Slice', 'ATV (BE)', 'MCOT', 'Sky1', 'HBO Canada', 'PPTV', 'YTV',\n       'Disney+', 'Boomerang', 'Kanal 7', 'Hotstar', 'TNT Serie', 'ATV',\n       'HBO Asia', 'ShowMax', 'B92', 'TVP SA', 'MTV (FR)', 'Dropout',\n       'НТВ', 'Fullscreen', 'Hrvatska radiotelevizija', 'FOX Reality',\n       'KRO-NCRV', 'W Network', 'RMC Story', 'Discovery Channel (CA)',\n       'RTBF', 'AXN', 'Action', 'YLE', 'TV 2', 'NRJ 12', 'Rai 3',\n       'DIY Network', 'ProSieben', 'KBS2', 'PTS', 'Anime Network',\n       'Comedy (CA)', 'Playboy TV', 'Smithsonian Channel', 'FOX Sports 1',\n       'TVP 2', 'Prva Srpska Televizija', 'BBC Prime', 'TV 2 Zulu',\n       'BBC TWO', 'Fox Life (IT)', 'Movie', 'MTV Italia',\n       'FUNimation Channel', 'Fox España', 'TvNorge', 'Studio 4',\n       'RTL Klub', 'BBC Five', 'RTL 4', 'Smithsonian CHANNEL',\n       'ONDirecTV (Latin America)', 'KBS TV1', 'Mondo TV', 'AXS TV',\n       'Jeuxvideo.com', 'Crackle', 'AVRO', 'City', 'CCTV',\n       'ערוץ הילדים\\u200e', 'TVBS Entertainment Channel', 'CBeebies',\n       'NRK3', 'TV 2 Charlie', 'Challenge', 'TV 3', 'NickToons', 'La 1',\n       'Canal Once', 'Canal J', 'Hum TV', 'Anhui TV', 'Pivot',\n       'Sky Atlantic (IT)', 'Zee TV', 'Nickelodeon (Latin America)',\n       'RTP1', 'CITV', 'HGTV Canada', 'TVB',\n       'Crime & Investigation Network (AU)', 'ESPN2', 'TV One (US)',\n       'NET5 & VT4', 'TNT', 'W', 'Sportsnet Ontario', 'Antena 1',\n       'TV3 (SE)', 'Gulli', 'Caracol TV', '360', 'TTV (PL)',\n       'Cartoon Network (UK)', 'itv', 'rocketjump.com',\n       'Kyushu Asahi Broadcasting (KBC)', 'Echorouk TV', 'Family (CA)',\n       'AXStv', 'laSexta', 'addikTV', 'TVK', 'DiSNEY XD', 'Playboy',\n       'Globoplay', 'MTV Latin America', 'Fox Kids', 'Fox Channel (BR)',\n       'TNT Latin America', 'HBO Europe', 'food network',\n       'Nico Nico Douga', 'Schweizer Fernsehen', 'BNN', 'nickelodeon',\n       'REELZ', 'BNN (NL)', 'BNT1', 'Fox Channel (IT)', 'Cuatro',\n       'puhutv', 'S4/C', 'Showcase (AU)', 'Yahoo! Screen',\n       'Fox Channel (UK)', 'TV8 (IT)', 'KPN Presenteert',\n       'Nicktoons Network', 'DiSNEY CHANNEL', 'Rai Uno', 'CGV',\n       'Bravo (NZ)', 'Nagoya Broadcasting Network', 'WDR', 'MBC 4',\n       'Tros', 'WWE Classics on Demand', 'CTC (RU)', 'CSTV', 'XtvN',\n       'CBC', 'Family CHRGD', 'Numéro 23', 'AlloCiné', 'UP TV',\n       'Kyushu Asahi Broadcasting', 'Arena', 'BBC iPlayer', 'Acorn TV',\n       'Much (CA)', 'RTP Play', 'Prime (NZ)', 'Encore', 'Canal 5',\n       'www.startrekofgodsandmen.net', 'LCI', 'TV Aichi', 'Canal Plus',\n       'RaiPlay', 'Fox Crime', 'La7', 'TV One (NZ)', 'Channel A',\n       'Comédie+', 'Daum tvPot', 'Chérie 25', 'TV Net', 'tbs', 'Five',\n       'TQS', 'Studio+', 'The 5 Network', 'Playz', 'TMC', 'TV 2 Zebra',\n       'ICTV', 'UKTV Gold', 'Twitch', 'Discovery Health',\n       'RMC Découverte', 'Séries+', 'GMA', 'hulu',\n       'Kyoto Broadcasting System', 'ITVBe', 'TEENick', 'NDTV India',\n       'FTV', 'Arte Creative', 'Spike (NL)', 'Fusion', 'Canal+ (FR)',\n       'Cooking Channel', 'CraveTV', 'NRK Super', 'Kansai TV', 'TV5 (CA)',\n       '7mate', 'SBS Plus', 'Bandai Channel', 'TV Osaka', 'D8', 'CW',\n       'RTL 5', 'La Deux', 'KiKa', 'Télé', 'Cbbc', 'LifeStyle',\n       'Disney Channel (FR)', 'NET 5', 'América TV', 'Canal+ (ES)', 'TV4',\n       'téva', 'Canal D', 'sky LIVING', 'Family Gekijou', 'yamato video',\n       'Radio Canada', 'Vidol', 'Quest', 'CTV (JP)', 'EBS',\n       'TBS (Latin America)', 'Sky Arte', 'SUNDANCE TV', 'C8', 'Kanal 9',\n       'ETB2', 'Fox Action Movies', 'PRO TV', 'Sun Television',\n       'Disney Channel (UK)', 'Munhwa Broadcasting Corporation (MBC)',\n       'Nolife', 'Sky Atlantic (UK)', 'Five US',\n       'Comedy Central (Latin America)', 'RCTV', 'ctv', 'LifeStyle HOME',\n       'CNBC', 'TV3 (IE)', 'The Anime Network', 'Canal 13', 'BS-i',\n       'Space (Brasil)', 'Télé-Québec', 'ZDFneo', 'Amazon (Japan)',\n       'Virgin 1', 'EPIX', 'Family Gekijo', 'BT Sport 1', 'RTÉ Two',\n       'TrueVisions', 'msnbc', 'RTP2', 'Yomiuri TV', 'BOOMERANG', 'TV 4',\n       'family', 'DMAX (IT)', 'Jetix', 'SBS 6', 'TV Brasil', 'KKTV',\n       'MTV (CA)', 'BS Fuji', 'Gloob', 'FX (Latin America)',\n       'The Weather Channel', 'TVA (JP)', 'The Family Channel', 'TCM',\n       'MTV (PL)', 'Comic-Con HQ', 'Nick at Nite', 'Canal 9 (AR)',\n       'DMAX (DE)', 'halowaypoint.com', 'Abu Dhabi TV', 'Servus TV',\n       'NT1', 'STV (UK)', 'Sky Travel', 'Trend E',\n       'Crime & Investigation Network (Europe)',\n       'National Geographic Channel', 'BRTN', 'TV Saitama', 'Skai',\n       'ABC2', 'Movie Network', 'Discovery Channel (Canada)', 'Olive',\n       'BBC FOUR', 'Play More', 'Rede Manchete', 'propeller', 'Channel 2',\n       'DirecTV Japan', 'BET+', 'European Broadcasting Union (EBU)',\n       'Discovery Channel (UK)', 'SRC', 'TYT Network',\n       'Biography Channel', 'Arirang TV', 'Coture', 'Television Maldives',\n       'Ovation TV', 'HBO Max', 'KBS Kyoto', 'ABC3', 'NCRV', 'Dlife',\n       'NECO', 'Sky Deutschland', 'ITV4', 'KIDS STATION', 'mynetworkTV',\n       'HKTV', 'Rúv', 'RTL', 'HBO Nordic', 'Duna TV', 'here!',\n       'Indus Music', 'Style TV', 'RaiUno', 'Canal+ Cyfrowy', 'TV5 Monde',\n       'HBO Magyarország', 'Geo TV', 'OVA', 'WGN', 'ITV Encore',\n       'TV Nova', 'LifeStyle FOOD', 'VODO', 'TVP', 'TNK', 'Current TV',\n       'MTV España', 'TV ONE', 'Danmarks Radio', 'Sky Box Office', 'MTV3',\n       'Russia Today', 'Shudder', 'Bravo (UK)', 'SVT1', 'TV11',\n       'TV Setouchi', 'MBC Every 1', 'TBN (Trinity Broadcasting Network)',\n       'Televisión de Galicia', 'Prima televize', 'Pop TV', 'Televen',\n       'Venevision', 'Doordarshan National', 'Funny or Die',\n       'Travel + Escape', 'OLN', 'Telecinco 5', 'Science',\n       'BYU Television', 'Pop', 'Tele 5', 'Tokai TV', 'Really', 'More4',\n       'BT Sport 2', 'BBC three', 'WB', 'Crunchyroll', 'Fuji Television',\n       'SRF 1', 'Інтер', 'Sjónvarp Símans', 'Deutsche Welle TV',\n       'Canal Brasil', 'TNT DRAMA', 'TELEMUNDO', 'The Sportsman Channel',\n       'starz', 'NDR', 'Internet', 'TNT Brasil', 'La 2', 'Radio Bremen',\n       'Disney Channel (Latin America)', 'Discovery Channel', 'EO',\n       'Epsilon TV', 'Puls 4', 'Discovery MAX', 'NPO 3', 'DRAMAcube',\n       'RTF Télévision', 'Planète+', 'TV8', 'NFL Network', 'Seeso',\n       'Life Network', 'iTunes', 'Disney Channel (DE)', 'sky SPORTS 1',\n       'ITV3', 'NBCSN', 'La sexta', 'FUNIMATION CHANNEL', 'Al Arabiyya',\n       'NHK Animax', 'WEB', 'SkyPerfecTV', 'The Zeus Network',\n       'lifetime movie network', 'ViuTV', 'Versus', 'UKTV Yesterday',\n       'Viceland (CA)', 'RTL 2', 'The Box', 'Pay-Per-View', 'Ztélé',\n       'DR Ramasjang', 'Weather Channel', 'Discovery Kids',\n       'Snapchat Originals', 'TV8 (SE)', 'cloo', 'Veronica', 'BBC News',\n       'Sky Witness', 'fyi,', 'SWR', 'Discovery Turbo', 'NBC Universo',\n       '5Star', 'PBS Kids Sprout', 'Viva', 'Red Bull TV', 'STAR Vijay',\n       'CBC (EG)', 'nick@nite', 'Rai 4', 'La5', 'STAR One', 'RTÉjr',\n       'KRO', 'Sab TV', 'ABC4Kids', 'TV6', 'Super!', 'Dark',\n       'TENNIS CHANNEL', 'hulu Japan', 'amc', 'RTL Televizija',\n       '+Globosat', 'Lifetime (UK)', 'TVBS', 'La Uno (TVE1)',\n       'TVS Sydney', 'Československá televize', 'Eros Now', 'DR2',\n       'DramaH', 'SVTB', 'CTV (CN)', 'HBO Polska', 'Qatar TV',\n       'Shenzhen TV', 'Golf Channel', 'TRT Türk', 'ערוץ 10', 'VARA',\n       'DR3', 'NBA TV', 'France Ô', 'Southern Cross Ten', 'DTOUR',\n       'Watch', 'MCE TV (Ma Chaîne Étudiante)', 'VRT', '24',\n       'RAI Fiction', 'Planète+ (Canada)', 'Cartoon Network Australia',\n       '???', 'GMA Network', 'CMT Pure Country', 'Joi', 'TIMvision',\n       'sky MOVIES FAMILY', 'Discovery Channel (AU)',\n       'Chubu-Nippon Broadcasting', 'Fox Business', 'Play UK',\n       'Fox 1 (Brazil)', 'Ki.Ka', 'Smithsonian Channel (CA)', 'Now TV',\n       'FX (BR)', 'Amazon Prime Instant Video', 'BRB International',\n       'Kanal 4 (DK)', 'BTV', 'RTL II', 'Nippon Television',\n       'Cartoon Hangover', 'Yahoo! Japan', 'SOAPnet', 'Chilevisión',\n       'KBS World', 'nick jr.', 'inDEMAND'], dtype=object)"
     },
     "metadata": {},
     "execution_count": 29
    }
   ],
   "source": [
    "df_tvtime['network'].unique()"
   ]
  },
  {
   "cell_type": "code",
   "execution_count": 35,
   "metadata": {},
   "outputs": [
    {
     "output_type": "execute_result",
     "data": {
      "text/plain": "False"
     },
     "metadata": {},
     "execution_count": 35
    }
   ],
   "source": [
    "\"Netflix\" in df_tvtime['network']"
   ]
  },
  {
   "cell_type": "code",
   "execution_count": 34,
   "metadata": {},
   "outputs": [
    {
     "output_type": "execute_result",
     "data": {
      "text/plain": "           id                                   name  followers  nb_rates  \\\n40     360992  The Disappearance of Madeleine McCann      38412        32   \n44     364178                        The Magic Order        266         0   \n120    353964                  Watership Down (2018)       8358        52   \n132    357927       Trigger Warning with Killer Mike       1461         4   \n192    340923              Netflix Stand Up Specials        646         9   \n...       ...                                    ...        ...       ...   \n19640  339602                          Seven Seconds      76991      2451   \n19667  342659                          Pinky Malinky       2662         0   \n19694  353766                    The Devil Next Door       2584         0   \n19774  354735                        Daybreak (2019)      78219        17   \n19788  348653                     Green Eggs and Ham       1165         0   \n\n       runtime  number_of_seasons  network  mean_rate  \\\n40          55                  1  Netflix       4.60   \n44           0                  1  Netflix       0.00   \n120         50                  1  Netflix       4.75   \n132         25                  1  Netflix       3.95   \n192         60                  8  Netflix       2.87   \n...        ...                ...      ...        ...   \n19640       60                  1  Netflix       4.61   \n19667       10                  3  Netflix       3.62   \n19694       45                  1  Netflix       4.91   \n19774       45                  1  Netflix       4.73   \n19788       30                  1  Netflix       4.57   \n\n                                            poster_image  \\\n40     https://dg31sz3gwrwan.cloudfront.net/poster/36...   \n44     https://d36rlb2fgh8cjd.cloudfront.net/default-...   \n120    https://dg31sz3gwrwan.cloudfront.net/poster/35...   \n132    https://dg31sz3gwrwan.cloudfront.net/poster/35...   \n192    https://dg31sz3gwrwan.cloudfront.net/poster/34...   \n...                                                  ...   \n19640  https://dg31sz3gwrwan.cloudfront.net/poster/33...   \n19667  https://dg31sz3gwrwan.cloudfront.net/poster/34...   \n19694  https://dg31sz3gwrwan.cloudfront.net/poster/35...   \n19774  https://dg31sz3gwrwan.cloudfront.net/poster/35...   \n19788  https://dg31sz3gwrwan.cloudfront.net/poster/34...   \n\n                                                 seasons  \n40                     [{'number': 1, 'nb_episodes': 8}]  \n44                     [{'number': 1, 'nb_episodes': 6}]  \n120                    [{'number': 1, 'nb_episodes': 4}]  \n132                    [{'number': 1, 'nb_episodes': 6}]  \n192    [{'number': 2012, 'nb_episodes': 2}, {'number'...  \n...                                                  ...  \n19640                 [{'number': 1, 'nb_episodes': 10}]  \n19667  [{'number': 1, 'nb_episodes': 28}, {'number': ...  \n19694                  [{'number': 1, 'nb_episodes': 5}]  \n19774                 [{'number': 1, 'nb_episodes': 10}]  \n19788                 [{'number': 1, 'nb_episodes': 13}]  \n\n[656 rows x 10 columns]",
      "text/html": "<div>\n<style scoped>\n    .dataframe tbody tr th:only-of-type {\n        vertical-align: middle;\n    }\n\n    .dataframe tbody tr th {\n        vertical-align: top;\n    }\n\n    .dataframe thead th {\n        text-align: right;\n    }\n</style>\n<table border=\"1\" class=\"dataframe\">\n  <thead>\n    <tr style=\"text-align: right;\">\n      <th></th>\n      <th>id</th>\n      <th>name</th>\n      <th>followers</th>\n      <th>nb_rates</th>\n      <th>runtime</th>\n      <th>number_of_seasons</th>\n      <th>network</th>\n      <th>mean_rate</th>\n      <th>poster_image</th>\n      <th>seasons</th>\n    </tr>\n  </thead>\n  <tbody>\n    <tr>\n      <th>40</th>\n      <td>360992</td>\n      <td>The Disappearance of Madeleine McCann</td>\n      <td>38412</td>\n      <td>32</td>\n      <td>55</td>\n      <td>1</td>\n      <td>Netflix</td>\n      <td>4.60</td>\n      <td>https://dg31sz3gwrwan.cloudfront.net/poster/36...</td>\n      <td>[{'number': 1, 'nb_episodes': 8}]</td>\n    </tr>\n    <tr>\n      <th>44</th>\n      <td>364178</td>\n      <td>The Magic Order</td>\n      <td>266</td>\n      <td>0</td>\n      <td>0</td>\n      <td>1</td>\n      <td>Netflix</td>\n      <td>0.00</td>\n      <td>https://d36rlb2fgh8cjd.cloudfront.net/default-...</td>\n      <td>[{'number': 1, 'nb_episodes': 6}]</td>\n    </tr>\n    <tr>\n      <th>120</th>\n      <td>353964</td>\n      <td>Watership Down (2018)</td>\n      <td>8358</td>\n      <td>52</td>\n      <td>50</td>\n      <td>1</td>\n      <td>Netflix</td>\n      <td>4.75</td>\n      <td>https://dg31sz3gwrwan.cloudfront.net/poster/35...</td>\n      <td>[{'number': 1, 'nb_episodes': 4}]</td>\n    </tr>\n    <tr>\n      <th>132</th>\n      <td>357927</td>\n      <td>Trigger Warning with Killer Mike</td>\n      <td>1461</td>\n      <td>4</td>\n      <td>25</td>\n      <td>1</td>\n      <td>Netflix</td>\n      <td>3.95</td>\n      <td>https://dg31sz3gwrwan.cloudfront.net/poster/35...</td>\n      <td>[{'number': 1, 'nb_episodes': 6}]</td>\n    </tr>\n    <tr>\n      <th>192</th>\n      <td>340923</td>\n      <td>Netflix Stand Up Specials</td>\n      <td>646</td>\n      <td>9</td>\n      <td>60</td>\n      <td>8</td>\n      <td>Netflix</td>\n      <td>2.87</td>\n      <td>https://dg31sz3gwrwan.cloudfront.net/poster/34...</td>\n      <td>[{'number': 2012, 'nb_episodes': 2}, {'number'...</td>\n    </tr>\n    <tr>\n      <th>...</th>\n      <td>...</td>\n      <td>...</td>\n      <td>...</td>\n      <td>...</td>\n      <td>...</td>\n      <td>...</td>\n      <td>...</td>\n      <td>...</td>\n      <td>...</td>\n      <td>...</td>\n    </tr>\n    <tr>\n      <th>19640</th>\n      <td>339602</td>\n      <td>Seven Seconds</td>\n      <td>76991</td>\n      <td>2451</td>\n      <td>60</td>\n      <td>1</td>\n      <td>Netflix</td>\n      <td>4.61</td>\n      <td>https://dg31sz3gwrwan.cloudfront.net/poster/33...</td>\n      <td>[{'number': 1, 'nb_episodes': 10}]</td>\n    </tr>\n    <tr>\n      <th>19667</th>\n      <td>342659</td>\n      <td>Pinky Malinky</td>\n      <td>2662</td>\n      <td>0</td>\n      <td>10</td>\n      <td>3</td>\n      <td>Netflix</td>\n      <td>3.62</td>\n      <td>https://dg31sz3gwrwan.cloudfront.net/poster/34...</td>\n      <td>[{'number': 1, 'nb_episodes': 28}, {'number': ...</td>\n    </tr>\n    <tr>\n      <th>19694</th>\n      <td>353766</td>\n      <td>The Devil Next Door</td>\n      <td>2584</td>\n      <td>0</td>\n      <td>45</td>\n      <td>1</td>\n      <td>Netflix</td>\n      <td>4.91</td>\n      <td>https://dg31sz3gwrwan.cloudfront.net/poster/35...</td>\n      <td>[{'number': 1, 'nb_episodes': 5}]</td>\n    </tr>\n    <tr>\n      <th>19774</th>\n      <td>354735</td>\n      <td>Daybreak (2019)</td>\n      <td>78219</td>\n      <td>17</td>\n      <td>45</td>\n      <td>1</td>\n      <td>Netflix</td>\n      <td>4.73</td>\n      <td>https://dg31sz3gwrwan.cloudfront.net/poster/35...</td>\n      <td>[{'number': 1, 'nb_episodes': 10}]</td>\n    </tr>\n    <tr>\n      <th>19788</th>\n      <td>348653</td>\n      <td>Green Eggs and Ham</td>\n      <td>1165</td>\n      <td>0</td>\n      <td>30</td>\n      <td>1</td>\n      <td>Netflix</td>\n      <td>4.57</td>\n      <td>https://dg31sz3gwrwan.cloudfront.net/poster/34...</td>\n      <td>[{'number': 1, 'nb_episodes': 13}]</td>\n    </tr>\n  </tbody>\n</table>\n<p>656 rows × 10 columns</p>\n</div>"
     },
     "metadata": {},
     "execution_count": 34
    }
   ],
   "source": [
    "df_tvtime.loc[df_tvtime['network'] == \"Netflix\"]"
   ]
  },
  {
   "cell_type": "code",
   "execution_count": 36,
   "metadata": {},
   "outputs": [
    {
     "output_type": "execute_result",
     "data": {
      "text/plain": "           id             name  followers  nb_rates  runtime  \\\n19774  354735  Daybreak (2019)      78219        17       45   \n\n       number_of_seasons  network  mean_rate  \\\n19774                  1  Netflix       4.73   \n\n                                            poster_image  \\\n19774  https://dg31sz3gwrwan.cloudfront.net/poster/35...   \n\n                                  seasons  \n19774  [{'number': 1, 'nb_episodes': 10}]  ",
      "text/html": "<div>\n<style scoped>\n    .dataframe tbody tr th:only-of-type {\n        vertical-align: middle;\n    }\n\n    .dataframe tbody tr th {\n        vertical-align: top;\n    }\n\n    .dataframe thead th {\n        text-align: right;\n    }\n</style>\n<table border=\"1\" class=\"dataframe\">\n  <thead>\n    <tr style=\"text-align: right;\">\n      <th></th>\n      <th>id</th>\n      <th>name</th>\n      <th>followers</th>\n      <th>nb_rates</th>\n      <th>runtime</th>\n      <th>number_of_seasons</th>\n      <th>network</th>\n      <th>mean_rate</th>\n      <th>poster_image</th>\n      <th>seasons</th>\n    </tr>\n  </thead>\n  <tbody>\n    <tr>\n      <th>19774</th>\n      <td>354735</td>\n      <td>Daybreak (2019)</td>\n      <td>78219</td>\n      <td>17</td>\n      <td>45</td>\n      <td>1</td>\n      <td>Netflix</td>\n      <td>4.73</td>\n      <td>https://dg31sz3gwrwan.cloudfront.net/poster/35...</td>\n      <td>[{'number': 1, 'nb_episodes': 10}]</td>\n    </tr>\n  </tbody>\n</table>\n</div>"
     },
     "metadata": {},
     "execution_count": 36
    }
   ],
   "source": [
    "df_tvtime.loc[df_tvtime['name'] == \"Daybreak (2019)\"]"
   ]
  },
  {
   "cell_type": "code",
   "execution_count": 39,
   "metadata": {},
   "outputs": [
    {
     "output_type": "execute_result",
     "data": {
      "text/plain": "          id             name  followers  nb_rates  runtime  \\\n5789  305288  Stranger Things    4016670    161986       50   \n\n      number_of_seasons  network  mean_rate  \\\n5789                  4  Netflix       4.81   \n\n                                           poster_image  \\\n5789  https://dg31sz3gwrwan.cloudfront.net/poster/30...   \n\n                                                seasons  \n5789  [{'number': 1, 'nb_episodes': 8}, {'number': 2...  ",
      "text/html": "<div>\n<style scoped>\n    .dataframe tbody tr th:only-of-type {\n        vertical-align: middle;\n    }\n\n    .dataframe tbody tr th {\n        vertical-align: top;\n    }\n\n    .dataframe thead th {\n        text-align: right;\n    }\n</style>\n<table border=\"1\" class=\"dataframe\">\n  <thead>\n    <tr style=\"text-align: right;\">\n      <th></th>\n      <th>id</th>\n      <th>name</th>\n      <th>followers</th>\n      <th>nb_rates</th>\n      <th>runtime</th>\n      <th>number_of_seasons</th>\n      <th>network</th>\n      <th>mean_rate</th>\n      <th>poster_image</th>\n      <th>seasons</th>\n    </tr>\n  </thead>\n  <tbody>\n    <tr>\n      <th>5789</th>\n      <td>305288</td>\n      <td>Stranger Things</td>\n      <td>4016670</td>\n      <td>161986</td>\n      <td>50</td>\n      <td>4</td>\n      <td>Netflix</td>\n      <td>4.81</td>\n      <td>https://dg31sz3gwrwan.cloudfront.net/poster/30...</td>\n      <td>[{'number': 1, 'nb_episodes': 8}, {'number': 2...</td>\n    </tr>\n  </tbody>\n</table>\n</div>"
     },
     "metadata": {},
     "execution_count": 39
    }
   ],
   "source": [
    "df_tvtime.loc[df_tvtime['name'] == \"Stranger Things\"]"
   ]
  },
  {
   "cell_type": "code",
   "execution_count": null,
   "metadata": {},
   "outputs": [],
   "source": []
  }
 ],
 "metadata": {
  "language_info": {
   "codemirror_mode": {
    "name": "ipython",
    "version": 3
   },
   "file_extension": ".py",
   "mimetype": "text/x-python",
   "name": "python",
   "nbconvert_exporter": "python",
   "pygments_lexer": "ipython3",
   "version": "3.6.9-final"
  },
  "orig_nbformat": 2,
  "kernelspec": {
   "name": "python36964bite45c1657358a4eb49f78b4e7cfbc54a0",
   "display_name": "Python 3.6.9 64-bit"
  }
 },
 "nbformat": 4,
 "nbformat_minor": 2
}