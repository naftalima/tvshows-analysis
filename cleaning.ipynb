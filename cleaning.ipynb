{
 "cells": [
  {
   "cell_type": "code",
   "execution_count": 62,
   "metadata": {},
   "outputs": [],
   "source": [
    "import pandas as pd\n",
    "import numpy as np\n",
    "import kaggle\n",
    "import customfunctions as cf\n",
    "import re\n"
   ]
  },
  {
   "source": [
    "## Download dataset TV Time from Kaggle \n",
    "\n",
    "using Kaggle API"
   ],
   "cell_type": "markdown",
   "metadata": {}
  },
  {
   "cell_type": "code",
   "execution_count": 2,
   "metadata": {
    "tags": []
   },
   "outputs": [],
   "source": [
    "kaggle.api.authenticate()\n",
    "kaggle.api.dataset_download_files('oscarfry/tvtime-shows', path='./data/tvtimeshows')\n",
    "\n",
    "df_tvtime = pd.read_csv('data/tvtimeshows/tvtimeshows.csv')"
   ]
  },
  {
   "source": [
    "## Generate descriptive statistics"
   ],
   "cell_type": "markdown",
   "metadata": {}
  },
  {
   "cell_type": "code",
   "execution_count": 6,
   "metadata": {},
   "outputs": [
    {
     "output_type": "execute_result",
     "data": {
      "text/plain": "                  id                          name     followers  \\\ncount   1.981600e+04                         19812  1.981600e+04   \nunique           NaN                         19479           NaN   \ntop              NaN  ***Movies are not allowed***           NaN   \nfreq             NaN                             6           NaN   \nmean    2.670577e+05                           NaN  1.036959e+04   \nstd     3.733336e+05                           NaN  9.396993e+04   \nmin     7.032700e+04                           NaN  1.630000e+02   \n25%     1.821335e+05                           NaN  3.210000e+02   \n50%     2.875910e+05                           NaN  7.800000e+02   \n75%     3.320820e+05                           NaN  2.993250e+03   \nmax     1.000004e+07                           NaN  4.618578e+06   \n\n             nb_rates       runtime  number_of_seasons  network     mean_rate  \\\ncount    19816.000000  19816.000000       19816.000000    18854  19816.000000   \nunique            NaN           NaN                NaN      945           NaN   \ntop               NaN           NaN                NaN  YouTube           NaN   \nfreq              NaN           NaN                NaN      715           NaN   \nmean       376.513474     42.138423           9.467198      NaN      3.852017   \nstd       4044.547313     27.277166         116.659625      NaN      1.008189   \nmin          0.000000      0.000000           0.000000      NaN      0.000000   \n25%          6.000000     25.000000           1.000000      NaN      3.630000   \n50%         20.000000     45.000000           1.000000      NaN      4.060000   \n75%         86.000000     55.000000           3.000000      NaN      4.470000   \nmax     233167.000000    420.000000        2019.000000      NaN      5.000000   \n\n                                             poster_image  \\\ncount                                               19816   \nunique                                              18658   \ntop     https://d36rlb2fgh8cjd.cloudfront.net/default-...   \nfreq                                                 1159   \nmean                                                  NaN   \nstd                                                   NaN   \nmin                                                   NaN   \n25%                                                   NaN   \n50%                                                   NaN   \n75%                                                   NaN   \nmax                                                   NaN   \n\n                                   seasons  \ncount                                19816  \nunique                                5300  \ntop     [{'number': 1, 'nb_episodes': 12}]  \nfreq                                  1061  \nmean                                   NaN  \nstd                                    NaN  \nmin                                    NaN  \n25%                                    NaN  \n50%                                    NaN  \n75%                                    NaN  \nmax                                    NaN  ",
      "text/html": "<div>\n<style scoped>\n    .dataframe tbody tr th:only-of-type {\n        vertical-align: middle;\n    }\n\n    .dataframe tbody tr th {\n        vertical-align: top;\n    }\n\n    .dataframe thead th {\n        text-align: right;\n    }\n</style>\n<table border=\"1\" class=\"dataframe\">\n  <thead>\n    <tr style=\"text-align: right;\">\n      <th></th>\n      <th>id</th>\n      <th>name</th>\n      <th>followers</th>\n      <th>nb_rates</th>\n      <th>runtime</th>\n      <th>number_of_seasons</th>\n      <th>network</th>\n      <th>mean_rate</th>\n      <th>poster_image</th>\n      <th>seasons</th>\n    </tr>\n  </thead>\n  <tbody>\n    <tr>\n      <th>count</th>\n      <td>1.981600e+04</td>\n      <td>19812</td>\n      <td>1.981600e+04</td>\n      <td>19816.000000</td>\n      <td>19816.000000</td>\n      <td>19816.000000</td>\n      <td>18854</td>\n      <td>19816.000000</td>\n      <td>19816</td>\n      <td>19816</td>\n    </tr>\n    <tr>\n      <th>unique</th>\n      <td>NaN</td>\n      <td>19479</td>\n      <td>NaN</td>\n      <td>NaN</td>\n      <td>NaN</td>\n      <td>NaN</td>\n      <td>945</td>\n      <td>NaN</td>\n      <td>18658</td>\n      <td>5300</td>\n    </tr>\n    <tr>\n      <th>top</th>\n      <td>NaN</td>\n      <td>***Movies are not allowed***</td>\n      <td>NaN</td>\n      <td>NaN</td>\n      <td>NaN</td>\n      <td>NaN</td>\n      <td>YouTube</td>\n      <td>NaN</td>\n      <td>https://d36rlb2fgh8cjd.cloudfront.net/default-...</td>\n      <td>[{'number': 1, 'nb_episodes': 12}]</td>\n    </tr>\n    <tr>\n      <th>freq</th>\n      <td>NaN</td>\n      <td>6</td>\n      <td>NaN</td>\n      <td>NaN</td>\n      <td>NaN</td>\n      <td>NaN</td>\n      <td>715</td>\n      <td>NaN</td>\n      <td>1159</td>\n      <td>1061</td>\n    </tr>\n    <tr>\n      <th>mean</th>\n      <td>2.670577e+05</td>\n      <td>NaN</td>\n      <td>1.036959e+04</td>\n      <td>376.513474</td>\n      <td>42.138423</td>\n      <td>9.467198</td>\n      <td>NaN</td>\n      <td>3.852017</td>\n      <td>NaN</td>\n      <td>NaN</td>\n    </tr>\n    <tr>\n      <th>std</th>\n      <td>3.733336e+05</td>\n      <td>NaN</td>\n      <td>9.396993e+04</td>\n      <td>4044.547313</td>\n      <td>27.277166</td>\n      <td>116.659625</td>\n      <td>NaN</td>\n      <td>1.008189</td>\n      <td>NaN</td>\n      <td>NaN</td>\n    </tr>\n    <tr>\n      <th>min</th>\n      <td>7.032700e+04</td>\n      <td>NaN</td>\n      <td>1.630000e+02</td>\n      <td>0.000000</td>\n      <td>0.000000</td>\n      <td>0.000000</td>\n      <td>NaN</td>\n      <td>0.000000</td>\n      <td>NaN</td>\n      <td>NaN</td>\n    </tr>\n    <tr>\n      <th>25%</th>\n      <td>1.821335e+05</td>\n      <td>NaN</td>\n      <td>3.210000e+02</td>\n      <td>6.000000</td>\n      <td>25.000000</td>\n      <td>1.000000</td>\n      <td>NaN</td>\n      <td>3.630000</td>\n      <td>NaN</td>\n      <td>NaN</td>\n    </tr>\n    <tr>\n      <th>50%</th>\n      <td>2.875910e+05</td>\n      <td>NaN</td>\n      <td>7.800000e+02</td>\n      <td>20.000000</td>\n      <td>45.000000</td>\n      <td>1.000000</td>\n      <td>NaN</td>\n      <td>4.060000</td>\n      <td>NaN</td>\n      <td>NaN</td>\n    </tr>\n    <tr>\n      <th>75%</th>\n      <td>3.320820e+05</td>\n      <td>NaN</td>\n      <td>2.993250e+03</td>\n      <td>86.000000</td>\n      <td>55.000000</td>\n      <td>3.000000</td>\n      <td>NaN</td>\n      <td>4.470000</td>\n      <td>NaN</td>\n      <td>NaN</td>\n    </tr>\n    <tr>\n      <th>max</th>\n      <td>1.000004e+07</td>\n      <td>NaN</td>\n      <td>4.618578e+06</td>\n      <td>233167.000000</td>\n      <td>420.000000</td>\n      <td>2019.000000</td>\n      <td>NaN</td>\n      <td>5.000000</td>\n      <td>NaN</td>\n      <td>NaN</td>\n    </tr>\n  </tbody>\n</table>\n</div>"
     },
     "metadata": {},
     "execution_count": 6
    }
   ],
   "source": [
    "df_tvtime.describe(include='all')"
   ]
  },
  {
   "source": [
    "## Existem subsidiária de uma mesma Network\n",
    "Exemplo: \n",
    "+ Amazon, Amazon (Japan), Amazon Prime Instant Video\n",
    "+ Rede Globo, Globoplay, Globosat \n",
    "\n",
    "Uniques are returned in order of appearance. \n",
    "> `df_tvtime['network'].unique()`"
   ],
   "cell_type": "markdown",
   "metadata": {}
  },
  {
   "cell_type": "code",
   "execution_count": 80,
   "metadata": {},
   "outputs": [
    {
     "output_type": "execute_result",
     "data": {
      "text/plain": "array(['Amazon', 'Amazon (Japan)', 'Amazon Prime Instant Video'],\n      dtype=object)"
     },
     "metadata": {},
     "execution_count": 80
    }
   ],
   "source": [
    "# todos da amazon\n",
    "df_tvtime_amazon = df_tvtime[df_tvtime['network'].str.contains('AMAZON', flags=re.IGNORECASE, regex=True, na=False)]\n",
    "df_tvtime_amazon['network'].unique()"
   ]
  },
  {
   "cell_type": "code",
   "execution_count": 79,
   "metadata": {},
   "outputs": [
    {
     "output_type": "execute_result",
     "data": {
      "text/plain": "count        146\nunique       146\ntop       Hannah\nfreq           1\nName: name, dtype: object"
     },
     "metadata": {},
     "execution_count": 79
    }
   ],
   "source": [
    "df_tvtime_amazon['name'].describe() # NÃO TA DUPLICADO"
   ]
  },
  {
   "cell_type": "code",
   "execution_count": 86,
   "metadata": {},
   "outputs": [
    {
     "output_type": "execute_result",
     "data": {
      "text/plain": "           id                        name  followers  nb_rates  runtime  \\\n1229   295829  The Man in the High Castle     315725     12930       60   \n6987   355567                    The Boys     271129       218       60   \n11455  280619                 The Expanse     220894      9084       45   \n19541  336261      Tom Clancy's Jack Ryan     216152      3023       60   \n8287   359569                  Good Omens     172940       253       60   \n14723  326791   The Marvelous Mrs. Maisel     163429      3239       55   \n2077   365026                Carnival Row     118426        82       60   \n13616  314087       The Grand Tour (2016)     114772      3383       60   \n2663   300166                 Sneaky Pete      87565      2667       50   \n5736   357690                       Hanna      73543       110       45   \n10829  278335        Mozart in the Jungle      66611      4613       30   \n9061   350553                  Homecoming      60861       443       30   \n14136  278334                 Transparent      54611      2808       30   \n1690   277928                       Bosch      53237      1908       45   \n8037   357222                 Modern Love      43919        29       30   \n14491  315321                     Goliath      40066      1578       55   \n19345  317654             The Tick (2016)      37455      1039       25   \n13818  294801              Deutschland 83      35888      2706       45   \n9523   334147                        Lore      33602      1022       50   \n17452  260485               Ripper Street      32135      1218       60   \n\n       number_of_seasons network  mean_rate  \\\n1229                   4  Amazon       4.70   \n6987                   1  Amazon       4.89   \n11455                  4  Amazon       4.62   \n19541                  2  Amazon       4.78   \n8287                   1  Amazon       4.74   \n14723                  3  Amazon       4.57   \n2077                   1  Amazon       4.75   \n13616                  4  Amazon       4.30   \n2663                   3  Amazon       4.62   \n5736                   1  Amazon       4.66   \n10829                  4  Amazon       4.15   \n9061                   1  Amazon       4.17   \n14136                  5  Amazon       4.12   \n1690                   5  Amazon       4.42   \n8037                   1  Amazon       4.56   \n14491                  3  Amazon       4.40   \n19345                  2  Amazon       3.98   \n13818                  2  Amazon       4.48   \n9523                   2  Amazon       3.81   \n17452                  5  Amazon       4.41   \n\n                                            poster_image  \\\n1229   https://dg31sz3gwrwan.cloudfront.net/poster/29...   \n6987   https://dg31sz3gwrwan.cloudfront.net/poster/35...   \n11455  https://dg31sz3gwrwan.cloudfront.net/poster/28...   \n19541  https://dg31sz3gwrwan.cloudfront.net/poster/33...   \n8287   https://dg31sz3gwrwan.cloudfront.net/poster/35...   \n14723  https://dg31sz3gwrwan.cloudfront.net/poster/32...   \n2077   https://dg31sz3gwrwan.cloudfront.net/poster/36...   \n13616  https://dg31sz3gwrwan.cloudfront.net/poster/31...   \n2663   https://dg31sz3gwrwan.cloudfront.net/poster/30...   \n5736   https://dg31sz3gwrwan.cloudfront.net/poster/35...   \n10829  https://dg31sz3gwrwan.cloudfront.net/poster/27...   \n9061   https://dg31sz3gwrwan.cloudfront.net/poster/35...   \n14136  https://dg31sz3gwrwan.cloudfront.net/poster/27...   \n1690   https://dg31sz3gwrwan.cloudfront.net/poster/27...   \n8037   https://dg31sz3gwrwan.cloudfront.net/poster/35...   \n14491  https://dg31sz3gwrwan.cloudfront.net/poster/31...   \n19345  https://dg31sz3gwrwan.cloudfront.net/poster/31...   \n13818  https://dg31sz3gwrwan.cloudfront.net/poster/29...   \n9523   https://dg31sz3gwrwan.cloudfront.net/poster/33...   \n17452  https://dg31sz3gwrwan.cloudfront.net/poster/26...   \n\n                                                 seasons  \n1229   [{'number': 1, 'nb_episodes': 10}, {'number': ...  \n6987                   [{'number': 1, 'nb_episodes': 8}]  \n11455  [{'number': 1, 'nb_episodes': 10}, {'number': ...  \n19541  [{'number': 1, 'nb_episodes': 8}, {'number': 2...  \n8287                   [{'number': 1, 'nb_episodes': 6}]  \n14723  [{'number': 1, 'nb_episodes': 8}, {'number': 2...  \n2077                   [{'number': 1, 'nb_episodes': 8}]  \n13616  [{'number': 1, 'nb_episodes': 13}, {'number': ...  \n2663   [{'number': 1, 'nb_episodes': 10}, {'number': ...  \n5736                   [{'number': 1, 'nb_episodes': 8}]  \n10829  [{'number': 1, 'nb_episodes': 10}, {'number': ...  \n9061                  [{'number': 1, 'nb_episodes': 10}]  \n14136  [{'number': 1, 'nb_episodes': 10}, {'number': ...  \n1690   [{'number': 1, 'nb_episodes': 10}, {'number': ...  \n8037                   [{'number': 1, 'nb_episodes': 8}]  \n14491  [{'number': 1, 'nb_episodes': 8}, {'number': 2...  \n19345  [{'number': 1, 'nb_episodes': 12}, {'number': ...  \n13818  [{'number': 1, 'nb_episodes': 8}, {'number': 2...  \n9523   [{'number': 1, 'nb_episodes': 6}, {'number': 2...  \n17452  [{'number': 1, 'nb_episodes': 8}, {'number': 2...  ",
      "text/html": "<div>\n<style scoped>\n    .dataframe tbody tr th:only-of-type {\n        vertical-align: middle;\n    }\n\n    .dataframe tbody tr th {\n        vertical-align: top;\n    }\n\n    .dataframe thead th {\n        text-align: right;\n    }\n</style>\n<table border=\"1\" class=\"dataframe\">\n  <thead>\n    <tr style=\"text-align: right;\">\n      <th></th>\n      <th>id</th>\n      <th>name</th>\n      <th>followers</th>\n      <th>nb_rates</th>\n      <th>runtime</th>\n      <th>number_of_seasons</th>\n      <th>network</th>\n      <th>mean_rate</th>\n      <th>poster_image</th>\n      <th>seasons</th>\n    </tr>\n  </thead>\n  <tbody>\n    <tr>\n      <th>1229</th>\n      <td>295829</td>\n      <td>The Man in the High Castle</td>\n      <td>315725</td>\n      <td>12930</td>\n      <td>60</td>\n      <td>4</td>\n      <td>Amazon</td>\n      <td>4.70</td>\n      <td>https://dg31sz3gwrwan.cloudfront.net/poster/29...</td>\n      <td>[{'number': 1, 'nb_episodes': 10}, {'number': ...</td>\n    </tr>\n    <tr>\n      <th>6987</th>\n      <td>355567</td>\n      <td>The Boys</td>\n      <td>271129</td>\n      <td>218</td>\n      <td>60</td>\n      <td>1</td>\n      <td>Amazon</td>\n      <td>4.89</td>\n      <td>https://dg31sz3gwrwan.cloudfront.net/poster/35...</td>\n      <td>[{'number': 1, 'nb_episodes': 8}]</td>\n    </tr>\n    <tr>\n      <th>11455</th>\n      <td>280619</td>\n      <td>The Expanse</td>\n      <td>220894</td>\n      <td>9084</td>\n      <td>45</td>\n      <td>4</td>\n      <td>Amazon</td>\n      <td>4.62</td>\n      <td>https://dg31sz3gwrwan.cloudfront.net/poster/28...</td>\n      <td>[{'number': 1, 'nb_episodes': 10}, {'number': ...</td>\n    </tr>\n    <tr>\n      <th>19541</th>\n      <td>336261</td>\n      <td>Tom Clancy's Jack Ryan</td>\n      <td>216152</td>\n      <td>3023</td>\n      <td>60</td>\n      <td>2</td>\n      <td>Amazon</td>\n      <td>4.78</td>\n      <td>https://dg31sz3gwrwan.cloudfront.net/poster/33...</td>\n      <td>[{'number': 1, 'nb_episodes': 8}, {'number': 2...</td>\n    </tr>\n    <tr>\n      <th>8287</th>\n      <td>359569</td>\n      <td>Good Omens</td>\n      <td>172940</td>\n      <td>253</td>\n      <td>60</td>\n      <td>1</td>\n      <td>Amazon</td>\n      <td>4.74</td>\n      <td>https://dg31sz3gwrwan.cloudfront.net/poster/35...</td>\n      <td>[{'number': 1, 'nb_episodes': 6}]</td>\n    </tr>\n    <tr>\n      <th>14723</th>\n      <td>326791</td>\n      <td>The Marvelous Mrs. Maisel</td>\n      <td>163429</td>\n      <td>3239</td>\n      <td>55</td>\n      <td>3</td>\n      <td>Amazon</td>\n      <td>4.57</td>\n      <td>https://dg31sz3gwrwan.cloudfront.net/poster/32...</td>\n      <td>[{'number': 1, 'nb_episodes': 8}, {'number': 2...</td>\n    </tr>\n    <tr>\n      <th>2077</th>\n      <td>365026</td>\n      <td>Carnival Row</td>\n      <td>118426</td>\n      <td>82</td>\n      <td>60</td>\n      <td>1</td>\n      <td>Amazon</td>\n      <td>4.75</td>\n      <td>https://dg31sz3gwrwan.cloudfront.net/poster/36...</td>\n      <td>[{'number': 1, 'nb_episodes': 8}]</td>\n    </tr>\n    <tr>\n      <th>13616</th>\n      <td>314087</td>\n      <td>The Grand Tour (2016)</td>\n      <td>114772</td>\n      <td>3383</td>\n      <td>60</td>\n      <td>4</td>\n      <td>Amazon</td>\n      <td>4.30</td>\n      <td>https://dg31sz3gwrwan.cloudfront.net/poster/31...</td>\n      <td>[{'number': 1, 'nb_episodes': 13}, {'number': ...</td>\n    </tr>\n    <tr>\n      <th>2663</th>\n      <td>300166</td>\n      <td>Sneaky Pete</td>\n      <td>87565</td>\n      <td>2667</td>\n      <td>50</td>\n      <td>3</td>\n      <td>Amazon</td>\n      <td>4.62</td>\n      <td>https://dg31sz3gwrwan.cloudfront.net/poster/30...</td>\n      <td>[{'number': 1, 'nb_episodes': 10}, {'number': ...</td>\n    </tr>\n    <tr>\n      <th>5736</th>\n      <td>357690</td>\n      <td>Hanna</td>\n      <td>73543</td>\n      <td>110</td>\n      <td>45</td>\n      <td>1</td>\n      <td>Amazon</td>\n      <td>4.66</td>\n      <td>https://dg31sz3gwrwan.cloudfront.net/poster/35...</td>\n      <td>[{'number': 1, 'nb_episodes': 8}]</td>\n    </tr>\n    <tr>\n      <th>10829</th>\n      <td>278335</td>\n      <td>Mozart in the Jungle</td>\n      <td>66611</td>\n      <td>4613</td>\n      <td>30</td>\n      <td>4</td>\n      <td>Amazon</td>\n      <td>4.15</td>\n      <td>https://dg31sz3gwrwan.cloudfront.net/poster/27...</td>\n      <td>[{'number': 1, 'nb_episodes': 10}, {'number': ...</td>\n    </tr>\n    <tr>\n      <th>9061</th>\n      <td>350553</td>\n      <td>Homecoming</td>\n      <td>60861</td>\n      <td>443</td>\n      <td>30</td>\n      <td>1</td>\n      <td>Amazon</td>\n      <td>4.17</td>\n      <td>https://dg31sz3gwrwan.cloudfront.net/poster/35...</td>\n      <td>[{'number': 1, 'nb_episodes': 10}]</td>\n    </tr>\n    <tr>\n      <th>14136</th>\n      <td>278334</td>\n      <td>Transparent</td>\n      <td>54611</td>\n      <td>2808</td>\n      <td>30</td>\n      <td>5</td>\n      <td>Amazon</td>\n      <td>4.12</td>\n      <td>https://dg31sz3gwrwan.cloudfront.net/poster/27...</td>\n      <td>[{'number': 1, 'nb_episodes': 10}, {'number': ...</td>\n    </tr>\n    <tr>\n      <th>1690</th>\n      <td>277928</td>\n      <td>Bosch</td>\n      <td>53237</td>\n      <td>1908</td>\n      <td>45</td>\n      <td>5</td>\n      <td>Amazon</td>\n      <td>4.42</td>\n      <td>https://dg31sz3gwrwan.cloudfront.net/poster/27...</td>\n      <td>[{'number': 1, 'nb_episodes': 10}, {'number': ...</td>\n    </tr>\n    <tr>\n      <th>8037</th>\n      <td>357222</td>\n      <td>Modern Love</td>\n      <td>43919</td>\n      <td>29</td>\n      <td>30</td>\n      <td>1</td>\n      <td>Amazon</td>\n      <td>4.56</td>\n      <td>https://dg31sz3gwrwan.cloudfront.net/poster/35...</td>\n      <td>[{'number': 1, 'nb_episodes': 8}]</td>\n    </tr>\n    <tr>\n      <th>14491</th>\n      <td>315321</td>\n      <td>Goliath</td>\n      <td>40066</td>\n      <td>1578</td>\n      <td>55</td>\n      <td>3</td>\n      <td>Amazon</td>\n      <td>4.40</td>\n      <td>https://dg31sz3gwrwan.cloudfront.net/poster/31...</td>\n      <td>[{'number': 1, 'nb_episodes': 8}, {'number': 2...</td>\n    </tr>\n    <tr>\n      <th>19345</th>\n      <td>317654</td>\n      <td>The Tick (2016)</td>\n      <td>37455</td>\n      <td>1039</td>\n      <td>25</td>\n      <td>2</td>\n      <td>Amazon</td>\n      <td>3.98</td>\n      <td>https://dg31sz3gwrwan.cloudfront.net/poster/31...</td>\n      <td>[{'number': 1, 'nb_episodes': 12}, {'number': ...</td>\n    </tr>\n    <tr>\n      <th>13818</th>\n      <td>294801</td>\n      <td>Deutschland 83</td>\n      <td>35888</td>\n      <td>2706</td>\n      <td>45</td>\n      <td>2</td>\n      <td>Amazon</td>\n      <td>4.48</td>\n      <td>https://dg31sz3gwrwan.cloudfront.net/poster/29...</td>\n      <td>[{'number': 1, 'nb_episodes': 8}, {'number': 2...</td>\n    </tr>\n    <tr>\n      <th>9523</th>\n      <td>334147</td>\n      <td>Lore</td>\n      <td>33602</td>\n      <td>1022</td>\n      <td>50</td>\n      <td>2</td>\n      <td>Amazon</td>\n      <td>3.81</td>\n      <td>https://dg31sz3gwrwan.cloudfront.net/poster/33...</td>\n      <td>[{'number': 1, 'nb_episodes': 6}, {'number': 2...</td>\n    </tr>\n    <tr>\n      <th>17452</th>\n      <td>260485</td>\n      <td>Ripper Street</td>\n      <td>32135</td>\n      <td>1218</td>\n      <td>60</td>\n      <td>5</td>\n      <td>Amazon</td>\n      <td>4.41</td>\n      <td>https://dg31sz3gwrwan.cloudfront.net/poster/26...</td>\n      <td>[{'number': 1, 'nb_episodes': 8}, {'number': 2...</td>\n    </tr>\n  </tbody>\n</table>\n</div>"
     },
     "metadata": {},
     "execution_count": 86
    }
   ],
   "source": [
    "## 20 mais populares da amazon\n",
    "df_tvtime_amazon.sort_values(by='followers',ascending=False).head(20)"
   ]
  },
  {
   "cell_type": "code",
   "execution_count": 58,
   "metadata": {},
   "outputs": [
    {
     "output_type": "execute_result",
     "data": {
      "text/plain": "YouTube                      715\nNetflix                      656\nTokyo MX                     540\nABC (US)                     495\nTV Tokyo                     451\nNBC                          429\nBBC One                      405\nCBS                          393\nFuji TV                      336\nFOX                          288\nRede Globo                   284\nAT-X                         242\nMBC                          236\nTokyo Broadcasting System    234\nChannel 4                    228\nBBC Two                      220\nTVN                          192\nSBS (KR)                     185\nHBO                          179\nKBS TV2                      177\nCartoon Network              176\nITV                          168\nTV Asahi                     164\nTF1                          159\nInvestigation Discovery      146\nMTV                          146\nAmazon                       141\nNickelodeon                  137\nDiscovery                    135\nHistory                      121\nName: network, dtype: int64"
     },
     "metadata": {},
     "execution_count": 58
    }
   ],
   "source": [
    "df_tvtime['network'].value_counts().head(30) ### NÃO TA LIMPO  e falta uns importantes tipo HULU"
   ]
  },
  {
   "cell_type": "code",
   "execution_count": null,
   "metadata": {},
   "outputs": [],
   "source": []
  }
 ],
 "metadata": {
  "language_info": {
   "codemirror_mode": {
    "name": "ipython",
    "version": 3
   },
   "file_extension": ".py",
   "mimetype": "text/x-python",
   "name": "python",
   "nbconvert_exporter": "python",
   "pygments_lexer": "ipython3",
   "version": "3.6.9-final"
  },
  "orig_nbformat": 2,
  "kernelspec": {
   "name": "python36964bite45c1657358a4eb49f78b4e7cfbc54a0",
   "display_name": "Python 3.6.9 64-bit"
  }
 },
 "nbformat": 4,
 "nbformat_minor": 2
}