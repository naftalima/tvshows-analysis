{
 "cells": [
  {
   "cell_type": "code",
   "execution_count": 43,
   "metadata": {},
   "outputs": [],
   "source": [
    "import pandas as pd\n",
    "# import numpy as np\n",
    "import kaggle\n",
    "# import customfunctions as cf\n",
    "import re\n"
   ]
  },
  {
   "source": [
    "## Download dataset TV Time from Kaggle \n",
    "\n",
    "using Kaggle API"
   ],
   "cell_type": "markdown",
   "metadata": {}
  },
  {
   "cell_type": "code",
   "execution_count": 2,
   "metadata": {
    "tags": []
   },
   "outputs": [],
   "source": [
    "kaggle.api.authenticate()\n",
    "kaggle.api.dataset_download_files('oscarfry/tvtime-shows', path='./data/tvtimeshows')"
   ]
  },
  {
   "cell_type": "code",
   "execution_count": 38,
   "metadata": {},
   "outputs": [],
   "source": [
    "df_tvtime = pd.read_csv('data/tvtimeshows/tvtimeshows.csv')"
   ]
  },
  {
   "source": [
    "## Generate descriptive statistics"
   ],
   "cell_type": "markdown",
   "metadata": {}
  },
  {
   "cell_type": "code",
   "execution_count": 4,
   "metadata": {},
   "outputs": [
    {
     "output_type": "execute_result",
     "data": {
      "text/plain": "                  id                          name     followers  \\\ncount   1.981600e+04                         19812  1.981600e+04   \nunique           NaN                         19479           NaN   \ntop              NaN  ***Movies are not allowed***           NaN   \nfreq             NaN                             6           NaN   \nmean    2.670577e+05                           NaN  1.036959e+04   \nstd     3.733336e+05                           NaN  9.396993e+04   \nmin     7.032700e+04                           NaN  1.630000e+02   \n25%     1.821335e+05                           NaN  3.210000e+02   \n50%     2.875910e+05                           NaN  7.800000e+02   \n75%     3.320820e+05                           NaN  2.993250e+03   \nmax     1.000004e+07                           NaN  4.618578e+06   \n\n             nb_rates       runtime  number_of_seasons  network     mean_rate  \\\ncount    19816.000000  19816.000000       19816.000000    18854  19816.000000   \nunique            NaN           NaN                NaN      945           NaN   \ntop               NaN           NaN                NaN  YouTube           NaN   \nfreq              NaN           NaN                NaN      715           NaN   \nmean       376.513474     42.138423           9.467198      NaN      3.852017   \nstd       4044.547313     27.277166         116.659625      NaN      1.008189   \nmin          0.000000      0.000000           0.000000      NaN      0.000000   \n25%          6.000000     25.000000           1.000000      NaN      3.630000   \n50%         20.000000     45.000000           1.000000      NaN      4.060000   \n75%         86.000000     55.000000           3.000000      NaN      4.470000   \nmax     233167.000000    420.000000        2019.000000      NaN      5.000000   \n\n                                             poster_image  \\\ncount                                               19816   \nunique                                              18658   \ntop     https://d36rlb2fgh8cjd.cloudfront.net/default-...   \nfreq                                                 1159   \nmean                                                  NaN   \nstd                                                   NaN   \nmin                                                   NaN   \n25%                                                   NaN   \n50%                                                   NaN   \n75%                                                   NaN   \nmax                                                   NaN   \n\n                                   seasons  \ncount                                19816  \nunique                                5300  \ntop     [{'number': 1, 'nb_episodes': 12}]  \nfreq                                  1061  \nmean                                   NaN  \nstd                                    NaN  \nmin                                    NaN  \n25%                                    NaN  \n50%                                    NaN  \n75%                                    NaN  \nmax                                    NaN  ",
      "text/html": "<div>\n<style scoped>\n    .dataframe tbody tr th:only-of-type {\n        vertical-align: middle;\n    }\n\n    .dataframe tbody tr th {\n        vertical-align: top;\n    }\n\n    .dataframe thead th {\n        text-align: right;\n    }\n</style>\n<table border=\"1\" class=\"dataframe\">\n  <thead>\n    <tr style=\"text-align: right;\">\n      <th></th>\n      <th>id</th>\n      <th>name</th>\n      <th>followers</th>\n      <th>nb_rates</th>\n      <th>runtime</th>\n      <th>number_of_seasons</th>\n      <th>network</th>\n      <th>mean_rate</th>\n      <th>poster_image</th>\n      <th>seasons</th>\n    </tr>\n  </thead>\n  <tbody>\n    <tr>\n      <th>count</th>\n      <td>1.981600e+04</td>\n      <td>19812</td>\n      <td>1.981600e+04</td>\n      <td>19816.000000</td>\n      <td>19816.000000</td>\n      <td>19816.000000</td>\n      <td>18854</td>\n      <td>19816.000000</td>\n      <td>19816</td>\n      <td>19816</td>\n    </tr>\n    <tr>\n      <th>unique</th>\n      <td>NaN</td>\n      <td>19479</td>\n      <td>NaN</td>\n      <td>NaN</td>\n      <td>NaN</td>\n      <td>NaN</td>\n      <td>945</td>\n      <td>NaN</td>\n      <td>18658</td>\n      <td>5300</td>\n    </tr>\n    <tr>\n      <th>top</th>\n      <td>NaN</td>\n      <td>***Movies are not allowed***</td>\n      <td>NaN</td>\n      <td>NaN</td>\n      <td>NaN</td>\n      <td>NaN</td>\n      <td>YouTube</td>\n      <td>NaN</td>\n      <td>https://d36rlb2fgh8cjd.cloudfront.net/default-...</td>\n      <td>[{'number': 1, 'nb_episodes': 12}]</td>\n    </tr>\n    <tr>\n      <th>freq</th>\n      <td>NaN</td>\n      <td>6</td>\n      <td>NaN</td>\n      <td>NaN</td>\n      <td>NaN</td>\n      <td>NaN</td>\n      <td>715</td>\n      <td>NaN</td>\n      <td>1159</td>\n      <td>1061</td>\n    </tr>\n    <tr>\n      <th>mean</th>\n      <td>2.670577e+05</td>\n      <td>NaN</td>\n      <td>1.036959e+04</td>\n      <td>376.513474</td>\n      <td>42.138423</td>\n      <td>9.467198</td>\n      <td>NaN</td>\n      <td>3.852017</td>\n      <td>NaN</td>\n      <td>NaN</td>\n    </tr>\n    <tr>\n      <th>std</th>\n      <td>3.733336e+05</td>\n      <td>NaN</td>\n      <td>9.396993e+04</td>\n      <td>4044.547313</td>\n      <td>27.277166</td>\n      <td>116.659625</td>\n      <td>NaN</td>\n      <td>1.008189</td>\n      <td>NaN</td>\n      <td>NaN</td>\n    </tr>\n    <tr>\n      <th>min</th>\n      <td>7.032700e+04</td>\n      <td>NaN</td>\n      <td>1.630000e+02</td>\n      <td>0.000000</td>\n      <td>0.000000</td>\n      <td>0.000000</td>\n      <td>NaN</td>\n      <td>0.000000</td>\n      <td>NaN</td>\n      <td>NaN</td>\n    </tr>\n    <tr>\n      <th>25%</th>\n      <td>1.821335e+05</td>\n      <td>NaN</td>\n      <td>3.210000e+02</td>\n      <td>6.000000</td>\n      <td>25.000000</td>\n      <td>1.000000</td>\n      <td>NaN</td>\n      <td>3.630000</td>\n      <td>NaN</td>\n      <td>NaN</td>\n    </tr>\n    <tr>\n      <th>50%</th>\n      <td>2.875910e+05</td>\n      <td>NaN</td>\n      <td>7.800000e+02</td>\n      <td>20.000000</td>\n      <td>45.000000</td>\n      <td>1.000000</td>\n      <td>NaN</td>\n      <td>4.060000</td>\n      <td>NaN</td>\n      <td>NaN</td>\n    </tr>\n    <tr>\n      <th>75%</th>\n      <td>3.320820e+05</td>\n      <td>NaN</td>\n      <td>2.993250e+03</td>\n      <td>86.000000</td>\n      <td>55.000000</td>\n      <td>3.000000</td>\n      <td>NaN</td>\n      <td>4.470000</td>\n      <td>NaN</td>\n      <td>NaN</td>\n    </tr>\n    <tr>\n      <th>max</th>\n      <td>1.000004e+07</td>\n      <td>NaN</td>\n      <td>4.618578e+06</td>\n      <td>233167.000000</td>\n      <td>420.000000</td>\n      <td>2019.000000</td>\n      <td>NaN</td>\n      <td>5.000000</td>\n      <td>NaN</td>\n      <td>NaN</td>\n    </tr>\n  </tbody>\n</table>\n</div>"
     },
     "metadata": {},
     "execution_count": 4
    }
   ],
   "source": [
    "df_tvtime.describe(include='all')"
   ]
  },
  {
   "source": [
    "## Problemas encontrados:"
   ],
   "cell_type": "markdown",
   "metadata": {}
  },
  {
   "source": [
    "### 1. Existem subsidiária de uma mesma Network\n",
    "#### Exemplo: \n",
    "+ Amazon, Amazon (Japan), Amazon Prime Instant Video\n",
    "+ Rede Globo, Globoplay, Globosat \n",
    "\n",
    "Uniques are returned in order of appearance. \n",
    "> `df_tvtime['network'].unique()`"
   ],
   "cell_type": "markdown",
   "metadata": {}
  },
  {
   "source": [
    "### 2. Não registra mudança de emissoras\n",
    "#### Exemplo \n",
    "COMMUNITY era da NBC da Temporadas 1 a 5, mas na Temporada 6 foi da Yahoo! Screen, mas no dataset consta apenas Yahoo! Screen\n"
   ],
   "cell_type": "markdown",
   "metadata": {}
  },
  {
   "cell_type": "code",
   "execution_count": 24,
   "metadata": {},
   "outputs": [
    {
     "output_type": "execute_result",
     "data": {
      "text/plain": "         id       name  followers  nb_rates  runtime  number_of_seasons  \\\n3945  94571  Community     221166     10256       25                  6   \n\n            network  mean_rate  \\\n3945  Yahoo! Screen       3.93   \n\n                                           poster_image  \\\n3945  https://dg31sz3gwrwan.cloudfront.net/poster/94...   \n\n                                                seasons  \n3945  [{'number': 1, 'nb_episodes': 25}, {'number': ...  ",
      "text/html": "<div>\n<style scoped>\n    .dataframe tbody tr th:only-of-type {\n        vertical-align: middle;\n    }\n\n    .dataframe tbody tr th {\n        vertical-align: top;\n    }\n\n    .dataframe thead th {\n        text-align: right;\n    }\n</style>\n<table border=\"1\" class=\"dataframe\">\n  <thead>\n    <tr style=\"text-align: right;\">\n      <th></th>\n      <th>id</th>\n      <th>name</th>\n      <th>followers</th>\n      <th>nb_rates</th>\n      <th>runtime</th>\n      <th>number_of_seasons</th>\n      <th>network</th>\n      <th>mean_rate</th>\n      <th>poster_image</th>\n      <th>seasons</th>\n    </tr>\n  </thead>\n  <tbody>\n    <tr>\n      <th>3945</th>\n      <td>94571</td>\n      <td>Community</td>\n      <td>221166</td>\n      <td>10256</td>\n      <td>25</td>\n      <td>6</td>\n      <td>Yahoo! Screen</td>\n      <td>3.93</td>\n      <td>https://dg31sz3gwrwan.cloudfront.net/poster/94...</td>\n      <td>[{'number': 1, 'nb_episodes': 25}, {'number': ...</td>\n    </tr>\n  </tbody>\n</table>\n</div>"
     },
     "metadata": {},
     "execution_count": 24
    }
   ],
   "source": [
    "df_tvtime[df_tvtime['name'].str.contains('COMMUNITY', flags=re.IGNORECASE, regex=True, na=False)]"
   ]
  },
  {
   "source": [
    "## Networks relevantes"
   ],
   "cell_type": "markdown",
   "metadata": {}
  },
  {
   "source": [
    "### * Big Three television networks \n",
    "\n",
    "ABC , CBC , NBC\n",
    "\n",
    "### * [Streamings serve provider](https://en.wikipedia.org/wiki/Streaming_service_provider)\n",
    "\n",
    "NETFLIX, AMAZON, DISNEY, HULU, YOUTUBE, HBO, CRUNCHYROLL, GLOBO, APPLE\n",
    "\n",
    "\n",
    "### * TOP 30 ( sem agrupar com subidiarias)\n",
    "\n",
    "> `df_tvtime['network'].value_counts().head(30)`\n",
    "\n",
    "FUJI, FOX, AT-X, CARTOON NETWORK, ITV, MTV, NICKELODEAN, DISCOVERY, HISTORY"
   ],
   "cell_type": "markdown",
   "metadata": {}
  },
  {
   "cell_type": "code",
   "execution_count": 39,
   "metadata": {},
   "outputs": [],
   "source": [
    "popular_networks = [ \"ABC\", \"CBC\", \"NBC\", \"NETFLIX\", \"AMAZON\", \"DISNEY\", \"HULU\", \"YOUTUBE\", \"HBO\", \"CRUNCHYROLL\", \"GLOBO\", \"APPLE\", \"FOX\", \"CARTOON NETWORK\", \"MTV\", \"NICKELODEAN\", \"DISCOVERY\", \"HISTORY\" ]\n",
    "\n"
   ]
  },
  {
   "cell_type": "code",
   "execution_count": 45,
   "metadata": {},
   "outputs": [],
   "source": [
    "def networks_more_title(df_tt, networks): \n",
    "    column_names = list(df_tt.columns)\n",
    "    df_most_popular = pd.DataFrame(columns = column_names)\n",
    "    for i in networks:\n",
    "        df = df_tt[df_tt['network'].str.contains(i, flags=re.IGNORECASE, regex=True, na=False)]\n",
    "        df_most_popular = df_most_popular.append(df,ignore_index=True)\n",
    "    return df_most_popular\n"
   ]
  },
  {
   "cell_type": "code",
   "execution_count": 47,
   "metadata": {},
   "outputs": [],
   "source": [
    "df_network_popular = networks_more_title(df_tvtime, popular_networks)"
   ]
  },
  {
   "cell_type": "code",
   "execution_count": 51,
   "metadata": {},
   "outputs": [
    {
     "output_type": "execute_result",
     "data": {
      "text/plain": "YouTube                       715\nNetflix                       656\nABC (US)                      495\nNBC                           429\nFOX                           288\n                             ... \nFox Action Movies               1\nAmazon Prime Instant Video      1\nDiscovery Kids                  1\nCBC (EG)                        1\nFox Crime                       1\nName: network, Length: 110, dtype: int64"
     },
     "metadata": {},
     "execution_count": 51
    }
   ],
   "source": [
    "df_network_popular['network'].value_counts()"
   ]
  },
  {
   "cell_type": "code",
   "execution_count": 53,
   "metadata": {},
   "outputs": [
    {
     "output_type": "execute_result",
     "data": {
      "text/plain": "          id                               name followers nb_rates runtime  \\\n3164  121361                    Game of Thrones   4618578   233167      55   \n1371  305288                    Stranger Things   4016670   161986      50   \n1238  323168                     13 Reasons Why   3631287   156627      60   \n1341  264586            Orange Is the New Black   2919447   101642      60   \n631    73762                     Grey's Anatomy   2689998   102573      45   \n...      ...                                ...       ...      ...     ...   \n634   360769  Scooby Doo, Where Are You! (1978)       163        0      20   \n4152  293316                             Looped       163        0      25   \n4543  357146                   Bad Chad Customs       163        0      45   \n633    72489               Dynomutt, Dog Wonder       163        8      25   \n1920  278292                         The Rebels       163        1      30   \n\n     number_of_seasons          network  mean_rate  \\\n3164                 8              HBO       4.78   \n1371                 4          Netflix       4.81   \n1238                 3          Netflix       4.64   \n1341                 7          Netflix       4.72   \n631                 16         ABC (US)       4.55   \n...                ...              ...        ...   \n634                  3         ABC (US)       0.00   \n4152                 1  Cartoon Network       3.98   \n4543                 1        Discovery       3.95   \n633                  2         ABC (US)       4.02   \n1920                 0           Amazon       3.67   \n\n                                           poster_image  \\\n3164  https://dg31sz3gwrwan.cloudfront.net/poster/12...   \n1371  https://dg31sz3gwrwan.cloudfront.net/poster/30...   \n1238  https://dg31sz3gwrwan.cloudfront.net/poster/32...   \n1341  https://dg31sz3gwrwan.cloudfront.net/poster/26...   \n631   https://dg31sz3gwrwan.cloudfront.net/poster/73...   \n...                                                 ...   \n634   https://d36rlb2fgh8cjd.cloudfront.net/default-...   \n4152  https://dg31sz3gwrwan.cloudfront.net/poster/29...   \n4543  https://dg31sz3gwrwan.cloudfront.net/poster/35...   \n633   https://dg31sz3gwrwan.cloudfront.net/poster/72...   \n1920  https://dg31sz3gwrwan.cloudfront.net/poster/27...   \n\n                                                seasons  \n3164  [{'number': 1, 'nb_episodes': 10}, {'number': ...  \n1371  [{'number': 1, 'nb_episodes': 8}, {'number': 2...  \n1238  [{'number': 1, 'nb_episodes': 13}, {'number': ...  \n1341  [{'number': 1, 'nb_episodes': 13}, {'number': ...  \n631   [{'number': 1, 'nb_episodes': 9}, {'number': 2...  \n...                                                 ...  \n634   [{'number': 1, 'nb_episodes': 2}, {'number': 3...  \n4152                 [{'number': 1, 'nb_episodes': 52}]  \n4543                  [{'number': 1, 'nb_episodes': 6}]  \n633   [{'number': 1, 'nb_episodes': 16}, {'number': ...  \n1920                                                 []  \n\n[4866 rows x 10 columns]",
      "text/html": "<div>\n<style scoped>\n    .dataframe tbody tr th:only-of-type {\n        vertical-align: middle;\n    }\n\n    .dataframe tbody tr th {\n        vertical-align: top;\n    }\n\n    .dataframe thead th {\n        text-align: right;\n    }\n</style>\n<table border=\"1\" class=\"dataframe\">\n  <thead>\n    <tr style=\"text-align: right;\">\n      <th></th>\n      <th>id</th>\n      <th>name</th>\n      <th>followers</th>\n      <th>nb_rates</th>\n      <th>runtime</th>\n      <th>number_of_seasons</th>\n      <th>network</th>\n      <th>mean_rate</th>\n      <th>poster_image</th>\n      <th>seasons</th>\n    </tr>\n  </thead>\n  <tbody>\n    <tr>\n      <th>3164</th>\n      <td>121361</td>\n      <td>Game of Thrones</td>\n      <td>4618578</td>\n      <td>233167</td>\n      <td>55</td>\n      <td>8</td>\n      <td>HBO</td>\n      <td>4.78</td>\n      <td>https://dg31sz3gwrwan.cloudfront.net/poster/12...</td>\n      <td>[{'number': 1, 'nb_episodes': 10}, {'number': ...</td>\n    </tr>\n    <tr>\n      <th>1371</th>\n      <td>305288</td>\n      <td>Stranger Things</td>\n      <td>4016670</td>\n      <td>161986</td>\n      <td>50</td>\n      <td>4</td>\n      <td>Netflix</td>\n      <td>4.81</td>\n      <td>https://dg31sz3gwrwan.cloudfront.net/poster/30...</td>\n      <td>[{'number': 1, 'nb_episodes': 8}, {'number': 2...</td>\n    </tr>\n    <tr>\n      <th>1238</th>\n      <td>323168</td>\n      <td>13 Reasons Why</td>\n      <td>3631287</td>\n      <td>156627</td>\n      <td>60</td>\n      <td>3</td>\n      <td>Netflix</td>\n      <td>4.64</td>\n      <td>https://dg31sz3gwrwan.cloudfront.net/poster/32...</td>\n      <td>[{'number': 1, 'nb_episodes': 13}, {'number': ...</td>\n    </tr>\n    <tr>\n      <th>1341</th>\n      <td>264586</td>\n      <td>Orange Is the New Black</td>\n      <td>2919447</td>\n      <td>101642</td>\n      <td>60</td>\n      <td>7</td>\n      <td>Netflix</td>\n      <td>4.72</td>\n      <td>https://dg31sz3gwrwan.cloudfront.net/poster/26...</td>\n      <td>[{'number': 1, 'nb_episodes': 13}, {'number': ...</td>\n    </tr>\n    <tr>\n      <th>631</th>\n      <td>73762</td>\n      <td>Grey's Anatomy</td>\n      <td>2689998</td>\n      <td>102573</td>\n      <td>45</td>\n      <td>16</td>\n      <td>ABC (US)</td>\n      <td>4.55</td>\n      <td>https://dg31sz3gwrwan.cloudfront.net/poster/73...</td>\n      <td>[{'number': 1, 'nb_episodes': 9}, {'number': 2...</td>\n    </tr>\n    <tr>\n      <th>...</th>\n      <td>...</td>\n      <td>...</td>\n      <td>...</td>\n      <td>...</td>\n      <td>...</td>\n      <td>...</td>\n      <td>...</td>\n      <td>...</td>\n      <td>...</td>\n      <td>...</td>\n    </tr>\n    <tr>\n      <th>634</th>\n      <td>360769</td>\n      <td>Scooby Doo, Where Are You! (1978)</td>\n      <td>163</td>\n      <td>0</td>\n      <td>20</td>\n      <td>3</td>\n      <td>ABC (US)</td>\n      <td>0.00</td>\n      <td>https://d36rlb2fgh8cjd.cloudfront.net/default-...</td>\n      <td>[{'number': 1, 'nb_episodes': 2}, {'number': 3...</td>\n    </tr>\n    <tr>\n      <th>4152</th>\n      <td>293316</td>\n      <td>Looped</td>\n      <td>163</td>\n      <td>0</td>\n      <td>25</td>\n      <td>1</td>\n      <td>Cartoon Network</td>\n      <td>3.98</td>\n      <td>https://dg31sz3gwrwan.cloudfront.net/poster/29...</td>\n      <td>[{'number': 1, 'nb_episodes': 52}]</td>\n    </tr>\n    <tr>\n      <th>4543</th>\n      <td>357146</td>\n      <td>Bad Chad Customs</td>\n      <td>163</td>\n      <td>0</td>\n      <td>45</td>\n      <td>1</td>\n      <td>Discovery</td>\n      <td>3.95</td>\n      <td>https://dg31sz3gwrwan.cloudfront.net/poster/35...</td>\n      <td>[{'number': 1, 'nb_episodes': 6}]</td>\n    </tr>\n    <tr>\n      <th>633</th>\n      <td>72489</td>\n      <td>Dynomutt, Dog Wonder</td>\n      <td>163</td>\n      <td>8</td>\n      <td>25</td>\n      <td>2</td>\n      <td>ABC (US)</td>\n      <td>4.02</td>\n      <td>https://dg31sz3gwrwan.cloudfront.net/poster/72...</td>\n      <td>[{'number': 1, 'nb_episodes': 16}, {'number': ...</td>\n    </tr>\n    <tr>\n      <th>1920</th>\n      <td>278292</td>\n      <td>The Rebels</td>\n      <td>163</td>\n      <td>1</td>\n      <td>30</td>\n      <td>0</td>\n      <td>Amazon</td>\n      <td>3.67</td>\n      <td>https://dg31sz3gwrwan.cloudfront.net/poster/27...</td>\n      <td>[]</td>\n    </tr>\n  </tbody>\n</table>\n<p>4866 rows × 10 columns</p>\n</div>"
     },
     "metadata": {},
     "execution_count": 53
    }
   ],
   "source": [
    "df_network_popular.sort_values(by='followers', ascending=False)"
   ]
  },
  {
   "cell_type": "code",
   "execution_count": 69,
   "metadata": {},
   "outputs": [],
   "source": [
    "# df_network_popular['network'].str.contains('GLOBO', re.IGNORECASE).groupby(df_network_popular['runtime']).mean()"
   ]
  },
  {
   "cell_type": "code",
   "execution_count": null,
   "metadata": {},
   "outputs": [],
   "source": []
  }
 ],
 "metadata": {
  "language_info": {
   "codemirror_mode": {
    "name": "ipython",
    "version": 3
   },
   "file_extension": ".py",
   "mimetype": "text/x-python",
   "name": "python",
   "nbconvert_exporter": "python",
   "pygments_lexer": "ipython3",
   "version": "3.6.9-final"
  },
  "orig_nbformat": 2,
  "kernelspec": {
   "name": "python36964bit8187c9110e0b4b26a93ccac805d1391d",
   "display_name": "Python 3.6.9 64-bit"
  }
 },
 "nbformat": 4,
 "nbformat_minor": 2
}