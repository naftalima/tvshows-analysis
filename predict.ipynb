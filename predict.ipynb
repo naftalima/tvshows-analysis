{
 "metadata": {
  "language_info": {
   "codemirror_mode": {
    "name": "ipython",
    "version": 3
   },
   "file_extension": ".py",
   "mimetype": "text/x-python",
   "name": "python",
   "nbconvert_exporter": "python",
   "pygments_lexer": "ipython3",
   "version": "3.6.9-final"
  },
  "orig_nbformat": 2,
  "kernelspec": {
   "name": "Python 3.6.9 64-bit",
   "display_name": "Python 3.6.9 64-bit",
   "metadata": {
    "interpreter": {
     "hash": "31f2aee4e71d21fbe5cf8b01ff0e069b9275f58929596ceb00d14d90e3e16cd6"
    }
   }
  }
 },
 "nbformat": 4,
 "nbformat_minor": 2,
 "cells": [
  {
   "cell_type": "code",
   "execution_count": 1,
   "metadata": {},
   "outputs": [],
   "source": [
    "import pandas as pd\n",
    "import numpy as np\n"
   ]
  },
  {
   "source": [
    "# Carregando e processando os dados"
   ],
   "cell_type": "markdown",
   "metadata": {}
  },
  {
   "cell_type": "code",
   "execution_count": 26,
   "metadata": {},
   "outputs": [
    {
     "output_type": "stream",
     "name": "stdout",
     "text": [
      "<class 'pandas.core.frame.DataFrame'>\nRangeIndex: 2006 entries, 0 to 2005\nData columns (total 15 columns):\n #   Column                    Non-Null Count  Dtype  \n---  ------                    --------------  -----  \n 0   name                      2006 non-null   object \n 1   changed_network           2006 non-null   float64\n 2   status                    1342 non-null   object \n 3   tv_network                2006 non-null   object \n 4   metacritc_last_info_year  2006 non-null   int64  \n 5   tvtime_followers          2006 non-null   float64\n 6   tvtime_rate               2006 non-null   float64\n 7   no_seasons                1337 non-null   float64\n 8   eps_duration              2006 non-null   object \n 9   age_rating                828 non-null    object \n 10  imdb_rate                 2006 non-null   float64\n 11  rotten_tomatoes_rate      2006 non-null   float64\n 12  released_year             945 non-null    float64\n 13  awards_won                2006 non-null   float64\n 14  awards_nominated          2006 non-null   float64\ndtypes: float64(9), int64(1), object(5)\nmemory usage: 235.2+ KB\n"
     ]
    }
   ],
   "source": [
    "df_tv_shows = pd.read_csv('tvshowsfinals.csv')\n",
    "df_tv_shows.info()"
   ]
  },
  {
   "source": [
    "## Removendo dados sem status"
   ],
   "cell_type": "markdown",
   "metadata": {}
  },
  {
   "cell_type": "code",
   "execution_count": 27,
   "metadata": {},
   "outputs": [
    {
     "output_type": "stream",
     "name": "stdout",
     "text": [
      "<class 'pandas.core.frame.DataFrame'>\nInt64Index: 1342 entries, 0 to 2005\nData columns (total 15 columns):\n #   Column                    Non-Null Count  Dtype  \n---  ------                    --------------  -----  \n 0   name                      1342 non-null   object \n 1   changed_network           1342 non-null   float64\n 2   status                    1342 non-null   object \n 3   tv_network                1342 non-null   object \n 4   metacritc_last_info_year  1342 non-null   int64  \n 5   tvtime_followers          1342 non-null   float64\n 6   tvtime_rate               1342 non-null   float64\n 7   no_seasons                1046 non-null   float64\n 8   eps_duration              1342 non-null   object \n 9   age_rating                643 non-null    object \n 10  imdb_rate                 1342 non-null   float64\n 11  rotten_tomatoes_rate      1342 non-null   float64\n 12  released_year             689 non-null    float64\n 13  awards_won                1342 non-null   float64\n 14  awards_nominated          1342 non-null   float64\ndtypes: float64(9), int64(1), object(5)\nmemory usage: 167.8+ KB\n"
     ]
    }
   ],
   "source": [
    "df_tv_shows_clean = df_tv_shows[~df_tv_shows['status'].isnull()] \n",
    "df_tv_shows_clean.info()"
   ]
  },
  {
   "source": [
    "## Computando dummies para dados categoricos"
   ],
   "cell_type": "markdown",
   "metadata": {}
  },
  {
   "cell_type": "code",
   "execution_count": 31,
   "metadata": {},
   "outputs": [
    {
     "output_type": "stream",
     "name": "stdout",
     "text": [
      "   duration_long  duration_normal  duration_short\n0              0                1               0\n2              0                1               0\n5              0                1               0\n6              0                1               0\n7              0                1               0\n"
     ]
    },
    {
     "output_type": "execute_result",
     "data": {
      "text/plain": [
       "   ABC  AMAZON  AMC  APPLE  CBS  DISNEY  FOX  FREEF  FX  HBO  ...  SHOWTIME  \\\n",
       "0    1       0    0      0    0       0    0      0   0    0  ...         0   \n",
       "2    0       0    0      0    0       0    0      0   0    0  ...         0   \n",
       "5    1       0    0      0    0       0    0      0   0    0  ...         0   \n",
       "6    0       0    0      0    0       0    0      0   0    0  ...         0   \n",
       "7    0       0    0      0    0       0    1      0   0    0  ...         0   \n",
       "\n",
       "   STRZ  SYFY  TBS  THE CW  TNT  TVL  USA  YHOO  YT  \n",
       "0     0     0    0       0    0    0    0     0   0  \n",
       "2     0     1    0       0    0    0    0     0   0  \n",
       "5     0     0    0       0    0    0    0     0   0  \n",
       "6     0     0    0       0    0    0    0     0   0  \n",
       "7     0     0    0       0    0    0    0     0   0  \n",
       "\n",
       "[5 rows x 25 columns]"
      ],
      "text/html": "<div>\n<style scoped>\n    .dataframe tbody tr th:only-of-type {\n        vertical-align: middle;\n    }\n\n    .dataframe tbody tr th {\n        vertical-align: top;\n    }\n\n    .dataframe thead th {\n        text-align: right;\n    }\n</style>\n<table border=\"1\" class=\"dataframe\">\n  <thead>\n    <tr style=\"text-align: right;\">\n      <th></th>\n      <th>ABC</th>\n      <th>AMAZON</th>\n      <th>AMC</th>\n      <th>APPLE</th>\n      <th>CBS</th>\n      <th>DISNEY</th>\n      <th>FOX</th>\n      <th>FREEF</th>\n      <th>FX</th>\n      <th>HBO</th>\n      <th>...</th>\n      <th>SHOWTIME</th>\n      <th>STRZ</th>\n      <th>SYFY</th>\n      <th>TBS</th>\n      <th>THE CW</th>\n      <th>TNT</th>\n      <th>TVL</th>\n      <th>USA</th>\n      <th>YHOO</th>\n      <th>YT</th>\n    </tr>\n  </thead>\n  <tbody>\n    <tr>\n      <th>0</th>\n      <td>1</td>\n      <td>0</td>\n      <td>0</td>\n      <td>0</td>\n      <td>0</td>\n      <td>0</td>\n      <td>0</td>\n      <td>0</td>\n      <td>0</td>\n      <td>0</td>\n      <td>...</td>\n      <td>0</td>\n      <td>0</td>\n      <td>0</td>\n      <td>0</td>\n      <td>0</td>\n      <td>0</td>\n      <td>0</td>\n      <td>0</td>\n      <td>0</td>\n      <td>0</td>\n    </tr>\n    <tr>\n      <th>2</th>\n      <td>0</td>\n      <td>0</td>\n      <td>0</td>\n      <td>0</td>\n      <td>0</td>\n      <td>0</td>\n      <td>0</td>\n      <td>0</td>\n      <td>0</td>\n      <td>0</td>\n      <td>...</td>\n      <td>0</td>\n      <td>0</td>\n      <td>1</td>\n      <td>0</td>\n      <td>0</td>\n      <td>0</td>\n      <td>0</td>\n      <td>0</td>\n      <td>0</td>\n      <td>0</td>\n    </tr>\n    <tr>\n      <th>5</th>\n      <td>1</td>\n      <td>0</td>\n      <td>0</td>\n      <td>0</td>\n      <td>0</td>\n      <td>0</td>\n      <td>0</td>\n      <td>0</td>\n      <td>0</td>\n      <td>0</td>\n      <td>...</td>\n      <td>0</td>\n      <td>0</td>\n      <td>0</td>\n      <td>0</td>\n      <td>0</td>\n      <td>0</td>\n      <td>0</td>\n      <td>0</td>\n      <td>0</td>\n      <td>0</td>\n    </tr>\n    <tr>\n      <th>6</th>\n      <td>0</td>\n      <td>0</td>\n      <td>0</td>\n      <td>0</td>\n      <td>0</td>\n      <td>0</td>\n      <td>0</td>\n      <td>0</td>\n      <td>0</td>\n      <td>0</td>\n      <td>...</td>\n      <td>0</td>\n      <td>0</td>\n      <td>0</td>\n      <td>0</td>\n      <td>0</td>\n      <td>0</td>\n      <td>0</td>\n      <td>0</td>\n      <td>0</td>\n      <td>0</td>\n    </tr>\n    <tr>\n      <th>7</th>\n      <td>0</td>\n      <td>0</td>\n      <td>0</td>\n      <td>0</td>\n      <td>0</td>\n      <td>0</td>\n      <td>1</td>\n      <td>0</td>\n      <td>0</td>\n      <td>0</td>\n      <td>...</td>\n      <td>0</td>\n      <td>0</td>\n      <td>0</td>\n      <td>0</td>\n      <td>0</td>\n      <td>0</td>\n      <td>0</td>\n      <td>0</td>\n      <td>0</td>\n      <td>0</td>\n    </tr>\n  </tbody>\n</table>\n<p>5 rows × 25 columns</p>\n</div>"
     },
     "metadata": {},
     "execution_count": 31
    }
   ],
   "source": [
    "df_eps_duration_dummies = pd.get_dummies(df_tv_shows_clean['eps_duration'], prefix='duration')\n",
    "df_network_dummies = pd.get_dummies(df_tv_shows_clean['tv_network'])\n",
    "print(df_eps_duration_dummies.head())\n",
    "df_network_dummies.head()"
   ]
  },
  {
   "source": [
    "## Juntando dummies com os dados"
   ],
   "cell_type": "markdown",
   "metadata": {}
  },
  {
   "cell_type": "code",
   "execution_count": 32,
   "metadata": {},
   "outputs": [
    {
     "output_type": "stream",
     "name": "stdout",
     "text": [
      "<class 'pandas.core.frame.DataFrame'>\nInt64Index: 1342 entries, 0 to 2005\nData columns (total 37 columns):\n #   Column                Non-Null Count  Dtype  \n---  ------                --------------  -----  \n 0   changed_network       1342 non-null   float64\n 1   status                1342 non-null   object \n 2   tvtime_followers      1342 non-null   float64\n 3   tvtime_rate           1342 non-null   float64\n 4   no_seasons            1046 non-null   float64\n 5   imdb_rate             1342 non-null   float64\n 6   rotten_tomatoes_rate  1342 non-null   float64\n 7   awards_won            1342 non-null   float64\n 8   awards_nominated      1342 non-null   float64\n 9   duration_long         1342 non-null   uint8  \n 10  duration_normal       1342 non-null   uint8  \n 11  duration_short        1342 non-null   uint8  \n 12  ABC                   1342 non-null   uint8  \n 13  AMAZON                1342 non-null   uint8  \n 14  AMC                   1342 non-null   uint8  \n 15  APPLE                 1342 non-null   uint8  \n 16  CBS                   1342 non-null   uint8  \n 17  DISNEY                1342 non-null   uint8  \n 18  FOX                   1342 non-null   uint8  \n 19  FREEF                 1342 non-null   uint8  \n 20  FX                    1342 non-null   uint8  \n 21  HBO                   1342 non-null   uint8  \n 22  HULU                  1342 non-null   uint8  \n 23  IFC                   1342 non-null   uint8  \n 24  MTV                   1342 non-null   uint8  \n 25  NBC                   1342 non-null   uint8  \n 26  NETFLIX               1342 non-null   uint8  \n 27  SHOWTIME              1342 non-null   uint8  \n 28  STRZ                  1342 non-null   uint8  \n 29  SYFY                  1342 non-null   uint8  \n 30  TBS                   1342 non-null   uint8  \n 31  THE CW                1342 non-null   uint8  \n 32  TNT                   1342 non-null   uint8  \n 33  TVL                   1342 non-null   uint8  \n 34  USA                   1342 non-null   uint8  \n 35  YHOO                  1342 non-null   uint8  \n 36  YT                    1342 non-null   uint8  \ndtypes: float64(8), object(1), uint8(28)\nmemory usage: 141.5+ KB\n"
     ]
    }
   ],
   "source": [
    "df_tv_shows_final = pd.concat([df_tv_shows_clean, df_eps_duration_dummies, df_network_dummies], axis=1)\n",
    "df_tv_shows_final.drop(columns=['name', 'age_rating', 'released_year', 'metacritc_last_info_year', 'eps_duration', 'tv_network'], inplace=True)\n",
    "df_tv_shows_final.info()"
   ]
  }
 ]
}