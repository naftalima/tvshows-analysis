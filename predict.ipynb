{
 "metadata": {
  "language_info": {
   "codemirror_mode": {
    "name": "ipython",
    "version": 3
   },
   "file_extension": ".py",
   "mimetype": "text/x-python",
   "name": "python",
   "nbconvert_exporter": "python",
   "pygments_lexer": "ipython3",
   "version": "3.6.9-final"
  },
  "orig_nbformat": 2,
  "kernelspec": {
   "name": "Python 3.6.9 64-bit",
   "display_name": "Python 3.6.9 64-bit",
   "metadata": {
    "interpreter": {
     "hash": "31f2aee4e71d21fbe5cf8b01ff0e069b9275f58929596ceb00d14d90e3e16cd6"
    }
   }
  }
 },
 "nbformat": 4,
 "nbformat_minor": 2,
 "cells": [
  {
   "cell_type": "code",
   "execution_count": 1,
   "metadata": {},
   "outputs": [],
   "source": [
    "import pandas as pd\n",
    "import numpy as np\n"
   ]
  },
  {
   "source": [
    "# Carregando e processando os dados"
   ],
   "cell_type": "markdown",
   "metadata": {}
  },
  {
   "cell_type": "code",
   "execution_count": 65,
   "metadata": {},
   "outputs": [
    {
     "output_type": "stream",
     "name": "stdout",
     "text": [
      "<class 'pandas.core.frame.DataFrame'>\nRangeIndex: 2206 entries, 0 to 2205\nData columns (total 15 columns):\n #   Column                    Non-Null Count  Dtype  \n---  ------                    --------------  -----  \n 0   name                      2206 non-null   object \n 1   changed_network           2206 non-null   float64\n 2   status                    1454 non-null   object \n 3   tv_network                2206 non-null   object \n 4   metacritc_last_info_year  2206 non-null   int64  \n 5   tvtime_followers          2206 non-null   float64\n 6   tvtime_rate               2206 non-null   float64\n 7   no_seasons                1469 non-null   float64\n 8   eps_duration              2206 non-null   object \n 9   age_rating                902 non-null    object \n 10  imdb_rate                 2206 non-null   float64\n 11  rotten_tomatoes_rate      2206 non-null   float64\n 12  released_year             1036 non-null   float64\n 13  awards_won                2206 non-null   float64\n 14  awards_nominated          2206 non-null   float64\ndtypes: float64(9), int64(1), object(5)\nmemory usage: 258.6+ KB\n"
     ]
    }
   ],
   "source": [
    "df_tv_shows = pd.read_csv('tvshowsfinals.csv')\n",
    "df_tv_shows.info()"
   ]
  },
  {
   "source": [
    "## Removendo dados sem status"
   ],
   "cell_type": "markdown",
   "metadata": {}
  },
  {
   "cell_type": "code",
   "execution_count": 66,
   "metadata": {},
   "outputs": [
    {
     "output_type": "stream",
     "name": "stdout",
     "text": [
      "<class 'pandas.core.frame.DataFrame'>\nInt64Index: 1454 entries, 0 to 2205\nData columns (total 15 columns):\n #   Column                    Non-Null Count  Dtype  \n---  ------                    --------------  -----  \n 0   name                      1454 non-null   object \n 1   changed_network           1454 non-null   float64\n 2   status                    1454 non-null   object \n 3   tv_network                1454 non-null   object \n 4   metacritc_last_info_year  1454 non-null   int64  \n 5   tvtime_followers          1454 non-null   float64\n 6   tvtime_rate               1454 non-null   float64\n 7   no_seasons                1136 non-null   float64\n 8   eps_duration              1454 non-null   object \n 9   age_rating                695 non-null    object \n 10  imdb_rate                 1454 non-null   float64\n 11  rotten_tomatoes_rate      1454 non-null   float64\n 12  released_year             745 non-null    float64\n 13  awards_won                1454 non-null   float64\n 14  awards_nominated          1454 non-null   float64\ndtypes: float64(9), int64(1), object(5)\nmemory usage: 181.8+ KB\n"
     ]
    }
   ],
   "source": [
    "df_tv_shows_clean = df_tv_shows[~df_tv_shows['status'].isnull()] \n",
    "df_tv_shows_clean.info()"
   ]
  },
  {
   "source": [
    "## Computando dummies para dados categoricos"
   ],
   "cell_type": "markdown",
   "metadata": {}
  },
  {
   "cell_type": "code",
   "execution_count": 67,
   "metadata": {},
   "outputs": [
    {
     "output_type": "stream",
     "name": "stdout",
     "text": [
      "   duration_long  duration_normal  duration_short\n0              0                1               0\n2              0                1               0\n3              0                1               0\n4              0                1               0\n7              0                1               0\n"
     ]
    },
    {
     "output_type": "execute_result",
     "data": {
      "text/plain": [
       "   ABC  AMAZON  AMC  APPLE  CBS  DISNEY  FOX  FREEF  FX  HBO  ...  SHOWTIME  \\\n",
       "0    1       0    0      0    0       0    0      0   0    0  ...         0   \n",
       "2    0       0    0      0    0       0    0      0   0    0  ...         0   \n",
       "3    0       0    0      0    0       0    0      0   0    0  ...         0   \n",
       "4    0       0    0      0    0       0    0      0   0    0  ...         0   \n",
       "7    1       0    0      0    0       0    0      0   0    0  ...         0   \n",
       "\n",
       "   STRZ  SYFY  TBS  THE CW  TNT  TVL  USA  YHOO  YT  \n",
       "0     0     0    0       0    0    0    0     0   0  \n",
       "2     0     0    0       0    0    0    0     0   0  \n",
       "3     0     1    0       0    0    0    0     0   0  \n",
       "4     0     0    0       0    0    0    0     0   0  \n",
       "7     0     0    0       0    0    0    0     0   0  \n",
       "\n",
       "[5 rows x 25 columns]"
      ],
      "text/html": "<div>\n<style scoped>\n    .dataframe tbody tr th:only-of-type {\n        vertical-align: middle;\n    }\n\n    .dataframe tbody tr th {\n        vertical-align: top;\n    }\n\n    .dataframe thead th {\n        text-align: right;\n    }\n</style>\n<table border=\"1\" class=\"dataframe\">\n  <thead>\n    <tr style=\"text-align: right;\">\n      <th></th>\n      <th>ABC</th>\n      <th>AMAZON</th>\n      <th>AMC</th>\n      <th>APPLE</th>\n      <th>CBS</th>\n      <th>DISNEY</th>\n      <th>FOX</th>\n      <th>FREEF</th>\n      <th>FX</th>\n      <th>HBO</th>\n      <th>...</th>\n      <th>SHOWTIME</th>\n      <th>STRZ</th>\n      <th>SYFY</th>\n      <th>TBS</th>\n      <th>THE CW</th>\n      <th>TNT</th>\n      <th>TVL</th>\n      <th>USA</th>\n      <th>YHOO</th>\n      <th>YT</th>\n    </tr>\n  </thead>\n  <tbody>\n    <tr>\n      <th>0</th>\n      <td>1</td>\n      <td>0</td>\n      <td>0</td>\n      <td>0</td>\n      <td>0</td>\n      <td>0</td>\n      <td>0</td>\n      <td>0</td>\n      <td>0</td>\n      <td>0</td>\n      <td>...</td>\n      <td>0</td>\n      <td>0</td>\n      <td>0</td>\n      <td>0</td>\n      <td>0</td>\n      <td>0</td>\n      <td>0</td>\n      <td>0</td>\n      <td>0</td>\n      <td>0</td>\n    </tr>\n    <tr>\n      <th>2</th>\n      <td>0</td>\n      <td>0</td>\n      <td>0</td>\n      <td>0</td>\n      <td>0</td>\n      <td>0</td>\n      <td>0</td>\n      <td>0</td>\n      <td>0</td>\n      <td>0</td>\n      <td>...</td>\n      <td>0</td>\n      <td>0</td>\n      <td>0</td>\n      <td>0</td>\n      <td>0</td>\n      <td>0</td>\n      <td>0</td>\n      <td>0</td>\n      <td>0</td>\n      <td>0</td>\n    </tr>\n    <tr>\n      <th>3</th>\n      <td>0</td>\n      <td>0</td>\n      <td>0</td>\n      <td>0</td>\n      <td>0</td>\n      <td>0</td>\n      <td>0</td>\n      <td>0</td>\n      <td>0</td>\n      <td>0</td>\n      <td>...</td>\n      <td>0</td>\n      <td>0</td>\n      <td>1</td>\n      <td>0</td>\n      <td>0</td>\n      <td>0</td>\n      <td>0</td>\n      <td>0</td>\n      <td>0</td>\n      <td>0</td>\n    </tr>\n    <tr>\n      <th>4</th>\n      <td>0</td>\n      <td>0</td>\n      <td>0</td>\n      <td>0</td>\n      <td>0</td>\n      <td>0</td>\n      <td>0</td>\n      <td>0</td>\n      <td>0</td>\n      <td>0</td>\n      <td>...</td>\n      <td>0</td>\n      <td>0</td>\n      <td>0</td>\n      <td>0</td>\n      <td>0</td>\n      <td>0</td>\n      <td>0</td>\n      <td>0</td>\n      <td>0</td>\n      <td>0</td>\n    </tr>\n    <tr>\n      <th>7</th>\n      <td>1</td>\n      <td>0</td>\n      <td>0</td>\n      <td>0</td>\n      <td>0</td>\n      <td>0</td>\n      <td>0</td>\n      <td>0</td>\n      <td>0</td>\n      <td>0</td>\n      <td>...</td>\n      <td>0</td>\n      <td>0</td>\n      <td>0</td>\n      <td>0</td>\n      <td>0</td>\n      <td>0</td>\n      <td>0</td>\n      <td>0</td>\n      <td>0</td>\n      <td>0</td>\n    </tr>\n  </tbody>\n</table>\n<p>5 rows × 25 columns</p>\n</div>"
     },
     "metadata": {},
     "execution_count": 67
    }
   ],
   "source": [
    "df_eps_duration_dummies = pd.get_dummies(df_tv_shows_clean['eps_duration'], prefix='duration')\n",
    "df_network_dummies = pd.get_dummies(df_tv_shows_clean['tv_network'])\n",
    "print(df_eps_duration_dummies.head())\n",
    "df_network_dummies.head()"
   ]
  },
  {
   "source": [
    "## Juntando dummies com os dados"
   ],
   "cell_type": "markdown",
   "metadata": {}
  },
  {
   "cell_type": "code",
   "execution_count": 68,
   "metadata": {},
   "outputs": [
    {
     "output_type": "stream",
     "name": "stdout",
     "text": [
      "<class 'pandas.core.frame.DataFrame'>\nInt64Index: 1454 entries, 0 to 2205\nData columns (total 36 columns):\n #   Column                Non-Null Count  Dtype  \n---  ------                --------------  -----  \n 0   changed_network       1454 non-null   float64\n 1   status                1454 non-null   object \n 2   tvtime_followers      1454 non-null   float64\n 3   tvtime_rate           1454 non-null   float64\n 4   imdb_rate             1454 non-null   float64\n 5   rotten_tomatoes_rate  1454 non-null   float64\n 6   awards_won            1454 non-null   float64\n 7   awards_nominated      1454 non-null   float64\n 8   duration_long         1454 non-null   uint8  \n 9   duration_normal       1454 non-null   uint8  \n 10  duration_short        1454 non-null   uint8  \n 11  ABC                   1454 non-null   uint8  \n 12  AMAZON                1454 non-null   uint8  \n 13  AMC                   1454 non-null   uint8  \n 14  APPLE                 1454 non-null   uint8  \n 15  CBS                   1454 non-null   uint8  \n 16  DISNEY                1454 non-null   uint8  \n 17  FOX                   1454 non-null   uint8  \n 18  FREEF                 1454 non-null   uint8  \n 19  FX                    1454 non-null   uint8  \n 20  HBO                   1454 non-null   uint8  \n 21  HULU                  1454 non-null   uint8  \n 22  IFC                   1454 non-null   uint8  \n 23  MTV                   1454 non-null   uint8  \n 24  NBC                   1454 non-null   uint8  \n 25  NETFLIX               1454 non-null   uint8  \n 26  SHOWTIME              1454 non-null   uint8  \n 27  STRZ                  1454 non-null   uint8  \n 28  SYFY                  1454 non-null   uint8  \n 29  TBS                   1454 non-null   uint8  \n 30  THE CW                1454 non-null   uint8  \n 31  TNT                   1454 non-null   uint8  \n 32  TVL                   1454 non-null   uint8  \n 33  USA                   1454 non-null   uint8  \n 34  YHOO                  1454 non-null   uint8  \n 35  YT                    1454 non-null   uint8  \ndtypes: float64(7), object(1), uint8(28)\nmemory usage: 142.0+ KB\n"
     ]
    }
   ],
   "source": [
    "df_tv_shows_final = pd.concat([df_tv_shows_clean, df_eps_duration_dummies, df_network_dummies], axis=1)\n",
    "df_tv_shows_final.drop(columns=['name', 'age_rating', 'released_year', 'metacritc_last_info_year', 'eps_duration', 'tv_network', 'no_seasons'], inplace=True)\n",
    "df_tv_shows_final.info()"
   ]
  },
  {
   "cell_type": "code",
   "execution_count": 69,
   "metadata": {},
   "outputs": [],
   "source": [
    "from sklearn.model_selection import train_test_split"
   ]
  },
  {
   "cell_type": "code",
   "execution_count": 70,
   "metadata": {},
   "outputs": [],
   "source": [
    "x_tvshows = df_tv_shows_final.drop('status', axis=1)\n",
    "y_tvshows = df_tv_shows_final['status']\n",
    "Xtrain, Xtest, ytrain, ytest = train_test_split(x_tvshows, y_tvshows, random_state=1)"
   ]
  },
  {
   "cell_type": "code",
   "execution_count": 71,
   "metadata": {},
   "outputs": [],
   "source": [
    "from sklearn.naive_bayes import GaussianNB\n",
    "model = GaussianNB()\n",
    "model.fit(Xtrain, ytrain)\n",
    "y_model = model.predict(Xtest)\n",
    "ypred_train = model.predict(Xtrain)"
   ]
  },
  {
   "cell_type": "code",
   "execution_count": 72,
   "metadata": {},
   "outputs": [
    {
     "output_type": "stream",
     "name": "stdout",
     "text": [
      "ACC TRAINING:0.11467889908256881\nACC TEST:0.11263736263736264\n"
     ]
    }
   ],
   "source": [
    "from sklearn.metrics import accuracy_score\n",
    "print(\"ACC TRAINING:\" + str(accuracy_score(ytrain, ypred_train)))\n",
    "print(\"ACC TEST:\" + str(accuracy_score(ytest, y_model)))"
   ]
  },
  {
   "cell_type": "code",
   "execution_count": 73,
   "metadata": {},
   "outputs": [],
   "source": [
    "from sklearn.tree import DecisionTreeClassifier\n",
    "tree = DecisionTreeClassifier().fit(Xtrain, ytrain)"
   ]
  },
  {
   "cell_type": "code",
   "execution_count": null,
   "metadata": {},
   "outputs": [],
   "source": []
  },
  {
   "cell_type": "code",
   "execution_count": 74,
   "metadata": {},
   "outputs": [],
   "source": [
    "from sklearn.ensemble import RandomForestClassifier\n",
    "model = RandomForestClassifier(n_estimators=10000)\n",
    "model.fit(Xtrain, ytrain)\n",
    "ypred = model.predict(Xtest)\n",
    "ypred_train = model.predict(Xtrain)"
   ]
  },
  {
   "cell_type": "code",
   "execution_count": 75,
   "metadata": {},
   "outputs": [
    {
     "output_type": "stream",
     "name": "stdout",
     "text": [
      "ACC TRAINING:1.0\nACC TEST:0.6291208791208791\n"
     ]
    }
   ],
   "source": [
    "print(\"ACC TRAINING:\" + str(accuracy_score(ytrain, ypred_train)))\n",
    "print(\"ACC TEST:\" + str(accuracy_score(ytest, ypred)))"
   ]
  },
  {
   "cell_type": "code",
   "execution_count": 76,
   "metadata": {},
   "outputs": [
    {
     "output_type": "stream",
     "name": "stderr",
     "text": [
      "\u001b[32m[I 2020-11-10 16:39:08,649]\u001b[0m A new study created in memory with name: no-name-d8916f8c-9de6-4a70-90be-68777cce8982\u001b[0m\n",
      "\u001b[32m[I 2020-11-10 16:39:08,695]\u001b[0m Trial 0 finished with value: 0.6291208791208791 and parameters: {'max_depth': 670.8449988116143}. Best is trial 0 with value: 0.6291208791208791.\u001b[0m\n",
      "\u001b[32m[I 2020-11-10 16:39:08,720]\u001b[0m Trial 1 finished with value: 0.6291208791208791 and parameters: {'max_depth': 403.82938510474094}. Best is trial 0 with value: 0.6291208791208791.\u001b[0m\n",
      "\u001b[32m[I 2020-11-10 16:39:08,737]\u001b[0m Trial 2 finished with value: 0.6291208791208791 and parameters: {'max_depth': 838.8568143692132}. Best is trial 0 with value: 0.6291208791208791.\u001b[0m\n",
      "\u001b[32m[I 2020-11-10 16:39:08,756]\u001b[0m Trial 3 finished with value: 0.6291208791208791 and parameters: {'max_depth': 844.5747680120445}. Best is trial 0 with value: 0.6291208791208791.\u001b[0m\n",
      "\u001b[32m[I 2020-11-10 16:39:08,776]\u001b[0m Trial 4 finished with value: 0.6291208791208791 and parameters: {'max_depth': 907.5642297774103}. Best is trial 0 with value: 0.6291208791208791.\u001b[0m\n",
      "\u001b[32m[I 2020-11-10 16:39:08,793]\u001b[0m Trial 5 finished with value: 0.6291208791208791 and parameters: {'max_depth': 219.19513794711213}. Best is trial 0 with value: 0.6291208791208791.\u001b[0m\n",
      "\u001b[32m[I 2020-11-10 16:39:08,808]\u001b[0m Trial 6 finished with value: 0.6291208791208791 and parameters: {'max_depth': 813.478854667393}. Best is trial 0 with value: 0.6291208791208791.\u001b[0m\n",
      "\u001b[32m[I 2020-11-10 16:39:08,830]\u001b[0m Trial 7 finished with value: 0.6291208791208791 and parameters: {'max_depth': 804.1712806399763}. Best is trial 0 with value: 0.6291208791208791.\u001b[0m\n",
      "\u001b[32m[I 2020-11-10 16:39:08,849]\u001b[0m Trial 8 finished with value: 0.6291208791208791 and parameters: {'max_depth': 626.9304580282802}. Best is trial 0 with value: 0.6291208791208791.\u001b[0m\n",
      "\u001b[32m[I 2020-11-10 16:39:08,872]\u001b[0m Trial 9 finished with value: 0.6291208791208791 and parameters: {'max_depth': 865.2586534189016}. Best is trial 0 with value: 0.6291208791208791.\u001b[0m\n",
      "\u001b[32m[I 2020-11-10 16:39:08,895]\u001b[0m Trial 10 finished with value: 0.6291208791208791 and parameters: {'max_depth': 487.6154140854541}. Best is trial 0 with value: 0.6291208791208791.\u001b[0m\n",
      "\u001b[32m[I 2020-11-10 16:39:08,914]\u001b[0m Trial 11 finished with value: 0.6291208791208791 and parameters: {'max_depth': 355.50299376967763}. Best is trial 0 with value: 0.6291208791208791.\u001b[0m\n",
      "\u001b[32m[I 2020-11-10 16:39:08,936]\u001b[0m Trial 12 finished with value: 0.6291208791208791 and parameters: {'max_depth': 58.86912050168371}. Best is trial 0 with value: 0.6291208791208791.\u001b[0m\n",
      "\u001b[32m[I 2020-11-10 16:39:08,961]\u001b[0m Trial 13 finished with value: 0.6291208791208791 and parameters: {'max_depth': 605.7341403535352}. Best is trial 0 with value: 0.6291208791208791.\u001b[0m\n",
      "\u001b[32m[I 2020-11-10 16:39:08,983]\u001b[0m Trial 14 finished with value: 0.6291208791208791 and parameters: {'max_depth': 396.50332918986584}. Best is trial 0 with value: 0.6291208791208791.\u001b[0m\n",
      "\u001b[32m[I 2020-11-10 16:39:09,005]\u001b[0m Trial 15 finished with value: 0.6291208791208791 and parameters: {'max_depth': 676.3458414644174}. Best is trial 0 with value: 0.6291208791208791.\u001b[0m\n",
      "\u001b[32m[I 2020-11-10 16:39:09,023]\u001b[0m Trial 16 finished with value: 0.6291208791208791 and parameters: {'max_depth': 218.70096663647942}. Best is trial 0 with value: 0.6291208791208791.\u001b[0m\n",
      "\u001b[32m[I 2020-11-10 16:39:09,041]\u001b[0m Trial 17 finished with value: 0.6291208791208791 and parameters: {'max_depth': 496.7470386365243}. Best is trial 0 with value: 0.6291208791208791.\u001b[0m\n",
      "\u001b[32m[I 2020-11-10 16:39:09,061]\u001b[0m Trial 18 finished with value: 0.6291208791208791 and parameters: {'max_depth': 679.0576808699115}. Best is trial 0 with value: 0.6291208791208791.\u001b[0m\n",
      "\u001b[32m[I 2020-11-10 16:39:09,078]\u001b[0m Trial 19 finished with value: 0.6291208791208791 and parameters: {'max_depth': 130.0694114740781}. Best is trial 0 with value: 0.6291208791208791.\u001b[0m\n"
     ]
    }
   ],
   "source": [
    "import optuna\n",
    "import sklearn.metrics\n",
    "\n",
    "def objective(trial):\n",
    "    # hyperparameter setting\n",
    "    max_depth = trial.suggest_uniform('max_depth', 3, 1000)\n",
    "    \n",
    "    # data loading and train-test split\n",
    "    Xtrain, Xtest, ytrain, ytest = train_test_split(x_tvshows, y_tvshows, random_state=1)\n",
    "    \n",
    "    # model training and evaluation\n",
    "    model = sklearn.tree.DecisionTreeClassifier(max_depth=max_depth)\n",
    "    model.fit(Xtrain, ytrain)\n",
    "    y_pred = model.predict(Xtest)\n",
    "    acc = accuracy_score(ytest, ypred)\n",
    "\n",
    "    # output: evaluation score\n",
    "    return acc\n",
    "\n",
    "study = optuna.create_study(direction='maximize')\n",
    "study.optimize(objective, n_trials=20)"
   ]
  },
  {
   "cell_type": "code",
   "execution_count": null,
   "metadata": {},
   "outputs": [],
   "source": []
  }
 ]
}